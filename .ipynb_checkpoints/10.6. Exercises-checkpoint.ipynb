{
 "cells": [
  {
   "cell_type": "code",
   "execution_count": null,
   "metadata": {},
   "outputs": [],
   "source": [
    "# Add some new key bindings to the first sample program:\n",
    "# Pressing keys R, G or B should change tess’ color to Red, Green or Blue.\n",
    "\n",
    "\n",
    "\n",
    "import turtle\n",
    "\n",
    "turtle.setup(400,500)                # Determine the window size\n",
    "wn = turtle.Screen()                 # Get a reference to the window\n",
    "wn.title(\"Handling keypresses!\")     # Change the window title\n",
    "wn.bgcolor(\"lightgreen\")             # Set the background color\n",
    "tess = turtle.Turtle()               # Create our favorite turtle\n",
    "\n",
    "# The next four functions are our \"event handlers\".\n",
    "def h1():\n",
    "   tess.forward(30)\n",
    "\n",
    "def h2():\n",
    "   tess.left(45)\n",
    "\n",
    "def h3():\n",
    "   tess.right(45)\n",
    "\n",
    "def h4():\n",
    "    wn.bye()                        # Close down the turtle window\n",
    "    \n",
    "def h5():\n",
    "    tess.color(\"red\")\n",
    "    \n",
    "def h6():\n",
    "    tess.color(\"green\")\n",
    "    \n",
    "def h7():\n",
    "    tess.color(\"blue\")\n",
    "    \n",
    "def h8():\n",
    "    size = 1\n",
    "    for i in range(1, 21):\n",
    "        tess.pensize(size)\n",
    "        wn.title(size)\n",
    "        size += 1\n",
    "    \n",
    "# These lines \"wire up\" keypresses to the handlers we've defined.\n",
    "wn.onkey(h1, \"Up\")\n",
    "wn.onkey(h2, \"Left\")\n",
    "wn.onkey(h3, \"Right\")\n",
    "wn.onkey(h4, \"q\")\n",
    "wn.onkey(h5, \"r\")\n",
    "wn.onkey(h6, \"g\")\n",
    "wn.onkey(h7, \"b\")\n",
    "wn.onkey(h8, \"+\")\n",
    "# wn.onkey(h9, \"-\")\n",
    "\n",
    "# Now we need to tell the window to start listening for events,\n",
    "# If any of the keys that we're monitoring is pressed, its\n",
    "# handler will be called.\n",
    "wn.listen()\n",
    "wn.mainloop()"
   ]
  },
  {
   "cell_type": "code",
   "execution_count": null,
   "metadata": {},
   "outputs": [],
   "source": []
  },
  {
   "cell_type": "code",
   "execution_count": null,
   "metadata": {},
   "outputs": [],
   "source": []
  }
 ],
 "metadata": {
  "kernelspec": {
   "display_name": "Python 3",
   "language": "python",
   "name": "python3"
  },
  "language_info": {
   "codemirror_mode": {
    "name": "ipython",
    "version": 3
   },
   "file_extension": ".py",
   "mimetype": "text/x-python",
   "name": "python",
   "nbconvert_exporter": "python",
   "pygments_lexer": "ipython3",
   "version": "3.7.4"
  }
 },
 "nbformat": 4,
 "nbformat_minor": 2
}
