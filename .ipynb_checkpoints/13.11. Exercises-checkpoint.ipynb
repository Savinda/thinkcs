{
 "cells": [
  {
   "cell_type": "markdown",
   "metadata": {},
   "source": [
    "### Write a program that reads a file and writes out a new file with the lines in reversed order (i.e. the first line in the old file becomes the last one in the new file.)\n"
   ]
  },
  {
   "cell_type": "code",
   "execution_count": 242,
   "metadata": {},
   "outputs": [],
   "source": [
    "def reversed_new(old_file, new_file):\n",
    "    \"\"\"write a reversed list to a new file\"\"\"\n",
    "    infile = open(old_file, \"r\")\n",
    "    outfile = open(new_file, \"w\")\n",
    "    \n",
    "    while True:\n",
    "        text = infile.readline()\n",
    "        new_list = text.split(\",\")\n",
    "        if len(text) == 0:\n",
    "            break\n",
    "        for i in reversed(new_list):\n",
    "            outfile.write(i+\",\")\n",
    "    \n",
    "    infile.close()\n",
    "    outfile.close()"
   ]
  },
  {
   "cell_type": "code",
   "execution_count": 243,
   "metadata": {},
   "outputs": [],
   "source": [
    "reversed_new(\"oldfile.txt\", \"newfile.txt\")"
   ]
  },
  {
   "cell_type": "markdown",
   "metadata": {},
   "source": [
    "### Write a program that reads a file and prints only those lines that contain the substring snake."
   ]
  },
  {
   "cell_type": "code",
   "execution_count": 252,
   "metadata": {},
   "outputs": [],
   "source": [
    "def find_snake(snake_all, snake_only):\n",
    "    \"\"\"find substring in given text file\"\"\"\n",
    "    infile = open(snake_all, \"r\")\n",
    "    outfile = open(snake_only, \"w\")\n",
    "    subs = \"snake\"\n",
    "    while True:\n",
    "        text = infile.readline()\n",
    "        if len(text) == 0:\n",
    "            break\n",
    "        if subs not in text:\n",
    "            continue\n",
    "        outfile.write(text)\n",
    "        \n",
    "    infile.close()\n",
    "    outfile.close()"
   ]
  },
  {
   "cell_type": "code",
   "execution_count": 253,
   "metadata": {},
   "outputs": [],
   "source": [
    "find_snake(\"snake_all.txt\", \"snake_only.txt\")"
   ]
  },
  {
   "cell_type": "markdown",
   "metadata": {},
   "source": [
    "### Write a program that reads a text file and produces an output file which is a copy of the file, except the first five columns of each line contain a four digit line number, followed by a space. Start numbering the first line in the output file at 1. Ensure that every line number is formatted to the same width in the output file. Use one of your Python programs as test data for this exercise: your output should be a printed and numbered listing of the Python program.\n"
   ]
  },
  {
   "cell_type": "code",
   "execution_count": 552,
   "metadata": {},
   "outputs": [],
   "source": [
    "def numbered_file(old_file, new_file):\n",
    "    \"\"\"Output a file with column numbers\"\"\"\n",
    "    infile = open(old_file, \"r\")\n",
    "    outfile = open(new_file, \"w\")\n",
    "    \n",
    "    for j, line in enumerate(infile):\n",
    "        outfile.write(\"{0:<5}{1}\".format(j+1, line))\n",
    "                      \n",
    "    infile.close()\n",
    "    outfile.close()"
   ]
  },
  {
   "cell_type": "code",
   "execution_count": 553,
   "metadata": {},
   "outputs": [],
   "source": [
    "numbered_file(\"snake_all.txt\", \"numbered.txt\")"
   ]
  },
  {
   "cell_type": "markdown",
   "metadata": {},
   "source": [
    "### Write a program that undoes the numbering of the previous exercise:  it should read a file with numbered lines and produce another file without line numbers"
   ]
  },
  {
   "cell_type": "code",
   "execution_count": 580,
   "metadata": {},
   "outputs": [],
   "source": [
    "def undo_numberd_file(numbered_file, undo_file):\n",
    "    \"\"\"Output numbered file without numbers\"\"\"\n",
    "    infile = open(numbered_file, \"r\")\n",
    "    outfile = open(undo_file, \"w\")\n",
    "    \n",
    "    for line in infile:\n",
    "        result = ''.join([i for i in line if not i.isdigit()])\n",
    "        outfile.write(result)\n",
    "        \n",
    "    infile.close()\n",
    "    outfile.close()\n",
    "        "
   ]
  },
  {
   "cell_type": "code",
   "execution_count": 581,
   "metadata": {},
   "outputs": [],
   "source": [
    "undo_numberd_file(\"numbered.txt\", \"unnumbered.txt\")"
   ]
  },
  {
   "cell_type": "code",
   "execution_count": null,
   "metadata": {},
   "outputs": [],
   "source": []
  }
 ],
 "metadata": {
  "kernelspec": {
   "display_name": "Python 3",
   "language": "python",
   "name": "python3"
  },
  "language_info": {
   "codemirror_mode": {
    "name": "ipython",
    "version": 3
   },
   "file_extension": ".py",
   "mimetype": "text/x-python",
   "name": "python",
   "nbconvert_exporter": "python",
   "pygments_lexer": "ipython3",
   "version": "3.7.4"
  }
 },
 "nbformat": 4,
 "nbformat_minor": 2
}
