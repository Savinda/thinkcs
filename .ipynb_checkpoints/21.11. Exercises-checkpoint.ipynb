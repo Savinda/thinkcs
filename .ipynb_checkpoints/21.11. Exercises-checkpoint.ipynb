{
 "cells": [
  {
   "cell_type": "code",
   "execution_count": 101,
   "metadata": {},
   "outputs": [],
   "source": [
    "# Let’s rewrite a more powerful initializer for MyTime:\n",
    "\n",
    "class MyTime:\n",
    "    def __init__(self, hrs=0, mins=0, secs=0):\n",
    "        \"\"\" Create a new MyTime object initialized to hrs, mins, secs.\n",
    "           The values of mins and secs may be outside the range 0-59,\n",
    "           but the resulting MyTime object will be normalized.\n",
    "       \"\"\"\n",
    "        # Calculate total seconds to represent\n",
    "        totalsecs = hrs*3600 + mins*60 + secs\n",
    "        self.hours = totalsecs // 3600 # split in h, m, s\n",
    "        leftoversecs = totalsecs % 3600\n",
    "        self.minutes = leftoversecs // 60\n",
    "        self.seconds = leftoversecs % 60\n",
    "        \n",
    "    def __str__(self):\n",
    "        return \"({0}, {1}, {2})\".format(self.hours, self.minutes, self.seconds)\n",
    "    \n",
    "    def __add__(self, other):\n",
    "        return MyTime(0, 0, self.to_seconds() + other.to_seconds())\n",
    "    \n",
    "    def __sub__(self, other):\n",
    "        return MyTime(0, 0, self.to_seconds() - other.to_seconds())\n",
    "    \n",
    "    def to_seconds(self):\n",
    "        \"\"\"Return the number of seconds represented by this instance\"\"\"\n",
    "        return self.hours * 3600 + self.minutes * 60 + self.seconds\n",
    "    \n",
    "    def after(self, time2):\n",
    "        \"\"\"Return True if I am strictly greater than time2\"\"\"\n",
    "        return self.to_seconds() > time2.to_seconds()\n",
    "    \n",
    "    def between(self, t1, t2):\n",
    "        \"\"\"returns True if the invoking object falls between the two times (t1, t2)\"\"\"\n",
    "        t1seconds = t1.to_seconds()\n",
    "        t2seconds = t2.to_seconds()\n",
    "        selfseconds = self.to_seconds()\n",
    "        return t1seconds <= selfseconds <= t2seconds\n",
    "    \n",
    "    def __lt__(self, other):\n",
    "        \"\"\"Overload the necessary operator(s) so that instead of having to write .after ==> >\"\"\"\n",
    "        self_seconds = self.to_seconds()\n",
    "        other_seconds = other.to_seconds()\n",
    "        return self_seconds < other_seconds\n",
    "    \n",
    "    def increment(self, seconds):\n",
    "        total_secs = self.to_seconds() + seconds\n",
    "        if seconds < 0:\n",
    "            return (24 + total_secs // 3600, (total_secs % 3600) // 60, (total_secs % 3600) % 60) # 24hr clock\n",
    "        else:\n",
    "            return (total_secs // 3600, (total_secs % 3600) // 60, (total_secs % 3600) % 60)"
   ]
  },
  {
   "cell_type": "code",
   "execution_count": 102,
   "metadata": {},
   "outputs": [
    {
     "name": "stdout",
     "output_type": "stream",
     "text": [
      "True\n",
      "False\n"
     ]
    }
   ],
   "source": [
    "# Write a Boolean function between that takes two MyTime objects, t1 and t2, as arguments, \n",
    "# and returns True if the invoking object falls between the two times. \n",
    "# Assume t1 <= t2, and make the test closed at the lower bound and open at the upper bound, \n",
    "# i.e. return True if t1 <= obj < t2.\n",
    "\n",
    "def between(self, t1, t2):\n",
    "    t1seconds = t1.to_seconds()\n",
    "    t2seconds = t2.to_seconds()\n",
    "    selfseconds = self.to_seconds()\n",
    "    \n",
    "    return t1seconds <= selfseconds <= t2seconds\n",
    "\n",
    "# Turn the above function into a method in the MyTime class.\n",
    "\n",
    "# def between(self, t1, t2):\n",
    "#     \"\"\"returns True if the invoking object falls between the two times (t1, t2)\"\"\"\n",
    "#     t1seconds = t1.to_seconds()\n",
    "#     t2seconds = t2.to_seconds()\n",
    "#     selfseconds = self.to_seconds()\n",
    "    \n",
    "#     return t1seconds <= selfseconds <= t2seconds\n",
    "\n",
    "current_time = MyTime(2,0,0)\n",
    "done_time = MyTime(5,30,45)\n",
    "self_time = MyTime(3,0,0)\n",
    "self_time2 = MyTime(6,0,0)\n",
    "\n",
    "print(self_time.between(current_time, done_time))\n",
    "print(self_time2.between(current_time, done_time))"
   ]
  },
  {
   "cell_type": "code",
   "execution_count": 103,
   "metadata": {},
   "outputs": [
    {
     "name": "stdout",
     "output_type": "stream",
     "text": [
      "True\n",
      "True\n"
     ]
    }
   ],
   "source": [
    "# Overload the necessary operator(s) so that instead of having to write\n",
    "# if t1.after(t2): ...\n",
    "# we can use the more convenient\n",
    "# if t1 > t2: ...\n",
    "\n",
    "\"\"\"\n",
    "Need to override the t1.__gt__(t2) method of your class. \n",
    "I would overide all of the following __gt__ __lt__ __le__ __ge__ special operators.\n",
    "Turns out that simply overriding the __eq__ and __lt__ on top of using \n",
    "functools.@total_ordering gives the desired result.\n",
    "\"\"\"\n",
    "\n",
    "# def __lt__(self, other):\n",
    "#     self_seconds = self.to_seconds()\n",
    "#     other_seconds = other.to_seconds()\n",
    "#     return self_seconds < other_seconds\n",
    "\n",
    "t1 = MyTime(10, 55, 12)\n",
    "t2 = MyTime(10, 48, 33)\n",
    "MyTime.after(t1, t2)\n",
    "\n",
    "print(t1.after(t2))\n",
    "print(t1 > t2)"
   ]
  },
  {
   "cell_type": "code",
   "execution_count": 104,
   "metadata": {},
   "outputs": [],
   "source": [
    "# Rewrite increment as a method that uses our “Aha” insight.\n",
    "# def increment(t, secs):\n",
    "#     t.seconds += secs\n",
    "\n",
    "#     if t.seconds >= 60:\n",
    "#         t.seconds -= 60\n",
    "#         t.minutes += 1\n",
    "\n",
    "#     if t.minutes >= 60:\n",
    "#         t.minutes -= 60\n",
    "#         t.hours += 1"
   ]
  },
  {
   "cell_type": "code",
   "execution_count": 105,
   "metadata": {},
   "outputs": [],
   "source": [
    "t1 = MyTime(10, 55, 12)"
   ]
  },
  {
   "cell_type": "code",
   "execution_count": 106,
   "metadata": {},
   "outputs": [
    {
     "data": {
      "text/plain": [
       "(1, 1, 2)"
      ]
     },
     "execution_count": 106,
     "metadata": {},
     "output_type": "execute_result"
    }
   ],
   "source": [
    "t2 = MyTime(1, 1, 1)\n",
    "MyTime.increment(t2, 1)"
   ]
  },
  {
   "cell_type": "code",
   "execution_count": 111,
   "metadata": {},
   "outputs": [
    {
     "name": "stdout",
     "output_type": "stream",
     "text": [
      "Test at line 2 ok.\n",
      "Test at line 3 ok.\n",
      "Test at line 4 ok.\n",
      "Test at line 5 ok.\n",
      "Test at line 6 ok.\n",
      "Test at line 7 ok.\n"
     ]
    }
   ],
   "source": [
    "# Create some test cases for the increment method. \n",
    "# Consider specifically the case where the number of seconds to add to the time is negative. \n",
    "# Fix up increment so that it handles this case if it does not do so already. \n",
    "# (You may assume that you will never subtract more seconds than are in the time object.)\n",
    "\n",
    "from unit_tester import test\n",
    "test(MyTime.increment(MyTime(0,0,0), 1) == (0,0,1))\n",
    "test(MyTime.increment(MyTime(0,0,0), 60) == (0,1,0))\n",
    "test(MyTime.increment(MyTime(0,0,0), 3661) == (1,1,1))\n",
    "test(MyTime.increment(MyTime(0,0,0), -1) == (23,59,59))\n",
    "test(MyTime.increment(MyTime(0,0,0), -1) == (23,59,59))\n",
    "test(MyTime.increment(MyTime(0,0,0), -3600) == (23,0,0))"
   ]
  },
  {
   "cell_type": "code",
   "execution_count": null,
   "metadata": {},
   "outputs": [],
   "source": [
    "# Can physical time be negative, or must time always move in the forward direction? \n",
    "# Some serious physicists think this is not such a dumb question. \n",
    "# See what you can find on the Internet about this.\n",
    "\n",
    "# According to Einstein time is the fourth dimension and time was able to slow down and even stop.\n",
    "# But not \"negative\" or best said backwards because this could only occur when traveling faster than light \n",
    "# and according to Einstein nothing is faster than \n",
    "# light because light is made of massless particles called photon. \n",
    "# Hence free of any physical costraints."
   ]
  }
 ],
 "metadata": {
  "kernelspec": {
   "display_name": "Python 3",
   "language": "python",
   "name": "python3"
  }
 },
 "nbformat": 4,
 "nbformat_minor": 2
}
