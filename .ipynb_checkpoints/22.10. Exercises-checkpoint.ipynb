{
 "cells": [
  {
   "cell_type": "code",
   "execution_count": 23,
   "metadata": {},
   "outputs": [],
   "source": [
    "class Card:\n",
    "    suits = [\"Clubs\", \"Diamonds\", \"Hearts\", \"Spades\"]\n",
    "    ranks = [\"narf\", \"Ace\", \"2\", \"3\", \"4\", \"5\", \"6\", \"7\", \"8\", \"9\", \"10\", \"Jack\", \"Queen\", \"King\"]\n",
    "    \n",
    "    def __init__(self, suit=0, rank=0):\n",
    "        self.suit = suit\n",
    "        self.rank = rank\n",
    "        \n",
    "    def __str__(self):\n",
    "        return (self.ranks[self.rank] + \" of \" + self.suits[self.suit])\n",
    "    \n",
    "    def cmp(self, other):\n",
    "        # Check the suits\n",
    "        if self.suit > other.suit: return 1\n",
    "        if self.suit < other.suit: return -1\n",
    "        # Suits are the same, check ranks\n",
    "        if self.rank > other.rank: return 1\n",
    "        if self.rank < other.rank: return -1\n",
    "        # Ranks are the same, it's a tie\n",
    "        return 0\n",
    "    \n",
    "    # six special methods that do the overloading of each of the relational operators for us\n",
    "    def __eq__(self, other):\n",
    "        return self.cmp(other) == 0\n",
    "    def __le__(self, other):\n",
    "        return self.cmp(other) <= 0\n",
    "    def __ge__(self, other):\n",
    "        return self.cmp(other) >= 0\n",
    "    def __gt__(self, other):\n",
    "        return self.cmp(other) > 0\n",
    "    def __lt__(self, other):\n",
    "        return self.cmp(other) < 0\n",
    "    def __ne__(self, other):\n",
    "        return self.cmp(other) != 0\n",
    "    \n",
    "# The initialization method creates the attribute cards and generates the standard pack of fifty-two cards\n",
    "class Deck:\n",
    "    def __init__(self):\n",
    "        self.cards = []\n",
    "        for suit in range(4):\n",
    "            for rank in range(1, 14):\n",
    "                self.cards.append(Card(suit, rank))\n",
    "                \n",
    "    # Printing the deck\n",
    "    def __str__(self):\n",
    "        s = \"\"\n",
    "        for i in range(len(self.cards)):\n",
    "            s = s + \" \" * i + str(self.cards[i]) + \"\\n\"\n",
    "        return s\n",
    "    \n",
    "    def shuffle(self):\n",
    "        import random\n",
    "        rng = random.Random() # Create a random generator\n",
    "        rng.shuffle(self.cards) # Use generator's shuffle method\n",
    "#         num_cards = len(self.cards)\n",
    "#         for i in range(num_cards):\n",
    "#             j = rng.randrange(i, num_cards)\n",
    "#             (self.cards[i], self.cards[j]) = (self.cards[j], self.cards[i])\n",
    "\n",
    "    # Removing and dealing cards\n",
    "    def remove(self, card):\n",
    "        if card in self.cards:\n",
    "            self.cards.remove(card)\n",
    "            return True\n",
    "        else:\n",
    "            return False\n",
    "        \n",
    "    # Remove and return the top card.\n",
    "    def pop(self):\n",
    "        return self.cards.pop()\n",
    "    \n",
    "    # returns True if the deck contains no cards\n",
    "    def is_empty(self):\n",
    "        return self.cards == []"
   ]
  },
  {
   "cell_type": "code",
   "execution_count": 24,
   "metadata": {},
   "outputs": [],
   "source": [
    "red_pack = Deck()\n",
    "# print(red_pack)"
   ]
  },
  {
   "cell_type": "code",
   "execution_count": 25,
   "metadata": {},
   "outputs": [
    {
     "name": "stdout",
     "output_type": "stream",
     "text": [
      "Ace of Hearts\n",
      "King of Hearts\n"
     ]
    }
   ],
   "source": [
    "card1 = Card(2, 1)\n",
    "card2 = Card(2, 13)\n",
    "print(card1)\n",
    "print(card2)"
   ]
  },
  {
   "cell_type": "code",
   "execution_count": 27,
   "metadata": {},
   "outputs": [
    {
     "data": {
      "text/plain": [
       "False"
      ]
     },
     "execution_count": 27,
     "metadata": {},
     "output_type": "execute_result"
    }
   ],
   "source": [
    "card1 > card2"
   ]
  },
  {
   "cell_type": "code",
   "execution_count": null,
   "metadata": {},
   "outputs": [],
   "source": [
    "# Modify cmp so that Aces are ranked higher than Kings.\n",
    "# TO-DO!"
   ]
  }
 ],
 "metadata": {
  "kernelspec": {
   "display_name": "Python 3",
   "language": "python",
   "name": "python3"
  },
  "language_info": {
   "codemirror_mode": {
    "name": "ipython",
    "version": 3
   },
   "file_extension": ".py",
   "mimetype": "text/x-python",
   "name": "python",
   "nbconvert_exporter": "python",
   "pygments_lexer": "ipython3",
   "version": "3.7.4"
  }
 },
 "nbformat": 4,
 "nbformat_minor": 2
}
