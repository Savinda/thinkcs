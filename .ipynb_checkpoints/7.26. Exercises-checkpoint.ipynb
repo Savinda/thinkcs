{
 "cells": [
  {
   "cell_type": "code",
   "execution_count": 519,
   "metadata": {},
   "outputs": [],
   "source": [
    "import sys\n",
    "\n",
    "def test(did_pass):\n",
    "    \"\"\"  Print the result of a test.  \"\"\"\n",
    "    linenum = sys._getframe(1).f_lineno   # Get the caller's line number.\n",
    "    if did_pass:\n",
    "        msg = \"Test at line {0} ok.\".format(linenum)\n",
    "    else:\n",
    "        msg = (\"Test at line {0} FAILED.\".format(linenum))\n",
    "    print(msg)"
   ]
  },
  {
   "cell_type": "code",
   "execution_count": 13,
   "metadata": {},
   "outputs": [],
   "source": [
    "# Write a function to count how many odd numbers are in a list.\n",
    "\n",
    "xs = [1,3,5,6,7,8,9,10,12,13,15, -19, -19, -2]\n",
    "\n",
    "def odd_count(L):\n",
    "    \"\"\"Count no of odd numbers in a list\"\"\"\n",
    "    count = 0\n",
    "    for x in xs:\n",
    "        if x % 2 != 0:\n",
    "            count += 1\n",
    "    return count"
   ]
  },
  {
   "cell_type": "code",
   "execution_count": 14,
   "metadata": {},
   "outputs": [
    {
     "data": {
      "text/plain": [
       "9"
      ]
     },
     "execution_count": 14,
     "metadata": {},
     "output_type": "execute_result"
    }
   ],
   "source": [
    "odd_count(xs)"
   ]
  },
  {
   "cell_type": "code",
   "execution_count": 15,
   "metadata": {},
   "outputs": [],
   "source": [
    "# Sum up all the even numbers in a list.\n",
    "\n",
    "def even_sum(L):\n",
    "    \"\"\"Sum up all even numbers in a list\"\"\"\n",
    "    total = 0\n",
    "    for x in xs:\n",
    "        if x % 2 == 0:\n",
    "            total += x\n",
    "    return total"
   ]
  },
  {
   "cell_type": "code",
   "execution_count": 16,
   "metadata": {},
   "outputs": [
    {
     "data": {
      "text/plain": [
       "34"
      ]
     },
     "execution_count": 16,
     "metadata": {},
     "output_type": "execute_result"
    }
   ],
   "source": [
    "even_sum(xs)"
   ]
  },
  {
   "cell_type": "code",
   "execution_count": 17,
   "metadata": {},
   "outputs": [],
   "source": [
    "# Sum up all the negative numbers in a list.\n",
    "\n",
    "def neg_sum(L):\n",
    "    \"\"\"Sum up all negative numbers in a list\"\"\"\n",
    "    total = 0\n",
    "    for x in xs:\n",
    "        if x < 0:\n",
    "            total += x\n",
    "    return total"
   ]
  },
  {
   "cell_type": "code",
   "execution_count": 18,
   "metadata": {},
   "outputs": [
    {
     "data": {
      "text/plain": [
       "-40"
      ]
     },
     "execution_count": 18,
     "metadata": {},
     "output_type": "execute_result"
    }
   ],
   "source": [
    "neg_sum(xs)"
   ]
  },
  {
   "cell_type": "code",
   "execution_count": 19,
   "metadata": {},
   "outputs": [],
   "source": [
    "# Count how many words in a list have length 5.\n",
    "\n",
    "xs = [\"Sri Lanka\", \"India\", \"Japan\", \"Korea\", \"Yeman\", \"States\"]\n",
    "\n",
    "def len_five(L):\n",
    "    \"\"\"Count words with length 5\"\"\"\n",
    "    count = 0\n",
    "    for x in xs:\n",
    "        if len(x) == 5:\n",
    "            count += 1\n",
    "    return count"
   ]
  },
  {
   "cell_type": "code",
   "execution_count": 20,
   "metadata": {},
   "outputs": [
    {
     "data": {
      "text/plain": [
       "4"
      ]
     },
     "execution_count": 20,
     "metadata": {},
     "output_type": "execute_result"
    }
   ],
   "source": [
    "len_five(xs)"
   ]
  },
  {
   "cell_type": "code",
   "execution_count": 256,
   "metadata": {},
   "outputs": [],
   "source": [
    "# Sum all the elements in a list up to but not including the first even number. \n",
    "# (Write your unit tests. What if there is no even number?)\n",
    "\n",
    "xs = [1,2,2,7]\n",
    "\n",
    "def sum_even_not_first(L):\n",
    "    \"\"\"Sum all the elements in a list up to but not including the first even number\"\"\"\n",
    "    total = 0\n",
    "    for x in xs:\n",
    "        if x % 2 != 0:\n",
    "            continue\n",
    "        else:\n",
    "            total += x\n",
    "        return sum(xs) - total\n",
    "    else:\n",
    "        return sum(xs)"
   ]
  },
  {
   "cell_type": "code",
   "execution_count": 257,
   "metadata": {},
   "outputs": [
    {
     "data": {
      "text/plain": [
       "10"
      ]
     },
     "execution_count": 257,
     "metadata": {},
     "output_type": "execute_result"
    }
   ],
   "source": [
    "sum_even_not_first(xs)"
   ]
  },
  {
   "cell_type": "code",
   "execution_count": 345,
   "metadata": {},
   "outputs": [],
   "source": [
    "# Count how many words occur in a list up to and including the first occurrence of the word “sam”. \n",
    "# (Write your unit tests for this case too. What if “sam” does not occur?)\n",
    "xs = [\"Amanda\", \"Sam\", \"Catey\", \"Diana\", \"Elena\", \"Sam\", \"Williams\", \"Zenith\", \"Sam\"]"
   ]
  },
  {
   "cell_type": "code",
   "execution_count": 346,
   "metadata": {},
   "outputs": [],
   "source": [
    "def count_sam(L):\n",
    "    \"\"\"returns how many words occur in a list up to and including the first occurrence of the word “sam”\"\"\"\n",
    "    count = 0\n",
    "    for x in xs:\n",
    "        count += 1\n",
    "        print(x)\n",
    "        if x == \"Sam\":\n",
    "            break\n",
    "    return count"
   ]
  },
  {
   "cell_type": "code",
   "execution_count": 347,
   "metadata": {},
   "outputs": [
    {
     "name": "stdout",
     "output_type": "stream",
     "text": [
      "Amanda\n",
      "Sam\n"
     ]
    },
    {
     "data": {
      "text/plain": [
       "2"
      ]
     },
     "execution_count": 347,
     "metadata": {},
     "output_type": "execute_result"
    }
   ],
   "source": [
    "count_sam(xs)"
   ]
  },
  {
   "cell_type": "code",
   "execution_count": 366,
   "metadata": {},
   "outputs": [],
   "source": [
    "# Add a print function to Newton’s sqrt function that prints out better each time it is calculated. \n",
    "# Call your modified function with 25 as an argument and record the results.\n",
    "\n",
    "def sqrt(n):\n",
    "    \"\"\"Newton's sqrt function\"\"\"\n",
    "    approx = n / 2.0\n",
    "    while True:\n",
    "        print(f\"Approximation is: {approx}\")\n",
    "        better =  (approx + n/ approx)/ 2.0\n",
    "        print(f\"Better is: {better}\")\n",
    "        if abs(approx - better) < 0.001:\n",
    "            return better\n",
    "        approx = better"
   ]
  },
  {
   "cell_type": "code",
   "execution_count": 367,
   "metadata": {},
   "outputs": [
    {
     "name": "stdout",
     "output_type": "stream",
     "text": [
      "Approximation is: 12.5\n",
      "Better is: 7.25\n",
      "Approximation is: 7.25\n",
      "Better is: 5.349137931034482\n",
      "Approximation is: 5.349137931034482\n",
      "Better is: 5.011394106532552\n",
      "Approximation is: 5.011394106532552\n",
      "Better is: 5.000012953048684\n",
      "Approximation is: 5.000012953048684\n",
      "Better is: 5.000000000016778\n"
     ]
    },
    {
     "data": {
      "text/plain": [
       "5.000000000016778"
      ]
     },
     "execution_count": 367,
     "metadata": {},
     "output_type": "execute_result"
    }
   ],
   "source": [
    "sqrt(25)"
   ]
  },
  {
   "cell_type": "code",
   "execution_count": 384,
   "metadata": {},
   "outputs": [],
   "source": [
    "# Trace the execution of the last version of print_mult_table and figure out how it works.\n",
    "\n",
    "def print_multiples(n):\n",
    "    for i in range(1, n+1):\n",
    "        for j in range(1, n+1):\n",
    "            print(\"{:4}\".format(i*j), end=\"\")\n",
    "        print()"
   ]
  },
  {
   "cell_type": "code",
   "execution_count": 387,
   "metadata": {},
   "outputs": [
    {
     "name": "stdout",
     "output_type": "stream",
     "text": [
      "   1   2   3   4   5   6   7   8   9  10  11  12  13  14  15  16  17  18  19  20\n",
      "   2   4   6   8  10  12  14  16  18  20  22  24  26  28  30  32  34  36  38  40\n",
      "   3   6   9  12  15  18  21  24  27  30  33  36  39  42  45  48  51  54  57  60\n",
      "   4   8  12  16  20  24  28  32  36  40  44  48  52  56  60  64  68  72  76  80\n",
      "   5  10  15  20  25  30  35  40  45  50  55  60  65  70  75  80  85  90  95 100\n",
      "   6  12  18  24  30  36  42  48  54  60  66  72  78  84  90  96 102 108 114 120\n",
      "   7  14  21  28  35  42  49  56  63  70  77  84  91  98 105 112 119 126 133 140\n",
      "   8  16  24  32  40  48  56  64  72  80  88  96 104 112 120 128 136 144 152 160\n",
      "   9  18  27  36  45  54  63  72  81  90  99 108 117 126 135 144 153 162 171 180\n",
      "  10  20  30  40  50  60  70  80  90 100 110 120 130 140 150 160 170 180 190 200\n",
      "  11  22  33  44  55  66  77  88  99 110 121 132 143 154 165 176 187 198 209 220\n",
      "  12  24  36  48  60  72  84  96 108 120 132 144 156 168 180 192 204 216 228 240\n",
      "  13  26  39  52  65  78  91 104 117 130 143 156 169 182 195 208 221 234 247 260\n",
      "  14  28  42  56  70  84  98 112 126 140 154 168 182 196 210 224 238 252 266 280\n",
      "  15  30  45  60  75  90 105 120 135 150 165 180 195 210 225 240 255 270 285 300\n",
      "  16  32  48  64  80  96 112 128 144 160 176 192 208 224 240 256 272 288 304 320\n",
      "  17  34  51  68  85 102 119 136 153 170 187 204 221 238 255 272 289 306 323 340\n",
      "  18  36  54  72  90 108 126 144 162 180 198 216 234 252 270 288 306 324 342 360\n",
      "  19  38  57  76  95 114 133 152 171 190 209 228 247 266 285 304 323 342 361 380\n",
      "  20  40  60  80 100 120 140 160 180 200 220 240 260 280 300 320 340 360 380 400\n"
     ]
    }
   ],
   "source": [
    "print_multiples(20)"
   ]
  },
  {
   "cell_type": "code",
   "execution_count": 472,
   "metadata": {},
   "outputs": [],
   "source": [
    "# Write a function print_triangular_numbers(n) that prints out the first n triangular numbers. \n",
    "# A call to print_triangular_numbers(5) would produce the following output:\n",
    "\n",
    "def print_triangular_numbers(n):\n",
    "    for i in range(1, n+1):\n",
    "        print(i, int(i * (i+1) / 2))"
   ]
  },
  {
   "cell_type": "code",
   "execution_count": 473,
   "metadata": {},
   "outputs": [
    {
     "name": "stdout",
     "output_type": "stream",
     "text": [
      "1 1\n",
      "2 3\n",
      "3 6\n",
      "4 10\n",
      "5 15\n"
     ]
    }
   ],
   "source": [
    "print_triangular_numbers(5)"
   ]
  },
  {
   "cell_type": "code",
   "execution_count": 530,
   "metadata": {},
   "outputs": [],
   "source": [
    "# Write a function, is_prime, which takes a single integer argument and returns True when \n",
    "# the argument is a prime number and False otherwise. Add tests for cases like this:\n",
    "def is_prime(num):\n",
    "    if num > 1:\n",
    "        for i in range(2, num):\n",
    "            if num % i == 0:\n",
    "                return False\n",
    "                break\n",
    "        else:\n",
    "            return True\n",
    "    else:\n",
    "        return False\n",
    "                \n"
   ]
  },
  {
   "cell_type": "code",
   "execution_count": 531,
   "metadata": {},
   "outputs": [
    {
     "name": "stdout",
     "output_type": "stream",
     "text": [
      "Test at line 1 ok.\n",
      "Test at line 2 ok.\n",
      "Test at line 3 ok.\n"
     ]
    }
   ],
   "source": [
    "test(is_prime(11))\n",
    "test(not is_prime(35))\n",
    "test(is_prime(19911121))"
   ]
  },
  {
   "cell_type": "code",
   "execution_count": 542,
   "metadata": {},
   "outputs": [
    {
     "name": "stdout",
     "output_type": "stream",
     "text": [
      "25\n"
     ]
    }
   ],
   "source": [
    "# The last case could represent your birth date. Were you born on a prime day? \n",
    "# In a class of 100 students, how many do you think would have prime birth dates?\n",
    "# Nope\n",
    "count = 0\n",
    "for i in range(100):\n",
    "    if is_prime(i) == True:\n",
    "        count += 1\n",
    "print(count)"
   ]
  },
  {
   "cell_type": "code",
   "execution_count": 800,
   "metadata": {},
   "outputs": [],
   "source": [
    "# What will num_digits(0) return? Modify it to return 1 for this case. \n",
    "# Why does a call to num_digits(-24) result in an infinite loop? (hint: -1//10 evaluates to -1) \n",
    "# Modify num_digits so that it works correctly with any integer value. Add these tests:\n",
    "\n",
    "def num_digits(n):\n",
    "    count = 0\n",
    "    while n:\n",
    "        count += 1\n",
    "        n = abs(n)\n",
    "        n //= 10\n",
    "        if n == 0:\n",
    "            return count \n",
    "    return count +1"
   ]
  },
  {
   "cell_type": "code",
   "execution_count": 802,
   "metadata": {},
   "outputs": [
    {
     "data": {
      "text/plain": [
       "1"
      ]
     },
     "execution_count": 802,
     "metadata": {},
     "output_type": "execute_result"
    }
   ],
   "source": [
    "num_digits(0)"
   ]
  },
  {
   "cell_type": "code",
   "execution_count": 803,
   "metadata": {},
   "outputs": [
    {
     "name": "stdout",
     "output_type": "stream",
     "text": [
      "Test at line 1 ok.\n",
      "Test at line 2 ok.\n"
     ]
    }
   ],
   "source": [
    "test(num_digits(0) == 1)\n",
    "test(num_digits(-12345) == 5)"
   ]
  },
  {
   "cell_type": "code",
   "execution_count": 846,
   "metadata": {},
   "outputs": [],
   "source": [
    "# Write a function num_even_digits(n) that counts the number of even digits in n. These tests should pass:\n",
    "\n",
    "def num_even_digits(n):\n",
    "    count = 0\n",
    "    while n:\n",
    "        if n % 2 == 0:\n",
    "            count += 1\n",
    "        n = abs(n)\n",
    "        n //= 10\n",
    "        if n == 0:\n",
    "            return count\n",
    "    return count + 1"
   ]
  },
  {
   "cell_type": "code",
   "execution_count": 851,
   "metadata": {},
   "outputs": [
    {
     "name": "stdout",
     "output_type": "stream",
     "text": [
      "Test at line 1 ok.\n",
      "Test at line 2 ok.\n",
      "Test at line 3 ok.\n",
      "Test at line 4 ok.\n"
     ]
    }
   ],
   "source": [
    "test(num_even_digits(123456) == 3)\n",
    "test(num_even_digits(2468) == 4)\n",
    "test(num_even_digits(1357) == 0)\n",
    "test(num_even_digits(0) == 1)"
   ]
  },
  {
   "cell_type": "code",
   "execution_count": 868,
   "metadata": {},
   "outputs": [],
   "source": [
    "# Write a function sum_of_squares(xs) that computes the sum of the squares of the numbers in the list xs. \n",
    "# For example, sum_of_squares([2, 3, 4]) should return 4+9+16 which is 29:\n",
    "\n",
    "def sum_of_squares(xs):\n",
    "    total = 0\n",
    "    for x in xs:\n",
    "        x = x**2\n",
    "        total += x\n",
    "    return total"
   ]
  },
  {
   "cell_type": "code",
   "execution_count": 870,
   "metadata": {},
   "outputs": [
    {
     "name": "stdout",
     "output_type": "stream",
     "text": [
      "Test at line 1 ok.\n",
      "Test at line 2 ok.\n",
      "Test at line 3 ok.\n"
     ]
    }
   ],
   "source": [
    "test(sum_of_squares([2, 3, 4]) == 29)\n",
    "test(sum_of_squares([ ]) == 0)\n",
    "test(sum_of_squares([2, -3, 4]) == 29)"
   ]
  },
  {
   "cell_type": "code",
   "execution_count": 42,
   "metadata": {},
   "outputs": [],
   "source": [
    "# You and your friend are in a team to write a two-player game, human against computer, \n",
    "# such as Tic-Tac-Toe / Noughts and Crosses. \n",
    "# Your friend will write the logic to play one round of the game, \n",
    "# while you will write the logic to allow many rounds of play, keep score, \n",
    "# decide who plays, first, etc. The two of you negotiate on how the two parts of the program will fit together, \n",
    "# and you come up with this simple scaffolding (which your friend will improve later):\n",
    "\n",
    "# Your friend will complete this function\n",
    "def play_once(human_plays_first):\n",
    "    \"\"\"\n",
    "       Must play one round of the game. If the parameter\n",
    "       is True, the human gets to play first, else the\n",
    "       computer gets to play first.  When the round ends,\n",
    "       the return value of the function is one of\n",
    "       -1 (human wins),  0 (game drawn),   1 (computer wins).\n",
    "    \"\"\"\n",
    "    # This is all dummy scaffolding code right at the moment...\n",
    "    import random                  # See Modules chapter ...\n",
    "    rng = random.Random()\n",
    "    # Pick a random result between -1 and 1.\n",
    "    result = rng.randrange(-1,2)\n",
    "    print(\"Human plays first={0},  winner={1} \"\n",
    "                       .format(human_plays_first, result))\n",
    "    return result"
   ]
  },
  {
   "cell_type": "code",
   "execution_count": 43,
   "metadata": {},
   "outputs": [],
   "source": [
    "human_plays_first = True"
   ]
  },
  {
   "cell_type": "code",
   "execution_count": 46,
   "metadata": {},
   "outputs": [
    {
     "name": "stdout",
     "output_type": "stream",
     "text": [
      "Do you want to play again? (yes or no) \n",
      "Goodbye!\n"
     ]
    }
   ],
   "source": [
    "def main():\n",
    "    while human_plays_first:\n",
    "        response = input(\"Do you want to play again? (yes or no) \")\n",
    "        if response != \"yes\":\n",
    "            print(\"Goodbye!\")\n",
    "            break\n",
    "        outcome  = play_once(human_plays_first) \n",
    "        if outcome == 1:\n",
    "            return \"I win\"\n",
    "        elif outcome == -1:\n",
    "            return \"You win!\"\n",
    "        elif outcome == 0:\n",
    "            return \"Game drawn!\" \n",
    "        \n",
    "          \n",
    "main()"
   ]
  },
  {
   "cell_type": "code",
   "execution_count": 47,
   "metadata": {},
   "outputs": [
    {
     "name": "stdout",
     "output_type": "stream",
     "text": [
      "Do you want to play again? (yes or no) yes\n",
      "Human plays first=True,  winner=1 \n",
      "Do you want to play again? (yes or no) no\n",
      "Goodbye!\n"
     ]
    }
   ],
   "source": [
    "while main():\n",
    "    response = input(\"Do you want to play again? (yes or no) \")\n",
    "    count = 0\n",
    "    if response != \"yes\":\n",
    "        print(\"Goodbye!\")\n",
    "        break"
   ]
  },
  {
   "cell_type": "code",
   "execution_count": null,
   "metadata": {},
   "outputs": [],
   "source": []
  },
  {
   "cell_type": "code",
   "execution_count": null,
   "metadata": {},
   "outputs": [],
   "source": []
  }
 ],
 "metadata": {
  "kernelspec": {
   "display_name": "Python 3",
   "language": "python",
   "name": "python3"
  }
 },
 "nbformat": 4,
 "nbformat_minor": 2
}
