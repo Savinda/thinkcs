{
 "cells": [
  {
   "cell_type": "code",
   "execution_count": 5,
   "metadata": {},
   "outputs": [],
   "source": [
    "myfile = open(\"test.txt\", \"w\")"
   ]
  },
  {
   "cell_type": "code",
   "execution_count": 6,
   "metadata": {},
   "outputs": [
    {
     "data": {
      "text/plain": [
       "14"
      ]
     },
     "execution_count": 6,
     "metadata": {},
     "output_type": "execute_result"
    }
   ],
   "source": [
    "myfile.write(\"My first file written from Python\\n\")\n",
    "myfile.write(\"---------------------------------\\n\")\n",
    "myfile.write(\"Hello, world!\\n\")"
   ]
  },
  {
   "cell_type": "code",
   "execution_count": 7,
   "metadata": {},
   "outputs": [],
   "source": [
    "myfile.close()"
   ]
  },
  {
   "cell_type": "code",
   "execution_count": 9,
   "metadata": {},
   "outputs": [],
   "source": [
    "# 13.3. Reading a file line-at-a-time\n",
    "\n",
    "mynewhandle = open(\"test.txt\", \"r\")\n",
    "while True:\n",
    "    theline = mynewhandle.readline()\n",
    "    if len(theline) == 0:\n",
    "        break\n",
    "        \n",
    "        print(theline, end=\"\")\n",
    "        \n",
    "mynewhandle.close()"
   ]
  },
  {
   "cell_type": "code",
   "execution_count": 25,
   "metadata": {},
   "outputs": [],
   "source": [
    "# 13.4. Turning a file into a list of lines¶\n",
    "f = open(\"friends.txt\", \"r\")\n",
    "xs = f.readlines()\n",
    "f.close()"
   ]
  },
  {
   "cell_type": "code",
   "execution_count": 26,
   "metadata": {},
   "outputs": [],
   "source": [
    "xs.sort()"
   ]
  },
  {
   "cell_type": "code",
   "execution_count": 28,
   "metadata": {},
   "outputs": [],
   "source": [
    "g = open(\"sortedfriends\", \"w\")\n",
    "for v in xs:\n",
    "    g.write(v)\n",
    "    g.write(\"\\n\")\n",
    "g.close()"
   ]
  },
  {
   "cell_type": "code",
   "execution_count": 29,
   "metadata": {},
   "outputs": [],
   "source": [
    "f = open(\"somefile.txt\")\n",
    "content = f.read()\n",
    "f.close()"
   ]
  },
  {
   "cell_type": "code",
   "execution_count": 31,
   "metadata": {},
   "outputs": [
    {
     "name": "stdout",
     "output_type": "stream",
     "text": [
      "['one', 'two', 'three', 'four', 'five', 'six', 'seven', 'eight'] 8\n"
     ]
    }
   ],
   "source": [
    "words = content.split()\n",
    "print(words, len(words))"
   ]
  },
  {
   "cell_type": "code",
   "execution_count": 50,
   "metadata": {},
   "outputs": [],
   "source": [
    "f = open(\"somefile.zip\", \"rb\")\n",
    "g = open(\"thecopy.zip\", \"wb\")\n",
    "\n",
    "while True:\n",
    "    buf = f.read(64)\n",
    "    if len(buf) == 0:\n",
    "        break\n",
    "    g.write(buf)\n",
    "\n",
    "f.close()\n",
    "g.close()"
   ]
  },
  {
   "cell_type": "code",
   "execution_count": 60,
   "metadata": {},
   "outputs": [],
   "source": [
    "# Here is a filter that copies one file to another, omitting any lines that begin with #:\n",
    "\n",
    "def filter(oldfile, newfile):\n",
    "    infile = open(oldfile, \"r\")\n",
    "    outfile = open(newfile, \"w\")\n",
    "    \n",
    "    while True:\n",
    "        text = infile.readline()\n",
    "        if len(text) == 0:\n",
    "            break\n",
    "        if text[0] == \"#\":\n",
    "            continue\n",
    "            \n",
    "        outfile.write(text)\n",
    "            \n",
    "    infile.close()\n",
    "    outfile.close()"
   ]
  },
  {
   "cell_type": "code",
   "execution_count": 54,
   "metadata": {},
   "outputs": [],
   "source": [
    "oldfile = open(\"oldfile.txt\", \"w\")\n",
    "oldfile.write(\"# hashtag line\\n\")\n",
    "oldfile.write(\"nonhashtag line\")\n",
    "oldfile.close()"
   ]
  },
  {
   "cell_type": "code",
   "execution_count": 61,
   "metadata": {},
   "outputs": [],
   "source": [
    "filter(\"oldfile.txt\", \"newfile.txt\")"
   ]
  },
  {
   "cell_type": "code",
   "execution_count": 62,
   "metadata": {},
   "outputs": [
    {
     "data": {
      "text/plain": [
       "('cars_new.csv', <http.client.HTTPMessage at 0x7fda3ec81510>)"
      ]
     },
     "execution_count": 62,
     "metadata": {},
     "output_type": "execute_result"
    }
   ],
   "source": [
    "# 13.9. What about fetching something from the web?\n",
    "\n",
    "import urllib.request\n",
    "\n",
    "url = \"https://perso.telecom-paristech.fr/eagan/class/igr204/data/cars.csv\"\n",
    "destination_filename = \"cars_new.csv\"\n",
    "\n",
    "urllib.request.urlretrieve(url, destination_filename)"
   ]
  },
  {
   "cell_type": "code",
   "execution_count": 64,
   "metadata": {},
   "outputs": [
    {
     "name": "stdout",
     "output_type": "stream",
     "text": [
      "b\"Car;MPG;Cylinders;Displacement;Horsepower;Weight;Acceleration;Model;Origin\\r\\nSTRING;DOUBLE;INT;DOUBLE;DOUBLE;DOUBLE;DOUBLE;INT;CAT\\r\\nChevrolet Chevelle Malibu;18.0;8;307.0;130.0;3504.;12.0;70;US\\r\\nBuick Skylark 320;15.0;8;350.0;165.0;3693.;11.5;70;US\\r\\nPlymouth Satellite;18.0;8;318.0;150.0;3436.;11.0;70;US\\r\\nAMC Rebel SST;16.0;8;304.0;150.0;3433.;12.0;70;US\\r\\nFord Torino;17.0;8;302.0;140.0;3449.;10.5;70;US\\r\\nFord Galaxie 500;15.0;8;429.0;198.0;4341.;10.0;70;US\\r\\nChevrolet Impala;14.0;8;454.0;220.0;4354.;9.0;70;US\\r\\nPlymouth Fury iii;14.0;8;440.0;215.0;4312.;8.5;70;US\\r\\nPontiac Catalina;14.0;8;455.0;225.0;4425.;10.0;70;US\\r\\nAMC Ambassador DPL;15.0;8;390.0;190.0;3850.;8.5;70;US\\r\\nCitroen DS-21 Pallas;0;4;133.0;115.0;3090.;17.5;70;Europe\\r\\nChevrolet Chevelle Concours (sw);0;8;350.0;165.0;4142.;11.5;70;US\\r\\nFord Torino (sw);0;8;351.0;153.0;4034.;11.0;70;US\\r\\nPlymouth Satellite (sw);0;8;383.0;175.0;4166.;10.5;70;US\\r\\nAMC Rebel SST (sw);0;8;360.0;175.0;3850.;11.0;70;US\\r\\nDodge Challenger SE;15.0;8;383.0;170.0;3563.;10.0;70;US\\r\\nPlymouth 'Cuda 340;14.0;8;340.0;160.0;3609.;8.0;70;US\\r\\nFord Mustang Boss 302;0;8;302.0;140.0;3353.;8.0;70;US\\r\\nChevrolet Monte Carlo;15.0;8;400.0;150.0;3761.;9.5;70;US\\r\\nBuick Estate Wagon (sw);14.0;8;455.0;225.0;3086.;10.0;70;US\\r\\nToyota Corolla Mark ii;24.0;4;113.0;95.00;2372.;15.0;70;Japan\\r\\nPlymouth Duster;22.0;6;198.0;95.00;2833.;15.5;70;US\\r\\nAMC Hornet;18.0;6;199.0;97.00;2774.;15.5;70;US\\r\\nFord Maverick;21.0;6;200.0;85.00;2587.;16.0;70;US\\r\\nDatsun PL510;27.0;4;97.00;88.00;2130.;14.5;70;Japan\\r\\nVolkswagen 1131 Deluxe Sedan;26.0;4;97.00;46.00;1835.;20.5;70;Europe\\r\\nPeugeot 504;25.0;4;110.0;87.00;2672.;17.5;70;Europe\\r\\nAudi 100 LS;24.0;4;107.0;90.00;2430.;14.5;70;Europe\\r\\nSaab 99e;25.0;4;104.0;95.00;2375.;17.5;70;Europe\\r\\nBMW 2002;26.0;4;121.0;113.0;2234.;12.5;70;Europe\\r\\nAMC Gremlin;21.0;6;199.0;90.00;2648.;15.0;70;US\\r\\nFord F250;10.0;8;360.0;215.0;4615.;14.0;70;US\\r\\nChevy C20;10.0;8;307.0;200.0;4376.;15.0;70;US\\r\\nDodge D200;11.0;8;318.0;210.0;4382.;13.5;70;US\\r\\nHi 1200D;9.0;8;304.0;193.0;4732.;18.5;70;US\\r\\nDatsun PL510;27.0;4;97.00;88.00;2130.;14.5;71;Japan\\r\\nChevrolet Vega 2300;28.0;4;140.0;90.00;2264.;15.5;71;US\\r\\nToyota Corolla;25.0;4;113.0;95.00;2228.;14.0;71;Japan\\r\\nFord Pinto;25.0;4;98.00;0;2046.;19.0;71;US\\r\\nVolkswagen Super Beetle 117;0;4;97.00;48.00;1978.;20.0;71;Europe\\r\\nAMC Gremlin;19.0;6;232.0;100.0;2634.;13.0;71;US\\r\\nPlymouth Satellite Custom;16.0;6;225.0;105.0;3439.;15.5;71;US\\r\\nChevrolet Chevelle Malibu;17.0;6;250.0;100.0;3329.;15.5;71;US\\r\\nFord Torino 500;19.0;6;250.0;88.00;3302.;15.5;71;US\\r\\nAMC Matador;18.0;6;232.0;100.0;3288.;15.5;71;US\\r\\nChevrolet Impala;14.0;8;350.0;165.0;4209.;12.0;71;US\\r\\nPontiac Catalina Brougham;14.0;8;400.0;175.0;4464.;11.5;71;US\\r\\nFord Galaxie 500;14.0;8;351.0;153.0;4154.;13.5;71;US\\r\\nPlymouth Fury iii;14.0;8;318.0;150.0;4096.;13.0;71;US\\r\\nDodge Monaco (sw);12.0;8;383.0;180.0;4955.;11.5;71;US\\r\\nFord Country Squire (sw);13.0;8;400.0;170.0;4746.;12.0;71;US\\r\\nPontiac Safari (sw);13.0;8;400.0;175.0;5140.;12.0;71;US\\r\\nAMC Hornet Sportabout (sw);18.0;6;258.0;110.0;2962.;13.5;71;US\\r\\nChevrolet Vega (sw);22.0;4;140.0;72.00;2408.;19.0;71;US\\r\\nPontiac Firebird;19.0;6;250.0;100.0;3282.;15.0;71;US\\r\\nFord Mustang;18.0;6;250.0;88.00;3139.;14.5;71;US\\r\\nMercury Capri 2000;23.0;4;122.0;86.00;2220.;14.0;71;US\\r\\nOpel 1900;28.0;4;116.0;90.00;2123.;14.0;71;Europe\\r\\nPeugeot 304;30.0;4;79.00;70.00;2074.;19.5;71;Europe\\r\\nFiat 124B;30.0;4;88.00;76.00;2065.;14.5;71;Europe\\r\\nToyota Corolla 1200;31.0;4;71.00;65.00;1773.;19.0;71;Japan\\r\\nDatsun 1200;35.0;4;72.00;69.00;1613.;18.0;71;Japan\\r\\nVolkswagen Model 111;27.0;4;97.00;60.00;1834.;19.0;71;Europe\\r\\nPlymouth Cricket;26.0;4;91.00;70.00;1955.;20.5;71;US\\r\\nToyota Corolla Hardtop;24.0;4;113.0;95.00;2278.;15.5;72;Japan\\r\\nDodge Colt Hardtop;25.0;4;97.50;80.00;2126.;17.0;72;US\\r\\nVolkswagen Type 3;23.0;4;97.00;54.00;2254.;23.5;72;Europe\\r\\nChevrolet Vega;20.0;4;140.0;90.00;2408.;19.5;72;US\\r\\nFord Pinto Runabout;21.0;4;122.0;86.00;2226.;16.5;72;US\\r\\nChevrolet Impala;13.0;8;350.0;165.0;4274.;12.0;72;US\\r\\nPontiac Catalina;14.0;8;400.0;175.0;4385.;12.0;72;US\\r\\nPlymouth Fury III;15.0;8;318.0;150.0;4135.;13.5;72;US\\r\\nFord Galaxie 500;14.0;8;351.0;153.0;4129.;13.0;72;US\\r\\nAMC Ambassador SST;17.0;8;304.0;150.0;3672.;11.5;72;US\\r\\nMercury Marquis;11.0;8;429.0;208.0;4633.;11.0;72;US\\r\\nBuick LeSabre Custom;13.0;8;350.0;155.0;4502.;13.5;72;US\\r\\nOldsmobile Delta 88 Royale;12.0;8;350.0;160.0;4456.;13.5;72;US\\r\\nChrysler Newport Royal;13.0;8;400.0;190.0;4422.;12.5;72;US\\r\\nMazda RX2 Coupe;19.0;3;70.00;97.00;2330.;13.5;72;Japan\\r\\nAMC Matador (sw);15.0;8;304.0;150.0;3892.;12.5;72;US\\r\\nChevrolet Chevelle Concours (sw);13.0;8;307.0;130.0;4098.;14.0;72;US\\r\\nFord Gran Torino (sw);13.0;8;302.0;140.0;4294.;16.0;72;US\\r\\nPlymouth Satellite Custom (sw);14.0;8;318.0;150.0;4077.;14.0;72;US\\r\\nVolvo 145e (sw);18.0;4;121.0;112.0;2933.;14.5;72;Europe\\r\\nVolkswagen 411 (sw);22.0;4;121.0;76.00;2511.;18.0;72;Europe\\r\\nPeugeot 504 (sw);21.0;4;120.0;87.00;2979.;19.5;72;Europe\\r\\nRenault 12 (sw);26.0;4;96.00;69.00;2189.;18.0;72;Europe\\r\\nFord Pinto (sw);22.0;4;122.0;86.00;2395.;16.0;72;US\\r\\nDatsun 510 (sw);28.0;4;97.00;92.00;2288.;17.0;72;Japan\\r\\nToyota Corolla Mark II (sw);23.0;4;120.0;97.00;2506.;14.5;72;Japan\\r\\nDodge Colt (sw);28.0;4;98.00;80.00;2164.;15.0;72;US\\r\\nToyota Corolla 1600 (sw);27.0;4;97.00;88.00;2100.;16.5;72;Japan\\r\\nBuick Century 350;13.0;8;350.0;175.0;4100.;13.0;73;US\\r\\nAMC Matador;14.0;8;304.0;150.0;3672.;11.5;73;US\\r\\nChevrolet Malibu;13.0;8;350.0;145.0;3988.;13.0;73;US\\r\\nFord Gran Torino;14.0;8;302.0;137.0;4042.;14.5;73;US\\r\\nDodge Coronet Custom;15.0;8;318.0;150.0;3777.;12.5;73;US\\r\\nMercury Marquis Brougham;12.0;8;429.0;198.0;4952.;11.5;73;US\\r\\nChevrolet Caprice Classic;13.0;8;400.0;150.0;4464.;12.0;73;US\\r\\nFord LTD;13.0;8;351.0;158.0;4363.;13.0;73;US\\r\\nPlymouth Fury Gran Sedan;14.0;8;318.0;150.0;4237.;14.5;73;US\\r\\nChrysler New Yorker Brougham;13.0;8;440.0;215.0;4735.;11.0;73;US\\r\\nBuick Electra 225 Custom;12.0;8;455.0;225.0;4951.;11.0;73;US\\r\\nAMC Ambassador Brougham;13.0;8;360.0;175.0;3821.;11.0;73;US\\r\\nPlymouth Valiant;18.0;6;225.0;105.0;3121.;16.5;73;US\\r\\nChevrolet Nova Custom;16.0;6;250.0;100.0;3278.;18.0;73;US\\r\\nAMC Hornet;18.0;6;232.0;100.0;2945.;16.0;73;US\\r\\nFord Maverick;18.0;6;250.0;88.00;3021.;16.5;73;US\\r\\nPlymouth Duster;23.0;6;198.0;95.00;2904.;16.0;73;US\\r\\nVolkswagen Super Beetle;26.0;4;97.00;46.00;1950.;21.0;73;Europe\\r\\nChevrolet Impala;11.0;8;400.0;150.0;4997.;14.0;73;US\\r\\nFord Country;12.0;8;400.0;167.0;4906.;12.5;73;US\\r\\nPlymouth Custom Suburb;13.0;8;360.0;170.0;4654.;13.0;73;US\\r\\nOldsmobile Vista Cruiser;12.0;8;350.0;180.0;4499.;12.5;73;US\\r\\nAMC Gremlin;18.0;6;232.0;100.0;2789.;15.0;73;US\\r\\nToyota Camry;20.0;4;97.00;88.00;2279.;19.0;73;Japan\\r\\nChevrolet Vega;21.0;4;140.0;72.00;2401.;19.5;73;US\\r\\nDatsun 610;22.0;4;108.0;94.00;2379.;16.5;73;Japan\\r\\nMazda RX3;18.0;3;70.00;90.00;2124.;13.5;73;Japan\\r\\nFord Pinto;19.0;4;122.0;85.00;2310.;18.5;73;US\\r\\nMercury Capri v6;21.0;6;155.0;107.0;2472.;14.0;73;US\\r\\nFiat 124 Sport Coupe;26.0;4;98.00;90.00;2265.;15.5;73;Europe\\r\\nChevrolet Monte Carlo S;15.0;8;350.0;145.0;4082.;13.0;73;US\\r\\nPontiac Grand Prix;16.0;8;400.0;230.0;4278.;9.50;73;US\\r\\nFiat 128;29.0;4;68.00;49.00;1867.;19.5;73;Europe\\r\\nOpel Manta;24.0;4;116.0;75.00;2158.;15.5;73;Europe\\r\\nAudi 100LS;20.0;4;114.0;91.00;2582.;14.0;73;Europe\\r\\nVolvo 144ea;19.0;4;121.0;112.0;2868.;15.5;73;Europe\\r\\nDodge Dart Custom;15.0;8;318.0;150.0;3399.;11.0;73;US\\r\\nSaab 99le;24.0;4;121.0;110.0;2660.;14.0;73;Europe\\r\\nToyota Mark II;20.0;6;156.0;122.0;2807.;13.5;73;Japan\\r\\nOldsmobile Omega;11.0;8;350.0;180.0;3664.;11.0;73;US\\r\\nPlymouth Duster;20.0;6;198.0;95.00;3102.;16.5;74;US\\r\\nFord Maverick;21.0;6;200.0;0;2875.;17.0;74;US\\r\\nAMC Hornet;19.0;6;232.0;100.0;2901.;16.0;74;US\\r\\nChevrolet Nova;15.0;6;250.0;100.0;3336.;17.0;74;US\\r\\nDatsun B210;31.0;4;79.00;67.00;1950.;19.0;74;Japan\\r\\nFord Pinto;26.0;4;122.0;80.00;2451.;16.5;74;US\\r\\nToyota Corolla 1200;32.0;4;71.00;65.00;1836.;21.0;74;Japan\\r\\nChevrolet Vega;25.0;4;140.0;75.00;2542.;17.0;74;US\\r\\nChevrolet Chevelle Malibu Classic;16.0;6;250.0;100.0;3781.;17.0;74;US\\r\\nAMC Matador;16.0;6;258.0;110.0;3632.;18.0;74;US\\r\\nPlymouth Satellite Sebring;18.0;6;225.0;105.0;3613.;16.5;74;US\\r\\nFord Gran Torino;16.0;8;302.0;140.0;4141.;14.0;74;US\\r\\nBuick Century Luxus (sw);13.0;8;350.0;150.0;4699.;14.5;74;US\\r\\nDodge Coronet Custom (sw);14.0;8;318.0;150.0;4457.;13.5;74;US\\r\\nFord Gran Torino (sw);14.0;8;302.0;140.0;4638.;16.0;74;US\\r\\nAMC Matador (sw);14.0;8;304.0;150.0;4257.;15.5;74;US\\r\\nAudi Fox;29.0;4;98.00;83.00;2219.;16.5;74;Europe\\r\\nVolkswagen Dasher;26.0;4;79.00;67.00;1963.;15.5;74;Europe\\r\\nOpel Manta;26.0;4;97.00;78.00;2300.;14.5;74;Europe\\r\\nToyota Corolla;31.0;4;76.00;52.00;1649.;16.5;74;Japan\\r\\nDatsun 710;32.0;4;83.00;61.00;2003.;19.0;74;Japan\\r\\nDodge Colt;28.0;4;90.00;75.00;2125.;14.5;74;US\\r\\nFiat 128;24.0;4;90.00;75.00;2108.;15.5;74;Europe\\r\\nFiat 124 TC;26.0;4;116.0;75.00;2246.;14.0;74;Europe\\r\\nHonda Civic;24.0;4;120.0;97.00;2489.;15.0;74;Japan\\r\\nSubaru;26.0;4;108.0;93.00;2391.;15.5;74;Japan\\r\\nFiat x1.9;31.0;4;79.00;67.00;2000.;16.0;74;Europe\\r\\nPlymouth Valiant Custom;19.0;6;225.0;95.00;3264.;16.0;75;US\\r\\nChevrolet Nova;18.0;6;250.0;105.0;3459.;16.0;75;US\\r\\nMercury Monarch;15.0;6;250.0;72.00;3432.;21.0;75;US\\r\\nFord Maverick;15.0;6;250.0;72.00;3158.;19.5;75;US\\r\\nPontiac Catalina;16.0;8;400.0;170.0;4668.;11.5;75;US\\r\\nChevrolet Bel Air;15.0;8;350.0;145.0;4440.;14.0;75;US\\r\\nPlymouth Grand Fury;16.0;8;318.0;150.0;4498.;14.5;75;US\\r\\nFord LTD;14.0;8;351.0;148.0;4657.;13.5;75;US\\r\\nBuick Century;17.0;6;231.0;110.0;3907.;21.0;75;US\\r\\nChevrolete Chevelle Malibu;16.0;6;250.0;105.0;3897.;18.5;75;US\\r\\nAMC Matador;15.0;6;258.0;110.0;3730.;19.0;75;US\\r\\nPlymouth Fury;18.0;6;225.0;95.00;3785.;19.0;75;US\\r\\nBuick Skyhawk;21.0;6;231.0;110.0;3039.;15.0;75;US\\r\\nChevrolet Monza 2+2;20.0;8;262.0;110.0;3221.;13.5;75;US\\r\\nFord Mustang II;13.0;8;302.0;129.0;3169.;12.0;75;US\\r\\nToyota Corolla;29.0;4;97.00;75.00;2171.;16.0;75;Japan\\r\\nFord Pinto;23.0;4;140.0;83.00;2639.;17.0;75;US\\r\\nAMC Gremlin;20.0;6;232.0;100.0;2914.;16.0;75;US\\r\\nPontiac Astro;23.0;4;140.0;78.00;2592.;18.5;75;US\\r\\nToyota Corolla;24.0;4;134.0;96.00;2702.;13.5;75;Japan\\r\\nVolkswagen Dasher;25.0;4;90.00;71.00;2223.;16.5;75;Europe\\r\\nDatsun 710;24.0;4;119.0;97.00;2545.;17.0;75;Japan\\r\\nFord Pinto;18.0;6;171.0;97.00;2984.;14.5;75;US\\r\\nVolkswagen Rabbit;29.0;4;90.00;70.00;1937.;14.0;75;Europe\\r\\nAMC Pacer;19.0;6;232.0;90.00;3211.;17.0;75;US\\r\\nAudi 100LS;23.0;4;115.0;95.00;2694.;15.0;75;Europe\\r\\nPeugeot 504;23.0;4;120.0;88.00;2957.;17.0;75;Europe\\r\\nVolvo 244DL;22.0;4;121.0;98.00;2945.;14.5;75;Europe\\r\\nSaab 99LE;25.0;4;121.0;115.0;2671.;13.5;75;Europe\\r\\nHonda Civic CVCC;33.0;4;91.00;53.00;1795.;17.5;75;Japan\\r\\nFiat 131;28.0;4;107.0;86.00;2464.;15.5;76;Europe\\r\\nOpel 1900;25.0;4;116.0;81.00;2220.;16.9;76;Europe\\r\\nCapri ii;25.0;4;140.0;92.00;2572.;14.9;76;US\\r\\nDodge Colt;26.0;4;98.00;79.00;2255.;17.7;76;US\\r\\nRenault 12tl;27.0;4;101.0;83.00;2202.;15.3;76;Europe\\r\\nChevrolet Chevelle Malibu Classic;17.5;8;305.0;140.0;4215.;13.0;76;US\\r\\nDodge Coronet Brougham;16.0;8;318.0;150.0;4190.;13.0;76;US\\r\\nAMC Matador;15.5;8;304.0;120.0;3962.;13.9;76;US\\r\\nFord Gran Torino;14.5;8;351.0;152.0;4215.;12.8;76;US\\r\\nPlymouth Valiant;22.0;6;225.0;100.0;3233.;15.4;76;US\\r\\nChevrolet Nova;22.0;6;250.0;105.0;3353.;14.5;76;US\\r\\nFord Maverick;24.0;6;200.0;81.00;3012.;17.6;76;US\\r\\nAMC Hornet;22.5;6;232.0;90.00;3085.;17.6;76;US\\r\\nChevrolet Chevette;29.0;4;85.00;52.00;2035.;22.2;76;US\\r\\nChevrolet Woody;24.5;4;98.00;60.00;2164.;22.1;76;US\\r\\nVolkswagen Rabbit;29.0;4;90.00;70.00;1937.;14.2;76;Europe\\r\\nHonda Civic;33.0;4;91.00;53.00;1795.;17.4;76;Japan\\r\\nDodge Aspen SE;20.0;6;225.0;100.0;3651.;17.7;76;US\\r\\nFord Grenada ghia;18.0;6;250.0;78.00;3574.;21.0;76;US\\r\\nPontiac Ventura SJ;18.5;6;250.0;110.0;3645.;16.2;76;US\\r\\nAMC Pacer d/l;17.5;6;258.0;95.00;3193.;17.8;76;US\\r\\nVolkswagen Rabbit;29.5;4;97.00;71.00;1825.;12.2;76;Europe\\r\\nDatsun B-210;32.0;4;85.00;70.00;1990.;17.0;76;Japan\\r\\nToyota Corolla;28.0;4;97.00;75.00;2155.;16.4;76;Japan\\r\\nFord Pinto;26.5;4;140.0;72.00;2565.;13.6;76;US\\r\\nVolvo 245;20.0;4;130.0;102.0;3150.;15.7;76;Europe\\r\\nPlymouth Volare Premier v8;13.0;8;318.0;150.0;3940.;13.2;76;US\\r\\nPeugeot 504;19.0;4;120.0;88.00;3270.;21.9;76;Europe\\r\\nToyota Mark II;19.0;6;156.0;108.0;2930.;15.5;76;Japan\\r\\nMercedes-Benz 280s;16.5;6;168.0;120.0;3820.;16.7;76;Europe\\r\\nCadillac Seville;16.5;8;350.0;180.0;4380.;12.1;76;US\\r\\nChevrolet C10;13.0;8;350.0;145.0;4055.;12.0;76;US\\r\\nFord F108;13.0;8;302.0;130.0;3870.;15.0;76;US\\r\\nDodge D100;13.0;8;318.0;150.0;3755.;14.0;76;US\\r\\nHonda Accord CVCC;31.5;4;98.00;68.00;2045.;18.5;77;Japan\\r\\nBuick Opel Isuzu Deluxe;30.0;4;111.0;80.00;2155.;14.8;77;US\\r\\nRenault 5 GTL;36.0;4;79.00;58.00;1825.;18.6;77;Europe\\r\\nPlymouth Arrow GS;25.5;4;122.0;96.00;2300.;15.5;77;US\\r\\nDatsun F-10 Hatchback;33.5;4;85.00;70.00;1945.;16.8;77;Japan\\r\\nChevrolet Caprice Classic;17.5;8;305.0;145.0;3880.;12.5;77;US\\r\\nOldsmobile Cutlass Supreme;17.0;8;260.0;110.0;4060.;19.0;77;US\\r\\nDodge Monaco Brougham;15.5;8;318.0;145.0;4140.;13.7;77;US\\r\\nMercury Cougar Brougham;15.0;8;302.0;130.0;4295.;14.9;77;US\\r\\nChevrolet Concours;17.5;6;250.0;110.0;3520.;16.4;77;US\\r\\nBuick Skylark;20.5;6;231.0;105.0;3425.;16.9;77;US\\r\\nPlymouth Volare Custom;19.0;6;225.0;100.0;3630.;17.7;77;US\\r\\nFord Grenada;18.5;6;250.0;98.00;3525.;19.0;77;US\\r\\nPontiac Grand Prix LJ;16.0;8;400.0;180.0;4220.;11.1;77;US\\r\\nChevrolet Monte Carlo Landau;15.5;8;350.0;170.0;4165.;11.4;77;US\\r\\nChrysler Cordoba;15.5;8;400.0;190.0;4325.;12.2;77;US\\r\\nFord Thunderbird;16.0;8;351.0;149.0;4335.;14.5;77;US\\r\\nVolkswagen Rabbit Custom;29.0;4;97.00;78.00;1940.;14.5;77;Europe\\r\\nPontiac Sunbird Coupe;24.5;4;151.0;88.00;2740.;16.0;77;US\\r\\nToyota Corolla Liftback;26.0;4;97.00;75.00;2265.;18.2;77;Japan\\r\\nFord Mustang II 2+2;25.5;4;140.0;89.00;2755.;15.8;77;US\\r\\nChevrolet Chevette;30.5;4;98.00;63.00;2051.;17.0;77;US\\r\\nDodge Colt m/m;33.5;4;98.00;83.00;2075.;15.9;77;US\\r\\nSubaru DL;30.0;4;97.00;67.00;1985.;16.4;77;Japan\\r\\nVolkswagen Dasher;30.5;4;97.00;78.00;2190.;14.1;77;Europe\\r\\nDatsun 810;22.0;6;146.0;97.00;2815.;14.5;77;Japan\\r\\nBMW 320i;21.5;4;121.0;110.0;2600.;12.8;77;Europe\\r\\nMazda RX-4;21.5;3;80.00;110.0;2720.;13.5;77;Japan\\r\\nVolkswagen Rabbit Custom Diesel;43.1;4;90.00;48.00;1985.;21.5;78;Europe\\r\\nFord Fiesta;36.1;4;98.00;66.00;1800.;14.4;78;US\\r\\nMazda GLC Deluxe;32.8;4;78.00;52.00;1985.;19.4;78;Japan\\r\\nDatsun B210 GX;39.4;4;85.00;70.00;2070.;18.6;78;Japan\\r\\nHonda Civic CVCC;36.1;4;91.00;60.00;1800.;16.4;78;Japan\\r\\nOldsmobile Cutlass Salon Brougham;19.9;8;260.0;110.0;3365.;15.5;78;US\\r\\nDodge Diplomat;19.4;8;318.0;140.0;3735.;13.2;78;US\\r\\nMercury Monarch ghia;20.2;8;302.0;139.0;3570.;12.8;78;US\\r\\nPontiac Phoenix LJ;19.2;6;231.0;105.0;3535.;19.2;78;US\\r\\nChevrolet Malibu;20.5;6;200.0;95.00;3155.;18.2;78;US\\r\\nFord Fairmont (auto);20.2;6;200.0;85.00;2965.;15.8;78;US\\r\\nFord Fairmont (man);25.1;4;140.0;88.00;2720.;15.4;78;US\\r\\nPlymouth Volare;20.5;6;225.0;100.0;3430.;17.2;78;US\\r\\nAMC Concord;19.4;6;232.0;90.00;3210.;17.2;78;US\\r\\nBuick Century Special;20.6;6;231.0;105.0;3380.;15.8;78;US\\r\\nMercury Zephyr;20.8;6;200.0;85.00;3070.;16.7;78;US\\r\\nDodge Aspen;18.6;6;225.0;110.0;3620.;18.7;78;US\\r\\nAMC Concord d/l;18.1;6;258.0;120.0;3410.;15.1;78;US\\r\\nChevrolet Monte Carlo Landau;19.2;8;305.0;145.0;3425.;13.2;78;US\\r\\nBuick Regal Sport Coupe (turbo);17.7;6;231.0;165.0;3445.;13.4;78;US\\r\\nFord Futura;18.1;8;302.0;139.0;3205.;11.2;78;US\\r\\nDodge Magnum XE;17.5;8;318.0;140.0;4080.;13.7;78;US\\r\\nChevrolet Chevette;30.0;4;98.00;68.00;2155.;16.5;78;US\\r\\nToyota Corolla;27.5;4;134.0;95.00;2560.;14.2;78;Japan\\r\\nDatsun 510;27.2;4;119.0;97.00;2300.;14.7;78;Japan\\r\\nDodge Omni;30.9;4;105.0;75.00;2230.;14.5;78;US\\r\\nToyota Celica GT Liftback;21.1;4;134.0;95.00;2515.;14.8;78;Japan\\r\\nPlymouth Sapporo;23.2;4;156.0;105.0;2745.;16.7;78;US\\r\\nOldsmobile Starfire SX;23.8;4;151.0;85.00;2855.;17.6;78;US\\r\\nDatsun 200-SX;23.9;4;119.0;97.00;2405.;14.9;78;Japan\\r\\nAudi 5000;20.3;5;131.0;103.0;2830.;15.9;78;Europe\\r\\nVolvo 264gl;17.0;6;163.0;125.0;3140.;13.6;78;Europe\\r\\nSaab 99gle;21.6;4;121.0;115.0;2795.;15.7;78;Europe\\r\\nPeugeot 604sl;16.2;6;163.0;133.0;3410.;15.8;78;Europe\\r\\nVolkswagen Scirocco;31.5;4;89.00;71.00;1990.;14.9;78;Europe\\r\\nHonda Accord LX;29.5;4;98.00;68.00;2135.;16.6;78;Japan\\r\\nPontiac Lemans V6;21.5;6;231.0;115.0;3245.;15.4;79;US\\r\\nMercury Zephyr 6;19.8;6;200.0;85.00;2990.;18.2;79;US\\r\\nFord Fairmont 4;22.3;4;140.0;88.00;2890.;17.3;79;US\\r\\nAMC Concord DL 6;20.2;6;232.0;90.00;3265.;18.2;79;US\\r\\nDodge Aspen 6;20.6;6;225.0;110.0;3360.;16.6;79;US\\r\\nChevrolet Caprice Classic;17.0;8;305.0;130.0;3840.;15.4;79;US\\r\\nFord LTD Landau;17.6;8;302.0;129.0;3725.;13.4;79;US\\r\\nMercury Grand Marquis;16.5;8;351.0;138.0;3955.;13.2;79;US\\r\\nDodge St. Regis;18.2;8;318.0;135.0;3830.;15.2;79;US\\r\\nBuick Estate Wagon (sw);16.9;8;350.0;155.0;4360.;14.9;79;US\\r\\nFord Country Squire (sw);15.5;8;351.0;142.0;4054.;14.3;79;US\\r\\nChevrolet Malibu Classic (sw);19.2;8;267.0;125.0;3605.;15.0;79;US\\r\\nChrysler Lebaron Town @ Country (sw);18.5;8;360.0;150.0;3940.;13.0;79;US\\r\\nVolkswagen Rabbit Custom;31.9;4;89.00;71.00;1925.;14.0;79;Europe\\r\\nMazda GLC Deluxe;34.1;4;86.00;65.00;1975.;15.2;79;Japan\\r\\nDodge Colt Hatchback Custom;35.7;4;98.00;80.00;1915.;14.4;79;US\\r\\nAMC Spirit DL;27.4;4;121.0;80.00;2670.;15.0;79;US\\r\\nMercedes Benz 300d;25.4;5;183.0;77.00;3530.;20.1;79;Europe\\r\\nCadillac Eldorado;23.0;8;350.0;125.0;3900.;17.4;79;US\\r\\nPeugeot 504;27.2;4;141.0;71.00;3190.;24.8;79;Europe\\r\\nOldsmobile Cutlass Salon Brougham;23.9;8;260.0;90.00;3420.;22.2;79;US\\r\\nPlymouth Horizon;34.2;4;105.0;70.00;2200.;13.2;79;US\\r\\nPlymouth Horizon TC3;34.5;4;105.0;70.00;2150.;14.9;79;US\\r\\nDatsun 210;31.8;4;85.00;65.00;2020.;19.2;79;Japan\\r\\nFiat Strada Custom;37.3;4;91.00;69.00;2130.;14.7;79;Europe\\r\\nBuick Skylark Limited;28.4;4;151.0;90.00;2670.;16.0;79;US\\r\\nChevrolet Citation;28.8;6;173.0;115.0;2595.;11.3;79;US\\r\\nOldsmobile Omega Brougham;26.8;6;173.0;115.0;2700.;12.9;79;US\\r\\nPontiac Phoenix;33.5;4;151.0;90.00;2556.;13.2;79;US\\r\\nVolkswagen Rabbit;41.5;4;98.00;76.00;2144.;14.7;80;Europe\\r\\nToyota Corolla Tercel;38.1;4;89.00;60.00;1968.;18.8;80;Japan\\r\\nChevrolet Chevette;32.1;4;98.00;70.00;2120.;15.5;80;US\\r\\nDatsun 310;37.2;4;86.00;65.00;2019.;16.4;80;Japan\\r\\nChevrolet Citation;28.0;4;151.0;90.00;2678.;16.5;80;US\\r\\nFord Fairmont;26.4;4;140.0;88.00;2870.;18.1;80;US\\r\\nAMC Concord;24.3;4;151.0;90.00;3003.;20.1;80;US\\r\\nDodge Aspen;19.1;6;225.0;90.00;3381.;18.7;80;US\\r\\nAudi 4000;34.3;4;97.00;78.00;2188.;15.8;80;Europe\\r\\nToyota Corolla Liftback;29.8;4;134.0;90.00;2711.;15.5;80;Japan\\r\\nMazda 626;31.3;4;120.0;75.00;2542.;17.5;80;Japan\\r\\nDatsun 510 Hatchback;37.0;4;119.0;92.00;2434.;15.0;80;Japan\\r\\nToyota Corolla;32.2;4;108.0;75.00;2265.;15.2;80;Japan\\r\\nMazda GLC;46.6;4;86.00;65.00;2110.;17.9;80;Japan\\r\\nDodge Colt;27.9;4;156.0;105.0;2800.;14.4;80;US\\r\\nDatsun 210;40.8;4;85.00;65.00;2110.;19.2;80;Japan\\r\\nVolkswagen Rabbit C (Diesel);44.3;4;90.00;48.00;2085.;21.7;80;Europe\\r\\nVolkswagen Dasher (diesel);43.4;4;90.00;48.00;2335.;23.7;80;Europe\\r\\nAudi 5000s (diesel);36.4;5;121.0;67.00;2950.;19.9;80;Europe\\r\\nMercedes-Benz 240d;30.0;4;146.0;67.00;3250.;21.8;80;Europe\\r\\nHonda Civic 1500 gl;44.6;4;91.00;67.00;1850.;13.8;80;Japan\\r\\nRenault Lecar Deluxe;40.9;4;85.00;0;1835.;17.3;80;Europe\\r\\nSubaru DL;33.8;4;97.00;67.00;2145.;18.0;80;Japan\\r\\nVolkswagen Rabbit;29.8;4;89.00;62.00;1845.;15.3;80;Europe\\r\\nDatsun 280-ZX;32.7;6;168.0;132.0;2910.;11.4;80;Japan\\r\\nMazda RX-7 GS;23.7;3;70.00;100.0;2420.;12.5;80;Japan\\r\\nTriumph TR7 Coupe;35.0;4;122.0;88.00;2500.;15.1;80;Europe\\r\\nFord Mustang Cobra;23.6;4;140.0;0;2905.;14.3;80;US\\r\\nHonda Accord;32.4;4;107.0;72.00;2290.;17.0;80;Japan\\r\\nPlymouth Reliant;27.2;4;135.0;84.00;2490.;15.7;81;US\\r\\nBuick Skylark;26.6;4;151.0;84.00;2635.;16.4;81;US\\r\\nDodge Aries Wagon (sw);25.8;4;156.0;92.00;2620.;14.4;81;US\\r\\nChevrolet Citation;23.5;6;173.0;110.0;2725.;12.6;81;US\\r\\nPlymouth Reliant;30.0;4;135.0;84.00;2385.;12.9;81;US\\r\\nToyota Starlet;39.1;4;79.00;58.00;1755.;16.9;81;Japan\\r\\nPlymouth Champ;39.0;4;86.00;64.00;1875.;16.4;81;US\\r\\nHonda Civic 1300;35.1;4;81.00;60.00;1760.;16.1;81;Japan\\r\\nSubaru;32.3;4;97.00;67.00;2065.;17.8;81;Japan\\r\\nDatsun 210 MPG;37.0;4;85.00;65.00;1975.;19.4;81;Japan\\r\\nToyota Tercel;37.7;4;89.00;62.00;2050.;17.3;81;Japan\\r\\nMazda GLC 4;34.1;4;91.00;68.00;1985.;16.0;81;Japan\\r\\nPlymouth Horizon 4;34.7;4;105.0;63.00;2215.;14.9;81;US\\r\\nFord Escort 4W;34.4;4;98.00;65.00;2045.;16.2;81;US\\r\\nFord Escort 2H;29.9;4;98.00;65.00;2380.;20.7;81;US\\r\\nVolkswagen Jetta;33.0;4;105.0;74.00;2190.;14.2;81;Europe\\r\\nRenault 18i;34.5;4;100.0;0;2320.;15.8;81;Europe\\r\\nHonda Prelude;33.7;4;107.0;75.00;2210.;14.4;81;Japan\\r\\nToyota Corolla;32.4;4;108.0;75.00;2350.;16.8;81;Japan\\r\\nDatsun 200SX;32.9;4;119.0;100.0;2615.;14.8;81;Japan\\r\\nMazda 626;31.6;4;120.0;74.00;2635.;18.3;81;Japan\\r\\nPeugeot 505s Turbo Diesel;28.1;4;141.0;80.00;3230.;20.4;81;Europe\\r\\nSaab 900s;0;4;121.0;110.0;2800.;15.4;81;Europe\\r\\nVolvo Diesel;30.7;6;145.0;76.00;3160.;19.6;81;Europe\\r\\nToyota Cressida;25.4;6;168.0;116.0;2900.;12.6;81;Japan\\r\\nDatsun 810 Maxima;24.2;6;146.0;120.0;2930.;13.8;81;Japan\\r\\nBuick Century;22.4;6;231.0;110.0;3415.;15.8;81;US\\r\\nOldsmobile Cutlass LS;26.6;8;350.0;105.0;3725.;19.0;81;US\\r\\nFord Grenada gl;20.2;6;200.0;88.00;3060.;17.1;81;US\\r\\nChrysler Lebaron Salon;17.6;6;225.0;85.00;3465.;16.6;81;US\\r\\nChevrolet Cavalier;28.0;4;112.0;88.00;2605.;19.6;82;US\\r\\nChevrolet Cavalier Wagon;27.0;4;112.0;88.00;2640.;18.6;82;US\\r\\nChevrolet Cavalier 2-door;34.0;4;112.0;88.00;2395.;18.0;82;US\\r\\nPontiac J2000 SE Hatchback;31.0;4;112.0;85.00;2575.;16.2;82;US\\r\\nDodge Aries SE;29.0;4;135.0;84.00;2525.;16.0;82;US\\r\\nPontiac Phoenix;27.0;4;151.0;90.00;2735.;18.0;82;US\\r\\nFord Fairmont Futura;24.0;4;140.0;92.00;2865.;16.4;82;US\\r\\nAMC Concord DL;23.0;4;151.0;0;3035.;20.5;82;US\\r\\nVolkswagen Rabbit l;36.0;4;105.0;74.00;1980.;15.3;82;Europe\\r\\nMazda GLC Custom l;37.0;4;91.00;68.00;2025.;18.2;82;Japan\\r\\nMazda GLC Custom;31.0;4;91.00;68.00;1970.;17.6;82;Japan\\r\\nPlymouth Horizon Miser;38.0;4;105.0;63.00;2125.;14.7;82;US\\r\\nMercury Lynx l;36.0;4;98.00;70.00;2125.;17.3;82;US\\r\\nNissan Stanza XE;36.0;4;120.0;88.00;2160.;14.5;82;Japan\\r\\nHonda Accord;36.0;4;107.0;75.00;2205.;14.5;82;Japan\\r\\nToyota Corolla;34.0;4;108.0;70.00;2245;16.9;82;Japan\\r\\nHonda Civic;38.0;4;91.00;67.00;1965.;15.0;82;Japan\\r\\nHonda Civic (auto);32.0;4;91.00;67.00;1965.;15.7;82;Japan\\r\\nDatsun 310 GX;38.0;4;91.00;67.00;1995.;16.2;82;Japan\\r\\nBuick Century Limited;25.0;6;181.0;110.0;2945.;16.4;82;US\\r\\nOldsmobile Cutlass Ciera (diesel);38.0;6;262.0;85.00;3015.;17.0;82;US\\r\\nChrysler Lebaron Medallion;26.0;4;156.0;92.00;2585.;14.5;82;US\\r\\nFord Grenada l;22.0;6;232.0;112.0;2835;14.7;82;US\\r\\nToyota Celica GT;32.0;4;144.0;96.00;2665.;13.9;82;Japan\\r\\nDodge Charger 2.2;36.0;4;135.0;84.00;2370.;13.0;82;US\\r\\nChevrolet Camaro;27.0;4;151.0;90.00;2950.;17.3;82;US\\r\\nFord Mustang GL;27.0;4;140.0;86.00;2790.;15.6;82;US\\r\\nVolkswagen Pickup;44.0;4;97.00;52.00;2130.;24.6;82;Europe\\r\\nDodge Rampage;32.0;4;135.0;84.00;2295.;11.6;82;US\\r\\nFord Ranger;28.0;4;120.0;79.00;2625.;18.6;82;US\\r\\nChevy S-10;31.0;4;119.0;82.00;2720.;19.4;82;US\\r\\n\"\n"
     ]
    }
   ],
   "source": [
    "import urllib.request\n",
    "\n",
    "def retrieve_page(url):\n",
    "    \"\"\"\n",
    "    The content is converting to a string before returning it.\n",
    "    Retrieve the contents of the webpage.\n",
    "    \n",
    "    \"\"\"\n",
    "    my_socket = urllib.request.urlopen(url)\n",
    "    dta = str(my_socket.read())\n",
    "    my_socket.close()\n",
    "    return dta\n",
    "\n",
    "the_text = retrieve_page(\"https://perso.telecom-paristech.fr/eagan/class/igr204/data/cars.csv\")\n",
    "print(the_text)"
   ]
  },
  {
   "cell_type": "code",
   "execution_count": null,
   "metadata": {},
   "outputs": [],
   "source": []
  }
 ],
 "metadata": {
  "kernelspec": {
   "display_name": "Python 3",
   "language": "python",
   "name": "python3"
  },
  "language_info": {
   "codemirror_mode": {
    "name": "ipython",
    "version": 3
   },
   "file_extension": ".py",
   "mimetype": "text/x-python",
   "name": "python",
   "nbconvert_exporter": "python",
   "pygments_lexer": "ipython3",
   "version": "3.7.4"
  }
 },
 "nbformat": 4,
 "nbformat_minor": 2
}
