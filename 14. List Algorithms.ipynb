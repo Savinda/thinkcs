{
 "cells": [
  {
   "cell_type": "code",
   "execution_count": 283,
   "metadata": {},
   "outputs": [],
   "source": [
    "from unit_tester import test"
   ]
  },
  {
   "cell_type": "code",
   "execution_count": 284,
   "metadata": {},
   "outputs": [
    {
     "name": "stdout",
     "output_type": "stream",
     "text": [
      "Test at line 2 ok.\n",
      "Test at line 3 ok.\n",
      "Test at line 4 ok.\n",
      "Test at line 5 ok.\n"
     ]
    }
   ],
   "source": [
    "friends = [\"Joe\", \"Zoe\", \"Brad\", \"Angelina\", \"Zuki\", \"Thandi\", \"Paris\"]\n",
    "test(search_linear(friends, \"Zoe\") == 1)\n",
    "test(search_linear(friends, \"Joe\") == 0)\n",
    "test(search_linear(friends, \"Paris\") == 6)\n",
    "test(search_linear(friends, \"Bill\") == -1)"
   ]
  },
  {
   "cell_type": "code",
   "execution_count": 285,
   "metadata": {},
   "outputs": [],
   "source": [
    "def search_linear(xs, target):\n",
    "    \"\"\"Find and return the index of target in sequence xs\"\"\"\n",
    "    for (i, v) in enumerate(xs):\n",
    "        if v == target:\n",
    "            return i\n",
    "    return -1"
   ]
  },
  {
   "cell_type": "code",
   "execution_count": 286,
   "metadata": {},
   "outputs": [
    {
     "name": "stdout",
     "output_type": "stream",
     "text": [
      "Test at line 4 ok.\n",
      "Test at line 5 ok.\n",
      "Test at line 6 ok.\n"
     ]
    }
   ],
   "source": [
    "vocab = [\"apple\", \"boy\", \"dog\", \"down\", \"fell\", \"girl\", \"grass\", \"the\", \"tree\"]\n",
    "book_words = \"the apple fell from the tree to the grass\".split()\n",
    "\n",
    "test(find_unknown_words(vocab, book_words) == [\"from\", \"to\"])\n",
    "test(find_unknown_words([], book_words) == book_words)\n",
    "test(find_unknown_words(vocab, [\"the\", \"boy\", \"fell\"]) == [])"
   ]
  },
  {
   "cell_type": "code",
   "execution_count": 287,
   "metadata": {},
   "outputs": [],
   "source": [
    "def find_unknown_words(vocab, wds):\n",
    "    \"\"\"Return a list of words in wds that do not occur in vocab\"\"\"\n",
    "    result = []\n",
    "    for w in wds:\n",
    "        if (search_binary(vocab, w) < 0):\n",
    "            result.append(w)\n",
    "    return result"
   ]
  },
  {
   "cell_type": "code",
   "execution_count": 288,
   "metadata": {},
   "outputs": [],
   "source": [
    "def load_words_from_file(filename):\n",
    "    \"\"\"Read words from filename, return list of words\"\"\"\n",
    "    f = open(filename, \"r\")\n",
    "    file_content = f.read()\n",
    "    f.close()\n",
    "    \n",
    "    wds = file_content.split()\n",
    "    return wds"
   ]
  },
  {
   "cell_type": "code",
   "execution_count": 289,
   "metadata": {},
   "outputs": [
    {
     "name": "stdout",
     "output_type": "stream",
     "text": [
      "There are 19455 words in the vocab, starting with\n",
      " ['a', 'aback', 'abacus', 'abandon', 'abandoned', 'abandonment']\n"
     ]
    }
   ],
   "source": [
    "bigger_vocab = load_words_from_file(\"vocab.txt\")\n",
    "print(\"There are {0} words in the vocab, starting with\\n {1}\".format(len(bigger_vocab), bigger_vocab[:6]))"
   ]
  },
  {
   "cell_type": "code",
   "execution_count": 290,
   "metadata": {},
   "outputs": [
    {
     "name": "stdout",
     "output_type": "stream",
     "text": [
      "Test at line 1 ok.\n",
      "Test at line 2 ok.\n"
     ]
    }
   ],
   "source": [
    "test(text_to_words(\"My name is Earl!\") == [\"my\", \"name\", \"is\", \"earl\"])\n",
    "test(text_to_words('\"Well, I never!\", said Alice.') == [\"well\", \"i\", \"never\", \"said\", \"alice\"])"
   ]
  },
  {
   "cell_type": "code",
   "execution_count": 291,
   "metadata": {},
   "outputs": [],
   "source": [
    "def text_to_words(the_text):\n",
    "    \"\"\"return a list of words with all punctuation removed,\n",
    "    and all in lowercase\"\"\"\n",
    "    \n",
    "    my_substitutions = the_text.maketrans(\n",
    "    # if find any of these\n",
    "        \"ABCDEFGHIJKLMNOPQRSTUVWXYZ0123456789!\\\"#$%&()*+,-./:;<=>?@[]^_`{|}~'\\\\\",\n",
    "    # replace them with these\n",
    "        \"abcdefghijklmnopqrstuvwxyz                                          \")\n",
    "    \n",
    "    # Translate the text now\n",
    "    cleaned_text = the_text.translate(my_substitutions)\n",
    "    wds = cleaned_text.split()\n",
    "    return wds"
   ]
  },
  {
   "cell_type": "code",
   "execution_count": 292,
   "metadata": {},
   "outputs": [],
   "source": [
    "def get_words_in_book(filename):\n",
    "    \"\"\"Read a book from filename, and return a list of its words.\"\"\"\n",
    "    f = open(filename, \"r\")\n",
    "    content = f.read()\n",
    "    f.close()\n",
    "    \n",
    "    wds = text_to_words(content)\n",
    "    return wds"
   ]
  },
  {
   "cell_type": "code",
   "execution_count": 293,
   "metadata": {},
   "outputs": [
    {
     "name": "stdout",
     "output_type": "stream",
     "text": [
      "There are 27336 words in the book, first 100 are \n",
      "['alice', 's', 'adventures', 'in', 'wonderland', 'lewis', 'carroll', 'chapter', 'i', 'down', 'the', 'rabbit', 'hole', 'alice', 'was', 'beginning', 'to', 'get', 'very', 'tired', 'of', 'sitting', 'by', 'her', 'sister', 'on', 'the', 'bank', 'and', 'of', 'having', 'nothing', 'to', 'do', 'once', 'or', 'twice', 'she', 'had', 'peeped', 'into', 'the', 'book', 'her', 'sister', 'was', 'reading', 'but', 'it', 'had', 'no', 'pictures', 'or', 'conversations', 'in', 'it', 'and', 'what', 'is', 'the', 'use', 'of', 'a', 'book', 'thought', 'alice', 'without', 'pictures', 'or', 'conversation', 'so', 'she', 'was', 'considering', 'in', 'her', 'own', 'mind', 'as', 'well', 'as', 'she', 'could', 'for', 'the', 'hot', 'day', 'made', 'her', 'feel', 'very', 'sleepy', 'and', 'stupid', 'whether', 'the', 'pleasure', 'of', 'making', 'a']\n"
     ]
    }
   ],
   "source": [
    "book_words = get_words_in_book(\"alice_in_wonderland.txt\")\n",
    "print(\"There are {0} words in the book, first 100 are \\n{1}\".format(len(book_words), book_words[:100]))"
   ]
  },
  {
   "cell_type": "code",
   "execution_count": 294,
   "metadata": {},
   "outputs": [
    {
     "name": "stdout",
     "output_type": "stream",
     "text": [
      "['alice', 's', 'adventures', 'wonderland', 'lewis', 'carroll', 'alice', 'having', 'peeped', 'pictures', 'conversations', 'alice', 'pictures', 'getting', 'picking', 'daisies', 'eyes', 'alice', 'occurred', 'ought', 'wondered', 'seemed', 'waistcoat', 'looked', 'alice', 'started', 'flashed', 'waistcoat', 'alice', 'dipped', 'alice', 'stopping', 'falling', 'tried', 'looked', 'sides', 'noticed', 'filled', 'cupboards', 'maps', 'pictures', 'pegs', 'passed', 'labelled', 'managed', 'cupboards', 'alice', 'tumbling', 'll', 'wouldn', 't', 've', 'getting', 'centre', 'alice', 'learnt', 'lessons', 'schoolroom', 's', 've', 'alice', 'words', 'll', 'antipathies', 'listening', 'didn', 't', 'ma', 'zealand', 'tried', 'curtsey', 'curtseying', 'falling', 'll', 'asking', 'll', 'alice', 'talking', 'dinah', 'll', 'dinah', 'll', 'dinah', 'm', 's', 'cats', 'bats', 'alice', 'cats', 'bats', 'cats', 'bats', 'bats', 'cats', 'couldn', 't', 'didn', 't', 'dozing', 'walking', 'dinah', 'dinah', 'alice', 'jumped', 'looked', 'hurrying', 'alice', 'turned', 'ears', 's', 'getting', 'turned', 'longer', 'lamps', 'doors', 'locked', 'alice', 'walked', 'wondering', 'legged', 'alice', 's', 'doors', 'locks', 'noticed', 'inches', 'tried', 'alice', 'opened', 'larger', 'looked', 'loveliest', 'longed', 'beds', 'flowers', 'fountains', 'alice', 'shoulders', 'happened', 'alice', 'seemed', 'waiting', 'hoping', 'rules', 'shutting', 'telescopes', 'alice', 'words', 'printed', 'letters', 'alice', 'll', 's', 'histories', 'beasts', 'rules', 'friends', 'bleeds', 'sooner', 'alice', 'ventured', 'flavour', 'buttered', 'alice', 'shutting', 'inches', 'brightened', 'waited', 'alice', 'tried', 'having', 'happened', 'alice', 'tried', 'legs', 'cried', 's', 'alice', 'followed', 'scolded', 'tears', 'eyes', 'remembered', 'ears', 'having', 'cheated', 'playing', 'pretending', 's', 'alice', 's', 'opened', 'words', 'currants', 'll', 'alice', 'makes', 'larger', 'makes', 'smaller', 'll', 'don', 't', 'happens', 'growing', 'remained', 'happens', 'eats', 'alice', 'expecting', 'seemed', 'ii', 'tears', 'curiouser', 'curiouser', 'cried', 'alice', 'm', 'largest', 'looked', 'seemed', 'getting', 'shoes', 'stockings', 'dears', 'm', 'shan', 't', 'alice', 't', 'll', 'boots', 'll', 'sending', 'presents', 's', 'alice', 's', 'esq', 'hearthrug', 'alice', 's', 'm', 'talking', 'alice', 'ought', 'alice', 'shedding', 'gallons', 'tears', 'inches', 'reaching', 'pattering', 'eyes', 'returning', 'dressed', 'gloves', 'trotting', 'muttering', 't', 've', 'waiting', 'alice', 'started', 'dropped', 'gloves', 'skurried', 'alice', 'gloves', 'fanning', 'talking', 've', 'changed', 'm', 's', 'changed', 'm', 'm', 'ada', 'goes', 'ringlets', 'doesn', 't', 'ringlets', 'm', 't', 'mabel', 'sorts', 'knows', 's', 'm', 'puzzling', 'll', 'doesn', 't', 's', 'london', 'paris', 'paris', 'rome', 'rome', 's', 'm', 'changed', 'mabel', 'll', 'doth', 'crossed', 'hands', 'lessons', 'sounded', 'words', 'doth', 'shining', 'nile', 'seems', 'claws', 'fishes', 'smiling', 'm', 'words', 'alice', 'eyes', 'filled', 'tears', 'mabel', 'toys', 'lessons', 've', 'm', 'mabel', 'll', 'll', 'putting', 'll', 'll', 'm', 'cried', 'alice', 'tears', 'looked', 'hands', 's', 'gloves', 'talking', 'growing', 'shrinking', 'dropped', 'shrinking', 'alice', 's', 'words', 'slipped', 'railway', 'alice', 'bathing', 'machines', 'digging', 'houses', 'railway', 'tears', 'hadn', 't', 'cried', 'alice', 'punished', 'drowned', 'tears', 'splashing', 'nearer', 'remembered', 'slipped', 'alice', 's', 'o', 'o', 'alice', 'speaking', 'remembered', 'having', 's', 'o', 'looked', 'inquisitively', 'seemed', 'eyes', 'doesn', 't', 'alice', 'daresay', 's', 'william', 'alice', 'happened', 'ou', 'est', 'ma', 'chatte', 'seemed', 'cried', 'alice', 's', 'didn', 't', 'cats', 'cats', 'cried', 'cats', 'alice', 'don', 't', 'dinah', 'd', 'cats', 'alice', 'sits', 'purring', 'paws', 's', 'cried', 'alice', 'bristling', 'offended', 't', 'd', 'cried', 'trembling', 'cats', 'don', 't', 't', 'alice', 'dogs', 'alice', 'eyed', 'll', 'll', 'sorts', 't', 'belongs', 'says', 's', 's', 'pounds', 'says', 'kills', 'rats', 'cried', 'alice', 'm', 've', 'offended', 'called', 't', 'cats', 'dogs', 'don', 't', 'turned', 'alice', 'trembling', 'll', 'll', 'cats', 'dogs', 'getting', 'birds', 'animals', 'dodo', 'lory', 'eaglet', 'creatures', 'alice', 'iii', 'looking', 'assembled', 'birds', 'draggled', 'feathers', 'animals', 'dripping', 'seemed', 'alice', 'talking', 'lory', 'turned', 'older', 'alice', 'lory', 'refused', 'seemed', 'called', 'll', 'alice', 'eyes', 'ahem', 'driest', 'william', 'favoured', 'submitted', 'leaders', 'usurpation', 'edwin', 'morcar', 'earls', 'mercia', 'northumbria', 'lory', 'frowning', 'lory', 'edwin', 'morcar', 'earls', 'mercia', 'northumbria', 'declared', 'stigand', 'canterbury', 'replied', 'crossly', 's', 'edgar', 'atheling', 'william', 'william', 's', 'normans', 'getting', 'turning', 'alice', 'alice', 'doesn', 't', 'dodo', 'rising', 'remedies', 'eaglet', 'don', 't', 'words', 's', 'don', 't', 'eaglet', 'birds', 'tittered', 'dodo', 'offended', 'alice', 'dodo', 'paused', 'ought', 'seemed', 'dodo', 'dodo', 'managed', 'doesn', 't', 'placed', 'liked', 'liked', 'dodo', 'called', 'panting', 'asking', 'dodo', 'shakespeare', 'pictures', 'waited', 'dodo', 'prizes', 'prizes', 'voices', 'asked', 'dodo', 'pointing', 'alice', 'prizes', 'prizes', 'alice', 'pulled', 'comfits', 'handed', 'prizes', 'dodo', 'replied', 'turning', 'alice', 'alice', 'dodo', 'dodo', 'presented', 'cheered', 'alice', 'looked', 'bowed', 'looking', 'comfits', 'caused', 'birds', 'complained', 'ones', 'choked', 'patted', 'begged', 'promised', 'alice', 'c', 'd', 'added', 'offended', 'turning', 'alice', 'sighing', 'alice', 'looking', 's', 'puzzling', 'speaking', 'll', 've', 'cur', 'wasting', 'll', 'll', 'll', 'attending', 'alice', 'alice', 'cried', 'alice', 'looking', 'getting', 'walking', 'talking', 'didn', 't', 'pleaded', 'alice', 'offended', 'growled', 'alice', 'called', 'others', 'joined', 'walked', 'quicker', 'wouldn', 't', 'sighed', 'lory', 'ma', 'snappishly', 'dinah', 'alice', 'addressing', 'd', 'dinah', 'lory', 'alice', 'replied', 'dinah', 's', 's', 't', 'birds', 'll', 'caused', 'birds', 'remarking', 'getting', 'doesn', 't', 'called', 'trembling', 'dears', 's', 'pretexts', 'moved', 'alice', 'hadn', 't', 'mentioned', 'dinah', 'seems', 'm', 's', 'dinah', 'alice', 'pattering', 'footsteps', 'looked', 'hoping', 'changed', 'sends', 'trotting', 'looking', 'muttering', 'paws', 'll', 'executed', 'ferrets', 'ferrets', 'dropped', 'alice', 'guessed', 'looking', 'gloves', 'naturedly', 'seemed', 'changed', 'vanished', 'noticed', 'alice', 'called', 'mary', 'ann', 'doing', 'gloves', 'alice', 'housemaid', 'll', 'finds', 'd', 'gloves', 'w', 'engraved', 'knocking', 'lest', 'mary', 'ann', 'turned', 'gloves', 'seems', 'alice', 'messages', 'dinah', 'll', 'sending', 'messages', 'fancying', 'alice', 've', 'doesn', 't', 'don', 't', 'alice', 'd', 'dinah', 'ordering', 'hoped', 'pairs', 'gloves', 'gloves', 'looking', 'words', 'uncorked', 'lips', 'll', 'll', 'm', 'sooner', 'expected', 's', 'shan', 't', 't', 'hadn', 't', 'growing', 'growing', 'tried', 'curled', 'growing', 'happens', 'alice', 'larger', 'seemed', 'getting', 'pleasanter', 'alice', 'wasn', 't', 'growing', 'larger', 'smaller', 'ordered', 'rabbits', 'hadn', 't', 's', 'happened', 'tales', 'fancied', 'happened', 'ought', 'ought', 'll', 'm', 'added', 's', 'alice', 'older', 'll', 'lessons', 'shouldn', 't', 'alice', 'answered', 'lessons', 's', 'stopped', 'mary', 'ann', 'mary', 'ann', 'gloves', 'pattering', 'alice', 'trembled', 'forgetting', 'tried', 'opened', 'alice', 's', 'proved', 'alice', 'll', 't', 'alice', 'waiting', 'fancied', 'concluded', 's', 'm', 'digging', 'apples', 'yer', 'honour', 'digging', 'apples', 'sounds', 's', 's', 'yer', 'honour', 'arrum', 'fills', 'yer', 'honour', 's', 's', 'alice', 'whispers', 'don', 't', 'yer', 'honour', 'shrieks', 'sounds', 'frames', 'alice', 'll', 'pulling', 'm', 'don', 't', 'longer', 'waited', 'rumbling', 'cartwheels', 'voices', 'talking', 'words', 's', 'hadn', 't', 's', 'em', 'em', 'don', 't', 'll', 'don', 't', 's', 's', 'nay', 'shan', 't', 't', 's', 'says', 's', 'alice', 'wouldn', 't', 's', 'waited', 'couldn', 't', 'scratching', 'scrambling', 'waited', 'goes', 's', 'voices', 'don', 't', 'happened', 'squeaking', 's', 'alice', 'ye', 'm', 'm', 'comes', 'goes', 'others', 's', 'alice', 'called', 'll', 'dinah', 'alice', 'd', 'alice', 'barrowful', 'barrowful', 'alice', 'pebbles', 'rattling', 'll', 'shouted', 'd', 'produced', 'alice', 'noticed', 'pebbles', 'turning', 'cakes', 'cakes', 's', 't', 'larger', 'smaller', 'swallowed', 'cakes', 'shrinking', 'animals', 'birds', 'waiting', 'guinea', 'pigs', 'giving', 'alice', 'appeared', 've', 'alice', 'wandered', 'sounded', 'arranged', 'smallest', 'peering', 'trees', 'looking', 'eyes', 'feebly', 'stretching', 'alice', 'coaxing', 'tried', 'coaxing', 'picked', 'jumped', 'rushed', 'alice', 'dodged', 'appeared', 'tumbled', 'alice', 'having', 'expecting', 'trampled', 'charges', 'barking', 'panting', 'eyes', 'seemed', 'alice', 's', 'sounded', 'alice', 'leant', 'fanned', 'liked', 'tricks', 'd', 'd', 've', 'managed', 'ought', 'alice', 'looked', 'flowers', 'blades', 'looked', 'growing', 'looked', 'sides', 'occurred', 'stretched', 'peeped', 'eyes', 'folded', 'hookah', 'smallest', 'v', 'alice', 'looked', 'hookah', 'addressed', 'alice', 'replied', 'changed', 't', 'm', 'alice', 'm', 'don', 't', 'm', 't', 'alice', 'replied', 't', 'sizes', 'isn', 't', 't', 'alice', 'chrysalis', 'll', 't', 'alice', 'contemptuously', 'alice', 'irritated', 's', 'remarks', 'ought', 'puzzling', 'alice', 'seemed', 'turned', 'called', 've', 'sounded', 'alice', 'turned', 'alice', 'swallowing', 'alice', 'puffed', 'speaking', 'unfolded', 'hookah', 'changed', 'm', 'alice', 't', 'don', 't', 't', 've', 'tried', 'doth', 'alice', 'replied', 'william', 'alice', 'folded', 'hands', 'william', 'william', 'replied', 'feared', 'm', 'mentioned', 'turned', 'grey', 'locks', 'limbs', 'shilling', 'tougher', 'suet', 'bones', 'argued', 'lasted', 'answered', 'questions', 'don', 't', 'll', 'm', 'alice', 'words', 'altered', 'asked', 'm', 'alice', 'replied', 'doesn', 't', 'changing', 'don', 't', 'alice', 'contradicted', 'losing', 'larger', 'wouldn', 't', 'alice', 'inches', 'rearing', 'inches', 'm', 'pleaded', 'alice', 'creatures', 'wouldn', 't', 'offended', 'll', 'hookah', 'alice', 'waited', 'hookah', 'yawned', 'crawled', 'remarking', 'taller', 'shorter', 'alice', 'asked', 'alice', 'remained', 'looking', 'sides', 'stretched', 'nibbled', 'shrinking', 'managed', 'lefthand', 's', 'alice', 'changed', 'shoulders', 'looked', 'seemed', 'alice', 'shoulders', 'hands', 't', 'seemed', 'shaking', 'seemed', 'getting', 'hands', 'tried', 'succeeded', 'curving', 'tops', 'trees', 'wandering', 'screamed', 'm', 'alice', 'added', 've', 'tried', 'seems', 't', 'talking', 'alice', 've', 'tried', 'trees', 've', 'tried', 'banks', 've', 'tried', 'hedges', 'attending', 'serpents', 's', 'alice', 'wasn', 't', 'hatching', 'eggs', 'serpents', 't', 'weeks', 'm', 've', 'alice', 'd', 'highest', 'raising', 'wriggling', 'm', 'alice', 'm', 'm', 'm', 'alice', 'remembered', 'changes', 'deepest', 've', 'girls', 's', 'denying', 'll', 'tasted', 'tasted', 'eggs', 'alice', 'girls', 'eggs', 'serpents', 'don', 't', 's', 'alice', 'adding', 'looking', 'eggs', 'matters', 'alice', 'm', 'looking', 'eggs', 'happens', 'shouldn', 't', 'don', 't', 'alice', 'crouched', 'trees', 'getting', 'branches', 'untwist', 'remembered', 'pieces', 'hands', 'nibbling', 'growing', 'taller', 'shorter', 'succeeded', 'bringing', 'talking', 's', 'puzzling', 'changes', 'm', 'm', 've', 'alice', 'll', 'nibbling', 'righthand', 'inches', 'vi', 'looking', 'wondering', 'footman', 'livery', 'considered', 'footman', 'livery', 'judging', 'called', 'rapped', 'knuckles', 'opened', 'footman', 'livery', 'eyes', 'footmen', 'alice', 'noticed', 'curled', 'footman', 'producing', 'handed', 'footman', 'changing', 'words', 'bowed', 'curls', 'alice', 'laughed', 'peeped', 'footman', 'staring', 'alice', 'knocked', 's', 'knocking', 'footman', 'reasons', 'm', 'howling', 'sneezing', 'pieces', 'alice', 'knocking', 'footman', 'attending', 'looking', 'speaking', 'alice', 'uncivil', 't', 'eyes', 'questions', 'footman', 'remarked', 'opened', 'skimming', 'footman', 's', 'grazed', 'pieces', 'trees', 'footman', 'happened', 'asked', 'alice', 'louder', 'footman', 's', 'alice', 's', 'muttered', 'creatures', 's', 'footman', 'seemed', 'repeating', 'variations', 'alice', 'footman', 'whistling', 's', 'talking', 'alice', 's', 'opened', 'legged', 'stirring', 'cauldron', 'seemed', 's', 'alice', 'sneezing', 'sneezed', 'sneezing', 'howling', 's', 'grinning', 'alice', 'grins', 's', 'cheshire', 's', 'alice', 'jumped', 'addressed', 'didn', 't', 'cheshire', 'cats', 'grinned', 'didn', 't', 'cats', 'em', 'don', 't', 'alice', 'don', 't', 's', 'alice', 'cauldron', 'throwing', 'irons', 'followed', 'saucepans', 'plates', 'dishes', 'howling', 'blows', 'doing', 'cried', 'alice', 'jumping', 'goes', 'carried', 'minded', 'faster', 'alice', 'takes', 'talking', 'alice', 'glanced', 'stirring', 'seemed', 'listening', 'don', 't', 'figures', 'giving', 'sneezes', 'knows', 'teases', 'joined', 'tossing', 'howled', 'alice', 'words', 'sneezes', 'pleases', 'alice', 'flinging', 'frying', 'missed', 'alice', 'shaped', 'legs', 'alice', 'snorting', 'doubling', 'straightening', 'carried', 'don', 't', 'alice', 'wouldn', 't', 'words', 'grunted', 'sneezing', 'don', 't', 'alice', 's', 'expressing', 'grunted', 'alice', 'looked', 'eyes', 'getting', 'alice', 'sobbing', 'looked', 'eyes', 'tears', 'tears', 'alice', 'll', 'sobbed', 'grunted', 'alice', 'grunted', 'looked', 'makes', 'pigs', 'seeing', 'cheshire', 'yards', 'grinned', 'alice', 'looked', 'natured', 'claws', 'ought', 'treated', 'cheshire', 'puss', 'grinned', 'wider', 's', 'alice', 'ought', 'depends', 'don', 't', 'alice', 'doesn', 't', 'alice', 'added', 'alice', 'denied', 'tried', 'waving', 'hatter', 'waving', 'don', 't', 'alice', 'remarked', 't', 'm', 'm', 'alice', 'wouldn', 't', 'alice', 'didn', 't', 'proved', 's', 'alice', 'growls', 's', 'wags', 's', 'm', 'm', 'm', 'purring', 'growling', 'alice', 'alice', 't', 'invited', 'll', 'vanished', 'alice', 'getting', 'looking', 'appeared', 'd', 'turned', 'alice', 'vanished', 'alice', 'waited', 'expecting', 'walked', 've', 'hatters', 't', 'looked', 'replied', 'alice', 'wouldn', 't', 'appearing', 'vanished', 'remained', 've', 'alice', 's', 'chimneys', 'shaped', 'ears', 'thatched', 'nearer', 'nibbled', 'lefthand', 'raised', 'walked', 'd', 'hatter', 'vii', 'hatter', 'having', 'dormouse', 'using', 'resting', 'elbows', 'talking', 'dormouse', 'alice', 's', 'doesn', 't', 'cried', 'alice', 's', 'alice', 'alice', 'looked', 'don', 't', 'remarked', 'isn', 't', 'wasn', 't', 'alice', 'wasn', 't', 'invited', 'didn', 't', 'alice', 's', 'wants', 'hatter', 'looking', 'alice', 'remarks', 'alice', 's', 'hatter', 'opened', 'eyes', 'alice', 'm', 've', 'asking', 'riddles', 'added', 'alice', 'alice', 'replied', 's', 'hatter', 'added', 'added', 'dormouse', 'seemed', 'talking', 'hatter', 'dropped', 'alice', 'ravens', 'desks', 'wasn', 't', 'hatter', 'turning', 'alice', 'looking', 'shaking', 'alice', 'considered', 'sighed', 'hatter', 'wouldn', 't', 'added', 'looking', 'replied', 'crumbs', 'hatter', 'grumbled', 'shouldn', 't', 'looked', 'dipped', 'looked', 'alice', 'looking', 'remarked', 'tells', 'doesn', 't', 'o', 'muttered', 'hatter', 'alice', 'replied', 's', 'stays', 'hatter', 'alice', 'hatter', 's', 'seemed', 'don', 't', 'dormouse', 'hatter', 'poured', 'dormouse', 'eyes', 'guessed', 'hatter', 'turning', 'alice', 'alice', 'replied', 's', 't', 'slightest', 'hatter', 'alice', 'sighed', 'asking', 'riddles', 'answers', 'hatter', 'wouldn', 't', 'wasting', 's', 'don', 't', 'alice', 'don', 't', 'hatter', 'tossing', 'contemptuously', 'alice', 'replied', 'accounts', 'hatter', 't', 'd', 'liked', 'o', 'lessons', 'd', 'goes', 'twinkling', 'alice', 'shouldn', 't', 'hatter', 'liked', 'alice', 'asked', 'hatter', 'replied', 'quarrelled', 'pointing', 've', 'alice', 'goes', 'hatter', 'dormouse', 'd', 'hatter', 'jumped', 'bawled', 's', 'murdering', 'exclaimed', 'alice', 'hatter', 't', 's', 'o', 'alice', 's', 'asked', 's', 'hatter', 's', 've', 'whiles', 'alice', 'hatter', 'happens', 'alice', 'ventured', 'interrupted', 'yawning', 'm', 'getting', 'tells', 'm', 'don', 't', 'alice', 'dormouse', 'cried', 'dormouse', 'pinched', 'sides', 'dormouse', 'opened', 'eyes', 'wasn', 't', 'fellows', 'pleaded', 'alice', 'added', 'hatter', 'll', 's', 'sisters', 'dormouse', 'names', 'elsie', 'lacie', 'tillie', 'lived', 'alice', 'questions', 'eating', 'lived', 'treacle', 'dormouse', 'couldn', 't', 'alice', 'remarked', 'd', 'dormouse', 'alice', 'tried', 'alice', 've', 'alice', 'replied', 'offended', 't', 't', 'hatter', 's', 'asked', 'alice', 's', 'remarks', 'hatter', 'asked', 'alice', 'helped', 'turned', 'dormouse', 'dormouse', 'treacle', 's', 'alice', 'hatter', 'dormouse', 'sulkily', 'remarked', 't', 'd', 'alice', 't', 'dormouse', 'consented', 'sisters', 'alice', 'forgetting', 'treacle', 'dormouse', 'interrupted', 'hatter', 's', 'moved', 'dormouse', 'followed', 'moved', 'dormouse', 's', 'alice', 'unwillingly', 'hatter', 'alice', 'alice', 'dormouse', 'don', 't', 'treacle', 'hatter', 'treacle', 'treacle', 'alice', 'dormouse', 'choosing', 'dormouse', 'alice', 'dormouse', 'interrupting', 'dormouse', 'yawning', 'rubbing', 'eyes', 'getting', 'begins', 'm', 'm', 'alice', 'alice', 'dormouse', 'eyes', 'pinched', 'hatter', 'begins', 'm', 'traps', 'muchness', 'muchness', 'muchness', 'alice', 'don', 't', 'shouldn', 't', 'hatter', 'alice', 'walked', 'dormouse', 'others', 'looked', 'hoping', 'dormouse', 'll', 'alice', 'picked', 's', 'stupidest', 'noticed', 'trees', 's', 's', 'll', 'unlocking', 'nibbling', 'walked', 'beds', 'fountains', 'viii', 's', 'roses', 'growing', 'gardeners', 'alice', 'nearer', 'don', 't', 'splashing', 'couldn', 't', 'jogged', 'looked', 's', 'others', 'd', 'deserved', 'beheaded', 's', 'll', 'bringing', 'onions', 'chanced', 'alice', 'watching', 'others', 'looked', 'bowed', 'alice', 'roses', 'looked', 'ought', 'doing', 'afore', 'comes', 'looking', 'called', 'gardeners', 'faces', 'footsteps', 'alice', 'looked', 'soldiers', 'carrying', 'shaped', 'gardeners', 'hands', 'corners', 'courtiers', 'ornamented', 'walked', 'soldiers', 'dears', 'jumping', 'couples', 'ornamented', 'guests', 'kings', 'queens', 'alice', 'recognised', 'talking', 'smiling', 'noticing', 'followed', 'knave', 'carrying', 's', 'alice', 'ought', 'gardeners', 'having', 'processions', 'faces', 'couldn', 't', 'waited', 'alice', 'stopped', 'looked', 'knave', 'bowed', 'smiled', 'tossing', 'turning', 'alice', 's', 'alice', 'alice', 'added', 'needn', 't', 'pointing', 'gardeners', 'rosetree', 'faces', 'backs', 'gardeners', 'soldiers', 'courtiers', 'alice', 's', 'turned', 'screamed', 'alice', 'turned', 'knave', 'knave', 'gardeners', 'jumped', 'bowing', 'screamed', 'turning', 'doing', 'examining', 'roses', 'moved', 'soldiers', 'gardeners', 'alice', 'shan', 't', 'beheaded', 'alice', 'soldiers', 'wandered', 'looking', 'marched', 'others', 'shouted', 'soldiers', 'shouted', 's', 'shouted', 'soldiers', 'looked', 'alice', 'shouted', 'alice', 'roared', 'alice', 'joined', 'wondering', 's', 's', 'walking', 'peeping', 'alice', 's', 'looked', 'raised', 'whispered', 's', 'alice', 'asked', 'didn', 't', 'alice', 'don', 't', 's', 'boxed', 's', 'ears', 'alice', 'whispered', 'places', 'shouted', 'tumbling', 'alice', 'ridges', 'furrows', 'hedgehogs', 'mallets', 'flamingoes', 'soldiers', 'hands', 'arches', 'alice', 'managing', 'succeeded', 'getting', 'tucked', 'legs', 'straightened', 'hedgehog', 'bursting', 'laughing', 'provoking', 'hedgehog', 'unrolled', 'crawling', 'hedgehog', 'doubled', 'soldiers', 'getting', 'walking', 'parts', 'alice', 'players', 'played', 'waiting', 'turns', 'quarrelling', 'hedgehogs', 'stamping', 'shouting', 'alice', 'beheading', 's', 'looking', 'wondering', 'noticed', 'watching', 's', 'cheshire', 'getting', 'alice', 'waited', 'eyes', 'appeared', 'nodded', 's', 'speaking', 'ears', 'appeared', 'alice', 'seemed', 'appeared', 'don', 't', 'alice', 'complaining', 't', 'don', 't', 'rules', 'attends', 've', 's', 've', 'walking', 'croqueted', 's', 'hedgehog', 'alice', 's', 'noticed', 'listening', 's', 'finishing', 'smiled', 'passed', 'talking', 'alice', 'looking', 's', 's', 'cheshire', 'alice', 'don', 't', 'likes', 'd', 'remarked', 'don', 't', 'don', 't', 'alice', 'alice', 've', 'don', 't', 'called', 'settling', 'difficulties', 'looking', 'll', 'alice', 's', 'screaming', 'players', 'executed', 'having', 'missed', 'turns', 'hedgehog', 'hedgehog', 'hedgehog', 'seemed', 'alice', 'croqueting', 'alice', 'hedgehogs', 'doesn', 't', 'alice', 'arches', 'tucked', 'cheshire', 'talking', 'looked', 'alice', 'appeared', 'appealed', 'arguments', 's', 'couldn', 't', 'wasn', 't', 's', 'beheaded', 'weren', 't', 's', 'wasn', 't', 'd', 'executed', 'alice', 'belongs', 'd', 's', 's', 'fading', 'disappeared', 'looking', 'ix', 's', 't', 'tucked', 'alice', 's', 'walked', 'alice', 'm', 't', 's', 'makes', 'tempered', 'having', 'makes', 'camomile', 'makes', 'tempered', 'wouldn', 't', 'makes', 't', 'hasn', 't', 'alice', 'ventured', 'tut', 'tut', 's', 'squeezed', 'closer', 'alice', 's', 'alice', 'alice', 's', 's', 'tis', 'tis', 'tis', 'makes', 'alice', 'whispered', 's', 'minding', 'digging', 'alice', 's', 'added', 'sounds', 'alice', 'wondering', 'don', 't', 'm', 'alice', 'replied', 'tried', 'flamingoes', 'birds', 'isn', 't', 'alice', 'remarked', 'putting', 's', 'alice', 'seemed', 'alice', 's', 'exclaimed', 'alice', 'attended', 's', 'doesn', 't', 'd', 'others', 'appeared', 'alice', 't', 's', 'replied', 'don', 't', 'longer', 'alice', 'don', 't', 've', 'alice', 'm', 'don', 't', 'presents', 'asked', 've', 'alice', 'pigs', 'm', 'alice', 's', 's', 'died', 'favourite', 'linked', 'alice', 'looked', 'folded', 'frowning', 'shouted', 'stamping', 's', 'alice', 'alice', 'followed', 'guests', 's', 'resting', 'remarking', 's', 'playing', 'quarrelling', 'players', 'shouting', 'sentenced', 'soldiers', 'arches', 'arches', 'players', 'alice', 'alice', 'alice', 'don', 't', 's', 'alice', 'walked', 'alice', 'pardoned', 's', 'executions', 'ordered', 'gryphon', 'don', 't', 'gryphon', 'executions', 'ordered', 'walked', 'leaving', 'alice', 'gryphon', 'alice', 'waited', 'gryphon', 'rubbed', 'eyes', 'watched', 'chuckled', 'gryphon', 'alice', 'alice', 'gryphon', 's', 'executes', 'says', 'alice', 'ordered', 'nearer', 'alice', 'sighing', 'pitied', 'asked', 'gryphon', 'gryphon', 'answered', 'words', 's', 'hasn', 't', 'looked', 'eyes', 'tears', 'gryphon', 'wants', 'll', 'don', 't', 've', 'alice', 'don', 't', 'doesn', 't', 'waited', 'words', 'followed', 'hjckrrh', 'gryphon', 'sobbing', 'alice', 'getting', 'sobbing', 'wasn', 't', 'alice', 'asked', 'called', 'ought', 'asking', 'added', 'gryphon', 'looked', 'alice', 'gryphon', 'don', 't', 'words', 'mayn', 't', 'didn', 't', 'interrupted', 'alice', 'added', 'gryphon', 'alice', 'educations', 've', 'alice', 'needn', 't', 'extras', 'asked', 'alice', 'alice', 'wasn', 't', 'couldn', 't', 'alice', 'couldn', 't', 'inquired', 'alice', 'reeling', 'writhing', 'replied', 'branches', 'uglification', 'uglification', 'alice', 'ventured', 'gryphon', 'lifted', 'paws', 'uglifying', 'exclaimed', 'beautify', 'alice', 'prettier', 'gryphon', 'don', 't', 'uglify', 'simpleton', 'alice', 'encouraged', 'questions', 'turned', 'replied', 'counting', 'subjects', 'flappers', 'seaography', 'drawling', 'drawling', 'conger', 'drawling', 'stretching', 'fainting', 'coils', 'alice', 't', 'm', 'gryphon', 'learnt', 'hadn', 't', 'gryphon', 'laughing', 'gryphon', 'sighing', 'creatures', 'faces', 'paws', 'lessons', 'alice', 'exclaimed', 'alice', 's', 'called', 'lessons', 'gryphon', 'remarked', 'alice', 'alice', 's', 'lessons', 'gryphon', 'interrupted', 'x', 'quadrille', 'sighed', 'flapper', 'eyes', 'looked', 'alice', 'tried', 'sobs', 'choked', 'gryphon', 'shaking', 'punching', 'recovered', 'tears', 'cheeks', 'lived', 't', 'alice', 'introduced', 'alice', 'tasted', 'quadrille', 'alice', 'gryphon', 'cried', 'seals', 'turtles', 've', 'cleared', 'takes', 'interrupted', 'gryphon', 'cried', 'gryphon', 'partners', 'lobsters', 'gryphon', 'lobsters', 'shouted', 'gryphon', 'screamed', 'gryphon', 'cried', 'capering', 'lobsters', 'yelled', 'gryphon', 's', 'dropping', 'creatures', 'jumping', 'looked', 'alice', 'alice', 'alice', 's', 'gryphon', 'lobsters', 'gryphon', 've', 'words', 'alice', 'treading', 'toes', 'passed', 'waving', 'forepaws', 'faster', 'whiting', 's', 's', 'treading', 'lobsters', 'turtles', 'waiting', 't', 't', 't', 't', 't', 'lobsters', 'replied', 'thanked', 'whiting', 'matters', 'replied', 'england', 'nearer', 'france', 't', 't', 't', 't', 't', 's', 'alice', 'whiting', 'whiting', 've', 'alice', 've', 'dinn', 'don', 't', 'dinn', 've', 'alice', 'replied', 'mouths', 'crumbs', 'crumbs', 'crumbs', 'mouths', 'yawned', 'eyes', 'gryphon', 'gryphon', 'lobsters', 'mouths', 'couldn', 't', 's', 'alice', 's', 'whiting', 'gryphon', 's', 'called', 'whiting', 'alice', 'boots', 'shoes', 'gryphon', 'replied', 'alice', 'boots', 'shoes', 'wondering', 'shoes', 'gryphon', 'makes', 'alice', 'looked', 'considered', 'blacking', 'boots', 'shoes', 'gryphon', 'whiting', 'alice', 'asked', 'soles', 'eels', 'gryphon', 'replied', 'd', 'whiting', 'alice', 'thoughts', 'd', 'don', 't', 'wouldn', 't', 'alice', 'don', 't', 'alice', 'replied', 'offended', 'gryphon', 'added', 's', 'adventures', 'adventures', 'alice', 's', 'adventures', 'gryphon', 'explanations', 'alice', 'adventures', 'creatures', 'opened', 'eyes', 'mouths', 'gained', 'listeners', 'repeating', 'william', 'words', 's', 's', 'gryphon', 'looked', 'gryphon', 'alice', 'tis', 'sluggard', 'gryphon', 'creatures', 'lessons', 'alice', 'quadrille', 'words', 'tis', 'baked', 'eyelids', 'trims', 'buttons', 'turns', 'toes', 'editions', 'follows', 'sands', 'tones', 'rises', 'sharks', 'tremulous', 's', 'gryphon', 'sounds', 'alice', 'hands', 'wondering', 'explained', 't', 'gryphon', 'toes', 'persisted', 's', 'alice', 'longed', 'gryphon', 'begins', 'passed', 'alice', 'trembling', 'passed', 'sharing', 'editions', 'follows', 'permitted', 'received', 'concluded', 'repeating', 'interrupted', 'don', 't', 's', 'd', 'gryphon', 'alice', 'quadrille', 'gryphon', 'alice', 'replied', 'gryphon', 'offended', 'hm', 'tastes', 'sighed', 'choked', 'sobs', 'waiting', 'dainties', 'beau', 'ootiful', 'soo', 'oop', 'beau', 'ootiful', 'soo', 'oop', 'soo', 'oop', 'e', 'e', 'cares', 'pennyworth', 'pennyworth', 'beau', 'ootiful', 'soo', 'oop', 'beau', 'ootiful', 'soo', 'oop', 'soo', 'oop', 'e', 'e', 'beauti', 'ful', 'cried', 'gryphon', 's', 'cried', 'gryphon', 'alice', 'waiting', 'alice', 'panted', 'gryphon', 'answered', 'faster', 'faintly', 'carried', 'followed', 'words', 'soo', 'oop', 'e', 'e', 'xi', 'tarts', 'seated', 'arrived', 'assembled', 'sorts', 'birds', 'beasts', 'knave', 'chains', 'tarts', 'looked', 'alice', 'd', 'seemed', 'looking', 'alice', 's', 'frontispiece', 's', 'alice', 'creatures', 'creatures', 'animals', 'birds', 'jurors', 'girls', 'jurors', 'slates', 'doing', 'alice', 'whispered', 'gryphon', 't', 's', 'putting', 'names', 'gryphon', 'whispered', 'alice', 'stopped', 'cried', 'looked', 'talking', 'alice', 'looking', 'shoulders', 'jurors', 'slates', 'didn', 't', 'neighbour', 'slates', 'll', 's', 'alice', 'jurors', 'squeaked', 'alice', 'blasts', 'unrolled', 'follows', 'tarts', 'knave', 'tarts', 'interrupted', 's', 'blasts', 'called', 'hatter', 'bringing', 'hadn', 't', 'ought', 'hatter', 'looked', 'followed', 'dormouse', 'added', 'dormouse', 'dates', 'slates', 'added', 'reduced', 'shillings', 'pence', 'hatter', 'isn', 't', 'hatter', 'exclaimed', 'turning', 'hatter', 'added', 've', 'm', 'hatter', 'staring', 'hatter', 'turned', 'fidgeted', 'don', 't', 'll', 'executed', 'shifting', 'looking', 'alice', 'larger', 'thoughts', 'wouldn', 't', 'dormouse', 't', 'alice', 'm', 'growing', 've', 'dormouse', 'don', 't', 'alice', 'growing', 'dormouse', 'sulkily', 'crossed', 'staring', 'hatter', 'dormouse', 'crossed', 'officers', 'singers', 'hatter', 'trembled', 'shoes', 'll', 'executed', 'm', 'hatter', 'trembling', 'hadn', 't', 'getting', 'twinkling', 'twinkling', 'hatter', 'replied', 'twinkling', 'begins', 't', 'm', 'hatter', 'twinkled', 'didn', 't', 'interrupted', 'hatter', 'denies', 'dormouse', 'hatter', 'looking', 'dormouse', 'denied', 'hatter', 'dormouse', 'asked', 't', 'hatter', 'remarked', 'll', 'executed', 'hatter', 'dropped', 'm', 'guinea', 'pigs', 'cheered', 'suppressed', 'officers', 'tied', 'slipped', 'guinea', 'm', 've', 'alice', 've', 'newspapers', 'attempts', 'suppressed', 'officers', 's', 't', 'hatter', 'm', 'replied', 'guinea', 'cheered', 'suppressed', 'guinea', 'pigs', 'alice', 'd', 'hatter', 'singers', 'hatter', 'waiting', 'shoes', 'added', 'officers', 'hatter', 's', 'carried', 'alice', 'guessed', 'sneezing', 'shan', 't', 'looked', 'folding', 'frowning', 'eyes', 'tarts', 'treacle', 'dormouse', 'shrieked', 'dormouse', 'dormouse', 'getting', 'dormouse', 'turned', 'disappeared', 'added', 'makes', 'alice', 'watched', 'fumbled', 't', 'alice', 'xii', 'alice', 's', 'cried', 'alice', 'forgetting', 'jumped', 'tipped', 'upsetting', 'jurymen', 'reminding', 'exclaimed', 'picking', 'jurymen', 'places', 'looking', 'alice', 'alice', 'looked', 'waving', 'signifies', 'recovered', 'slates', 'pencils', 'handed', 'seemed', 'gazing', 'alice', 'alice', 'persisted', 'alice', 's', 'turning', 'slates', 'interrupted', 'frowning', 'faces', 'sounded', 'alice', 'slates', 'doesn', 't', 'cackled', 'persons', 'looked', 'alice', 'm', 'alice', 'added', 'shan', 't', 'alice', 's', 'invented', 's', 'oldest', 'ought', 'alice', 'turned', 'trembling', 's', 'jumping', 'picked', 's', 't', 'opened', 'seems', 'isn', 't', 'directed', 'jurymen', 'isn', 't', 'directed', 's', 'unfolded', 'added', 'isn', 't', 's', 'verses', 's', 'asked', 'jurymen', 's', 'queerest', 'looked', 'imitated', 's', 'brightened', 'knave', 'didn', 't', 't', 's', 'signed', 'didn', 't', 'makes', 'd', 'signed', 'clapping', 'hands', 'proves', 'proves', 'alice', 'don', 't', 'asked', 'verses', 'mentioned', 'returned', 'trusts', 'don', 't', 'liked', 's', 've', 'rubbing', 'hands', 'alice', 'wasn', 't', 'interrupting', 'll', 'sixpence', 'don', 't', 's', 'slates', 'doesn', 't', 's', 'attempted', 's', 'saves', 'needn', 't', 'don', 't', 'spreading', 'verses', 'looking', 't', 'added', 'turning', 'knave', 'knave', 'muttering', 'verses', 's', 'tarts', 'goes', 'returned', 'alice', 'pointing', 'tarts', 'clearer', 'fits', 'throwing', 'inkstand', 'using', 'trickling', 'lasted', 'words', 'don', 't', 'looking', 's', 'added', 'offended', 'laughed', 'alice', 'having', 'turning', 't', 'alice', 'shouted', 'moved', 'cares', 'alice', 'tried', 'brushing', 'fluttered', 'trees', 'alice', 've', 've', 'alice', 'adventures', 'kissed', 's', 'getting', 'alice', 'watching', 'alice', 'adventures', 'dreaming', 'dreamed', 'alice', 'hands', 'clasped', 'eyes', 'looking', 'tones', 'wandering', 'eyes', 'listened', 'seemed', 'creatures', 's', 'rustled', 'splashed', 'neighbouring', 'teacups', 'friends', 'shared', 'ordering', 'guests', 'sneezing', 's', 'plates', 'dishes', 'crashed', 'gryphon', 'squeaking', 's', 'choking', 'suppressed', 'guinea', 'pigs', 'filled', 'sobs', 'eyes', 'believed', 'wonderland', 'rustling', 'rippling', 'waving', 'reeds', 'rattling', 'teacups', 'tinkling', 'bells', 's', 'cries', 'gryphon', 'noises', 'clamour', 'lowing', 's', 'sobs', 'pictured', 'riper', 'eyes', 'wonderland', 'sorrows', 'joys', 'remembering']\n"
     ]
    }
   ],
   "source": [
    "missing_words = find_unknown_words(bigger_vocab, book_words)\n",
    "print(missing_words)"
   ]
  },
  {
   "cell_type": "code",
   "execution_count": 295,
   "metadata": {},
   "outputs": [
    {
     "name": "stdout",
     "output_type": "stream",
     "text": [
      "There are 3396 unknown words.\n",
      "That took 0.1345 seconds.\n"
     ]
    },
    {
     "name": "stderr",
     "output_type": "stream",
     "text": [
      "/opt/anaconda3/lib/python3.7/site-packages/ipykernel_launcher.py:3: DeprecationWarning: time.clock has been deprecated in Python 3.3 and will be removed from Python 3.8: use time.perf_counter or time.process_time instead\n",
      "  This is separate from the ipykernel package so we can avoid doing imports until\n",
      "/opt/anaconda3/lib/python3.7/site-packages/ipykernel_launcher.py:5: DeprecationWarning: time.clock has been deprecated in Python 3.3 and will be removed from Python 3.8: use time.perf_counter or time.process_time instead\n",
      "  \"\"\"\n"
     ]
    }
   ],
   "source": [
    "import time\n",
    "\n",
    "t0 = time.clock()\n",
    "missing_words = find_unknown_words(bigger_vocab, book_words)\n",
    "t1 = time.clock()\n",
    "\n",
    "print(\"There are {0} unknown words.\".format(len(missing_words)))\n",
    "print(\"That took {0:.4f} seconds.\".format(t1-t0))"
   ]
  },
  {
   "cell_type": "code",
   "execution_count": 296,
   "metadata": {},
   "outputs": [
    {
     "name": "stdout",
     "output_type": "stream",
     "text": [
      "Test at line 2 ok.\n",
      "Test at line 3 ok.\n",
      "Test at line 4 ok.\n",
      "Test at line 6 ok.\n",
      "Test at line 6 ok.\n",
      "Test at line 6 ok.\n",
      "Test at line 6 ok.\n",
      "Test at line 6 ok.\n",
      "Test at line 6 ok.\n",
      "Test at line 6 ok.\n",
      "Test at line 6 ok.\n",
      "Test at line 6 ok.\n",
      "Test at line 6 ok.\n",
      "Test at line 6 ok.\n",
      "Test at line 6 ok.\n",
      "Test at line 6 ok.\n",
      "Test at line 6 ok.\n"
     ]
    }
   ],
   "source": [
    "xs = [2,3,5,7,11,13,17,23,29,31,37,43,47,53]\n",
    "test(search_binary(xs, 20) == -1)\n",
    "test(search_binary(xs, 99) == -1)\n",
    "test(search_binary(xs, 1) == -1)\n",
    "for (i, v) in enumerate(xs):\n",
    "    test(search_binary(xs, v) == i)"
   ]
  },
  {
   "cell_type": "code",
   "execution_count": 297,
   "metadata": {},
   "outputs": [],
   "source": [
    "def search_binary(xs, target):\n",
    "    \"\"\"find and return the index of key in sequence xs\"\"\"\n",
    "    lb = 0\n",
    "    ub = len(xs)\n",
    "    while True:\n",
    "        if lb == ub: # if ROI Region Of Interest become empty\n",
    "            return -1\n",
    "        \n",
    "        # next probe should be in the middle of the ROI\n",
    "        mid_index = (lb + ub) // 2\n",
    "        \n",
    "        # fetch the item at that position\n",
    "        item_at_mid = xs[mid_index]\n",
    "        \n",
    "#         print(\"ROI[{0}:{1}](size={2}), probed='{3}', target='{4}'\"\n",
    "#                       .format(lb, ub, ub-lb, item_at_mid, target))\n",
    "              \n",
    "        # how does the probed item compare to the target?\n",
    "        if item_at_mid == target:\n",
    "              return mid_index # found it\n",
    "        if item_at_mid < target:\n",
    "              lb =  mid_index + 1 # use upper half of ROI next time\n",
    "        else:\n",
    "              ub = mid_index # use lower half of ROI next time"
   ]
  },
  {
   "cell_type": "code",
   "execution_count": 298,
   "metadata": {},
   "outputs": [
    {
     "name": "stdout",
     "output_type": "stream",
     "text": [
      "There are 3396 unknown words.\n",
      "That took 0.1292 seconds.\n"
     ]
    },
    {
     "name": "stderr",
     "output_type": "stream",
     "text": [
      "/opt/anaconda3/lib/python3.7/site-packages/ipykernel_launcher.py:3: DeprecationWarning: time.clock has been deprecated in Python 3.3 and will be removed from Python 3.8: use time.perf_counter or time.process_time instead\n",
      "  This is separate from the ipykernel package so we can avoid doing imports until\n",
      "/opt/anaconda3/lib/python3.7/site-packages/ipykernel_launcher.py:5: DeprecationWarning: time.clock has been deprecated in Python 3.3 and will be removed from Python 3.8: use time.perf_counter or time.process_time instead\n",
      "  \"\"\"\n"
     ]
    }
   ],
   "source": [
    "import time\n",
    "\n",
    "t0 = time.clock()\n",
    "missing_words = find_unknown_words(bigger_vocab, book_words)\n",
    "t1 = time.clock()\n",
    "print(\"There are {0} unknown words.\".format(len(missing_words)))\n",
    "print(\"That took {0:.4f} seconds.\".format(t1-t0))"
   ]
  },
  {
   "cell_type": "code",
   "execution_count": 299,
   "metadata": {},
   "outputs": [
    {
     "data": {
      "text/plain": [
       "10326"
      ]
     },
     "execution_count": 299,
     "metadata": {},
     "output_type": "execute_result"
    }
   ],
   "source": [
    "search_binary(bigger_vocab, \"magic\")"
   ]
  },
  {
   "cell_type": "code",
   "execution_count": 300,
   "metadata": {},
   "outputs": [
    {
     "data": {
      "text/plain": [
       "9.967226258835993"
      ]
     },
     "execution_count": 300,
     "metadata": {},
     "output_type": "execute_result"
    }
   ],
   "source": [
    "from math import log\n",
    "log(1000 + 1, 2)"
   ]
  },
  {
   "cell_type": "code",
   "execution_count": 301,
   "metadata": {},
   "outputs": [
    {
     "data": {
      "text/plain": [
       "10"
      ]
     },
     "execution_count": 301,
     "metadata": {},
     "output_type": "execute_result"
    }
   ],
   "source": [
    "from math import log, ceil\n",
    "\n",
    "ceil(log(1000 + 1, 2))"
   ]
  },
  {
   "cell_type": "code",
   "execution_count": 302,
   "metadata": {},
   "outputs": [
    {
     "data": {
      "text/plain": [
       "20"
      ]
     },
     "execution_count": 302,
     "metadata": {},
     "output_type": "execute_result"
    }
   ],
   "source": [
    "ceil(log(1000000 + 1, 2))"
   ]
  },
  {
   "cell_type": "code",
   "execution_count": 303,
   "metadata": {},
   "outputs": [
    {
     "data": {
      "text/plain": [
       "30"
      ]
     },
     "execution_count": 303,
     "metadata": {},
     "output_type": "execute_result"
    }
   ],
   "source": [
    "ceil(log(1000000000 + 1, 2))"
   ]
  },
  {
   "cell_type": "code",
   "execution_count": 304,
   "metadata": {},
   "outputs": [
    {
     "name": "stdout",
     "output_type": "stream",
     "text": [
      "Test at line 3 ok.\n",
      "Test at line 4 ok.\n",
      "Test at line 6 ok.\n"
     ]
    }
   ],
   "source": [
    "# 14.5. Removing adjacent duplicates from a list¶\n",
    "\n",
    "test(remove_adjacent_dups([1,2,3,3,3,3,5,6,9,9]) == [1,2,3,5,6,9])\n",
    "test(remove_adjacent_dups([]) == [])\n",
    "test(remove_adjacent_dups([\"a\", \"big\", \"big\", \"bite\", \"dog\"]) ==\n",
    "                                   [\"a\", \"big\", \"bite\", \"dog\"])"
   ]
  },
  {
   "cell_type": "code",
   "execution_count": 305,
   "metadata": {},
   "outputs": [],
   "source": [
    "def remove_adjacent_dups(xs):\n",
    "    \"\"\"\n",
    "    Return a new list which all adjecent\n",
    "    duplicates from xs have been removed.\n",
    "    \"\"\"\n",
    "    result = []\n",
    "    most_recent_elem = None\n",
    "    for e in xs:\n",
    "        if e != most_recent_elem:\n",
    "            result.append(e)\n",
    "            most_recent_element = e\n",
    "    return sorted(list(set(result)))\n",
    "#     return result"
   ]
  },
  {
   "cell_type": "code",
   "execution_count": 306,
   "metadata": {},
   "outputs": [
    {
     "data": {
      "text/plain": [
       "['a', 'big', 'bite', 'dog']"
      ]
     },
     "execution_count": 306,
     "metadata": {},
     "output_type": "execute_result"
    }
   ],
   "source": [
    "remove_adjacent_dups([\"a\", \"big\", \"big\", \"bite\", \"dog\"])"
   ]
  },
  {
   "cell_type": "code",
   "execution_count": 307,
   "metadata": {},
   "outputs": [
    {
     "name": "stdout",
     "output_type": "stream",
     "text": [
      "There are 27336 words in the book. Only 2569 are unique.\n",
      "The first 100 words are\n",
      "['a', 'abide', 'able', 'about', 'above', 'absence', 'absurd', 'acceptance', 'accident', 'accidentally', 'account', 'accounting', 'accounts', 'accusation', 'accustomed', 'ache', 'across', 'act', 'actually', 'ada', 'added', 'adding', 'addressed', 'addressing', 'adjourn', 'adoption', 'advance', 'advantage', 'adventures', 'advice', 'advisable', 'advise', 'affair', 'affectionately', 'afford', 'afore', 'afraid', 'after', 'afterwards', 'again', 'against', 'age', 'ago', 'agony', 'agree', 'ah', 'ahem', 'air', 'airs', 'alarm', 'alarmed', 'alas', 'alice', 'alive', 'all', 'allow', 'almost', 'alone', 'along', 'aloud', 'already', 'also', 'altered', 'alternately', 'altogether', 'always', 'am', 'ambition', 'among', 'an', 'ancient', 'and', 'anger', 'angrily', 'angry', 'animal', 'animals', 'ann', 'annoy', 'annoyed', 'another', 'answer', 'answered', 'answers', 'antipathies', 'anxious', 'anxiously', 'any', 'anything', 'anywhere', 'appealed', 'appear', 'appearance', 'appeared', 'appearing', 'applause', 'apple', 'apples', 'arch', 'archbishop']\n"
     ]
    }
   ],
   "source": [
    "all_words = get_words_in_book(\"alice_in_wonderland.txt\")\n",
    "all_words.sort()\n",
    "\n",
    "book_words = remove_adjacent_dups(all_words)\n",
    "print(\"There are {0} words in the book. Only {1} are unique.\".\n",
    "                      format(len(all_words), len(book_words)))\n",
    "print(\"The first 100 words are\\n{0}\".\n",
    "           format(book_words[:100]))"
   ]
  },
  {
   "cell_type": "code",
   "execution_count": 308,
   "metadata": {},
   "outputs": [
    {
     "name": "stdout",
     "output_type": "stream",
     "text": [
      "Test at line 6 ok.\n",
      "Test at line 7 ok.\n",
      "Test at line 8 ok.\n",
      "Test at line 9 ok.\n",
      "Test at line 10 ok.\n",
      "Test at line 12 ok.\n"
     ]
    }
   ],
   "source": [
    "# 14.6. Merging sorted lists\n",
    "xs = [1,3,5,7,9,11,13,15,17,19]\n",
    "ys = [4,8,12,16,20,24]\n",
    "zs = xs+ys\n",
    "zs.sort()\n",
    "test(merge(xs, []) == xs)\n",
    "test(merge([], ys) == ys)\n",
    "test(merge([], []) == [])\n",
    "test(merge(xs, ys) == zs)\n",
    "test(merge([1,2,3], [3,4,5]) == [1,2,3,3,4,5])\n",
    "test(merge([\"a\", \"big\", \"cat\"], [\"big\", \"bite\", \"dog\"]) ==\n",
    "               [\"a\", \"big\", \"big\", \"bite\", \"cat\", \"dog\"])"
   ]
  },
  {
   "cell_type": "code",
   "execution_count": 309,
   "metadata": {},
   "outputs": [],
   "source": [
    "def merge(xs, ys):\n",
    "    \"\"\"merge sorted lists xs and ys. return a sorted result\"\"\"\n",
    "    result = []\n",
    "    xi = 0\n",
    "    yi = 0\n",
    "    \n",
    "    while True:\n",
    "        if xi >= len(xs): # if xs list is finished\n",
    "            result.extend(ys[yi:]) # add remaining items from ys\n",
    "            return result # and we're done\n",
    "        \n",
    "        if yi >= len(ys):\n",
    "            result.extend(xs[xi:])\n",
    "            return result\n",
    "        \n",
    "        # both lists still have items\n",
    "        if xs[xi] <= ys[yi]:\n",
    "            result.append(xs[xi])\n",
    "            xi += 1\n",
    "        else:\n",
    "            result.append(ys[yi])\n",
    "            yi += 1"
   ]
  },
  {
   "cell_type": "code",
   "execution_count": 310,
   "metadata": {},
   "outputs": [],
   "source": [
    "xs = [1,2,3,4,5,7,9]\n",
    "ys = [2,4,6,8,9,20]\n",
    "\n",
    "\n",
    "def list_intersec(xs, ys):\n",
    "    \"\"\"Return only those items that are present in both lists.\"\"\"\n",
    "    result = []\n",
    "    for i in xs:\n",
    "        if i in ys:\n",
    "            result.append(i)\n",
    "    return result"
   ]
  },
  {
   "cell_type": "code",
   "execution_count": 311,
   "metadata": {},
   "outputs": [
    {
     "data": {
      "text/plain": [
       "[2, 4, 9]"
      ]
     },
     "execution_count": 311,
     "metadata": {},
     "output_type": "execute_result"
    }
   ],
   "source": [
    "list_intersec(xs, ys)"
   ]
  },
  {
   "cell_type": "code",
   "execution_count": 312,
   "metadata": {},
   "outputs": [],
   "source": [
    "xs = [1,2,3,4,5,7,9]\n",
    "ys = [2,4,6,8,9]\n",
    "\n",
    "def first_only(xs, ys):\n",
    "    \"\"\"Return only those items that are present in the first list, but not in the second.\"\"\"\n",
    "    result = []\n",
    "    for i in xs:\n",
    "        if i not in ys:\n",
    "            result.append(i)\n",
    "    return result"
   ]
  },
  {
   "cell_type": "code",
   "execution_count": 313,
   "metadata": {},
   "outputs": [
    {
     "data": {
      "text/plain": [
       "[1, 3, 5, 7]"
      ]
     },
     "execution_count": 313,
     "metadata": {},
     "output_type": "execute_result"
    }
   ],
   "source": [
    "first_only(xs, ys)"
   ]
  },
  {
   "cell_type": "code",
   "execution_count": 314,
   "metadata": {},
   "outputs": [],
   "source": [
    "xs = [1,2,3,4,5,7,9]\n",
    "ys = [2,4,6,8,9]\n",
    "\n",
    "def second_only(xs, ys):\n",
    "    \"\"\"Return only those items that are present in the second list, but not in the first.\"\"\"\n",
    "    result = []\n",
    "    for j in ys:\n",
    "        if j not in xs:\n",
    "            result.append(j)\n",
    "    return result"
   ]
  },
  {
   "cell_type": "code",
   "execution_count": 315,
   "metadata": {},
   "outputs": [
    {
     "data": {
      "text/plain": [
       "[6, 8]"
      ]
     },
     "execution_count": 315,
     "metadata": {},
     "output_type": "execute_result"
    }
   ],
   "source": [
    "second_only(xs, ys)"
   ]
  },
  {
   "cell_type": "code",
   "execution_count": 316,
   "metadata": {},
   "outputs": [],
   "source": [
    "xs = [1,2,3,4,5,7,9,20]\n",
    "ys = [2,4,6,8,9]\n",
    "\n",
    "def union_all(xs, ys):\n",
    "    \"\"\"Return items that are present in either the first or the second list.\"\"\"\n",
    "    result = []\n",
    "    for i in xs:\n",
    "        result.append(i)\n",
    "    for j in ys:\n",
    "        result.append(j)\n",
    "    return list(set(result))"
   ]
  },
  {
   "cell_type": "code",
   "execution_count": 317,
   "metadata": {},
   "outputs": [
    {
     "data": {
      "text/plain": [
       "[1, 2, 3, 4, 5, 6, 7, 8, 9, 20]"
      ]
     },
     "execution_count": 317,
     "metadata": {},
     "output_type": "execute_result"
    }
   ],
   "source": [
    "union_all(xs, ys)"
   ]
  },
  {
   "cell_type": "code",
   "execution_count": 318,
   "metadata": {},
   "outputs": [],
   "source": [
    "# Return items from the first list that are not eliminated by a matching element in the second list. \n",
    "# In this case, an item in the second list “knocks out” just one matching item in the first list. \n",
    "# This operation is sometimes called bagdiff. For example bagdiff([5,7,11,11,11,12,13], [7,8,11]) \n",
    "# would return [5,11,11,12,13]\n",
    "xs = [5,7,11,11,11,12,13]\n",
    "ys = [7,8,11]\n",
    "# result = [5,11,11,12,13]\n",
    "\n",
    "result = []\n",
    "count = 0\n",
    "\n",
    "def bagdiff(xs, ys):\n",
    "    for i in xs:\n",
    "        if i not in ys:\n",
    "            result.append(i)\n",
    "        if i in ys and xs.count(i) > 1:\n",
    "            result.append(i)\n",
    "    return result"
   ]
  },
  {
   "cell_type": "code",
   "execution_count": 319,
   "metadata": {},
   "outputs": [
    {
     "data": {
      "text/plain": [
       "[5, 11, 11, 11, 12, 13]"
      ]
     },
     "execution_count": 319,
     "metadata": {},
     "output_type": "execute_result"
    }
   ],
   "source": [
    "bagdiff(xs, ys)"
   ]
  },
  {
   "cell_type": "code",
   "execution_count": 326,
   "metadata": {},
   "outputs": [],
   "source": [
    "def find_unknowns_merge_pattern(vocab, wds):\n",
    "    \"\"\"\n",
    "    Both the vocab and wds must be sorted. Return a new list of words from wds that do not occur in vocab\n",
    "    \"\"\"\n",
    "    result = []\n",
    "    xi = 0\n",
    "    yi = 0\n",
    "    \n",
    "    while True:\n",
    "        if xi >= len(vocab):\n",
    "            result.extend(wds[yi:])\n",
    "            return result\n",
    "        \n",
    "        if yi >= len(wds):\n",
    "            return result\n",
    "        \n",
    "        if vocab[xi] == wds[yi]: # Good, word exists in vocab\n",
    "            yi += 1\n",
    "        \n",
    "        elif vocab[xi] < wds[yi]: # Move past this vocab word\n",
    "            xi += 1\n",
    "            \n",
    "        else:\n",
    "            result.append(wds[yi])\n",
    "            yi += 1"
   ]
  },
  {
   "cell_type": "code",
   "execution_count": 327,
   "metadata": {},
   "outputs": [
    {
     "name": "stdout",
     "output_type": "stream",
     "text": [
      "There are 827 unknown words.\n",
      "That took 0.0341 seconds.\n"
     ]
    },
    {
     "name": "stderr",
     "output_type": "stream",
     "text": [
      "/opt/anaconda3/lib/python3.7/site-packages/ipykernel_launcher.py:2: DeprecationWarning: time.clock has been deprecated in Python 3.3 and will be removed from Python 3.8: use time.perf_counter or time.process_time instead\n",
      "  \n",
      "/opt/anaconda3/lib/python3.7/site-packages/ipykernel_launcher.py:6: DeprecationWarning: time.clock has been deprecated in Python 3.3 and will be removed from Python 3.8: use time.perf_counter or time.process_time instead\n",
      "  \n"
     ]
    }
   ],
   "source": [
    "all_words = get_words_in_book(\"alice_in_wonderland.txt\")\n",
    "t0 = time.clock()\n",
    "all_words.sort()\n",
    "book_words = remove_adjacent_dups(all_words)\n",
    "missing_words = find_unknowns_merge_pattern(bigger_vocab, book_words)\n",
    "t1 = time.clock()\n",
    "print(\"There are {0} unknown words.\".format(len(missing_words)))\n",
    "print(\"That took {0:.4f} seconds.\".format(t1-t0))"
   ]
  },
  {
   "cell_type": "code",
   "execution_count": 329,
   "metadata": {},
   "outputs": [
    {
     "name": "stdout",
     "output_type": "stream",
     "text": [
      "Test at line 2 ok.\n",
      "Test at line 3 ok.\n",
      "Test at line 4 ok.\n",
      "Test at line 5 ok.\n"
     ]
    }
   ],
   "source": [
    "# 14.8. Eight Queens puzzle, part 1¶\n",
    "test(not share_diagonal(5,2,2,0))\n",
    "test(share_diagonal(5,2,3,0))\n",
    "test(share_diagonal(5,2,4,3))\n",
    "test(share_diagonal(5,2,4,1))"
   ]
  },
  {
   "cell_type": "code",
   "execution_count": 328,
   "metadata": {},
   "outputs": [],
   "source": [
    "def share_diagonal(x0, y0, x1, y1):\n",
    "    \"\"\"Is (x0, y0) on a shared diagonal with (x1, y1)\"\"\"\n",
    "    dy = abs(y1 - y0) # calc abs y distance\n",
    "    dx = abs(x1 - x0) # cals abs x distance\n",
    "    return dx == dy"
   ]
  },
  {
   "cell_type": "code",
   "execution_count": 331,
   "metadata": {},
   "outputs": [
    {
     "name": "stdout",
     "output_type": "stream",
     "text": [
      "Test at line 2 ok.\n",
      "Test at line 3 ok.\n",
      "Test at line 6 ok.\n",
      "Test at line 7 ok.\n",
      "Test at line 8 ok.\n",
      "Test at line 9 ok.\n",
      "Test at line 10 ok.\n",
      "Test at line 11 ok.\n",
      "Test at line 12 ok.\n"
     ]
    }
   ],
   "source": [
    "# Solutions cases that should not have any clashes\n",
    "test(not col_clashes([6,4,2,0,5], 4))\n",
    "test(not col_clashes([6,4,2,0,5,7,1,3], 7))\n",
    "\n",
    "# More test cases that should mostly clash\n",
    "test(col_clashes([0,1], 1))\n",
    "test(col_clashes([5,6], 1))\n",
    "test(col_clashes([6,5], 1))\n",
    "test(col_clashes([0,6,4,3], 3))\n",
    "test(col_clashes([5,0,7], 2))\n",
    "test(not col_clashes([2,0,1,3], 1))\n",
    "test(col_clashes([2,0,1,3], 2))"
   ]
  },
  {
   "cell_type": "code",
   "execution_count": 330,
   "metadata": {},
   "outputs": [],
   "source": [
    "def col_clashes(bs, c):\n",
    "    \"\"\"\n",
    "    Return True if the queen at column c clashes with any queen to its left.\n",
    "    \"\"\"\n",
    "    for i in range(c): # look at all cols to the left of c\n",
    "        if share_diagonal(i, bs[i], c, bs[c]):\n",
    "            return True\n",
    "    \n",
    "    return False # no clashes - col c has a safe placement"
   ]
  },
  {
   "cell_type": "code",
   "execution_count": 333,
   "metadata": {},
   "outputs": [
    {
     "name": "stdout",
     "output_type": "stream",
     "text": [
      "Test at line 1 ok.\n",
      "Test at line 2 ok.\n",
      "Test at line 3 ok.\n",
      "Test at line 4 ok.\n"
     ]
    }
   ],
   "source": [
    "test(not has_clashes([6,4,2,0,5,7,1,3])) # Solution from above\n",
    "test(has_clashes([4,6,2,0,5,7,1,3]))     # Swap rows of first two\n",
    "test(has_clashes([0,1,2,3]))             # Try small 4x4 board\n",
    "test(not has_clashes([2,0,3,1]))         # Solution to 4x4 case"
   ]
  },
  {
   "cell_type": "code",
   "execution_count": 332,
   "metadata": {},
   "outputs": [],
   "source": [
    "def has_clashes(the_board):\n",
    "    \"\"\"\n",
    "    Determine whether we have any queens clashing on the diagonals.\n",
    "    We're assuming here taht the_board is a permutation column numbers,\n",
    "    so we're not explicitly checking row or column clashes.\n",
    "    \"\"\"\n",
    "    for col in range(1, len(the_board)):\n",
    "        if col_clashes(the_board, col):\n",
    "            return True\n",
    "    return False"
   ]
  },
  {
   "cell_type": "code",
   "execution_count": 335,
   "metadata": {},
   "outputs": [
    {
     "name": "stdout",
     "output_type": "stream",
     "text": [
      "Found solution [3, 7, 4, 2, 0, 6, 1, 5] in 98 tries.\n",
      "Found solution [4, 6, 1, 5, 2, 0, 7, 3] in 625 tries.\n",
      "Found solution [3, 1, 6, 4, 0, 7, 5, 2] in 468 tries.\n",
      "Found solution [0, 6, 3, 5, 7, 1, 4, 2] in 551 tries.\n",
      "Found solution [4, 6, 0, 3, 1, 7, 5, 2] in 434 tries.\n",
      "Found solution [5, 2, 0, 7, 4, 1, 3, 6] in 703 tries.\n",
      "Found solution [6, 4, 2, 0, 5, 7, 1, 3] in 267 tries.\n",
      "Found solution [0, 6, 3, 5, 7, 1, 4, 2] in 456 tries.\n",
      "Found solution [6, 4, 2, 0, 5, 7, 1, 3] in 293 tries.\n",
      "Found solution [6, 1, 5, 2, 0, 3, 7, 4] in 673 tries.\n"
     ]
    }
   ],
   "source": [
    "# 14.9. Eight Queens puzzle, part 2¶\n",
    "def main():\n",
    "    import random\n",
    "    rng = random.Random() # initiate a generator\n",
    "    \n",
    "    bd = list(range(8)) # generate initial permutation\n",
    "    num_found = 0\n",
    "    tries = 0\n",
    "    while num_found < 10:\n",
    "        rng.shuffle(bd)\n",
    "        tries += 1\n",
    "        if not has_clashes(bd):\n",
    "            print(\"Found solution {0} in {1} tries.\".format(bd, tries))\n",
    "            tries = 0\n",
    "            num_found += 1\n",
    "main()        "
   ]
  },
  {
   "cell_type": "code",
   "execution_count": null,
   "metadata": {},
   "outputs": [],
   "source": []
  }
 ],
 "metadata": {
  "kernelspec": {
   "display_name": "Python 3",
   "language": "python",
   "name": "python3"
  },
  "language_info": {
   "codemirror_mode": {
    "name": "ipython",
    "version": 3
   },
   "file_extension": ".py",
   "mimetype": "text/x-python",
   "name": "python",
   "nbconvert_exporter": "python",
   "pygments_lexer": "ipython3",
   "version": "3.7.4"
  }
 },
 "nbformat": 4,
 "nbformat_minor": 2
}
