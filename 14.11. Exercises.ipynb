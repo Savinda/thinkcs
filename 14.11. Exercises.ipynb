{
 "cells": [
  {
   "cell_type": "code",
   "execution_count": 8,
   "metadata": {},
   "outputs": [],
   "source": [
    "from unit_tester import test"
   ]
  },
  {
   "cell_type": "code",
   "execution_count": 120,
   "metadata": {},
   "outputs": [],
   "source": [
    "# The section in this chapter called Alice in Wonderland, again! started with the observation \n",
    "# that the merge algorithm uses a pattern that can be reused in other situations. \n",
    "# Adapt the merge algorithm to write each of these functions, as was suggested there:\n",
    "def merge(xs, ys):\n",
    "    \"\"\"merge sorted lists xs and ys. return a sorted result\"\"\"\n",
    "    result = []\n",
    "    xi = 0\n",
    "    yi = 0\n",
    "    \n",
    "    while True:\n",
    "        if xi >= len(xs): # if xs list is finished\n",
    "            result.extend(ys[yi:]) # add remaining items from ys\n",
    "            return result # and we're done\n",
    "        \n",
    "        if yi >= len(ys): # same again to ys \n",
    "            result.extend(xs[xi:]) # add remaining items fro xs\n",
    "            return result\n",
    "        \n",
    "        # both lists still have items, copy smaller items to result\n",
    "        if xs[xi] <= ys[yi]:\n",
    "            result.append(xs[xi])\n",
    "            xi += 1\n",
    "        else:\n",
    "            result.append(ys[yi])\n",
    "            yi += 1"
   ]
  },
  {
   "cell_type": "code",
   "execution_count": 121,
   "metadata": {},
   "outputs": [],
   "source": [
    "xs = [1,2,4,6,7,8,9,14,20]\n",
    "ys = [1,2,4,18]"
   ]
  },
  {
   "cell_type": "code",
   "execution_count": 122,
   "metadata": {},
   "outputs": [
    {
     "data": {
      "text/plain": [
       "[1, 1, 2, 2, 4, 4, 6, 7, 8, 9, 14, 18, 20]"
      ]
     },
     "execution_count": 122,
     "metadata": {},
     "output_type": "execute_result"
    }
   ],
   "source": [
    "merge(xs, ys)"
   ]
  },
  {
   "cell_type": "code",
   "execution_count": 123,
   "metadata": {},
   "outputs": [],
   "source": [
    "# Return only those items that are present in both lists.\n",
    "xs = [1,2,4,6,7,8,9,14,20]\n",
    "ys = [1,2,4,18]\n",
    "\n",
    "def inter_sec(xs, ys):\n",
    "    \"\"\"Return only those items that are present in both lists.\"\"\"\n",
    "    result = []\n",
    "    \n",
    "    for xi in xs:\n",
    "        if xi in ys:\n",
    "            result.append(xi)\n",
    "    return result"
   ]
  },
  {
   "cell_type": "code",
   "execution_count": 124,
   "metadata": {},
   "outputs": [
    {
     "data": {
      "text/plain": [
       "[1, 2, 4]"
      ]
     },
     "execution_count": 124,
     "metadata": {},
     "output_type": "execute_result"
    }
   ],
   "source": [
    "inter_sec(xs, ys)"
   ]
  },
  {
   "cell_type": "code",
   "execution_count": 129,
   "metadata": {},
   "outputs": [],
   "source": [
    "# Return only those items that are present in the first list, but not in the second.\n",
    "xs = [1,2,4,6,7,8,9,14,20]\n",
    "ys = [1,2,4,18]\n",
    "\n",
    "\n",
    "def first_only(xs, ys):\n",
    "    \"\"\"Return only those items that are present in the first list, but not in the second.\"\"\"\n",
    "    result = []\n",
    "    \n",
    "    for xi in xs:\n",
    "        if xi not in ys:\n",
    "            result.append(xi)\n",
    "    return result"
   ]
  },
  {
   "cell_type": "code",
   "execution_count": 131,
   "metadata": {},
   "outputs": [
    {
     "data": {
      "text/plain": [
       "[6, 7, 8, 9, 14, 20]"
      ]
     },
     "execution_count": 131,
     "metadata": {},
     "output_type": "execute_result"
    }
   ],
   "source": [
    "first_only(xs, ys)"
   ]
  },
  {
   "cell_type": "code",
   "execution_count": 134,
   "metadata": {},
   "outputs": [],
   "source": [
    "# Return only those items that are present in the second list, but not in the first.\n",
    "xs = [1,2,4,6,7,8,9,14,20]\n",
    "ys = [1,2,4,18]\n",
    "\n",
    "def second_only(xs, ys):\n",
    "    \"\"\"Return only those items that are present in the second list, but not in the first.\"\"\"\n",
    "    result = []\n",
    "    \n",
    "    for yi in ys:\n",
    "        if yi not in xs:\n",
    "            result.append(yi)\n",
    "    return result"
   ]
  },
  {
   "cell_type": "code",
   "execution_count": 135,
   "metadata": {},
   "outputs": [
    {
     "data": {
      "text/plain": [
       "[18]"
      ]
     },
     "execution_count": 135,
     "metadata": {},
     "output_type": "execute_result"
    }
   ],
   "source": [
    "second_only(xs, ys)"
   ]
  },
  {
   "cell_type": "code",
   "execution_count": 139,
   "metadata": {},
   "outputs": [],
   "source": [
    "# Return items that are present in either the first or the second list.\n",
    "\n",
    "xs = [1,2,4,6,7,8,9,14,20]\n",
    "ys = [1,2,4,18]\n",
    "\n",
    "def either_first_or_second(xs, ys):\n",
    "    \"\"\"Return items that are present in either the first or the second list.\"\"\"\n",
    "    return list(set(merge(xs, ys)))\n"
   ]
  },
  {
   "cell_type": "code",
   "execution_count": 140,
   "metadata": {},
   "outputs": [
    {
     "data": {
      "text/plain": [
       "[1, 2, 4, 6, 7, 8, 9, 14, 18, 20]"
      ]
     },
     "execution_count": 140,
     "metadata": {},
     "output_type": "execute_result"
    }
   ],
   "source": [
    "either_first_or_second(xs, ys)"
   ]
  },
  {
   "cell_type": "code",
   "execution_count": 163,
   "metadata": {},
   "outputs": [],
   "source": [
    "# Return items from the first list that are not eliminated by a matching element in the second list. \n",
    "# In this case, an item in the second list “knocks out” just one matching item in the first list. \n",
    "# This operation is sometimes called bagdiff. For example bagdiff([5,7,11,11,11,12,13], [7,8,11]) \n",
    "# would return [5,11,11,12,13]\n",
    "xs = [5,7,11,11,11,12,13]\n",
    "ys = [7,8,11]\n",
    "# result = [5,11,11,12,13]\n",
    "\n",
    "def bagdiff(xs, ys):\n",
    "    \"\"\"Return items from the first list that are not eliminated by a matching element in the second list\"\"\"\n",
    "    result = []\n",
    "    count = 0\n",
    "    \n",
    "    for xi in xs:\n",
    "        if xi in ys:\n",
    "            count += 1\n",
    "        if count >= 1:\n",
    "            result.append(xi)\n",
    "    return result"
   ]
  },
  {
   "cell_type": "code",
   "execution_count": 164,
   "metadata": {},
   "outputs": [
    {
     "data": {
      "text/plain": [
       "[7, 11, 11, 11, 12, 13]"
      ]
     },
     "execution_count": 164,
     "metadata": {},
     "output_type": "execute_result"
    }
   ],
   "source": [
    "bagdiff(xs, ys)"
   ]
  },
  {
   "cell_type": "code",
   "execution_count": 170,
   "metadata": {},
   "outputs": [],
   "source": [
    "# Modify the queens program to solve some boards of size 4, 12, and 16. \n",
    "# What is the maximum size puzzle you can usually solve in under a minute?\n",
    "\n",
    "def share_diagonal(x0, y0, x1, y1):\n",
    "    \"\"\"is (x0, y0) on a shared diagonal with (x1, y1)\"\"\"\n",
    "    dy = abs(y1 - y0)\n",
    "    dx = abs(x1 - x0)\n",
    "    return dx == dy"
   ]
  },
  {
   "cell_type": "code",
   "execution_count": 171,
   "metadata": {},
   "outputs": [
    {
     "name": "stdout",
     "output_type": "stream",
     "text": [
      "Test at line 1 ok.\n",
      "Test at line 2 ok.\n",
      "Test at line 3 ok.\n",
      "Test at line 4 ok.\n"
     ]
    }
   ],
   "source": [
    "test(not share_diagonal(5,2,2,0))\n",
    "test(share_diagonal(5,2,3,0))\n",
    "test(share_diagonal(5,2,4,3))\n",
    "test(share_diagonal(5,2,4,1))"
   ]
  },
  {
   "cell_type": "code",
   "execution_count": 172,
   "metadata": {},
   "outputs": [],
   "source": [
    "def col_clashes(bs, c):\n",
    "    \"\"\"Return true if the queen at column c clashes with any queen to its left\"\"\"\n",
    "    for i in range(c):\n",
    "        if share_diagonal(i, bs[i], c, bs[c]):\n",
    "            return True\n",
    "    return False"
   ]
  },
  {
   "cell_type": "code",
   "execution_count": 173,
   "metadata": {},
   "outputs": [
    {
     "name": "stdout",
     "output_type": "stream",
     "text": [
      "Test at line 2 ok.\n",
      "Test at line 3 ok.\n",
      "Test at line 6 ok.\n",
      "Test at line 7 ok.\n",
      "Test at line 8 ok.\n",
      "Test at line 9 ok.\n",
      "Test at line 10 ok.\n",
      "Test at line 11 ok.\n",
      "Test at line 12 ok.\n"
     ]
    }
   ],
   "source": [
    "# Solutions cases that should not have any clashes\n",
    "test(not col_clashes([6,4,2,0,5], 4))\n",
    "test(not col_clashes([6,4,2,0,5,7,1,3], 7))\n",
    "\n",
    "# More test cases that should mostly clash\n",
    "test(col_clashes([0,1], 1))\n",
    "test(col_clashes([5,6], 1))\n",
    "test(col_clashes([6,5], 1))\n",
    "test(col_clashes([0,6,4,3], 3))\n",
    "test(col_clashes([5,0,7], 2))\n",
    "test(not col_clashes([2,0,1,3], 1))\n",
    "test(col_clashes([2,0,1,3], 2))"
   ]
  },
  {
   "cell_type": "code",
   "execution_count": 174,
   "metadata": {},
   "outputs": [],
   "source": [
    "def has_clashes(the_board):\n",
    "    \"\"\"\n",
    "    Determine whether we have any queens clashing on the diagonals.\n",
    "    We're assuming here that the_board is a permutation of column\n",
    "    numbers, so we're not explicitly checking row or column clashes.\n",
    "    \"\"\"\n",
    "    for col in range(1, len(the_board)):\n",
    "        if col_clashes(the_board, col):\n",
    "            return True\n",
    "    return False"
   ]
  },
  {
   "cell_type": "code",
   "execution_count": 175,
   "metadata": {},
   "outputs": [
    {
     "name": "stdout",
     "output_type": "stream",
     "text": [
      "Test at line 1 ok.\n",
      "Test at line 2 ok.\n",
      "Test at line 3 ok.\n",
      "Test at line 4 ok.\n"
     ]
    }
   ],
   "source": [
    "test(not has_clashes([6,4,2,0,5,7,1,3])) # Solution from above\n",
    "test(has_clashes([4,6,2,0,5,7,1,3]))     # Swap rows of first two\n",
    "test(has_clashes([0,1,2,3]))             # Try small 4x4 board\n",
    "test(not has_clashes([2,0,3,1]))         # Solution to 4x4 case"
   ]
  },
  {
   "cell_type": "code",
   "execution_count": 178,
   "metadata": {},
   "outputs": [
    {
     "name": "stdout",
     "output_type": "stream",
     "text": [
      "Found solution [7, 2, 0, 5, 1, 4, 6, 3] in 415 tries.\n",
      "Found solution [3, 6, 2, 7, 1, 4, 0, 5] in 887 tries.\n",
      "Found solution [3, 0, 4, 7, 1, 6, 2, 5] in 204 tries.\n",
      "Found solution [0, 6, 3, 5, 7, 1, 4, 2] in 778 tries.\n",
      "Found solution [1, 7, 5, 0, 2, 4, 6, 3] in 536 tries.\n",
      "Found solution [4, 1, 7, 0, 3, 6, 2, 5] in 541 tries.\n",
      "Found solution [1, 5, 7, 2, 0, 3, 6, 4] in 92 tries.\n",
      "Found solution [2, 5, 3, 1, 7, 4, 6, 0] in 218 tries.\n",
      "Found solution [5, 3, 6, 0, 7, 1, 4, 2] in 889 tries.\n",
      "Found solution [2, 5, 7, 1, 3, 0, 6, 4] in 487 tries.\n"
     ]
    }
   ],
   "source": [
    "def main():\n",
    "    import random\n",
    "    rng = random.Random()\n",
    "    \n",
    "    bd = list(range(8))\n",
    "    num_found = 0\n",
    "    tries = 0\n",
    "    while num_found < 10:\n",
    "        rng.shuffle(bd)\n",
    "        tries += 1\n",
    "        if not has_clashes(bd):\n",
    "            print(\"Found solution {0} in {1} tries.\".format(bd, tries))\n",
    "            tries = 0\n",
    "            num_found += 1\n",
    "\n",
    "main()"
   ]
  },
  {
   "cell_type": "code",
   "execution_count": 183,
   "metadata": {},
   "outputs": [
    {
     "name": "stderr",
     "output_type": "stream",
     "text": [
      "/opt/anaconda3/lib/python3.7/site-packages/ipykernel_launcher.py:5: DeprecationWarning: time.clock has been deprecated in Python 3.3 and will be removed from Python 3.8: use time.perf_counter or time.process_time instead\n",
      "  \"\"\"\n"
     ]
    }
   ],
   "source": [
    "# Modify the queens program to solve some boards of size 4, 12, and 16. \n",
    "# What is the maximum size puzzle you can usually solve in under a minute? 13x13\n",
    "\n",
    "import time\n",
    "t0 = time.clock()\n",
    "def main(n):\n",
    "    import random\n",
    "    rng = random.Random()\n",
    "    \n",
    "    bd = list(range(n))\n",
    "    num_found = 0\n",
    "    tries = 0\n",
    "    while num_found < 10:\n",
    "        rng.shuffle(bd)\n",
    "        tries += 1\n",
    "        if not has_clashes(bd):\n",
    "            print(\"Found solution {0} in {1} tries.\".format(bd, tries))\n",
    "            tries = 0\n",
    "            num_found += 1\n",
    "    t1 = time.clock()\n",
    "    print(\"That took {0:.4f} seconds.\".format(t1-t0))"
   ]
  },
  {
   "cell_type": "code",
   "execution_count": 184,
   "metadata": {},
   "outputs": [
    {
     "name": "stdout",
     "output_type": "stream",
     "text": [
      "Found solution [2, 0, 3, 1] in 39 tries.\n",
      "Found solution [1, 3, 0, 2] in 22 tries.\n",
      "Found solution [2, 0, 3, 1] in 21 tries.\n",
      "Found solution [1, 3, 0, 2] in 12 tries.\n",
      "Found solution [1, 3, 0, 2] in 61 tries.\n",
      "Found solution [2, 0, 3, 1] in 22 tries.\n",
      "Found solution [1, 3, 0, 2] in 41 tries.\n",
      "Found solution [1, 3, 0, 2] in 9 tries.\n",
      "Found solution [1, 3, 0, 2] in 3 tries.\n",
      "Found solution [2, 0, 3, 1] in 1 tries.\n",
      "That took 0.0165 seconds.\n"
     ]
    },
    {
     "name": "stderr",
     "output_type": "stream",
     "text": [
      "/opt/anaconda3/lib/python3.7/site-packages/ipykernel_launcher.py:20: DeprecationWarning: time.clock has been deprecated in Python 3.3 and will be removed from Python 3.8: use time.perf_counter or time.process_time instead\n"
     ]
    }
   ],
   "source": [
    "main(4)"
   ]
  },
  {
   "cell_type": "code",
   "execution_count": 185,
   "metadata": {},
   "outputs": [
    {
     "name": "stdout",
     "output_type": "stream",
     "text": [
      "Found solution [1, 3, 5, 7, 9, 11, 0, 2, 4, 6, 8, 10] in 139047 tries.\n",
      "Found solution [6, 10, 5, 2, 0, 9, 4, 8, 1, 3, 7, 11] in 41182 tries.\n",
      "Found solution [10, 6, 9, 2, 0, 3, 8, 11, 1, 4, 7, 5] in 6288 tries.\n",
      "Found solution [1, 4, 11, 0, 10, 3, 6, 9, 2, 8, 5, 7] in 57167 tries.\n",
      "Found solution [0, 5, 7, 2, 11, 8, 1, 4, 10, 3, 6, 9] in 8132 tries.\n",
      "Found solution [2, 5, 1, 10, 7, 11, 6, 3, 9, 0, 4, 8] in 74846 tries.\n",
      "Found solution [1, 10, 8, 2, 4, 9, 0, 5, 11, 6, 3, 7] in 4120 tries.\n",
      "Found solution [2, 7, 9, 11, 1, 4, 0, 5, 8, 10, 3, 6] in 44771 tries.\n",
      "Found solution [1, 9, 2, 5, 8, 10, 3, 0, 11, 7, 4, 6] in 54820 tries.\n",
      "Found solution [1, 6, 9, 7, 4, 11, 0, 2, 10, 5, 3, 8] in 8575 tries.\n",
      "That took 7.1338 seconds.\n"
     ]
    },
    {
     "name": "stderr",
     "output_type": "stream",
     "text": [
      "/opt/anaconda3/lib/python3.7/site-packages/ipykernel_launcher.py:20: DeprecationWarning: time.clock has been deprecated in Python 3.3 and will be removed from Python 3.8: use time.perf_counter or time.process_time instead\n"
     ]
    }
   ],
   "source": [
    "main(12)"
   ]
  },
  {
   "cell_type": "code",
   "execution_count": 187,
   "metadata": {},
   "outputs": [
    {
     "name": "stdout",
     "output_type": "stream",
     "text": [
      "Found solution [8, 4, 7, 1, 6, 12, 0, 11, 3, 5, 10, 2, 9] in 63250 tries.\n",
      "Found solution [4, 2, 10, 5, 1, 8, 12, 7, 3, 0, 6, 9, 11] in 184378 tries.\n",
      "Found solution [6, 12, 5, 11, 4, 0, 10, 3, 7, 2, 8, 1, 9] in 193180 tries.\n",
      "Found solution [5, 7, 2, 0, 3, 1, 10, 8, 11, 4, 12, 9, 6] in 57583 tries.\n",
      "Found solution [3, 6, 8, 11, 1, 4, 10, 5, 0, 9, 12, 2, 7] in 24438 tries.\n",
      "Found solution [9, 0, 8, 11, 4, 7, 1, 10, 5, 2, 6, 12, 3] in 45262 tries.\n",
      "Found solution [9, 11, 3, 5, 0, 8, 1, 12, 6, 2, 7, 10, 4] in 158263 tries.\n",
      "Found solution [4, 9, 1, 5, 7, 10, 12, 0, 8, 3, 11, 6, 2] in 9853 tries.\n",
      "Found solution [3, 5, 11, 8, 0, 12, 4, 9, 1, 6, 2, 10, 7] in 31238 tries.\n",
      "Found solution [8, 6, 0, 7, 10, 1, 3, 9, 11, 4, 2, 12, 5] in 182129 tries.\n",
      "That took 50.6932 seconds.\n"
     ]
    },
    {
     "name": "stderr",
     "output_type": "stream",
     "text": [
      "/opt/anaconda3/lib/python3.7/site-packages/ipykernel_launcher.py:20: DeprecationWarning: time.clock has been deprecated in Python 3.3 and will be removed from Python 3.8: use time.perf_counter or time.process_time instead\n"
     ]
    }
   ],
   "source": [
    "main(13)"
   ]
  },
  {
   "cell_type": "code",
   "execution_count": 188,
   "metadata": {},
   "outputs": [
    {
     "name": "stdout",
     "output_type": "stream",
     "text": [
      "Found solution [6, 4, 11, 1, 5, 12, 10, 7, 0, 3, 9, 13, 8, 2] in 285297 tries.\n",
      "Found solution [8, 4, 9, 1, 13, 5, 7, 12, 10, 0, 6, 3, 11, 2] in 58971 tries.\n",
      "Found solution [11, 8, 1, 5, 13, 2, 9, 12, 6, 3, 10, 7, 4, 0] in 11548 tries.\n",
      "Found solution [6, 11, 2, 5, 13, 8, 10, 0, 3, 1, 4, 7, 9, 12] in 244650 tries.\n",
      "Found solution [2, 11, 8, 3, 12, 10, 1, 4, 6, 13, 9, 7, 5, 0] in 32175 tries.\n",
      "Found solution [10, 4, 11, 5, 12, 1, 3, 7, 9, 13, 2, 0, 6, 8] in 36745 tries.\n",
      "Found solution [4, 7, 11, 8, 3, 5, 0, 2, 9, 12, 6, 13, 10, 1] in 77245 tries.\n",
      "Found solution [6, 13, 9, 1, 12, 5, 2, 0, 10, 4, 11, 8, 3, 7] in 58786 tries.\n",
      "Found solution [8, 1, 7, 0, 11, 6, 4, 9, 12, 3, 13, 10, 2, 5] in 703526 tries.\n",
      "Found solution [5, 1, 8, 12, 0, 7, 3, 11, 9, 4, 13, 10, 2, 6] in 31866 tries.\n",
      "That took 79.6589 seconds.\n"
     ]
    },
    {
     "name": "stderr",
     "output_type": "stream",
     "text": [
      "/opt/anaconda3/lib/python3.7/site-packages/ipykernel_launcher.py:20: DeprecationWarning: time.clock has been deprecated in Python 3.3 and will be removed from Python 3.8: use time.perf_counter or time.process_time instead\n"
     ]
    }
   ],
   "source": [
    "main(14)"
   ]
  },
  {
   "cell_type": "code",
   "execution_count": 189,
   "metadata": {},
   "outputs": [
    {
     "name": "stdout",
     "output_type": "stream",
     "text": [
      "Found solution [1, 11, 4, 8, 12, 14, 9, 0, 15, 5, 7, 2, 10, 13, 6, 3] in 2326009 tries.\n",
      "Found solution [4, 15, 12, 8, 2, 0, 14, 10, 5, 9, 11, 1, 3, 6, 13, 7] in 1474769 tries.\n",
      "Found solution [13, 4, 12, 3, 5, 11, 2, 0, 7, 14, 1, 8, 10, 15, 6, 9] in 1588890 tries.\n",
      "Found solution [3, 10, 6, 11, 15, 1, 7, 14, 2, 8, 5, 9, 0, 13, 4, 12] in 1168462 tries.\n",
      "Found solution [3, 7, 10, 2, 14, 1, 15, 9, 6, 13, 5, 0, 12, 4, 11, 8] in 753589 tries.\n",
      "Found solution [4, 7, 14, 12, 1, 15, 0, 6, 9, 2, 13, 3, 10, 8, 5, 11] in 2698014 tries.\n",
      "Found solution [5, 9, 6, 14, 3, 15, 7, 4, 10, 0, 13, 11, 2, 8, 12, 1] in 171710 tries.\n",
      "Found solution [8, 2, 5, 14, 11, 4, 15, 12, 3, 9, 6, 13, 1, 10, 0, 7] in 2256132 tries.\n",
      "Found solution [11, 0, 8, 6, 14, 3, 1, 9, 4, 13, 15, 2, 12, 10, 7, 5] in 724242 tries.\n",
      "Found solution [10, 12, 14, 2, 4, 7, 3, 0, 11, 13, 15, 6, 8, 5, 1, 9] in 1049275 tries.\n",
      "That took 374.6855 seconds.\n"
     ]
    },
    {
     "name": "stderr",
     "output_type": "stream",
     "text": [
      "/opt/anaconda3/lib/python3.7/site-packages/ipykernel_launcher.py:20: DeprecationWarning: time.clock has been deprecated in Python 3.3 and will be removed from Python 3.8: use time.perf_counter or time.process_time instead\n"
     ]
    }
   ],
   "source": [
    "main(16)"
   ]
  },
  {
   "cell_type": "code",
   "execution_count": 603,
   "metadata": {},
   "outputs": [],
   "source": [
    "# Adapt the queens program so that we keep a list of solutions that have already printed, \n",
    "# so that we don’t print the same solution more than once.\n",
    "from time import process_time\n",
    "t0 = process_time()\n",
    "def main(n):\n",
    "    import random\n",
    "    rng = random.Random()\n",
    "    bd = list(range(n))\n",
    "    num_found = 0\n",
    "    tries = 0\n",
    "    solutions = []\n",
    "    while num_found < 10:\n",
    "        rng.shuffle(bd)\n",
    "        tries += 1\n",
    "#         if not has_clashes(bd) and bd not in solutions:\n",
    "        if not has_clashes(bd):\n",
    "            print(\"Found solution {0} in {1} tries.\".format(bd, tries))\n",
    "            tries = 0\n",
    "            num_found += 1\n",
    "            solutions.append(list(bd))\n",
    "#             print(solutions)\n",
    "    t1 = process_time()\n",
    "    print(\"That took {0:.4f} seconds.\".format(t1-t0))\n",
    "#     print(solutions)"
   ]
  },
  {
   "cell_type": "code",
   "execution_count": 604,
   "metadata": {},
   "outputs": [
    {
     "name": "stdout",
     "output_type": "stream",
     "text": [
      "Found solution [2, 0, 3, 1] in 5 tries.\n",
      "Found solution [2, 0, 3, 1] in 5 tries.\n",
      "Found solution [2, 0, 3, 1] in 8 tries.\n",
      "Found solution [2, 0, 3, 1] in 5 tries.\n",
      "Found solution [1, 3, 0, 2] in 21 tries.\n",
      "Found solution [2, 0, 3, 1] in 11 tries.\n",
      "Found solution [1, 3, 0, 2] in 4 tries.\n",
      "Found solution [2, 0, 3, 1] in 2 tries.\n",
      "Found solution [1, 3, 0, 2] in 2 tries.\n",
      "Found solution [2, 0, 3, 1] in 2 tries.\n",
      "That took 0.0211 seconds.\n"
     ]
    }
   ],
   "source": [
    "main(4)"
   ]
  },
  {
   "cell_type": "code",
   "execution_count": 627,
   "metadata": {},
   "outputs": [],
   "source": [
    "# Chess boards are symmetric: if we have a solution to the queens problem, \n",
    "#     its mirror solution — either flipping the board on the X or in the Y axis, is also a solution. \n",
    "#     And giving the board a 90 degree, 180 degree, or 270 degree rotation is also a solution. \n",
    "#     In some sense, solutions that are just mirror images or rotations of other solutions — in the same family \n",
    "#     — are less interesting than the unique “core cases”. \n",
    "#     Of the 92 solutions for the 8 queens problem, there are only 12 unique families if you \n",
    "#     take rotations and mirror images into account. Wikipedia has some fascinating stuff about this.\n",
    "\n",
    "# Write a function to mirror a solution in the Y axis,\n",
    "# x0, y0, x1, y1\n",
    "\n",
    "def y_mirror(n):\n",
    "    main(n)"
   ]
  },
  {
   "cell_type": "code",
   "execution_count": 628,
   "metadata": {},
   "outputs": [
    {
     "name": "stdout",
     "output_type": "stream",
     "text": [
      "Found solution [1, 3, 0, 2] in 15 tries.\n",
      "Found solution [2, 0, 3, 1] in 19 tries.\n",
      "Found solution [1, 3, 0, 2] in 1 tries.\n",
      "Found solution [2, 0, 3, 1] in 7 tries.\n",
      "Found solution [1, 3, 0, 2] in 13 tries.\n",
      "Found solution [2, 0, 3, 1] in 1 tries.\n",
      "Found solution [2, 0, 3, 1] in 12 tries.\n",
      "Found solution [2, 0, 3, 1] in 5 tries.\n",
      "Found solution [2, 0, 3, 1] in 5 tries.\n",
      "Found solution [1, 3, 0, 2] in 29 tries.\n",
      "That took 40.2418 seconds.\n"
     ]
    }
   ],
   "source": [
    "y_mirror(4)"
   ]
  },
  {
   "cell_type": "code",
   "execution_count": 11,
   "metadata": {},
   "outputs": [],
   "source": [
    "# Every week a computer scientist buys four lotto tickets. She always chooses the same prime numbers, \n",
    "# with the hope that if she ever hits the jackpot, she will be able to go onto TV and Facebook and tell \n",
    "# everyone her secret. This will suddenly create widespread public interest in prime numbers, and will \n",
    "# be the trigger event that ushers in a new age of enlightenment. She represents her weekly tickets in \n",
    "# Python as a list of lists:\n",
    "\n",
    "my_tickets = [ [ 7, 17, 37, 19, 23, 43],\n",
    "               [ 7,  2, 13, 41, 31, 43],\n",
    "               [ 2,  5,  7, 11, 13, 17],\n",
    "               [13, 17, 37, 19, 23, 43] ]"
   ]
  },
  {
   "cell_type": "code",
   "execution_count": 15,
   "metadata": {},
   "outputs": [],
   "source": [
    "# Each lotto draw takes six random balls, numbered from 1 to 49. Write a function to return a lotto draw.\n",
    "def lotto_draw():\n",
    "    import random\n",
    "    return sorted(random.sample(range(1, 50), 6))"
   ]
  },
  {
   "cell_type": "code",
   "execution_count": 704,
   "metadata": {},
   "outputs": [
    {
     "data": {
      "text/plain": [
       "[3, 6, 9, 12, 13, 44]"
      ]
     },
     "execution_count": 704,
     "metadata": {},
     "output_type": "execute_result"
    }
   ],
   "source": [
    "lotto_draw()"
   ]
  },
  {
   "cell_type": "code",
   "execution_count": 786,
   "metadata": {},
   "outputs": [],
   "source": [
    "# Write a function that compares a single ticket and a draw, \n",
    "# and returns the number of correct picks on that ticket:\n",
    "def lotto_match(x, y):\n",
    "    count = 0\n",
    "    result = []\n",
    "    for i in x:\n",
    "        for j in y:\n",
    "            if i == j and i not in result:\n",
    "                result.append(i)\n",
    "                count += 1\n",
    "    return count"
   ]
  },
  {
   "cell_type": "code",
   "execution_count": 788,
   "metadata": {},
   "outputs": [
    {
     "name": "stdout",
     "output_type": "stream",
     "text": [
      "Test at line 1 ok.\n"
     ]
    }
   ],
   "source": [
    "test(lotto_match([42,4,7,11,1,13], [2,5,7,11,13,17]) == 3)"
   ]
  },
  {
   "cell_type": "code",
   "execution_count": 30,
   "metadata": {},
   "outputs": [],
   "source": [
    "# Write a function that takes a list of tickets and a draw, \n",
    "# and returns a list telling how many picks were correct on each ticket:\n",
    "\n",
    "def lotto_matches(xs, my_tickets):\n",
    "    xs = set(xs)\n",
    "    return [sum(x in xs for x in ticket) for ticket in my_tickets]"
   ]
  },
  {
   "cell_type": "code",
   "execution_count": 31,
   "metadata": {},
   "outputs": [
    {
     "data": {
      "text/plain": [
       "[1, 2, 3, 1]"
      ]
     },
     "execution_count": 31,
     "metadata": {},
     "output_type": "execute_result"
    }
   ],
   "source": [
    "lotto_matches([42,4,7,11,1,13], my_tickets)"
   ]
  },
  {
   "cell_type": "code",
   "execution_count": 5,
   "metadata": {},
   "outputs": [],
   "source": [
    "# Write a function that takes a list of integers, and returns the number of primes in the list:\n",
    "numbers = [42, 4, 7, 11, 1, 13]\n",
    "\n",
    "def primes_in(numbers):\n",
    "    \"\"\"takes a list of integers, and returns the number of primes in the list\"\"\"\n",
    "    count = 0\n",
    "    result = []\n",
    "    \n",
    "    for num in numbers:\n",
    "        if num > 1:\n",
    "            for i in range(2, num):\n",
    "                if num % 2 == 0:\n",
    "                    break\n",
    "            else:\n",
    "                count += 1\n",
    "#                 result.append(num)\n",
    "    return count\n",
    "                    "
   ]
  },
  {
   "cell_type": "code",
   "execution_count": 9,
   "metadata": {},
   "outputs": [
    {
     "name": "stdout",
     "output_type": "stream",
     "text": [
      "Test at line 1 ok.\n"
     ]
    }
   ],
   "source": [
    "test(primes_in([42, 4, 7, 11, 1, 13]) == 3)"
   ]
  },
  {
   "cell_type": "code",
   "execution_count": 52,
   "metadata": {},
   "outputs": [],
   "source": [
    "# Write a function to discover whether the computer scientist has missed any prime numbers \n",
    "# in her selection of the four tickets. \n",
    "# Return a list of all primes that she has missed:\n",
    "def primes_in_res_out(numbers):\n",
    "    \"\"\"takes a list of integers, and returns the number of primes in the list\"\"\"\n",
    "#     count = 0\n",
    "    result = []\n",
    "    \n",
    "    for num in numbers:\n",
    "        if num > 1:\n",
    "            for i in range(2, num):\n",
    "                if num % 2 == 0:\n",
    "                    break\n",
    "            else:\n",
    "#                 count += 1\n",
    "                result.append(num)\n",
    "    return result"
   ]
  },
  {
   "cell_type": "code",
   "execution_count": 82,
   "metadata": {},
   "outputs": [
    {
     "name": "stdout",
     "output_type": "stream",
     "text": [
      "[[13, 17, 37, 19, 23, 43]]\n"
     ]
    }
   ],
   "source": [
    "numbers = [42, 4, 7, 11, 1, 13]\n",
    "\n",
    "my_tickets = [ [ 7, 17, 37, 19, 23, 43],\n",
    "               [ 7,  2, 13, 41, 31, 43],\n",
    "               [ 2,  5,  7, 11, 13, 17],\n",
    "               [13, 17, 37, 19, 23, 43] ]\n",
    "\n",
    "for ticket in my_tickets:\n",
    "    result = []\n",
    "    if primes_in_res_out(numbers) not in ticket:\n",
    "        result.append(ticket)\n",
    "print(result)\n",
    "    "
   ]
  },
  {
   "cell_type": "code",
   "execution_count": 103,
   "metadata": {},
   "outputs": [],
   "source": [
    "# Write a function that repeatedly makes a new draw, and compares the draw to the four tickets.\n",
    "\n",
    "def make_draw():\n",
    "    while True:\n",
    "        import random\n",
    "        return sorted(random.sample(range(1, 50), 6))"
   ]
  },
  {
   "cell_type": "code",
   "execution_count": 102,
   "metadata": {},
   "outputs": [
    {
     "data": {
      "text/plain": [
       "[6, 13, 14, 31, 32, 33]"
      ]
     },
     "execution_count": 102,
     "metadata": {},
     "output_type": "execute_result"
    }
   ],
   "source": [
    "make_draw()"
   ]
  },
  {
   "cell_type": "code",
   "execution_count": null,
   "metadata": {},
   "outputs": [],
   "source": []
  }
 ],
 "metadata": {
  "kernelspec": {
   "display_name": "Python 3",
   "language": "python",
   "name": "python3"
  },
  "language_info": {
   "codemirror_mode": {
    "name": "ipython",
    "version": 3
   },
   "file_extension": ".py",
   "mimetype": "text/x-python",
   "name": "python",
   "nbconvert_exporter": "python",
   "pygments_lexer": "ipython3",
   "version": "3.7.4"
  }
 },
 "nbformat": 4,
 "nbformat_minor": 2
}
