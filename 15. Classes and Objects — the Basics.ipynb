{
 "cells": [
  {
   "cell_type": "code",
   "execution_count": 86,
   "metadata": {},
   "outputs": [],
   "source": [
    "# 15.2. User-defined compound data types\n",
    "\n",
    "class Point:\n",
    "    \"\"\"Point class represents and manipulates x, y coords\"\"\"\n",
    "    \n",
    "    def __init__(self):\n",
    "        \"\"\"Create a new point at the origin\"\"\"\n",
    "        self.x = 0\n",
    "        self.y = 0"
   ]
  },
  {
   "cell_type": "code",
   "execution_count": 87,
   "metadata": {},
   "outputs": [
    {
     "name": "stdout",
     "output_type": "stream",
     "text": [
      "0 0 0 0\n"
     ]
    }
   ],
   "source": [
    "# So let’s use our new Point class now:\n",
    "\n",
    "p = Point() # instantiate an object of type Point\n",
    "q = Point() # Make a second Point\n",
    "\n",
    "print(p.x, p.y, q.x, q.y)"
   ]
  },
  {
   "cell_type": "code",
   "execution_count": 88,
   "metadata": {},
   "outputs": [],
   "source": [
    "p.x = 3\n",
    "p.y = 4"
   ]
  },
  {
   "cell_type": "code",
   "execution_count": 89,
   "metadata": {},
   "outputs": [
    {
     "name": "stdout",
     "output_type": "stream",
     "text": [
      "3 4 0 0\n"
     ]
    }
   ],
   "source": [
    "print(p.x, p.y, q.x, q.y)"
   ]
  },
  {
   "cell_type": "code",
   "execution_count": 90,
   "metadata": {},
   "outputs": [],
   "source": [
    "x = p.x"
   ]
  },
  {
   "cell_type": "code",
   "execution_count": 91,
   "metadata": {},
   "outputs": [
    {
     "name": "stdout",
     "output_type": "stream",
     "text": [
      "3\n"
     ]
    }
   ],
   "source": [
    "print(x)"
   ]
  },
  {
   "cell_type": "code",
   "execution_count": 92,
   "metadata": {},
   "outputs": [
    {
     "name": "stdout",
     "output_type": "stream",
     "text": [
      "x=3, y=4\n"
     ]
    }
   ],
   "source": [
    "print(\"x={0}, y={1}\".format(p.x, p.y))"
   ]
  },
  {
   "cell_type": "code",
   "execution_count": 93,
   "metadata": {},
   "outputs": [
    {
     "name": "stdout",
     "output_type": "stream",
     "text": [
      "25\n"
     ]
    }
   ],
   "source": [
    "distance_squared_from_origin = p.x * p.x + p.y * p.y\n",
    "print(distance_squared_from_origin)"
   ]
  },
  {
   "cell_type": "code",
   "execution_count": 94,
   "metadata": {},
   "outputs": [],
   "source": [
    "# We can make our class constructor more general by placing extra parameters into the __init__ method, \n",
    "\n",
    "class Point:\n",
    "    \"\"\"Point class represents and manipulates x, y coords.\"\"\"\n",
    "    \n",
    "    def __init__(self, x=0, y=0):\n",
    "        \"\"\"Create a new point at x, y\"\"\"\n",
    "        self.x = x\n",
    "        self.y = y\n",
    "\n",
    "# Other statements outside the class continue below here"
   ]
  },
  {
   "cell_type": "code",
   "execution_count": 95,
   "metadata": {},
   "outputs": [
    {
     "name": "stdout",
     "output_type": "stream",
     "text": [
      "4 3 0\n"
     ]
    }
   ],
   "source": [
    "p = Point(4, 2)\n",
    "q = Point(6, 3)\n",
    "r = Point()\n",
    "print(p.x, q.y, r.x)"
   ]
  },
  {
   "cell_type": "code",
   "execution_count": 96,
   "metadata": {},
   "outputs": [],
   "source": [
    "class Point:\n",
    "    \"\"\"Create a new Point, at coordinates x, y\"\"\"\n",
    "    \n",
    "    def __init__(self, x=0, y=0):\n",
    "        \"\"\"Create a new point at x, y\"\"\"\n",
    "        self.x = x\n",
    "        self.y = y\n",
    "        \n",
    "    def distance_from_origin(self):\n",
    "        \"\"\"Compute my distance from the origin\"\"\"\n",
    "        return ((self.x**2) + (self.y**2)) ** 0.5"
   ]
  },
  {
   "cell_type": "code",
   "execution_count": 97,
   "metadata": {},
   "outputs": [],
   "source": [
    "p = Point(3,4)"
   ]
  },
  {
   "cell_type": "code",
   "execution_count": 98,
   "metadata": {},
   "outputs": [
    {
     "data": {
      "text/plain": [
       "3"
      ]
     },
     "execution_count": 98,
     "metadata": {},
     "output_type": "execute_result"
    }
   ],
   "source": [
    "p.x"
   ]
  },
  {
   "cell_type": "code",
   "execution_count": 99,
   "metadata": {},
   "outputs": [
    {
     "data": {
      "text/plain": [
       "4"
      ]
     },
     "execution_count": 99,
     "metadata": {},
     "output_type": "execute_result"
    }
   ],
   "source": [
    "p.y"
   ]
  },
  {
   "cell_type": "code",
   "execution_count": 100,
   "metadata": {},
   "outputs": [
    {
     "data": {
      "text/plain": [
       "5.0"
      ]
     },
     "execution_count": 100,
     "metadata": {},
     "output_type": "execute_result"
    }
   ],
   "source": [
    "p.distance_from_origin()"
   ]
  },
  {
   "cell_type": "code",
   "execution_count": 101,
   "metadata": {},
   "outputs": [],
   "source": [
    "q = Point(5, 12)"
   ]
  },
  {
   "cell_type": "code",
   "execution_count": 102,
   "metadata": {},
   "outputs": [
    {
     "data": {
      "text/plain": [
       "5"
      ]
     },
     "execution_count": 102,
     "metadata": {},
     "output_type": "execute_result"
    }
   ],
   "source": [
    "q.x"
   ]
  },
  {
   "cell_type": "code",
   "execution_count": 103,
   "metadata": {},
   "outputs": [
    {
     "data": {
      "text/plain": [
       "12"
      ]
     },
     "execution_count": 103,
     "metadata": {},
     "output_type": "execute_result"
    }
   ],
   "source": [
    "q.y"
   ]
  },
  {
   "cell_type": "code",
   "execution_count": 104,
   "metadata": {},
   "outputs": [
    {
     "data": {
      "text/plain": [
       "13.0"
      ]
     },
     "execution_count": 104,
     "metadata": {},
     "output_type": "execute_result"
    }
   ],
   "source": [
    "q.distance_from_origin()"
   ]
  },
  {
   "cell_type": "code",
   "execution_count": 105,
   "metadata": {},
   "outputs": [],
   "source": [
    "r = Point()"
   ]
  },
  {
   "cell_type": "code",
   "execution_count": 106,
   "metadata": {},
   "outputs": [
    {
     "data": {
      "text/plain": [
       "0"
      ]
     },
     "execution_count": 106,
     "metadata": {},
     "output_type": "execute_result"
    }
   ],
   "source": [
    "r.x"
   ]
  },
  {
   "cell_type": "code",
   "execution_count": 107,
   "metadata": {},
   "outputs": [
    {
     "data": {
      "text/plain": [
       "0"
      ]
     },
     "execution_count": 107,
     "metadata": {},
     "output_type": "execute_result"
    }
   ],
   "source": [
    "r.y"
   ]
  },
  {
   "cell_type": "code",
   "execution_count": 108,
   "metadata": {},
   "outputs": [
    {
     "data": {
      "text/plain": [
       "0.0"
      ]
     },
     "execution_count": 108,
     "metadata": {},
     "output_type": "execute_result"
    }
   ],
   "source": [
    "r.distance_from_origin()"
   ]
  },
  {
   "cell_type": "code",
   "execution_count": 109,
   "metadata": {},
   "outputs": [],
   "source": [
    "def print_point(pt):\n",
    "    print(\"({0}, {1})\".format(pt.x, pt.y))"
   ]
  },
  {
   "cell_type": "code",
   "execution_count": 110,
   "metadata": {},
   "outputs": [
    {
     "name": "stdout",
     "output_type": "stream",
     "text": [
      "(3, 4)\n"
     ]
    }
   ],
   "source": [
    "print_point(p)"
   ]
  },
  {
   "cell_type": "code",
   "execution_count": 111,
   "metadata": {},
   "outputs": [],
   "source": [
    "class Point:\n",
    "    \"\"\"Create a new Point, at coordinates x, y\"\"\"\n",
    "    \n",
    "    def __init__(self, x=0, y=0):\n",
    "        \"\"\"Create a new point at x, y\"\"\"\n",
    "        self.x = x\n",
    "        self.y = y\n",
    "        \n",
    "    def distance_from_origin(self):\n",
    "        \"\"\"Compute my distance from the origin\"\"\"\n",
    "        return ((self.x**2) + (self.y**2)) ** 0.5\n",
    "    \n",
    "    def to_string(self):\n",
    "        \"\"\"Converting an instance to a string\"\"\"\n",
    "        return \"({0}, {1})\".format(self.x, self.y)"
   ]
  },
  {
   "cell_type": "code",
   "execution_count": 112,
   "metadata": {},
   "outputs": [],
   "source": [
    "p = Point(3,4)"
   ]
  },
  {
   "cell_type": "code",
   "execution_count": 113,
   "metadata": {},
   "outputs": [
    {
     "name": "stdout",
     "output_type": "stream",
     "text": [
      "(3, 4)\n"
     ]
    }
   ],
   "source": [
    "print(p.to_string())"
   ]
  },
  {
   "cell_type": "code",
   "execution_count": 114,
   "metadata": {},
   "outputs": [
    {
     "data": {
      "text/plain": [
       "'<__main__.Point object at 0x7ff202e7c610>'"
      ]
     },
     "execution_count": 114,
     "metadata": {},
     "output_type": "execute_result"
    }
   ],
   "source": [
    "str(p)"
   ]
  },
  {
   "cell_type": "code",
   "execution_count": 115,
   "metadata": {},
   "outputs": [
    {
     "name": "stdout",
     "output_type": "stream",
     "text": [
      "<__main__.Point object at 0x7ff202e7c610>\n"
     ]
    }
   ],
   "source": [
    "print(p)"
   ]
  },
  {
   "cell_type": "code",
   "execution_count": 116,
   "metadata": {},
   "outputs": [],
   "source": [
    "# Python has a clever trick up its sleeve to fix this. \n",
    "# If we call our new method __str__ instead of to_string, the Python interpreter will use our \n",
    "# code whenever it needs to convert a Point to a string. Let’s re-do this again, now:\n",
    "\n",
    "class Point:\n",
    "    \"\"\"Create a new Point, at coordinates x, y\"\"\"\n",
    "    \n",
    "    def __init__(self, x=0, y=0):\n",
    "        \"\"\"Create a new point at x, y\"\"\"\n",
    "        self.x = x\n",
    "        self.y = y\n",
    "        \n",
    "    def distance_from_origin(self):\n",
    "        \"\"\"Compute my distance from the origin\"\"\"\n",
    "        return ((self.x**2) + (self.y**2)) ** 0.5\n",
    "    \n",
    "    def __str__(self): # All we have to do is rename the method __str__\n",
    "        \"\"\"Converting an instance to a string\"\"\"\n",
    "        return \"({0}, {1})\".format(self.x, self.y)"
   ]
  },
  {
   "cell_type": "code",
   "execution_count": 117,
   "metadata": {},
   "outputs": [],
   "source": [
    "p = Point(3,4)"
   ]
  },
  {
   "cell_type": "code",
   "execution_count": 118,
   "metadata": {},
   "outputs": [
    {
     "data": {
      "text/plain": [
       "'(3, 4)'"
      ]
     },
     "execution_count": 118,
     "metadata": {},
     "output_type": "execute_result"
    }
   ],
   "source": [
    "str(p)"
   ]
  },
  {
   "cell_type": "code",
   "execution_count": 119,
   "metadata": {},
   "outputs": [
    {
     "name": "stdout",
     "output_type": "stream",
     "text": [
      "(3, 4)\n"
     ]
    }
   ],
   "source": [
    "print(p)"
   ]
  },
  {
   "cell_type": "code",
   "execution_count": 120,
   "metadata": {},
   "outputs": [],
   "source": [
    "# Functions and methods can return instances. For example, given two Point objects, \n",
    "# find their midpoint. First we’ll write this as a regular function:\n",
    "\n",
    "def midpoint(p1, p2):\n",
    "    \"\"\"Return the midpoint of point p1 and p2\"\"\"\n",
    "    mx = (p1.x + p2.x) / 2\n",
    "    my = (p1.y + p2.y) / 2\n",
    "    return Point(mx, my)"
   ]
  },
  {
   "cell_type": "code",
   "execution_count": 121,
   "metadata": {},
   "outputs": [
    {
     "name": "stdout",
     "output_type": "stream",
     "text": [
      "(4.0, 8.0)\n"
     ]
    }
   ],
   "source": [
    "p = Point(3, 4)\n",
    "q = Point(5, 12)\n",
    "r = midpoint(p, q)\n",
    "print(r)"
   ]
  },
  {
   "cell_type": "code",
   "execution_count": 122,
   "metadata": {},
   "outputs": [],
   "source": [
    "# Now let us do this as a method instead. Suppose we have a point object, \n",
    "# and wish to find the midpoint halfway between it and some other target point:\n",
    "\n",
    "class Point:\n",
    "    \"\"\"Create a new Point, at coordinates x, y\"\"\"\n",
    "    \n",
    "    def __init__(self, x=0, y=0):\n",
    "        \"\"\"Create a new point at x, y\"\"\"\n",
    "        self.x = x\n",
    "        self.y = y\n",
    "        \n",
    "    def distance_from_origin(self):\n",
    "        \"\"\"Compute my distance from the origin\"\"\"\n",
    "        return ((self.x**2) + (self.y**2)) ** 0.5\n",
    "    \n",
    "    def __str__(self): # All we have to do is rename the method __str__\n",
    "        \"\"\"Converting an instance to a string\"\"\"\n",
    "        return \"({0}, {1})\".format(self.x, self.y)\n",
    "    \n",
    "    def halfway(self, target):\n",
    "        \"\"\"Return the halfway point between myself and the target\"\"\"\n",
    "        mx = (self.x + target.x) / 2\n",
    "        my = (self.y + target.y) / 2\n",
    "        return Point(mx, my)"
   ]
  },
  {
   "cell_type": "code",
   "execution_count": 123,
   "metadata": {},
   "outputs": [
    {
     "name": "stdout",
     "output_type": "stream",
     "text": [
      "(4.0, 8.0)\n"
     ]
    }
   ],
   "source": [
    "p = Point(3, 4)\n",
    "q = Point(5, 12)\n",
    "r = p.halfway(q)\n",
    "print(r)"
   ]
  },
  {
   "cell_type": "code",
   "execution_count": 124,
   "metadata": {},
   "outputs": [
    {
     "name": "stdout",
     "output_type": "stream",
     "text": [
      "(4.0, 8.0)\n"
     ]
    }
   ],
   "source": [
    "print(Point(3, 4).halfway(Point(5,12)))"
   ]
  },
  {
   "cell_type": "markdown",
   "metadata": {},
   "source": [
    "### 16. Classes and Objects — Digging a little deeper\n"
   ]
  },
  {
   "cell_type": "code",
   "execution_count": 126,
   "metadata": {},
   "outputs": [
    {
     "name": "stdout",
     "output_type": "stream",
     "text": [
      "box:  ((0, 0), 100, 200)\n",
      "bomb:  ((100, 80), 5, 10)\n"
     ]
    }
   ],
   "source": [
    "class Rectangle:\n",
    "    \"\"\" A class to manufacture rectangle objects \"\"\"\n",
    "\n",
    "    def __init__(self, posn, w, h):\n",
    "        \"\"\" Initialize rectangle at posn, with width w, height h \"\"\"\n",
    "        self.corner = posn\n",
    "        self.width = w\n",
    "        self.height = h\n",
    "\n",
    "    def __str__(self):\n",
    "        return  \"({0}, {1}, {2})\".format(self.corner, self.width, self.height)\n",
    "\n",
    "box = Rectangle(Point(0, 0), 100, 200)\n",
    "bomb = Rectangle(Point(100, 80), 5, 10)    # In my video game\n",
    "print(\"box: \", box)\n",
    "print(\"bomb: \", bomb)"
   ]
  },
  {
   "cell_type": "code",
   "execution_count": 127,
   "metadata": {},
   "outputs": [],
   "source": [
    "box.width += 50\n",
    "box.height += 100"
   ]
  },
  {
   "cell_type": "code",
   "execution_count": 129,
   "metadata": {},
   "outputs": [
    {
     "name": "stdout",
     "output_type": "stream",
     "text": [
      "box:  ((0, 0), 150, 300)\n"
     ]
    }
   ],
   "source": [
    "print(\"box: \", box)"
   ]
  },
  {
   "cell_type": "code",
   "execution_count": 143,
   "metadata": {},
   "outputs": [],
   "source": [
    "class Rectangle:\n",
    "    \n",
    "    def __init__(self, posn, w, h):\n",
    "        self.corner = posn\n",
    "        self.width = w\n",
    "        self.height = h\n",
    "        \n",
    "    def __str__(self):\n",
    "        return  \"({0}, {1}, {2})\".format(self.corner, self.width, self.height) \n",
    "    \n",
    "    def grow(self, delta_width, delta_height):\n",
    "        \"\"\"Grow (or shrink) this object by the deltas\"\"\"\n",
    "        self.width += delta_width\n",
    "        self.height += delta_height\n",
    "    \n",
    "    def move(self, dx, dy):\n",
    "        \"\"\"Move the object by the deltas\"\"\"\n",
    "        self.corner.x += dx\n",
    "        self.corner.y += dy\n",
    "        "
   ]
  },
  {
   "cell_type": "code",
   "execution_count": 131,
   "metadata": {},
   "outputs": [],
   "source": [
    "r = Rectangle(Point(10, 5), 100, 50)"
   ]
  },
  {
   "cell_type": "code",
   "execution_count": 132,
   "metadata": {},
   "outputs": [
    {
     "name": "stdout",
     "output_type": "stream",
     "text": [
      "((10, 5), 100, 50)\n"
     ]
    }
   ],
   "source": [
    "print(r)"
   ]
  },
  {
   "cell_type": "code",
   "execution_count": 133,
   "metadata": {},
   "outputs": [],
   "source": [
    "r.grow(25, -10)"
   ]
  },
  {
   "cell_type": "code",
   "execution_count": 134,
   "metadata": {},
   "outputs": [
    {
     "name": "stdout",
     "output_type": "stream",
     "text": [
      "((10, 5), 125, 40)\n"
     ]
    }
   ],
   "source": [
    "print(r)"
   ]
  },
  {
   "cell_type": "code",
   "execution_count": 135,
   "metadata": {},
   "outputs": [],
   "source": [
    "r.move(-10, 10)"
   ]
  },
  {
   "cell_type": "code",
   "execution_count": 136,
   "metadata": {},
   "outputs": [
    {
     "name": "stdout",
     "output_type": "stream",
     "text": [
      "((0, 15), 125, 40)\n"
     ]
    }
   ],
   "source": [
    "print(r)"
   ]
  },
  {
   "cell_type": "code",
   "execution_count": 137,
   "metadata": {},
   "outputs": [
    {
     "data": {
      "text/plain": [
       "False"
      ]
     },
     "execution_count": 137,
     "metadata": {},
     "output_type": "execute_result"
    }
   ],
   "source": [
    "p1 = Point(3,4)\n",
    "p2 = Point(3,4)\n",
    "p1 is p2"
   ]
  },
  {
   "cell_type": "code",
   "execution_count": 140,
   "metadata": {},
   "outputs": [
    {
     "data": {
      "text/plain": [
       "True"
      ]
     },
     "execution_count": 140,
     "metadata": {},
     "output_type": "execute_result"
    }
   ],
   "source": [
    "p3 = p1\n",
    "p1 is p3"
   ]
  },
  {
   "cell_type": "code",
   "execution_count": 146,
   "metadata": {},
   "outputs": [
    {
     "data": {
      "text/plain": [
       "True"
      ]
     },
     "execution_count": 146,
     "metadata": {},
     "output_type": "execute_result"
    }
   ],
   "source": [
    "# same_coordinates\n",
    "\n",
    "def same_coordinates(p1, p2):\n",
    "        \"\"\"Compare the contents of the objects — deep equality\"\"\"\n",
    "        return (p1.x == p2.x) and (p1.y == p2.y)\n",
    "    \n",
    "    \n",
    "p1 = Point(3,4)\n",
    "p2 = Point(3,4)\n",
    "same_coordinates(p1, p2)"
   ]
  },
  {
   "cell_type": "code",
   "execution_count": 147,
   "metadata": {},
   "outputs": [
    {
     "name": "stdout",
     "output_type": "stream",
     "text": [
      "== on Points returns False\n"
     ]
    }
   ],
   "source": [
    "p = Point(4,2)\n",
    "s = Point(4,2)\n",
    "print(\"== on Points returns\", p == s)\n",
    "# By default, == on Point objects does a shallow equality test"
   ]
  },
  {
   "cell_type": "code",
   "execution_count": 148,
   "metadata": {},
   "outputs": [
    {
     "name": "stdout",
     "output_type": "stream",
     "text": [
      "== on Points returns True\n"
     ]
    }
   ],
   "source": [
    "a = [2, 3]\n",
    "b = [2, 3]\n",
    "print(\"== on Points returns\", a == b)"
   ]
  },
  {
   "cell_type": "code",
   "execution_count": 149,
   "metadata": {},
   "outputs": [
    {
     "data": {
      "text/plain": [
       "False"
      ]
     },
     "execution_count": 149,
     "metadata": {},
     "output_type": "execute_result"
    }
   ],
   "source": [
    "import copy\n",
    "\n",
    "p1 = Point(3,4)\n",
    "p2 = copy.copy(p1)\n",
    "p1 is p2"
   ]
  },
  {
   "cell_type": "code",
   "execution_count": 150,
   "metadata": {},
   "outputs": [
    {
     "data": {
      "text/plain": [
       "True"
      ]
     },
     "execution_count": 150,
     "metadata": {},
     "output_type": "execute_result"
    }
   ],
   "source": [
    "same_coordinates(p1, p2)"
   ]
  },
  {
   "cell_type": "code",
   "execution_count": 151,
   "metadata": {},
   "outputs": [],
   "source": [
    "p2 = copy.deepcopy(p1)"
   ]
  },
  {
   "cell_type": "code",
   "execution_count": 152,
   "metadata": {},
   "outputs": [
    {
     "data": {
      "text/plain": [
       "False"
      ]
     },
     "execution_count": 152,
     "metadata": {},
     "output_type": "execute_result"
    }
   ],
   "source": [
    "p1 is p2"
   ]
  },
  {
   "cell_type": "code",
   "execution_count": null,
   "metadata": {},
   "outputs": [],
   "source": []
  }
 ],
 "metadata": {
  "kernelspec": {
   "display_name": "Python 3",
   "language": "python",
   "name": "python3"
  },
  "language_info": {
   "codemirror_mode": {
    "name": "ipython",
    "version": 3
   },
   "file_extension": ".py",
   "mimetype": "text/x-python",
   "name": "python",
   "nbconvert_exporter": "python",
   "pygments_lexer": "ipython3",
   "version": "3.7.4"
  }
 },
 "nbformat": 4,
 "nbformat_minor": 2
}
