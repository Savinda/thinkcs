{
 "cells": [
  {
   "cell_type": "code",
   "execution_count": 238,
   "metadata": {},
   "outputs": [],
   "source": [
    "from unit_tester import test"
   ]
  },
  {
   "cell_type": "code",
   "execution_count": 2,
   "metadata": {},
   "outputs": [],
   "source": [
    "# Modify the Koch fractal program so that it draws a Koch snowflake, like this:\n",
    "import turtle\n",
    "\n",
    "wn = turtle.Screen()                 # Get a reference to the window\n",
    "wn.bgcolor(\"lightgreen\")             # Set the background color\n",
    "tess = turtle.Turtle()               # Create our favorite turtle\n",
    "tess.speed(100)\n",
    "# The next four functions are our \"event handlers\".\n",
    "\n",
    "def koch(t, order, size):\n",
    "    if order == 0:\n",
    "        t.forward(size)\n",
    "    else:\n",
    "        for angle in [60, -120, 60, 0]:\n",
    "            koch(t, order-1, size/3)\n",
    "            t.left(angle)\n",
    "\n",
    "\n",
    "for i in range(3):\n",
    "    tess.left(-120)\n",
    "    koch(tess, 2, 300)"
   ]
  },
  {
   "cell_type": "code",
   "execution_count": 1,
   "metadata": {},
   "outputs": [],
   "source": [
    "# Draw a Cesaro torn line fractal, of the order given by the user. \n",
    "# We show four different lines of orders 0,1,2,3. In this example, \n",
    "# the angle of the tear is 10 degrees.\n",
    "\n",
    "import turtle\n",
    "\n",
    "wn = turtle.Screen()                 # Get a reference to the window\n",
    "wn.bgcolor(\"lightgreen\")             # Set the background color\n",
    "tess = turtle.Turtle()               # Create our favorite turtle\n",
    "# tess.pensize(1)\n",
    "tess.speed(100)\n",
    "\n",
    "\n",
    "def cesaro(t, order, size):\n",
    "    \"\"\"Draw a Cesaro torn line fractal, of the order given by the user.\"\"\"\n",
    "    if order == 0:\n",
    "        t.forward(size)\n",
    "    else:\n",
    "        for angle in [-80, 160, -80, 0]:\n",
    "            cesaro(t, order-1, size/2)\n",
    "            t.left(angle)\n",
    "\n",
    "\n",
    "cesaro(tess, 3, 100)"
   ]
  },
  {
   "cell_type": "code",
   "execution_count": 1,
   "metadata": {},
   "outputs": [],
   "source": [
    "# Four lines make a square. Use the code in part a) to draw cesaro squares. \n",
    "# Varying the angle gives interesting effects — experiment a bit, \n",
    "# or perhaps let the user input the angle of the tear.\n",
    "# Draw a Cesaro torn line fractal, of the order given by the user. \n",
    "# We show four different lines of orders 0,1,2,3. In this example, \n",
    "# the angle of the tear is 10 degrees.\n",
    "\n",
    "import turtle\n",
    "\n",
    "wn = turtle.Screen()                 # Get a reference to the window\n",
    "wn.bgcolor(\"lightgreen\")             # Set the background color\n",
    "tess = turtle.Turtle()               # Create our favorite turtle\n",
    "# tess.pensize(1)\n",
    "tess.speed(100)\n",
    "\n",
    "\n",
    "def cesaro(t, order, size):\n",
    "    \"\"\"Draw a Cesaro torn line fractal, of the order given by the user.\"\"\"\n",
    "    if order == 0:\n",
    "        t.forward(size)\n",
    "    else:\n",
    "        for angle in [-80, 160, -80, 0]:\n",
    "            cesaro(t, order-1, size/2)\n",
    "            t.left(angle)\n",
    "\n",
    "def no_of_times(rad, num):\n",
    "    for i in range(num):\n",
    "        tess.left(rad)\n",
    "        cesaro(tess, 3, 100)\n",
    "        \n",
    "no_of_times(-90, 4)"
   ]
  },
  {
   "cell_type": "code",
   "execution_count": 1,
   "metadata": {},
   "outputs": [],
   "source": [
    "# (For the mathematically inclined). In the squares shown here, the higher-order drawings become a little larger. \n",
    "# (Look at the bottom lines of each square - they’re not aligned.) \n",
    "# This is because we just halved the drawn part of the line for each recursive subproblem. \n",
    "# So we’ve “grown” the overall square by the width of the tear(s). \n",
    "# Can you solve the geometry problem so that the total size of the subproblem case \n",
    "# (including the tear) remains exactly the same size as the original?\n",
    "\n",
    "import turtle\n",
    "\n",
    "wn = turtle.Screen()                 # Get a reference to the window\n",
    "wn.bgcolor(\"lightgreen\")             # Set the background color\n",
    "tess = turtle.Turtle()               # Create our favorite turtle\n",
    "# tess.pensize(1)\n",
    "tess.speed(100)\n",
    "\n",
    "\n",
    "def cesaro(t, order, size):\n",
    "    \"\"\"Draw a Cesaro torn line fractal, of the order given by the user.\"\"\"\n",
    "    if order == 0:\n",
    "        t.forward(size)\n",
    "    else:\n",
    "        for angle in [-80, 160, -80, 0]:\n",
    "            cesaro(t, order-1, (size/2)*order)\n",
    "            t.left(angle)\n",
    "\n",
    "def no_of_times(rad, num):\n",
    "    for i in range(num):\n",
    "        tess.left(rad)\n",
    "        cesaro(tess, 3, 30)\n",
    "        \n",
    "no_of_times(-90, 4)"
   ]
  },
  {
   "cell_type": "code",
   "execution_count": 1,
   "metadata": {},
   "outputs": [],
   "source": [
    "# A Sierpinski triangle of order 0 is an equilateral triangle. \n",
    "# An order 1 triangle can be drawn by drawing 3 smaller triangles \n",
    "# (shown slightly disconnected here, just to help our understanding). \n",
    "# Higher order 2 and 3 triangles are also shown. \n",
    "import turtle\n",
    "\n",
    "wn = turtle.Screen() \n",
    "wn.bgcolor(\"lightgreen\")\n",
    "t = turtle.Turtle()\n",
    "t.speed(100)\n",
    "\n",
    "def draw_sierpinski(length,depth):\n",
    "    if depth==0:\n",
    "        for i in range(0,3):\n",
    "            t.fd(length)\n",
    "            t.left(120)\n",
    "    else:\n",
    "        draw_sierpinski(length/2,depth-1)\n",
    "        t.forward(length/2)\n",
    "        draw_sierpinski(length/2,depth-1)\n",
    "        t.forward(-1*(length/2))\n",
    "        t.left(60)\n",
    "        t.forward(length/2)\n",
    "        t.right(60)\n",
    "        draw_sierpinski(length/2,depth-1)\n",
    "        t.left(60)\n",
    "        t.forward(-1*(length/2))\n",
    "        t.right(60)\n",
    "        \n",
    "\n",
    "draw_sierpinski(100,3)"
   ]
  },
  {
   "cell_type": "code",
   "execution_count": null,
   "metadata": {},
   "outputs": [],
   "source": [
    "# A Sierpinski triangle of order 0 is an equilateral triangle. \n",
    "# An order 1 triangle can be drawn by drawing 3 smaller triangles \n",
    "# (shown slightly disconnected here, just to help our understanding). \n",
    "# Higher order 2 and 3 triangles are also shown. \n",
    "import turtle\n",
    "\n",
    "wn = turtle.Screen() \n",
    "wn.bgcolor(\"lightgreen\")\n",
    "t = turtle.Turtle()\n",
    "t.speed(100)\n",
    "\n",
    "def draw_sierpinski(length,depth, colorChangeDepth=-1):\n",
    "    if depth==0:\n",
    "        for i in range(0,3):\n",
    "            t.fd(length)\n",
    "            t.left(120)\n",
    "    else:\n",
    "        draw_sierpinski(length/2,depth-1)\n",
    "        t.forward(length/2)\n",
    "        draw_sierpinski(length/2,depth-1)\n",
    "        t.forward(-1*(length/2))\n",
    "        t.left(60)\n",
    "        t.forward(length/2)\n",
    "        t.right(60)\n",
    "        draw_sierpinski(length/2,depth-1)\n",
    "        t.left(60)\n",
    "        t.forward(-1*(length/2))\n",
    "        t.right(60)\n",
    "        \n",
    "        for color in [\"red\", \"magenta\", \"blue\"]:\n",
    "            draw_sierpinski(length,depth, colorChangeDepth=-1)\n",
    "\n",
    "draw_sierpinski(100,3, 1)"
   ]
  },
  {
   "cell_type": "code",
   "execution_count": 6,
   "metadata": {},
   "outputs": [],
   "source": [
    "# Write a function, recursive_min, that returns the smallest value in a nested number list. \n",
    "# Assume there are no empty lists or sublists:\n",
    "\n",
    "def recursive_min(nxs):\n",
    "    \"\"\"returns the smallest value in a nested number list\"\"\"\n",
    "    min_value = None\n",
    "    first_time = True\n",
    "    \n",
    "    for e in nxs:\n",
    "        if type(e) == type([]):\n",
    "            val = recursive_min(e)\n",
    "        else:\n",
    "            val = e\n",
    "            \n",
    "        if first_time or val < min_value:\n",
    "            min_value = val\n",
    "            first_time = False\n",
    "            \n",
    "    return min_value"
   ]
  },
  {
   "cell_type": "code",
   "execution_count": 7,
   "metadata": {},
   "outputs": [
    {
     "name": "stdout",
     "output_type": "stream",
     "text": [
      "Test at line 1 ok.\n",
      "Test at line 2 ok.\n",
      "Test at line 3 ok.\n",
      "Test at line 4 ok.\n"
     ]
    }
   ],
   "source": [
    "test(recursive_min([2, 9, [1, 13], 8, 6]) == 1)\n",
    "test(recursive_min([2, [[100, 1], 90], [10, 13], 8, 6]) == 1)\n",
    "test(recursive_min([2, [[13, -7], 90], [1, 100], 8, 6]) == -7)\n",
    "test(recursive_min([[[-13, 7], 90], 2, [1, 100], 8, 6]) == -13)"
   ]
  },
  {
   "cell_type": "code",
   "execution_count": 284,
   "metadata": {},
   "outputs": [],
   "source": [
    "# Write a function count that returns the number of occurrences of target in a nested list:\n",
    "def count(target, nxs):\n",
    "    \"\"\"returns the number of occurrences of target in a nested list\"\"\"\n",
    "    target_count = 0\n",
    "    \n",
    "    for e in nxs:\n",
    "        if e == target:\n",
    "            target_count += 1\n",
    "        if type(e) == type([]):\n",
    "            target_count += count(target, e)\n",
    "            \n",
    "    return target_count"
   ]
  },
  {
   "cell_type": "code",
   "execution_count": 288,
   "metadata": {},
   "outputs": [
    {
     "name": "stdout",
     "output_type": "stream",
     "text": [
      "Test at line 1 ok.\n",
      "Test at line 2 ok.\n",
      "Test at line 3 ok.\n",
      "Test at line 4 ok.\n",
      "Test at line 5 ok.\n",
      "Test at line 7 ok.\n"
     ]
    }
   ],
   "source": [
    "test(count(2, []) == 0)\n",
    "test(count(2, [2, 9, [2, 1, 13, 2], 8, [2, 6]]) == 4)\n",
    "test(count(7, [[9, [7, 1, 13, 2], 8], [7, 6]]) == 2)\n",
    "test(count(15, [[9, [7, 1, 13, 2], 8], [2, 6]]) == 0)\n",
    "test(count(5, [[5, [5, [1, 5], 5], 5], [5, 6]]) == 6)\n",
    "test(count(\"a\",\n",
    "     [[\"this\",[\"a\",[\"thing\",\"a\"],\"a\"],\"is\"], [\"a\",\"easy\"]]) == 4)"
   ]
  },
  {
   "cell_type": "code",
   "execution_count": 345,
   "metadata": {},
   "outputs": [],
   "source": [
    "# Write a function flatten that returns a simple list containing all the values in a nested list:\n",
    "def flatten(nxs):\n",
    "    \"\"\"Returns a simple list containing all the values in a nested list\"\"\"\n",
    "    flatten_list = []\n",
    "    for e in nxs:\n",
    "        if type(e) == type([]):\n",
    "            flatten_list += flatten(e)\n",
    "        else:\n",
    "            flatten_list += [e]\n",
    "    return flatten_list  "
   ]
  },
  {
   "cell_type": "code",
   "execution_count": 347,
   "metadata": {},
   "outputs": [
    {
     "name": "stdout",
     "output_type": "stream",
     "text": [
      "Test at line 1 ok.\n",
      "Test at line 2 ok.\n",
      "Test at line 3 ok.\n",
      "Test at line 5 ok.\n",
      "Test at line 6 ok.\n"
     ]
    }
   ],
   "source": [
    "test(flatten([2,9,[2,1,13,2],8,[2,6]]) == [2,9,2,1,13,2,8,2,6])\n",
    "test(flatten([[9,[7,1,13,2],8],[7,6]]) == [9,7,1,13,2,8,7,6])\n",
    "test(flatten([[9,[7,1,13,2],8],[2,6]]) == [9,7,1,13,2,8,2,6])\n",
    "test(flatten([[\"this\",[\"a\",[\"thing\"],\"a\"],\"is\"],[\"a\",\"easy\"]]) ==\n",
    "              [\"this\",\"a\",\"thing\",\"a\",\"is\",\"a\",\"easy\"])\n",
    "test(flatten([]) == [])"
   ]
  },
  {
   "cell_type": "code",
   "execution_count": 434,
   "metadata": {},
   "outputs": [],
   "source": [
    "# Rewrite the fibonacci algorithm without using recursion. \n",
    "# Can you find bigger terms of the sequence? Can you find fib(200)?\n",
    "from time import process_time\n",
    "t0 = process_time()\n",
    "\n",
    "def fib(n):\n",
    "    n1, n2 = 0, 1\n",
    "    count = 0\n",
    "    \n",
    "    if n <= 0:\n",
    "        return \"n should be > 0\"\n",
    "    elif n == 1:\n",
    "        return n1\n",
    "    else:\n",
    "        while count < n:\n",
    "            nth = n1 + n2\n",
    "            n1 = n2\n",
    "            n2 = nth\n",
    "            count += 1\n",
    "    return n1, t1-t0\n",
    "t1 = process_time()"
   ]
  },
  {
   "cell_type": "code",
   "execution_count": 435,
   "metadata": {},
   "outputs": [
    {
     "data": {
      "text/plain": [
       "(280571172992510140037611932413038677189525, 0.00032599999999405327)"
      ]
     },
     "execution_count": 435,
     "metadata": {},
     "output_type": "execute_result"
    }
   ],
   "source": [
    "fib(200)"
   ]
  },
  {
   "cell_type": "code",
   "execution_count": 439,
   "metadata": {},
   "outputs": [
    {
     "name": "stdout",
     "output_type": "stream",
     "text": [
      "600\n"
     ]
    }
   ],
   "source": [
    "# Use help to find out what sys.getrecursionlimit() and sys.setrecursionlimit(n) do. \n",
    "# Create several experiments similar to what was done in infinite_recursion.py \n",
    "# to test your understanding of how these module functions work.\n",
    "\n",
    "# Python program to explain sys.getrecursionlimit() method  \n",
    "      \n",
    "# Importing sys module  \n",
    "import sys  \n",
    "  \n",
    "# Using sys.getrecursionlimit() method  \n",
    "limit = sys.getrecursionlimit()\n",
    "n = 600\n",
    "new_limit = sys.setrecursionlimit(n)\n",
    "  \n",
    "# Print the result  \n",
    "print(limit)  "
   ]
  },
  {
   "cell_type": "code",
   "execution_count": 453,
   "metadata": {},
   "outputs": [
    {
     "name": "stdout",
     "output_type": "stream",
     "text": [
      "['snake_only.txt', '15.12. Exercises.ipynb', 'Untitled1.ipynb', 'ball.png', '.DS_Store', 'somefile.txt', 'Untitled.ipynb', '16. Classes and Objects — Digging a little deeper.ipynb', 'snake_all.txt', '15. Classes and Objects — the Basics.ipynb', 'mymodule1.py', '8.19. Exercises.ipynb', 'day4-01.mp4', '18. Recursion.ipynb', '13.ipynb', '17. PyGame.ipynb', 'alice_in_wonderland.txt', 'CSES.ipynb', '7.26. Exercises.ipynb', 'Untitled2.ipynb', 'duke_spritesheet.png', 'module1.py', 'unnumbered.txt', '5.14. Exercises.ipynb', 'untitled1', 'seqtools.py', 'newfile.txt', '18.8. Exercises.ipynb', '17.10. Exercises.ipynb', 'module2.py', 'somefile.zip', 'mymodule2.py', 'vocab.txt', '10.6. Exercises.ipynb', 'test.txt', 'oldfile.txt', '14.11. Exercises.ipynb', '16.6. Exercises.ipynb', 'friends.txt', 'numbered.txt', '6.9. Exercises.ipynb', '3.8. Exercises.ipynb', 'sortedfriends', 'wordtools.py', 'cars_new.csv', '14. List Algorithms.ipynb', '13.11. Exercises.ipynb', 'thecopy.zip', '12.11. Exercises.ipynb', 'unit_tester.py']\n"
     ]
    }
   ],
   "source": [
    "# Write a program that walks a directory structure (as in the last section of this chapter), \n",
    "# but instead of printing filenames, it returns a list of all the full paths of files in the directory \n",
    "# or the subdirectories. (Don’t include directories in this list — just files.) \n",
    "# For example, the output list might have elements like this:\n",
    "\n",
    "from os import listdir\n",
    "from os.path import isfile, join\n",
    "\n",
    "mypath =  \"/Users/savinda/Desktop/LEARN/How to Think Like a Computer Scientist: Learning with Python 3\"\n",
    "onlyfiles = [f for f in listdir(mypath) if isfile(join(mypath, f))]\n",
    "\n",
    "print(onlyfiles[:])"
   ]
  },
  {
   "cell_type": "code",
   "execution_count": 516,
   "metadata": {},
   "outputs": [],
   "source": [
    "# Write a program named litter.py that creates an empty file named trash.txt \n",
    "# in each subdirectory of a directory tree given the root of the tree as an argument \n",
    "# (or the current directory as a default). Now write a program named cleanup.py that removes all these files.\n",
    "\n",
    "from os import listdir, remove\n",
    "from os.path import isfile, join\n",
    "\n",
    "mypath =  \"/Users/savinda/Desktop/LEARN/AI Programming with Python\"\n",
    "filename = \"trash\"\n",
    "file_ext = \".txt\"\n",
    "\n",
    "def litter(path):\n",
    "    \"\"\"A program named litter.py that creates an empty file named trash.txt \"\"\"\n",
    "    folders = [f for f in listdir(path) if not isfile(join(path, f))]\n",
    "    if len(folders) == 0:\n",
    "        # Writing the file\n",
    "        open(path+\"/\"+filename+file_ext, \"w+\")\n",
    "#         open(path+\"/\"+path.split(\"/\")[-1]+\".txt\", \"w+\") up folder name\n",
    "    else:\n",
    "        for folder in folders:\n",
    "            litter(path+\"/\"+folder)\n",
    "            \n",
    "litter(mypath)"
   ]
  },
  {
   "cell_type": "code",
   "execution_count": 517,
   "metadata": {},
   "outputs": [
    {
     "name": "stdout",
     "output_type": "stream",
     "text": [
      "File trash.txt removed from 2\n",
      "File trash.txt removed from 2\n"
     ]
    }
   ],
   "source": [
    "def cleanup(path):\n",
    "    \"\"\"Remove all the files created by litter function\"\"\"\n",
    "    folders = [f for f in listdir(path) if not isfile(join(path, f))]\n",
    "    for folder in folders:\n",
    "        file_path = mypath+'/'+folder+'/'+filename+file_ext\n",
    "        try:\n",
    "            remove(file_path)\n",
    "            print(\"File trash.txt removed from\", len(folders))\n",
    "        except:\n",
    "            print(\"There's no file named trash.txt\")\n",
    "\n",
    "cleanup(mypath)"
   ]
  },
  {
   "cell_type": "code",
   "execution_count": null,
   "metadata": {},
   "outputs": [],
   "source": []
  }
 ],
 "metadata": {
  "kernelspec": {
   "display_name": "Python 3",
   "language": "python",
   "name": "python3"
  },
  "language_info": {
   "codemirror_mode": {
    "name": "ipython",
    "version": 3
   },
   "file_extension": ".py",
   "mimetype": "text/x-python",
   "name": "python",
   "nbconvert_exporter": "python",
   "pygments_lexer": "ipython3",
   "version": "3.7.4"
  }
 },
 "nbformat": 4,
 "nbformat_minor": 2
}
