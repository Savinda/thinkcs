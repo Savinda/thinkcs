{
 "cells": [
  {
   "cell_type": "code",
   "execution_count": 32,
   "metadata": {},
   "outputs": [],
   "source": [
    "from unit_tester import test"
   ]
  },
  {
   "cell_type": "code",
   "execution_count": 128,
   "metadata": {},
   "outputs": [
    {
     "name": "stdout",
     "output_type": "stream",
     "text": [
      "[('a', 2), ('c', 1), ('d', 1), ('e', 5), ('g', 1), ('h', 2), ('i', 4), ('l', 2), ('n', 2), ('o', 1), ('p', 2), ('r', 4), ('s', 5), ('t', 5), ('u', 1), ('w', 2)]\n"
     ]
    }
   ],
   "source": [
    "# Write a program that reads a string and returns a table of the letters of the alphabet in alphabetical \n",
    "# order which occur in the string together with the number of times each letter occurs. Case should be ignored. \n",
    "# A sample output of the program when the user enters the data \n",
    "# “ThiS is String with Upper and lower case Letters”, \n",
    "# would look this this:\n",
    "\n",
    "strng = \"ThiS is String with Upper and lower case Letters\"\n",
    "\n",
    "letter_counts = {}\n",
    "for letter in strng.replace(\" \", \"\").lower():\n",
    "    letter_counts[letter] = letter_counts.get(letter, 0) + 1\n",
    "\n",
    "letter_items = list(letter_counts.items())\n",
    "letter_items.sort()\n",
    "    \n",
    "print(letter_items)"
   ]
  },
  {
   "cell_type": "code",
   "execution_count": 15,
   "metadata": {},
   "outputs": [],
   "source": [
    "# Give the Python interpreter’s response to each of the following from a continuous interpreter session:\n",
    "d = {\"apples\": 15, \"bananas\": 35, \"grapes\": 12}"
   ]
  },
  {
   "cell_type": "code",
   "execution_count": 16,
   "metadata": {},
   "outputs": [
    {
     "data": {
      "text/plain": [
       "35"
      ]
     },
     "execution_count": 16,
     "metadata": {},
     "output_type": "execute_result"
    }
   ],
   "source": [
    "d[\"bananas\"]"
   ]
  },
  {
   "cell_type": "code",
   "execution_count": 18,
   "metadata": {},
   "outputs": [
    {
     "data": {
      "text/plain": [
       "4"
      ]
     },
     "execution_count": 18,
     "metadata": {},
     "output_type": "execute_result"
    }
   ],
   "source": [
    "d[\"oranges\"] = 20\n",
    "len(d)"
   ]
  },
  {
   "cell_type": "code",
   "execution_count": 20,
   "metadata": {},
   "outputs": [
    {
     "data": {
      "text/plain": [
       "True"
      ]
     },
     "execution_count": 20,
     "metadata": {},
     "output_type": "execute_result"
    }
   ],
   "source": [
    "\"grapes\" in d"
   ]
  },
  {
   "cell_type": "code",
   "execution_count": 21,
   "metadata": {},
   "outputs": [
    {
     "ename": "KeyError",
     "evalue": "'pears'",
     "output_type": "error",
     "traceback": [
      "\u001b[0;31m---------------------------------------------------------------------------\u001b[0m",
      "\u001b[0;31mKeyError\u001b[0m                                  Traceback (most recent call last)",
      "\u001b[0;32m<ipython-input-21-18a455775f99>\u001b[0m in \u001b[0;36m<module>\u001b[0;34m\u001b[0m\n\u001b[0;32m----> 1\u001b[0;31m \u001b[0md\u001b[0m\u001b[0;34m[\u001b[0m\u001b[0;34m\"pears\"\u001b[0m\u001b[0;34m]\u001b[0m\u001b[0;34m\u001b[0m\u001b[0;34m\u001b[0m\u001b[0m\n\u001b[0m",
      "\u001b[0;31mKeyError\u001b[0m: 'pears'"
     ]
    }
   ],
   "source": [
    "d[\"pears\"]"
   ]
  },
  {
   "cell_type": "code",
   "execution_count": 22,
   "metadata": {},
   "outputs": [
    {
     "data": {
      "text/plain": [
       "0"
      ]
     },
     "execution_count": 22,
     "metadata": {},
     "output_type": "execute_result"
    }
   ],
   "source": [
    "d.get(\"pears\", 0)"
   ]
  },
  {
   "cell_type": "code",
   "execution_count": 25,
   "metadata": {},
   "outputs": [
    {
     "name": "stdout",
     "output_type": "stream",
     "text": [
      "['apples', 'bananas', 'grapes', 'oranges']\n"
     ]
    }
   ],
   "source": [
    "fruits = list(d.keys())\n",
    "fruits.sort()\n",
    "print(fruits)"
   ]
  },
  {
   "cell_type": "code",
   "execution_count": 27,
   "metadata": {},
   "outputs": [
    {
     "ename": "KeyError",
     "evalue": "'apples'",
     "output_type": "error",
     "traceback": [
      "\u001b[0;31m---------------------------------------------------------------------------\u001b[0m",
      "\u001b[0;31mKeyError\u001b[0m                                  Traceback (most recent call last)",
      "\u001b[0;32m<ipython-input-27-92f1d8c086e6>\u001b[0m in \u001b[0;36m<module>\u001b[0;34m\u001b[0m\n\u001b[0;32m----> 1\u001b[0;31m \u001b[0;32mdel\u001b[0m \u001b[0md\u001b[0m\u001b[0;34m[\u001b[0m\u001b[0;34m\"apples\"\u001b[0m\u001b[0;34m]\u001b[0m\u001b[0;34m\u001b[0m\u001b[0;34m\u001b[0m\u001b[0m\n\u001b[0m\u001b[1;32m      2\u001b[0m \u001b[0;34m\"apples\"\u001b[0m \u001b[0;32min\u001b[0m \u001b[0md\u001b[0m\u001b[0;34m\u001b[0m\u001b[0;34m\u001b[0m\u001b[0m\n",
      "\u001b[0;31mKeyError\u001b[0m: 'apples'"
     ]
    }
   ],
   "source": [
    "del d[\"apples\"]\n",
    "\"apples\" in d"
   ]
  },
  {
   "cell_type": "code",
   "execution_count": 78,
   "metadata": {},
   "outputs": [],
   "source": [
    "# Be sure you understand why you get each result. \n",
    "# Then apply what you have learned to fill in the body of the function below:\n",
    "\n",
    "def add_fruit(inventory, fruit, quantity=0):\n",
    "    if fruit in inventory:\n",
    "        inventory[fruit] += quantity\n",
    "    else:\n",
    "        inventory[fruit] = quantity\n",
    "    return {**inventory, fruit: quantity}"
   ]
  },
  {
   "cell_type": "code",
   "execution_count": 79,
   "metadata": {},
   "outputs": [],
   "source": [
    "new_inventory = {}"
   ]
  },
  {
   "cell_type": "code",
   "execution_count": 80,
   "metadata": {},
   "outputs": [
    {
     "data": {
      "text/plain": [
       "{'strawberries': 10}"
      ]
     },
     "execution_count": 80,
     "metadata": {},
     "output_type": "execute_result"
    }
   ],
   "source": [
    "add_fruit(new_inventory, \"strawberries\", 10)"
   ]
  },
  {
   "cell_type": "code",
   "execution_count": 81,
   "metadata": {},
   "outputs": [
    {
     "name": "stdout",
     "output_type": "stream",
     "text": [
      "Test at line 1 ok.\n"
     ]
    }
   ],
   "source": [
    "test(\"strawberries\" in new_inventory)"
   ]
  },
  {
   "cell_type": "code",
   "execution_count": 82,
   "metadata": {},
   "outputs": [
    {
     "name": "stdout",
     "output_type": "stream",
     "text": [
      "Test at line 1 ok.\n"
     ]
    }
   ],
   "source": [
    "test(new_inventory[\"strawberries\"] == 10)"
   ]
  },
  {
   "cell_type": "code",
   "execution_count": 83,
   "metadata": {},
   "outputs": [
    {
     "data": {
      "text/plain": [
       "{'strawberries': 25}"
      ]
     },
     "execution_count": 83,
     "metadata": {},
     "output_type": "execute_result"
    }
   ],
   "source": [
    "add_fruit(new_inventory, \"strawberries\", 25)"
   ]
  },
  {
   "cell_type": "code",
   "execution_count": 85,
   "metadata": {},
   "outputs": [
    {
     "name": "stdout",
     "output_type": "stream",
     "text": [
      "Test at line 1 ok.\n"
     ]
    }
   ],
   "source": [
    "test(new_inventory[\"strawberries\"] == 35)"
   ]
  },
  {
   "cell_type": "code",
   "execution_count": 285,
   "metadata": {},
   "outputs": [],
   "source": [
    "filename = \"alice_in_wonderland.txt\"\n",
    "\n",
    "def load_and_clean(filename):\n",
    "    \"\"\"Read words from filename and return cleaned list of words\"\"\"\n",
    "    with open(filename, \"r\") as f:\n",
    "        file_content = f.read().lower()\n",
    "    \n",
    "    # Clean it up\n",
    "    my_subs = file_content.maketrans(\n",
    "        # if find any of these\n",
    "        \"ABCDEFGHIJKLMNOPQRSTUVWXYZ0123456789!\\\"#$%&()*+,-./:;<=>?@[]^_`{|}~'\\\\\",\n",
    "    # replace them with these\n",
    "        \"abcdefghijklmnopqrstuvwxyz                                          \")\n",
    "        \n",
    "    cleaned_text = file_content.translate(my_subs)\n",
    "    wds = file_content.split()\n",
    "    return wds\n",
    "\n",
    "def count_words():\n",
    "    \"\"\"Count number of words and occurences and make dictionary with keys and values\"\"\"\n",
    "    word_counts = {}\n",
    "    for word in load_and_clean(filename):\n",
    "        word_counts[word] = word_counts.get(word, 0) + 1\n",
    "    return word_counts\n",
    "\n",
    "def write_to_file():\n",
    "    \"\"\"Write word counts to given filename in txt format\"\"\"\n",
    "    file_out_name = input(\"Enter a file name: (without extension .txt) \")\n",
    "    file_out = file_out_name + \".txt\"\n",
    "    with open(file_out, \"w\") as f:\n",
    "        f.write(\"{:20s} {:>5s}\\n\".format(\"Word\", \"Count\"))\n",
    "        f.write(\"============================\\n\")\n",
    "        for (key, value) in word_counts.items():\n",
    "            f.write(\"{:20s} {:<5d}\\n\".format(key, value))"
   ]
  },
  {
   "cell_type": "code",
   "execution_count": 286,
   "metadata": {},
   "outputs": [
    {
     "name": "stdout",
     "output_type": "stream",
     "text": [
      "Enter a file name: (without extension .txt) alice_words\n"
     ]
    }
   ],
   "source": [
    "write_to_file()"
   ]
  },
  {
   "cell_type": "code",
   "execution_count": 364,
   "metadata": {},
   "outputs": [
    {
     "name": "stdout",
     "output_type": "stream",
     "text": [
      "'important--unimportant--unimportant--important--' 50\n"
     ]
    }
   ],
   "source": [
    "# What is the longest word in Alice in Wonderland? How many characters does it have?\n",
    "longest_word = max(count_words(), key=len)\n",
    "print(longest_word, len(longest_word))"
   ]
  }
 ],
 "metadata": {
  "kernelspec": {
   "display_name": "Python 3",
   "language": "python",
   "name": "python3"
  },
  "language_info": {
   "codemirror_mode": {
    "name": "ipython",
    "version": 3
   },
   "file_extension": ".py",
   "mimetype": "text/x-python",
   "name": "python",
   "nbconvert_exporter": "python",
   "pygments_lexer": "ipython3",
   "version": "3.7.4"
  }
 },
 "nbformat": 4,
 "nbformat_minor": 2
}
