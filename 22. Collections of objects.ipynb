{
 "cells": [
  {
   "cell_type": "code",
   "execution_count": 60,
   "metadata": {},
   "outputs": [],
   "source": [
    "class Card:\n",
    "    suits = [\"Clubs\", \"Diamonds\", \"Hearts\", \"Spades\"]\n",
    "    ranks = [\"narf\", \"Ace\", \"2\", \"3\", \"4\", \"5\", \"6\", \"7\", \"8\", \"9\", \"10\", \"Jack\", \"Queen\", \"King\"]\n",
    "    \n",
    "    def __init__(self, suit=0, rank=0):\n",
    "        self.suit = suit\n",
    "        self.rank = rank\n",
    "        \n",
    "    def __str__(self):\n",
    "        return (self.ranks[self.rank] + \" of \" + self.suits[self.suit])\n",
    "    \n",
    "    def cmp(self, other):\n",
    "        # Check the suits\n",
    "        if self.suit > other.suit: return 1\n",
    "        if self.suit < other.suit: return -1\n",
    "        # Suits are the same, check ranks\n",
    "        ranks[1], ranks[-1] = ranks[-1], ranks[1]\n",
    "        if self.rank > other.rank: return 1\n",
    "        if self.rank < other.rank: return -1\n",
    "        # Ranks are the same, it's a tie\n",
    "        return 0\n",
    "    \n",
    "    # six special methods that do the overloading of each of the relational operators for us\n",
    "    def __eq__(self, other):\n",
    "        return self.cmp(other) == 0\n",
    "    def __le__(self, other):\n",
    "        return self.cmp(other) <= 0\n",
    "    def __ge__(self, other):\n",
    "        return self.cmp(other) >= 0\n",
    "    def __gt__(self, other):\n",
    "        return self.cmp(other) > 0\n",
    "    def __lt__(self, other):\n",
    "        return self.cmp(other) < 0\n",
    "    def __ne__(self, other):\n",
    "        return self.cmp(other) != 0\n",
    "    \n",
    "# The initialization method creates the attribute cards and generates the standard pack of fifty-two cards\n",
    "class Deck:\n",
    "    def __init__(self):\n",
    "        self.cards = []\n",
    "        for suit in range(4):\n",
    "            for rank in range(1, 14):\n",
    "                self.cards.append(Card(suit, rank))\n",
    "                \n",
    "    # Printing the deck\n",
    "    def __str__(self):\n",
    "        s = \"\"\n",
    "        for i in range(len(self.cards)):\n",
    "            s = s + \" \" * i + str(self.cards[i]) + \"\\n\"\n",
    "        return s\n",
    "    \n",
    "    def shuffle(self):\n",
    "        import random\n",
    "        rng = random.Random() # Create a random generator\n",
    "        rng.shuffle(self.cards) # Use generator's shuffle method\n",
    "#         num_cards = len(self.cards)\n",
    "#         for i in range(num_cards):\n",
    "#             j = rng.randrange(i, num_cards)\n",
    "#             (self.cards[i], self.cards[j]) = (self.cards[j], self.cards[i])\n",
    "\n",
    "    # Removing and dealing cards\n",
    "    def remove(self, card):\n",
    "        if card in self.cards:\n",
    "            self.cards.remove(card)\n",
    "            return True\n",
    "        else:\n",
    "            return False\n",
    "        \n",
    "    # Remove and return the top card.\n",
    "    def pop(self):\n",
    "        return self.cards.pop()\n",
    "    \n",
    "    # returns True if the deck contains no cards\n",
    "    def is_empty(self):\n",
    "        return self.cards == []"
   ]
  },
  {
   "cell_type": "code",
   "execution_count": 61,
   "metadata": {},
   "outputs": [],
   "source": [
    "three_of_clubs = Card(0,3)\n",
    "card1 = Card(1, 11)\n",
    "card2 = Card(1, 3)"
   ]
  },
  {
   "cell_type": "code",
   "execution_count": 62,
   "metadata": {},
   "outputs": [
    {
     "name": "stdout",
     "output_type": "stream",
     "text": [
      "Jack of Diamonds\n",
      "3 of Diamonds\n",
      "Diamonds\n"
     ]
    }
   ],
   "source": [
    "print(card1)\n",
    "print(card2)\n",
    "print(card2.suits[1])"
   ]
  },
  {
   "cell_type": "code",
   "execution_count": 63,
   "metadata": {},
   "outputs": [
    {
     "name": "stdout",
     "output_type": "stream",
     "text": [
      "Jack of Swirly Whales\n",
      "3 of Swirly Whales\n"
     ]
    }
   ],
   "source": [
    "card1.suits[1] = \"Swirly Whales\"\n",
    "print(card1)\n",
    "print(card2)"
   ]
  },
  {
   "cell_type": "code",
   "execution_count": 64,
   "metadata": {},
   "outputs": [
    {
     "name": "stdout",
     "output_type": "stream",
     "text": [
      "Jack of Diamonds\n",
      "3 of Diamonds\n"
     ]
    }
   ],
   "source": [
    "card1.suits[1] = \"Diamonds\"\n",
    "print(card1)\n",
    "print(card2)"
   ]
  },
  {
   "cell_type": "code",
   "execution_count": 65,
   "metadata": {},
   "outputs": [],
   "source": [
    "card1 = Card(1, 11)\n",
    "card2 = Card(1, 3)\n",
    "card3 = Card(1, 11)"
   ]
  },
  {
   "cell_type": "code",
   "execution_count": 66,
   "metadata": {},
   "outputs": [
    {
     "data": {
      "text/plain": [
       "False"
      ]
     },
     "execution_count": 66,
     "metadata": {},
     "output_type": "execute_result"
    }
   ],
   "source": [
    "card1 < card2"
   ]
  },
  {
   "cell_type": "code",
   "execution_count": 67,
   "metadata": {},
   "outputs": [
    {
     "data": {
      "text/plain": [
       "True"
      ]
     },
     "execution_count": 67,
     "metadata": {},
     "output_type": "execute_result"
    }
   ],
   "source": [
    "card1 ==  card3"
   ]
  },
  {
   "cell_type": "code",
   "execution_count": 68,
   "metadata": {},
   "outputs": [],
   "source": [
    "red_deck = Deck()\n",
    "blue_deck = Deck()"
   ]
  },
  {
   "cell_type": "code",
   "execution_count": 69,
   "metadata": {},
   "outputs": [
    {
     "name": "stdout",
     "output_type": "stream",
     "text": [
      "Ace of Clubs\n",
      " 2 of Clubs\n",
      "  3 of Clubs\n",
      "   4 of Clubs\n",
      "    5 of Clubs\n",
      "     6 of Clubs\n",
      "      7 of Clubs\n",
      "       8 of Clubs\n",
      "        9 of Clubs\n",
      "         10 of Clubs\n",
      "          Jack of Clubs\n",
      "           Queen of Clubs\n",
      "            King of Clubs\n",
      "             Ace of Diamonds\n",
      "              2 of Diamonds\n",
      "               3 of Diamonds\n",
      "                4 of Diamonds\n",
      "                 5 of Diamonds\n",
      "                  6 of Diamonds\n",
      "                   7 of Diamonds\n",
      "                    8 of Diamonds\n",
      "                     9 of Diamonds\n",
      "                      10 of Diamonds\n",
      "                       Jack of Diamonds\n",
      "                        Queen of Diamonds\n",
      "                         King of Diamonds\n",
      "                          Ace of Hearts\n",
      "                           2 of Hearts\n",
      "                            3 of Hearts\n",
      "                             4 of Hearts\n",
      "                              5 of Hearts\n",
      "                               6 of Hearts\n",
      "                                7 of Hearts\n",
      "                                 8 of Hearts\n",
      "                                  9 of Hearts\n",
      "                                   10 of Hearts\n",
      "                                    Jack of Hearts\n",
      "                                     Queen of Hearts\n",
      "                                      King of Hearts\n",
      "                                       Ace of Spades\n",
      "                                        2 of Spades\n",
      "                                         3 of Spades\n",
      "                                          4 of Spades\n",
      "                                           5 of Spades\n",
      "                                            6 of Spades\n",
      "                                             7 of Spades\n",
      "                                              8 of Spades\n",
      "                                               9 of Spades\n",
      "                                                10 of Spades\n",
      "                                                 Jack of Spades\n",
      "                                                  Queen of Spades\n",
      "                                                   King of Spades\n",
      "\n"
     ]
    }
   ],
   "source": [
    "print(red_deck)"
   ]
  },
  {
   "cell_type": "code",
   "execution_count": 70,
   "metadata": {},
   "outputs": [],
   "source": [
    "ranks = [\"narf\", \"Ace\", \"2\", \"3\", \"4\", \"5\", \"6\", \"7\", \"8\", \"9\", \"10\", \"Jack\", \"Queen\", \"King\"]"
   ]
  },
  {
   "cell_type": "code",
   "execution_count": 71,
   "metadata": {},
   "outputs": [
    {
     "name": "stdout",
     "output_type": "stream",
     "text": [
      "narf\n",
      "King\n",
      "2\n",
      "3\n",
      "4\n",
      "5\n",
      "6\n",
      "7\n",
      "8\n",
      "9\n",
      "10\n",
      "Jack\n",
      "Queen\n",
      "King\n"
     ]
    }
   ],
   "source": [
    "for rank in ranks:\n",
    "    if rank == \"Ace\":\n",
    "        rank = \"King\"\n",
    "    print(rank)"
   ]
  },
  {
   "cell_type": "code",
   "execution_count": 58,
   "metadata": {},
   "outputs": [],
   "source": [
    "ranks[1], ranks[-1] = ranks[-1], ranks[1]"
   ]
  },
  {
   "cell_type": "code",
   "execution_count": 59,
   "metadata": {},
   "outputs": [
    {
     "name": "stdout",
     "output_type": "stream",
     "text": [
      "['narf', 'King', '2', '3', '4', '5', '6', '7', '8', '9', '10', 'Jack', 'Queen', 'Ace']\n"
     ]
    }
   ],
   "source": [
    "print(ranks)"
   ]
  },
  {
   "cell_type": "code",
   "execution_count": 74,
   "metadata": {},
   "outputs": [
    {
     "ename": "TypeError",
     "evalue": "list indices must be integers or slices, not str",
     "output_type": "error",
     "traceback": [
      "\u001b[0;31m---------------------------------------------------------------------------\u001b[0m",
      "\u001b[0;31mTypeError\u001b[0m                                 Traceback (most recent call last)",
      "\u001b[0;32m<ipython-input-74-e7c2bf560c36>\u001b[0m in \u001b[0;36m<module>\u001b[0;34m\u001b[0m\n\u001b[0;32m----> 1\u001b[0;31m \u001b[0mranks\u001b[0m\u001b[0;34m[\u001b[0m\u001b[0;34m\"King\"\u001b[0m\u001b[0;34m]\u001b[0m\u001b[0;34m\u001b[0m\u001b[0;34m\u001b[0m\u001b[0m\n\u001b[0m",
      "\u001b[0;31mTypeError\u001b[0m: list indices must be integers or slices, not str"
     ]
    }
   ],
   "source": []
  },
  {
   "cell_type": "code",
   "execution_count": null,
   "metadata": {},
   "outputs": [],
   "source": []
  }
 ],
 "metadata": {
  "kernelspec": {
   "display_name": "Python 3",
   "language": "python",
   "name": "python3"
  },
  "language_info": {
   "codemirror_mode": {
    "name": "ipython",
    "version": 3
   },
   "file_extension": ".py",
   "mimetype": "text/x-python",
   "name": "python",
   "nbconvert_exporter": "python",
   "pygments_lexer": "ipython3",
   "version": "3.7.4"
  }
 },
 "nbformat": 4,
 "nbformat_minor": 2
}
