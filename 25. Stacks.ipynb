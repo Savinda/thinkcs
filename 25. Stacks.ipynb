{
 "cells": [
  {
   "cell_type": "code",
   "execution_count": 3,
   "metadata": {},
   "outputs": [],
   "source": [
    "class Stack:\n",
    "    def __init__(self):\n",
    "        self.items = []\n",
    "    \n",
    "    def push(self, item):\n",
    "        self.items.append(item)\n",
    "        \n",
    "    def pop(self):\n",
    "        return self.items.pop()\n",
    "    \n",
    "    def is_empty(self):\n",
    "        return (self.items == [])\n",
    "    \n",
    "#     def eval_postfix(expr):\n",
    "#         import re\n",
    "#         token_list = re.split(\"([^0-9])\", expr)\n",
    "#         stack = Stack()\n",
    "#         for token in token_list:\n",
    "#             if token == \"\" or token == \" \":\n",
    "#                 continue\n",
    "#             if token == \"+\":\n",
    "#                 sum = stack.pop() + stack.pop()\n",
    "#                 stack.push(sum)\n",
    "#             elif token == \"*\":\n",
    "#                 product = stack.pop() * stack.pop()\n",
    "#                 stack.push(product)\n",
    "#             else:\n",
    "#                 stack.push(int(token))\n",
    "#         return stack.pop()"
   ]
  },
  {
   "cell_type": "code",
   "execution_count": 4,
   "metadata": {},
   "outputs": [],
   "source": [
    "s = Stack()"
   ]
  },
  {
   "cell_type": "code",
   "execution_count": 5,
   "metadata": {},
   "outputs": [],
   "source": [
    "s.push(54)\n",
    "s.push(45)\n",
    "s.push(\"+\")"
   ]
  },
  {
   "cell_type": "code",
   "execution_count": 6,
   "metadata": {},
   "outputs": [
    {
     "data": {
      "text/plain": [
       "<__main__.Stack at 0x7fe751d2a910>"
      ]
     },
     "execution_count": 6,
     "metadata": {},
     "output_type": "execute_result"
    }
   ],
   "source": [
    "s"
   ]
  },
  {
   "cell_type": "code",
   "execution_count": 7,
   "metadata": {},
   "outputs": [
    {
     "name": "stdout",
     "output_type": "stream",
     "text": [
      "+ 45 54 "
     ]
    }
   ],
   "source": [
    "while not s.is_empty():\n",
    "    print(s.pop(), end=\" \")"
   ]
  },
  {
   "cell_type": "code",
   "execution_count": 8,
   "metadata": {},
   "outputs": [
    {
     "data": {
      "text/plain": [
       "['Now', 'is', 'the', 'time']"
      ]
     },
     "execution_count": 8,
     "metadata": {},
     "output_type": "execute_result"
    }
   ],
   "source": [
    "\"Now is the time\".split(\" \")"
   ]
  },
  {
   "cell_type": "code",
   "execution_count": 9,
   "metadata": {},
   "outputs": [],
   "source": [
    "# help()"
   ]
  },
  {
   "cell_type": "code",
   "execution_count": 10,
   "metadata": {},
   "outputs": [
    {
     "data": {
      "text/plain": [
       "['123', '+', '456', '*', '', '/', '']"
      ]
     },
     "execution_count": 10,
     "metadata": {},
     "output_type": "execute_result"
    }
   ],
   "source": [
    "import re\n",
    "re.split(\"([^0-9])\", \"123+456*/\")"
   ]
  },
  {
   "cell_type": "code",
   "execution_count": 11,
   "metadata": {},
   "outputs": [],
   "source": [
    "# 25.7. Evaluating postfix\n",
    "\n",
    "def eval_postfix(expr):\n",
    "    import re\n",
    "    token_list = re.split(\"([^0-9])\", expr)\n",
    "    stack = Stack()\n",
    "    for token in token_list:\n",
    "        if token == \"\" or token == \" \":\n",
    "            continue\n",
    "        if token == \"+\":\n",
    "            sum = stack.pop() + stack.pop()\n",
    "            stack.push(sum)\n",
    "        elif token == \"*\":\n",
    "            product = stack.pop() * stack.pop()\n",
    "            stack.push(product)\n",
    "        else:\n",
    "            stack.push(int(token))\n",
    "    return stack.pop()"
   ]
  },
  {
   "cell_type": "code",
   "execution_count": 12,
   "metadata": {},
   "outputs": [
    {
     "data": {
      "text/plain": [
       "206"
      ]
     },
     "execution_count": 12,
     "metadata": {},
     "output_type": "execute_result"
    }
   ],
   "source": [
    "eval_postfix(\"56 47 + 2 *\")"
   ]
  },
  {
   "cell_type": "code",
   "execution_count": null,
   "metadata": {},
   "outputs": [],
   "source": []
  },
  {
   "cell_type": "code",
   "execution_count": null,
   "metadata": {},
   "outputs": [],
   "source": []
  }
 ],
 "metadata": {
  "kernelspec": {
   "display_name": "Python 3",
   "language": "python",
   "name": "python3"
  },
  "language_info": {
   "codemirror_mode": {
    "name": "ipython",
    "version": 3
   },
   "file_extension": ".py",
   "mimetype": "text/x-python",
   "name": "python",
   "nbconvert_exporter": "python",
   "pygments_lexer": "ipython3",
   "version": "3.7.4"
  }
 },
 "nbformat": 4,
 "nbformat_minor": 2
}
