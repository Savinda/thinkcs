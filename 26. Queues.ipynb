{
 "cells": [
  {
   "cell_type": "code",
   "execution_count": 29,
   "metadata": {},
   "outputs": [],
   "source": [
    "class Node:\n",
    "    def __init__(self, cargo=None, next=None):\n",
    "        self.cargo = cargo\n",
    "        self.next = next\n",
    "    \n",
    "    def __str__(self):\n",
    "        return str(self.cargo)\n",
    "\n",
    "class ImprovedQueue:\n",
    "    def __init__(self):\n",
    "        self.length = 0\n",
    "        self.head = None\n",
    "        self.last = None\n",
    "        \n",
    "    def is_empty(self):\n",
    "        return self.length == 0\n",
    "    \n",
    "    def insert(self, cargo):\n",
    "        node = Node(cargo)\n",
    "        if self.length == 0:\n",
    "            # If list is empty, the new node is head and last\n",
    "            self.head = self.last = node\n",
    "        else:\n",
    "            # Find the last node\n",
    "            last = self.last\n",
    "            # Append the new node\n",
    "            last.next = node\n",
    "            self.last = node\n",
    "        self.length += 1\n",
    "        \n",
    "    def remove(self):\n",
    "        cargo = self.head.cargo\n",
    "        self.head = self.head.next\n",
    "        self.length -= 1\n",
    "        if self.length == 0:\n",
    "            self.last = None\n",
    "        return cargo\n",
    "    \n",
    "    \n",
    "class PriorityQueue:\n",
    "    def __init__(self):\n",
    "        self.items = []\n",
    "        \n",
    "    def is_empty(self):\n",
    "        return not self.items\n",
    "\n",
    "    def insert(self, item):\n",
    "        self.items.append(item)\n",
    "        \n",
    "    def remove(self):\n",
    "        maxi = 0\n",
    "        for i in range(1, len(self.items)):\n",
    "            if self.items[i] > self.items[maxi]:\n",
    "                maxi = i\n",
    "        item = self.items[maxi]\n",
    "        del self.items[maxi]\n",
    "        return item\n",
    "    \n",
    "    \n",
    "class Golfer:\n",
    "    def __init__(self, name, score):\n",
    "        self.name = name\n",
    "        self.score =  score\n",
    "        \n",
    "    def __str__(self):\n",
    "        return \"{0:16}: {1}\".format(self.name, self.score)\n",
    "    \n",
    "    def __gt__(self, other):\n",
    "        return self.score < other.score # Less is more"
   ]
  },
  {
   "cell_type": "code",
   "execution_count": 30,
   "metadata": {},
   "outputs": [
    {
     "name": "stdout",
     "output_type": "stream",
     "text": [
      "14\n",
      "13\n",
      "12\n",
      "11\n"
     ]
    }
   ],
   "source": [
    "q = PriorityQueue()\n",
    "for num in [11, 12, 14, 13]:\n",
    "    q.insert(num)\n",
    "while not q.is_empty():\n",
    "    print(q.remove())"
   ]
  },
  {
   "cell_type": "code",
   "execution_count": 31,
   "metadata": {},
   "outputs": [],
   "source": [
    "tiger = Golfer(\"Tiger Woods\", 61)\n",
    "phil = Golfer(\"Phil Mickelson\", 72)\n",
    "hal = Golfer(\"Hal Sutton\", 69)"
   ]
  },
  {
   "cell_type": "code",
   "execution_count": 32,
   "metadata": {},
   "outputs": [],
   "source": [
    "pq = PriorityQueue()\n",
    "for g in [tiger, phil, hal]:\n",
    "    pq.insert(g)"
   ]
  },
  {
   "cell_type": "code",
   "execution_count": 33,
   "metadata": {},
   "outputs": [
    {
     "name": "stdout",
     "output_type": "stream",
     "text": [
      "Tiger Woods     : 61\n",
      "Hal Sutton      : 69\n",
      "Phil Mickelson  : 72\n"
     ]
    }
   ],
   "source": [
    "while not pq.is_empty():\n",
    "    print(pq.remove())"
   ]
  },
  {
   "cell_type": "code",
   "execution_count": null,
   "metadata": {},
   "outputs": [],
   "source": []
  }
 ],
 "metadata": {
  "kernelspec": {
   "display_name": "Python 3",
   "language": "python",
   "name": "python3"
  },
  "language_info": {
   "codemirror_mode": {
    "name": "ipython",
    "version": 3
   },
   "file_extension": ".py",
   "mimetype": "text/x-python",
   "name": "python",
   "nbconvert_exporter": "python",
   "pygments_lexer": "ipython3",
   "version": "3.7.4"
  }
 },
 "nbformat": 4,
 "nbformat_minor": 2
}
