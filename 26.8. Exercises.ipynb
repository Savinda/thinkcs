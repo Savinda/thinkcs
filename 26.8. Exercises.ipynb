{
 "cells": [
  {
   "cell_type": "code",
   "execution_count": 15,
   "metadata": {},
   "outputs": [],
   "source": [
    "# Write an implementation of the Queue ADT using a Python list. \n",
    "# Compare the performance of this implementation to the ImprovedQueue for a range of queue lengths.\n",
    "from time import process_time\n",
    "\n",
    "class Node:\n",
    "    def __init__(self, cargo=None, next=None):\n",
    "        self.cargo = cargo\n",
    "        self.next = next\n",
    "    \n",
    "    def __str__(self):\n",
    "        return str(self.cargo)\n",
    "    \n",
    "class Queue:    \n",
    "    def __init__(self):\n",
    "        self.length = 0\n",
    "        self.head = None\n",
    "     \n",
    "    def is_empty(self):\n",
    "        return self.length == 0\n",
    "    \n",
    "    def insert(self, cargo):\n",
    "        node = Node(cargo)\n",
    "        if self.head is None:\n",
    "            # If list is empty the new nodes goes first\n",
    "            self.head = node\n",
    "        else:\n",
    "            # Find the last node in the list\n",
    "            last = self.head\n",
    "            while last.next:\n",
    "                last = last.next\n",
    "            # Append the new node\n",
    "            last.next = node\n",
    "        self.length += 1\n",
    "        \n",
    "    def remove(self):\n",
    "        cargo = self.head.cargo\n",
    "        self.head = self.head.next\n",
    "        self.length -= 1\n",
    "        return cargo\n",
    "    \n",
    "class ImprovedQueue:\n",
    "    def __init__(self):\n",
    "        self.length = 0\n",
    "        self.head = None\n",
    "        self.last = None\n",
    "        \n",
    "    def is_empty(self):\n",
    "        return self.length == 0\n",
    "    \n",
    "    def insert(self, cargo):\n",
    "        node = Node(cargo)\n",
    "        if self.length == 0:\n",
    "            # If list is empty, the new node is head and last\n",
    "            self.head = self.last = node\n",
    "        else:\n",
    "            # Find the last node\n",
    "            last = self.last\n",
    "            # Append the new node\n",
    "            last.next = node\n",
    "            self.last = node\n",
    "        self.length += 1\n",
    "        \n",
    "    def remove(self):\n",
    "        cargo = self.head.cargo\n",
    "        self.head = self.head.next\n",
    "        self.length -= 1\n",
    "        if self.length == 0:\n",
    "            self.last = None\n",
    "        return cargo"
   ]
  },
  {
   "cell_type": "code",
   "execution_count": 16,
   "metadata": {},
   "outputs": [],
   "source": [
    "q = Queue()\n",
    "iq = ImprovedQueue() "
   ]
  },
  {
   "cell_type": "code",
   "execution_count": 41,
   "metadata": {},
   "outputs": [],
   "source": [
    "from time import process_time\n",
    "\n",
    "def compare_queue(num_list):\n",
    "    qt0 = process_time()\n",
    "    for num in num_list:\n",
    "        q.insert(num)\n",
    "    while not q.is_empty():\n",
    "        print(q.remove(), end=\" \")\n",
    "    qt1 = process_time()\n",
    "    print(f\"Queue process time:\\t\\t {qt1-qt0}\")\n",
    "\n",
    "def compare_improved_queue(num_list):\n",
    "    iqt0 = process_time()\n",
    "    for num in num_list:\n",
    "        iq.insert(num)\n",
    "    while not iq.is_empty():\n",
    "        print(iq.remove(), end=\" \")\n",
    "    iqt1 = process_time()\n",
    "    print(f\"Improved Queue process time:\\t {iqt1-iqt0}\")"
   ]
  },
  {
   "cell_type": "code",
   "execution_count": 44,
   "metadata": {},
   "outputs": [
    {
     "name": "stdout",
     "output_type": "stream",
     "text": [
      "11 12 15 13 20 10 14 Queue process time:\t\t 0.002108000000000221\n",
      "11 12 15 13 20 10 14 Improved Queue process time:\t 0.000280000000000058\n",
      "1 2 3 4 5 6 7 8 9 10 11 12 13 14 15 16 17 18 19 20 21 22 23 24 25 26 27 28 29 30 31 32 33 34 35 36 37 38 39 40 41 42 43 44 45 46 47 48 49 50 51 52 53 54 55 56 57 58 59 60 61 62 63 64 65 66 67 68 69 70 71 72 73 74 75 76 77 78 79 80 81 82 83 84 85 86 87 88 89 90 91 92 93 94 95 96 97 98 99 100 Queue process time:\t\t 0.013840000000000074\n",
      "1 2 3 4 5 6 7 8 9 10 11 12 13 14 15 16 17 18 19 20 21 22 23 24 25 26 27 28 29 30 31 32 33 34 35 36 37 38 39 40 41 42 43 44 45 46 47 48 49 50 51 52 53 54 55 56 57 58 59 60 61 62 63 64 65 66 67 68 69 70 71 72 73 74 75 76 77 78 79 80 81 82 83 84 85 86 87 88 89 90 91 92 93 94 95 96 97 98 99 100 Improved Queue process time:\t 0.010674000000000294\n"
     ]
    }
   ],
   "source": [
    "num_list1 = [11, 12, 15, 13, 20, 10, 14]\n",
    "compare_queue(num_list1)\n",
    "compare_improved_queue(num_list1)\n",
    "\n",
    "num_list2 = [1,2,3,4,5,6,7,8,9,10,11,12,13,14,15,16,17,18,19,20,21,22,23,24,25,26,27,28,29,30,31,32,33,34,35,36,37,38,39,40,41,42,43,44,45,46,47,48,49,50,51,52,53,54,55,56,57,58,59,60,61,62,63,64,65,66,67,68,69,70,71,72,73,74,75,76,77,78,79,80,81,82,83,84,85,86,87,88,89,90,91,92,93,94,95,96,97,98,99,100]\n",
    "compare_queue(num_list2)\n",
    "compare_improved_queue(num_list2)"
   ]
  },
  {
   "cell_type": "code",
   "execution_count": null,
   "metadata": {},
   "outputs": [],
   "source": [
    "# Write an implementation of the Priority Queue ADT using a linked list. \n",
    "# You should keep the list sorted so that removal is a constant time operation. \n",
    "# Compare the performance of this implementation with the Python list implementation.\n"
   ]
  }
 ],
 "metadata": {
  "kernelspec": {
   "display_name": "Python 3",
   "language": "python",
   "name": "python3"
  },
  "language_info": {
   "codemirror_mode": {
    "name": "ipython",
    "version": 3
   },
   "file_extension": ".py",
   "mimetype": "text/x-python",
   "name": "python",
   "nbconvert_exporter": "python",
   "pygments_lexer": "ipython3",
   "version": "3.7.4"
  }
 },
 "nbformat": 4,
 "nbformat_minor": 2
}
