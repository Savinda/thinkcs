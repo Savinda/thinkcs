{
 "cells": [
  {
   "cell_type": "code",
   "execution_count": 48,
   "metadata": {},
   "outputs": [],
   "source": [
    "# 27.1. Building trees\n",
    "\n",
    "class Tree:\n",
    "    def __init__(self, cargo, left=None, right=None):\n",
    "        self.cargo = cargo\n",
    "        self.left = left\n",
    "        self.right = right\n",
    "        \n",
    "    def __str__(self):\n",
    "        return str(self.cargo)"
   ]
  },
  {
   "cell_type": "code",
   "execution_count": 49,
   "metadata": {},
   "outputs": [],
   "source": [
    "# One way to build a tree is from the bottom up. Allocate the child nodes first:\n",
    "\n",
    "left = Tree(2)\n",
    "right = Tree(3)"
   ]
  },
  {
   "cell_type": "code",
   "execution_count": 50,
   "metadata": {},
   "outputs": [],
   "source": [
    "# Then create the parent node and link it to the children:\n",
    "tree = Tree(1, left, right)"
   ]
  },
  {
   "cell_type": "code",
   "execution_count": 51,
   "metadata": {},
   "outputs": [],
   "source": [
    "# We can write this code more concisely by nesting constructor invocations:\n",
    "tree = Tree(1, Tree(2), Tree(3))"
   ]
  },
  {
   "cell_type": "code",
   "execution_count": 52,
   "metadata": {},
   "outputs": [],
   "source": [
    "def total(tree):\n",
    "    if tree is None: return 0\n",
    "    return total(tree.left) + total(tree.right) + tree.cargo"
   ]
  },
  {
   "cell_type": "code",
   "execution_count": 53,
   "metadata": {},
   "outputs": [
    {
     "data": {
      "text/plain": [
       "6"
      ]
     },
     "execution_count": 53,
     "metadata": {},
     "output_type": "execute_result"
    }
   ],
   "source": [
    "total(tree)"
   ]
  },
  {
   "cell_type": "code",
   "execution_count": 54,
   "metadata": {},
   "outputs": [],
   "source": [
    "# 27.3. Expression trees\n",
    "#  1 + 2 * 3\n",
    "\n",
    "tree = Tree(\"+\", Tree(1), Tree(\"*\", Tree(2), Tree(3)))"
   ]
  },
  {
   "cell_type": "code",
   "execution_count": 55,
   "metadata": {},
   "outputs": [],
   "source": [
    "# 27.4. Tree traversal\n",
    "def print_tree(tree):\n",
    "    \"\"\"traversing a tree is called a preorder\"\"\"\n",
    "    if tree is None: return\n",
    "    print(tree.cargo, end=\" \")\n",
    "    print_tree(tree.left)\n",
    "    print_tree(tree.right)"
   ]
  },
  {
   "cell_type": "code",
   "execution_count": 56,
   "metadata": {},
   "outputs": [
    {
     "name": "stdout",
     "output_type": "stream",
     "text": [
      "+ 1 * 2 3 "
     ]
    }
   ],
   "source": [
    "print_tree(tree)"
   ]
  },
  {
   "cell_type": "code",
   "execution_count": 57,
   "metadata": {},
   "outputs": [],
   "source": [
    "def print_tree_postorder(tree):\n",
    "    \"\"\"This order of traversal is called postorder\"\"\"\n",
    "    if tree is None: return\n",
    "    print_tree_postorder(tree.left)\n",
    "    print_tree_postorder(tree.right)\n",
    "    print(tree.cargo, end=\" \")"
   ]
  },
  {
   "cell_type": "code",
   "execution_count": 58,
   "metadata": {},
   "outputs": [
    {
     "name": "stdout",
     "output_type": "stream",
     "text": [
      "1 2 3 * + "
     ]
    }
   ],
   "source": [
    "print_tree_postorder(tree)"
   ]
  },
  {
   "cell_type": "code",
   "execution_count": 59,
   "metadata": {},
   "outputs": [],
   "source": [
    "def print_tree_inorder(tree):\n",
    "    \"\"\"inorder\"\"\"\n",
    "    if tree is None: return\n",
    "    print_tree_inorder(tree.left)\n",
    "    print(tree.cargo, end=\" \")\n",
    "    print_tree_inorder(tree.right)"
   ]
  },
  {
   "cell_type": "code",
   "execution_count": 60,
   "metadata": {},
   "outputs": [
    {
     "name": "stdout",
     "output_type": "stream",
     "text": [
      "1 + 2 * 3 "
     ]
    }
   ],
   "source": [
    "print_tree_inorder(tree)"
   ]
  },
  {
   "cell_type": "code",
   "execution_count": 61,
   "metadata": {},
   "outputs": [],
   "source": [
    "# If we do an inorder traversal and keep track of what level in the tree we are on, \n",
    "# we can generate a graphical representation of a tree:\n",
    "\n",
    "def print_tree_indented(tree, level=0):\n",
    "    if tree is None: return\n",
    "    print_tree_indented(tree.right, level+1)\n",
    "    print(\" \" * level + str(tree.cargo))\n",
    "    print_tree_indented(tree.left, level+1)"
   ]
  },
  {
   "cell_type": "code",
   "execution_count": 62,
   "metadata": {},
   "outputs": [
    {
     "name": "stdout",
     "output_type": "stream",
     "text": [
      "  3\n",
      " *\n",
      "  2\n",
      "+\n",
      " 1\n"
     ]
    }
   ],
   "source": [
    "print_tree_indented(tree)"
   ]
  },
  {
   "cell_type": "code",
   "execution_count": 63,
   "metadata": {},
   "outputs": [],
   "source": [
    "def get_token(token_list, expected):\n",
    "    if token_list[0] == expected:\n",
    "        del token_list[0]\n",
    "        return True\n",
    "    return False"
   ]
  },
  {
   "cell_type": "code",
   "execution_count": 67,
   "metadata": {},
   "outputs": [],
   "source": [
    "def get_number(token_list):\n",
    "    x = token_list[0]\n",
    "    if type(x) != type(0): return None\n",
    "    del token_list[0]\n",
    "    return Tree(x, None, None)"
   ]
  },
  {
   "cell_type": "code",
   "execution_count": 68,
   "metadata": {},
   "outputs": [
    {
     "name": "stdout",
     "output_type": "stream",
     "text": [
      "9 "
     ]
    }
   ],
   "source": [
    "token_list = [9, 11, \"end\"]\n",
    "x = get_number(token_list)\n",
    "print_tree_postorder(x)"
   ]
  },
  {
   "cell_type": "code",
   "execution_count": 69,
   "metadata": {},
   "outputs": [
    {
     "name": "stdout",
     "output_type": "stream",
     "text": [
      "[11, 'end']\n"
     ]
    }
   ],
   "source": [
    "print(token_list)"
   ]
  },
  {
   "cell_type": "code",
   "execution_count": 70,
   "metadata": {},
   "outputs": [],
   "source": [
    "def get_product(token_list):\n",
    "    a = get_number(token_list)\n",
    "    if get_token(token_list, \"*\"):\n",
    "#         b = get_number(token_list) # This line changed\n",
    "        b = get_product(token_list)\n",
    "        return Tree(\"*\", a, b)\n",
    "    return a"
   ]
  },
  {
   "cell_type": "code",
   "execution_count": 71,
   "metadata": {},
   "outputs": [
    {
     "name": "stdout",
     "output_type": "stream",
     "text": [
      "9 11 * "
     ]
    }
   ],
   "source": [
    "token_list = [9, \"*\", 11, \"end\"]\n",
    "tree = get_product(token_list)\n",
    "print_tree_postorder(tree)"
   ]
  },
  {
   "cell_type": "code",
   "execution_count": 72,
   "metadata": {},
   "outputs": [
    {
     "name": "stdout",
     "output_type": "stream",
     "text": [
      "9 "
     ]
    }
   ],
   "source": [
    "token_list = [9, \"+\", 11, \"end\"]\n",
    "tree = get_product(token_list)\n",
    "print_tree_postorder(tree)"
   ]
  },
  {
   "cell_type": "code",
   "execution_count": 73,
   "metadata": {},
   "outputs": [
    {
     "name": "stdout",
     "output_type": "stream",
     "text": [
      "2 3 5 7 * * * "
     ]
    }
   ],
   "source": [
    "token_list = [2, \"*\", 3, \"*\", 5 , \"*\", 7, \"end\"]\n",
    "tree = get_product(token_list)\n",
    "print_tree_postorder(tree)"
   ]
  },
  {
   "cell_type": "code",
   "execution_count": 74,
   "metadata": {},
   "outputs": [],
   "source": [
    "def get_sum(token_list):\n",
    "    a = get_product(token_list)\n",
    "    if get_token(token_list, \"+\"):\n",
    "        b = get_sum(token_list)\n",
    "        return Tree(\"+\", a, b)\n",
    "    return a"
   ]
  },
  {
   "cell_type": "code",
   "execution_count": 75,
   "metadata": {},
   "outputs": [
    {
     "name": "stdout",
     "output_type": "stream",
     "text": [
      "9 11 * 5 7 * + "
     ]
    }
   ],
   "source": [
    "token_list = [9, \"*\", 11, \"+\", 5, \"*\", 7, \"end\"]\n",
    "tree = get_sum(token_list)\n",
    "print_tree_postorder(tree)"
   ]
  },
  {
   "cell_type": "code",
   "execution_count": 83,
   "metadata": {},
   "outputs": [],
   "source": [
    "# Modify get_number to handle subexpressions\n",
    "\n",
    "def get_number(token_list):\n",
    "    if get_token(token_list, \"(\"):\n",
    "        x = get_sum(token_list)\n",
    "        if not get_token(token_list, \")\"):\n",
    "            raise ValueError('Missing close parenthesis')\n",
    "        return x\n",
    "    else:\n",
    "        x = token_list[0]\n",
    "        if type(x) != type(0): return None\n",
    "        del token_list[0]\n",
    "        return Tree(x, None, None)"
   ]
  },
  {
   "cell_type": "code",
   "execution_count": 84,
   "metadata": {},
   "outputs": [
    {
     "name": "stdout",
     "output_type": "stream",
     "text": [
      "9 11 5 + 7 * * "
     ]
    }
   ],
   "source": [
    "token_list = [9, \"*\", \"(\", 11, \"+\", 5, \")\", \"*\", 7, \"end\"]\n",
    "tree = get_sum(token_list)\n",
    "print_tree_postorder(tree)"
   ]
  },
  {
   "cell_type": "code",
   "execution_count": 85,
   "metadata": {},
   "outputs": [],
   "source": [
    "# 27.7. The animal tree\n",
    "\n",
    "def yes(ques):\n",
    "    ans = input(ques).lower()\n",
    "    return ans[0] == \"y\"\n",
    "\n",
    "def animal():\n",
    "    # Start with a singleton\n",
    "    root = Tree(\"bird\")\n",
    "    \n",
    "    # Loop until user quits\n",
    "    while True:\n",
    "        print()\n",
    "        if not yes(\"Are you thinking of an animal? \"): break\n",
    "            \n",
    "        # Walk the tree\n",
    "        tree = root\n",
    "        while tree.left is not None:\n",
    "            prompt = tree.cargo + \"? \"\n",
    "            if yes(prompt):\n",
    "                tree = tree.right\n",
    "            else:\n",
    "                tree = tree.left\n",
    "        \n",
    "        # make a guess\n",
    "        guess = tree.cargo\n",
    "        prompt = \"Is it a \" + guess + \"? \"\n",
    "        if yes(prompt):\n",
    "            print(\"I rule!\")\n",
    "            continue\n",
    "            \n",
    "        # Get new information\n",
    "        prompt = \"What is the animal's name? \"\n",
    "        animal = input(prompt)\n",
    "        prompt = \"What question would distinguish a {0} from a {1}? \"\n",
    "        question = input(prompt.format(animal, guess))\n",
    "        \n",
    "        # Add new information to the tree\n",
    "        tree.cargo = question\n",
    "        prompt = \"If the animal were {0} the answer would be? \"\n",
    "        if yes(prompt.format(animal)):\n",
    "            tree.left = Tree(guess)\n",
    "            tree.right = Tree(animal)\n",
    "        else:\n",
    "            tree.left = Tree(animal)\n",
    "            tree.right = Tree(guess)"
   ]
  },
  {
   "cell_type": "code",
   "execution_count": 87,
   "metadata": {},
   "outputs": [
    {
     "name": "stdout",
     "output_type": "stream",
     "text": [
      "\n",
      "Are you thinking of an animal? y\n",
      "Is it a bird? y\n",
      "I rule!\n",
      "\n",
      "Are you thinking of an animal? y\n",
      "Is it a bird? n\n",
      "What is the animal's name? cat\n",
      "What question would distinguish a cat from a bird? bird can fly\n",
      "If the animal were cat the answer would be? n\n",
      "\n",
      "Are you thinking of an animal? n\n"
     ]
    }
   ],
   "source": [
    "animal()"
   ]
  },
  {
   "cell_type": "code",
   "execution_count": null,
   "metadata": {},
   "outputs": [],
   "source": []
  }
 ],
 "metadata": {
  "kernelspec": {
   "display_name": "Python 3",
   "language": "python",
   "name": "python3"
  },
  "language_info": {
   "codemirror_mode": {
    "name": "ipython",
    "version": 3
   },
   "file_extension": ".py",
   "mimetype": "text/x-python",
   "name": "python",
   "nbconvert_exporter": "python",
   "pygments_lexer": "ipython3",
   "version": "3.7.4"
  }
 },
 "nbformat": 4,
 "nbformat_minor": 2
}
