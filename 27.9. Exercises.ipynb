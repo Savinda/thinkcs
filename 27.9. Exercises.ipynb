{
 "cells": [
  {
   "cell_type": "code",
   "execution_count": 2,
   "metadata": {},
   "outputs": [],
   "source": [
    "class Tree:\n",
    "    def __init__(self, cargo, left=None, right=None):\n",
    "        self.cargo = cargo\n",
    "        self.left = left\n",
    "        self.right = right\n",
    "        \n",
    "    def __str__(self):\n",
    "        return str(self.cargo)"
   ]
  },
  {
   "cell_type": "code",
   "execution_count": 19,
   "metadata": {},
   "outputs": [],
   "source": [
    "def total(tree):\n",
    "    if tree is None: return 0\n",
    "    return total(tree.left) + total(tree.right) + tree.cargo\n",
    "\n",
    "def print_tree(tree):\n",
    "    \"\"\"traversing a tree is called a preorder\"\"\"\n",
    "    if tree is None: return\n",
    "    print(tree.cargo, end=\" \")\n",
    "    print_tree(tree.left)\n",
    "    print_tree(tree.right)\n",
    "    \n",
    "def print_tree_postorder(tree):\n",
    "    \"\"\"This order of traversal is called postorder\"\"\"\n",
    "    if tree is None: return\n",
    "    print_tree_postorder(tree.left)\n",
    "    print_tree_postorder(tree.right)\n",
    "    print(tree.cargo, end=\" \")\n",
    "    \n",
    "def print_tree_inorder(tree):\n",
    "    \"\"\"inorder\"\"\"\n",
    "    if tree is None: return\n",
    "    print_tree_inorder(tree.left)\n",
    "    print(tree.cargo, end=\" \")\n",
    "    print_tree_inorder(tree.right)\n",
    "    \n",
    "def print_tree_indented(tree, level=0):\n",
    "    if tree is None: return\n",
    "    print_tree_indented(tree.right, level+1)\n",
    "    print(\" \" * level + str(tree.cargo))\n",
    "    print_tree_indented(tree.left, level+1)\n",
    "    \n",
    "def get_token(token_list, expected):\n",
    "    if token_list[0] == expected:\n",
    "        del token_list[0]\n",
    "        return True\n",
    "    return False\n",
    "\n",
    "def get_number(token_list):\n",
    "    if get_token(token_list, \"(\"):\n",
    "        x = get_sum(token_list)\n",
    "        if not get_token(token_list, \")\"):\n",
    "            raise ValueError('Missing close parenthesis')\n",
    "        return x\n",
    "    else:\n",
    "        x = token_list[0]\n",
    "        if type(x) != type(0): return None\n",
    "        del token_list[0]\n",
    "        return Tree(x, None, None)\n",
    "    \n",
    "def get_product(token_list):\n",
    "    a = get_number(token_list)\n",
    "    if get_token(token_list, \"*\"):\n",
    "#         b = get_number(token_list) # This line changed\n",
    "        b = get_product(token_list)\n",
    "        return Tree(\"*\", a, b)\n",
    "    return a\n",
    "\n",
    "def get_sum(token_list):\n",
    "    a = get_product(token_list)\n",
    "    if get_token(token_list, \"+\"):\n",
    "        b = get_sum(token_list)\n",
    "        return Tree(\"+\", a, b)\n",
    "    return a"
   ]
  },
  {
   "cell_type": "code",
   "execution_count": 20,
   "metadata": {},
   "outputs": [],
   "source": [
    "left = Tree(2)\n",
    "right = Tree(3)"
   ]
  },
  {
   "cell_type": "code",
   "execution_count": 220,
   "metadata": {},
   "outputs": [],
   "source": [
    "tree = Tree(\"+\", Tree(1), Tree(\"*\", Tree(2), Tree(3)))"
   ]
  },
  {
   "cell_type": "code",
   "execution_count": 221,
   "metadata": {},
   "outputs": [
    {
     "name": "stdout",
     "output_type": "stream",
     "text": [
      "(1)(+)(2)(*)(3)"
     ]
    }
   ],
   "source": [
    "print_tree_inorder(tree)"
   ]
  },
  {
   "cell_type": "code",
   "execution_count": 216,
   "metadata": {},
   "outputs": [],
   "source": [
    "# Modify print_tree_inorder so that it puts parentheses around every operator and pair of operands. \n",
    "# Is the output correct and unambiguous? Are the parentheses always necessary?\n",
    "\n",
    "def print_tree_inorder(tree):\n",
    "    \"\"\"inorder\"\"\"\n",
    "    if tree is None: return\n",
    "    print_tree_inorder(tree.left)\n",
    "    print(\"(\", end=\"\")\n",
    "    print(tree.cargo, end=\")\")\n",
    "    print_tree_inorder(tree.right)"
   ]
  },
  {
   "cell_type": "code",
   "execution_count": 217,
   "metadata": {},
   "outputs": [
    {
     "name": "stdout",
     "output_type": "stream",
     "text": [
      "(1)(+)(2)(*)(3)"
     ]
    }
   ],
   "source": [
    "print_tree_inorder(tree)"
   ]
  },
  {
   "cell_type": "code",
   "execution_count": 218,
   "metadata": {},
   "outputs": [],
   "source": [
    "# Write a function that takes an expression string and returns a token list.\n",
    "token_list = [2, \"*\", 3, \"*\", 5 , \"*\", 7, \"end\"]\n"
   ]
  },
  {
   "cell_type": "code",
   "execution_count": 219,
   "metadata": {},
   "outputs": [],
   "source": [
    "# Find other places in the expression tree functions where errors can occur and add appropriate raise statements. \n",
    "# Test your code with improperly formed expressions."
   ]
  },
  {
   "cell_type": "code",
   "execution_count": 246,
   "metadata": {},
   "outputs": [],
   "source": [
    "# Think of various ways you might save the animal knowledge tree in a file. \n",
    "# Implement the one you think is easiest.\n",
    "# 27.7. The animal tree\n",
    "\n",
    "# Save knowledge to a file\n",
    "filename = \"knowledge.txt\"\n",
    "\n",
    "def yes(ques):\n",
    "    ans = input(ques).lower()\n",
    "    return ans[0] == \"y\"\n",
    "\n",
    "def animal():\n",
    "    # Start with a singleton\n",
    "    root = Tree(\"bird\")\n",
    "    \n",
    "    # Loop until user quits\n",
    "    while True:\n",
    "        print()\n",
    "        if not yes(\"Are you thinking of an animal? \"): break\n",
    "            \n",
    "        # Walk the tree\n",
    "        tree = root\n",
    "        while tree.left is not None:\n",
    "            prompt = tree.cargo + \"? \"\n",
    "            if yes(prompt):\n",
    "                tree = tree.right\n",
    "            else:\n",
    "                tree = tree.left\n",
    "        \n",
    "        # make a guess\n",
    "        guess = tree.cargo\n",
    "        prompt = \"Is it a \" + guess + \"? \"\n",
    "        if yes(prompt):\n",
    "            print(\"I rule!\")\n",
    "            continue\n",
    "            \n",
    "        # Get new information\n",
    "        prompt = \"What is the animal's name? \"\n",
    "        animal = input(prompt)\n",
    "        prompt = \"What question would distinguish a {0} from a {1}? \"\n",
    "        question = input(prompt.format(animal, guess))\n",
    "        \n",
    "        # write knowledge to a file\n",
    "        with open(filename, \"a\") as f:\n",
    "            f.write(\"{:10s} {:10s} {}\\n\".format(animal, guess, question))\n",
    "        \n",
    "        # Add new information to the tree\n",
    "        tree.cargo = question\n",
    "        prompt = \"If the animal were {0} the answer would be? \"\n",
    "        if yes(prompt.format(animal)):\n",
    "            tree.left = Tree(guess)\n",
    "            tree.right = Tree(animal)\n",
    "        else:\n",
    "            tree.left = Tree(animal)\n",
    "            tree.right = Tree(guess)"
   ]
  },
  {
   "cell_type": "code",
   "execution_count": 247,
   "metadata": {},
   "outputs": [
    {
     "name": "stdout",
     "output_type": "stream",
     "text": [
      "\n",
      "Are you thinking of an animal? y\n",
      "Is it a bird? n\n",
      "What is the animal's name? cat\n",
      "What question would distinguish a cat from a bird? cat cant fly\n",
      "If the animal were cat the answer would be? n\n",
      "\n",
      "Are you thinking of an animal? n\n"
     ]
    }
   ],
   "source": [
    "animal()"
   ]
  },
  {
   "cell_type": "code",
   "execution_count": null,
   "metadata": {},
   "outputs": [],
   "source": []
  }
 ],
 "metadata": {
  "kernelspec": {
   "display_name": "Python 3",
   "language": "python",
   "name": "python3"
  },
  "language_info": {
   "codemirror_mode": {
    "name": "ipython",
    "version": 3
   },
   "file_extension": ".py",
   "mimetype": "text/x-python",
   "name": "python",
   "nbconvert_exporter": "python",
   "pygments_lexer": "ipython3",
   "version": "3.7.4"
  }
 },
 "nbformat": 4,
 "nbformat_minor": 2
}
