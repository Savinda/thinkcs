{
 "cells": [
  {
   "cell_type": "code",
   "execution_count": null,
   "metadata": {},
   "outputs": [],
   "source": []
  },
  {
   "cell_type": "code",
   "execution_count": 45,
   "metadata": {},
   "outputs": [],
   "source": [
    "# Rewrite the distance function from the chapter titled Fruitful functions so that it \n",
    "# takes two Points as parameters instead of four numbers.\n",
    "\n",
    "def distance(x1, y1, x2, y2):\n",
    "    dx = x2 - x1\n",
    "    dy = y2 - y1\n",
    "    dsquared = dx*dx + dy*dy\n",
    "    result = dsquared**0.5\n",
    "    return result"
   ]
  },
  {
   "cell_type": "code",
   "execution_count": 47,
   "metadata": {},
   "outputs": [
    {
     "data": {
      "text/plain": [
       "5.0"
      ]
     },
     "execution_count": 47,
     "metadata": {},
     "output_type": "execute_result"
    }
   ],
   "source": [
    "distance(1, 2, 4, 6)"
   ]
  },
  {
   "cell_type": "code",
   "execution_count": 424,
   "metadata": {},
   "outputs": [],
   "source": [
    "class Point:\n",
    "    \"\"\"Point class represnets and manipulates x, y coordinates\"\"\"\n",
    "    \n",
    "    def __init__(self, x=0, y=0):\n",
    "        \"\"\"Create a new point at x, y\"\"\"\n",
    "        self.x = x\n",
    "        self.y = y\n",
    "        \n",
    "    def distance(self, other):\n",
    "        \"\"\"Calculate the distance between two points\"\"\"\n",
    "        self_distance = (self.x ** 2) + (self.y ** 2) ** 0.5\n",
    "        other_distance = (other.x ** 2) + (other.y ** 2) ** 0.5\n",
    "        return self_distance + other_distance\n",
    "    \n",
    "    def reflect_x(self):\n",
    "        \"\"\"Return a reflection of the point about x axis\"\"\"\n",
    "        return self.x, -self.y\n",
    "    \n",
    "    def slope_from_origin(self):\n",
    "        \"\"\"Returns the slope of the line joining the origin to the point\"\"\"\n",
    "        return self.y / self.x\n",
    "    \n",
    "    def get_line_to(self, other):\n",
    "        \"\"\"Compute the equation of the straight line joining the two points and return two coefficients\"\"\"\n",
    "        #Step 1: Find the Slope (or Gradient) from 2 Points y − y1 = m(x − x1) \n",
    "        slope = (self.y - other.y) / (self.x - other.x) # m found\n",
    "        # Step 2: Find c intercept\n",
    "        intercept = self.y - slope * self.x\n",
    "        return int(slope), int(intercept)\n",
    "    \n",
    "    def midpoint(self, target, target2, target3):\n",
    "        d = 2 * (self.x * (target.y - target2.y) + target.x * (target2.y - self.y) + target2.x * (self.y - target.y))\n",
    "        xc = ((self.x**2 + self.y**2) * (target.y - target2.y) + (target.x**2 + target.y**2) *\n",
    "             (target2.y - self.y) + (target2.x**2 + target2.y**2) * (self.y - target.y)) / d\n",
    "        yc = ((self.x**2 + self.y**2) * (target2.x - target.x) + (target.x**2 + target.y**2) *\n",
    "             (self.x - target2.x) + (target2.x**2 + target2.y**2) * (target.x - self.x)) / d\n",
    "        return xc, yc\n"
   ]
  },
  {
   "cell_type": "code",
   "execution_count": 416,
   "metadata": {},
   "outputs": [],
   "source": [
    "p = Point(1, 2)\n",
    "q = Point(4, 6)"
   ]
  },
  {
   "cell_type": "code",
   "execution_count": 236,
   "metadata": {},
   "outputs": [
    {
     "data": {
      "text/plain": [
       "25.0"
      ]
     },
     "execution_count": 236,
     "metadata": {},
     "output_type": "execute_result"
    }
   ],
   "source": [
    "p.distance(q)"
   ]
  },
  {
   "cell_type": "code",
   "execution_count": 237,
   "metadata": {},
   "outputs": [
    {
     "data": {
      "text/plain": [
       "(3, -5)"
      ]
     },
     "execution_count": 237,
     "metadata": {},
     "output_type": "execute_result"
    }
   ],
   "source": [
    "# Add a method reflect_x to Point which returns a new Point, \n",
    "# one which is the reflection of the point about the x-axis. For example, Point(3, 5).reflect_x() is (3, -5)\n",
    "Point(3, 5).reflect_x()"
   ]
  },
  {
   "cell_type": "code",
   "execution_count": 238,
   "metadata": {},
   "outputs": [
    {
     "data": {
      "text/plain": [
       "2.5"
      ]
     },
     "execution_count": 238,
     "metadata": {},
     "output_type": "execute_result"
    }
   ],
   "source": [
    "# Add a method slope_from_origin which returns the slope of the line joining the origin to the point.\n",
    "Point(4, 10).slope_from_origin()\n",
    "\n",
    "# What cases will cause this method to fail?\n",
    "# It will fail when y becomes 0"
   ]
  },
  {
   "cell_type": "code",
   "execution_count": 239,
   "metadata": {},
   "outputs": [
    {
     "name": "stdout",
     "output_type": "stream",
     "text": [
      "(2, 3)\n"
     ]
    }
   ],
   "source": [
    "# The equation of a straight line is “y = ax + b”, (or perhaps “y = mx + c”). \n",
    "# The coefficients a and b completely describe the line. Write a method in the Point class so that \n",
    "# if a point instance is given another point, it will compute the equation of the straight \n",
    "# line joining the two points. It must return the two coefficients as a tuple of two values. \n",
    "print(Point(4, 11).get_line_to(Point(6, 15)))\n",
    "# This tells us that the equation of the line joining the two points is “y = 2x + 3”. \n",
    "\n",
    "# When will this method fail?\n",
    "# print(Point(0, 11).get_line_to(Point(0, 15)))\n",
    "# When both x's become 0"
   ]
  },
  {
   "cell_type": "code",
   "execution_count": 423,
   "metadata": {},
   "outputs": [
    {
     "data": {
      "text/plain": [
       "(1.5, 2.0)"
      ]
     },
     "execution_count": 423,
     "metadata": {},
     "output_type": "execute_result"
    }
   ],
   "source": [
    "# Given four points that fall on the circumference of a circle, find the midpoint of the circle. \n",
    "# When will this function fail?\n",
    "# When x become 0 - Zero division error will occur\n",
    "p = Point(3,0)\n",
    "q = Point(0,4)\n",
    "r = Point(3,4)\n",
    "s = Point(4,2)\n",
    "\n",
    "q.midpoint(p, r, s)"
   ]
  },
  {
   "cell_type": "code",
   "execution_count": 438,
   "metadata": {},
   "outputs": [],
   "source": [
    "# Create a new class, SMS_store. The class will instantiate SMS_store objects, \n",
    "# similar to an inbox or outbox on a cellphone:\n",
    "import time\n",
    "\n",
    "class SMS_store:\n",
    "    \"\"\"\n",
    "    my_inbox = SMS_store()\n",
    "    This store can hold multiple SMS messages (i.e. its internal state will just be a list of messages).\n",
    "    Each message will be represented as a tuple:\n",
    "    (has_been_viewed, from_number, time_arrived, text_of_SMS)\n",
    "    The inbox object should provide these methods:\n",
    "    \"\"\"\n",
    "    def __init__(self):\n",
    "        self.inbox = []\n",
    "        \n",
    "    def add_new_arrival(self, from_number, text_of_sms, read_status = False):\n",
    "        \"\"\"\n",
    "        my_inbox.add_new_arrival(from_number, time_arrived, text_of_SMS)\n",
    "        Makes new SMS tuple, inserts it after other messages\n",
    "        in the store. When creating this message, its\n",
    "        has_been_viewed status is set False.\n",
    "        \"\"\"\n",
    "        number = str(from_number)\n",
    "        time_received = time.strftime(\"%D %T\")\n",
    "        self.inbox.append([time_received, number, text_of_sms, read_status])\n",
    "        \n",
    "    def message_count(self):\n",
    "        \"\"\"Returns the number of sms messages in my_inbox\"\"\"\n",
    "        return f\"Number of messages: {len(self.inbox)}\"\n",
    "    \n",
    "    def get_unread_indexes(self):\n",
    "        \"\"\"Returns list of indexes of all not-yet-viewed SMS messages\"\"\"\n",
    "        unread = []\n",
    "        for index, message in enumerate(self.inbox):\n",
    "            if False in messege:\n",
    "                unread.append(index)\n",
    "        return \"Indexes of unread messages: \", unread\n",
    "    \n",
    "    def get_message(self, index):\n",
    "        \"\"\"\n",
    "        Return (from_number, time_arrived, text_of_sms) for message[i]\n",
    "        Also change its state to \"has been viewed\".\n",
    "        If there is no message at position i, return None\n",
    "        \"\"\"\n",
    "        message = self.inbox[index]\n",
    "        message[3] =  \"Read\"\n",
    "        return message[:3]\n",
    "    \n",
    "    def delete(self, index):\n",
    "        \"\"\"Delete the message at index i\"\"\"\n",
    "        del self.inbox[index]\n",
    "        return \"Deleted Message\", index\n",
    "    \n",
    "    def clear(self):\n",
    "        \"\"\"Delete all messages from inbox\"\"\"\n",
    "        self.inbox = []\n",
    "        return \"Empty Inbox\"\n",
    "        "
   ]
  },
  {
   "cell_type": "code",
   "execution_count": 442,
   "metadata": {},
   "outputs": [
    {
     "data": {
      "text/plain": [
       "'Empty Inbox'"
      ]
     },
     "execution_count": 442,
     "metadata": {},
     "output_type": "execute_result"
    }
   ],
   "source": [
    "index = 0\n",
    "my_inbox = SMS_store()\n",
    "my_inbox.add_new_arrival(\"number\", \"time\", \"text\")\n",
    "my_inbox.message_count()\n",
    "my_inbox.get_message(index)\n",
    "my_inbox.delete(index)\n",
    "my_inbox.clear()"
   ]
  },
  {
   "cell_type": "code",
   "execution_count": 441,
   "metadata": {},
   "outputs": [],
   "source": []
  },
  {
   "cell_type": "code",
   "execution_count": null,
   "metadata": {},
   "outputs": [],
   "source": []
  }
 ],
 "metadata": {
  "kernelspec": {
   "display_name": "Python 3",
   "language": "python",
   "name": "python3"
  },
  "language_info": {
   "codemirror_mode": {
    "name": "ipython",
    "version": 3
   },
   "file_extension": ".py",
   "mimetype": "text/x-python",
   "name": "python",
   "nbconvert_exporter": "python",
   "pygments_lexer": "ipython3",
   "version": "3.7.4"
  }
 },
 "nbformat": 4,
 "nbformat_minor": 2
}
