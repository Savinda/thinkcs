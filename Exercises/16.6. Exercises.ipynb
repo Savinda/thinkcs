{
 "cells": [
  {
   "cell_type": "code",
   "execution_count": 19,
   "metadata": {},
   "outputs": [],
   "source": [
    "from unit_tester import test"
   ]
  },
  {
   "cell_type": "code",
   "execution_count": 20,
   "metadata": {},
   "outputs": [],
   "source": [
    "class Point:\n",
    "    \"\"\"Create a new Point, at coordinates x, y\"\"\"\n",
    "    \n",
    "    def __init__(self, x=0, y=0):\n",
    "        \"\"\"Create a new point at x, y\"\"\"\n",
    "        self.x = x\n",
    "        self.y = y\n",
    "        \n",
    "    def __str__(self): # All we have to do is rename the method __str__\n",
    "        \"\"\"Converting an instance to a string\"\"\"\n",
    "        return \"({0}, {1})\".format(self.x, self.y)"
   ]
  },
  {
   "cell_type": "code",
   "execution_count": 79,
   "metadata": {},
   "outputs": [
    {
     "name": "stdout",
     "output_type": "stream",
     "text": [
      "box:  ((0, 0), 100, 200)\n",
      "bomb:  ((100, 80), 5, 10)\n",
      "Grow: ((10, 5), 125, 40)\n",
      "Move: ((0, 15), 125, 40)\n"
     ]
    }
   ],
   "source": [
    "class Rectangle:\n",
    "    \"\"\" A class to manufacture rectangle objects \"\"\"\n",
    "\n",
    "    def __init__(self, posn, w, h):\n",
    "        \"\"\" Initialize rectangle at posn, with width w, height h \"\"\"\n",
    "        self.corner = posn\n",
    "        self.width = w\n",
    "        self.height = h\n",
    "\n",
    "    def __str__(self):\n",
    "        return  \"({0}, {1}, {2})\".format(self.corner, self.width, self.height)\n",
    "    \n",
    "    \n",
    "    def grow(self, delta_width, delta_height):\n",
    "        \"\"\"Grow (or shrink) this object by the deltas\"\"\"\n",
    "        self.width += delta_width\n",
    "        self.height += delta_height\n",
    "    \n",
    "    def move(self, dx, dy):\n",
    "        \"\"\"Move the object by the deltas\"\"\"\n",
    "        self.corner.x += dx\n",
    "        self.corner.y += dy\n",
    "    \n",
    "    def area(self):\n",
    "        \"\"\"Returns the area of the rectangle\"\"\"\n",
    "        return self.width * self.height\n",
    "    \n",
    "    def perimeter(self):\n",
    "        \"\"\"Returns perimeter of the rectangle\"\"\"\n",
    "        return 2 * (self.width + self.height)\n",
    "    \n",
    "    def flip(self):\n",
    "        \"\"\"swaps the width and the height of any rectangle\"\"\"\n",
    "        self.width, self.height = self.height, self.width\n",
    "        \n",
    "    def contains(self, point):\n",
    "        \"\"\"test if a Point falls within the rectangle\"\"\"\n",
    "        return self.width > point.x >= self.corner.x and self.height > point.y >= self.corner.y\n",
    "    \n",
    "    def is_collide(l1, r1, l2, r2):\n",
    "        \"\"\"\n",
    "        Determine whether two rectangles collide\n",
    "        Returns True if two rectangles(l1, r1 and l2, r2) overlap\n",
    "        https://www.geeksforgeeks.org/find-two-rectangles-overlap/\n",
    "        \n",
    "        l1: Top Left coordinate of first rectangle.\n",
    "        r1: Bottom Right coordinate of first rectangle.\n",
    "        l2: Top Left coordinate of second rectangle.\n",
    "        r2: Bottom Right coordinate of second rectangle.\n",
    "        \"\"\"\n",
    "        # when one rectangle is on left of the other\n",
    "        \n",
    "box = Rectangle(Point(0, 0), 100, 200)\n",
    "bomb = Rectangle(Point(100, 80), 5, 10)    # In my video game\n",
    "print(\"box: \", box)\n",
    "print(\"bomb: \", bomb)\n",
    "\n",
    "r = Rectangle(Point(10, 5), 100, 50)\n",
    "\n",
    "r.grow(25, -10)\n",
    "print(\"Grow:\", r)\n",
    "\n",
    "r.move(-10, 10)\n",
    "print(\"Move:\", r)"
   ]
  },
  {
   "cell_type": "code",
   "execution_count": 30,
   "metadata": {},
   "outputs": [
    {
     "name": "stdout",
     "output_type": "stream",
     "text": [
      "Test at line 3 ok.\n"
     ]
    }
   ],
   "source": [
    "# Add a method area to the Rectangle class that returns the area of any instance:\n",
    "r = Rectangle(Point(0, 0), 10, 5)\n",
    "test(r.area() == 50)"
   ]
  },
  {
   "cell_type": "code",
   "execution_count": 31,
   "metadata": {},
   "outputs": [
    {
     "name": "stdout",
     "output_type": "stream",
     "text": [
      "Test at line 3 ok.\n"
     ]
    }
   ],
   "source": [
    "# Write a perimeter method in the Rectangle class so that we can find the perimeter of any rectangle instance:\n",
    "r = Rectangle(Point(0, 0), 10, 5)\n",
    "test(r.perimeter() == 30)"
   ]
  },
  {
   "cell_type": "code",
   "execution_count": 38,
   "metadata": {},
   "outputs": [
    {
     "name": "stdout",
     "output_type": "stream",
     "text": [
      "Test at line 3 ok.\n",
      "Test at line 5 ok.\n"
     ]
    }
   ],
   "source": [
    "# Write a flip method in the Rectangle class that swaps the width and the height of any rectangle instance:\n",
    "r = Rectangle(Point(100, 50), 10, 5)\n",
    "test(r.width == 10 and r.height == 5)\n",
    "r.flip()\n",
    "test(r.width == 5 and r.height == 10)"
   ]
  },
  {
   "cell_type": "code",
   "execution_count": 81,
   "metadata": {},
   "outputs": [
    {
     "name": "stdout",
     "output_type": "stream",
     "text": [
      "Test at line 8 ok.\n",
      "Test at line 9 ok.\n",
      "Test at line 10 ok.\n",
      "Test at line 11 ok.\n",
      "Test at line 12 ok.\n",
      "Test at line 13 ok.\n"
     ]
    }
   ],
   "source": [
    "# Write a new method in the Rectangle class to test if a Point falls within the rectangle. \n",
    "# For this exercise, assume that a rectangle at (0,0) with width 10 and height 5 has open upper \n",
    "# bounds on the width and height, i.e. it stretches in the x direction from [0 to 10), \n",
    "# where 0 is included but 10 is excluded, and from [0 to 5) in the y direction. So it does not contain the point \n",
    "# (10, 2). These tests should pass:\n",
    "\n",
    "r = Rectangle(Point(0, 0), 10, 5)\n",
    "test(r.contains(Point(0, 0)))\n",
    "test(r.contains(Point(3, 3)))\n",
    "test(not r.contains(Point(3, 7)))\n",
    "test(not r.contains(Point(3, 5)))\n",
    "test(r.contains(Point(3, 4.99999)))\n",
    "test(not r.contains(Point(-3, -3)))"
   ]
  },
  {
   "cell_type": "code",
   "execution_count": 86,
   "metadata": {},
   "outputs": [],
   "source": [
    "# In games, we often put a rectangular “bounding box” around our sprites. \n",
    "# (A sprite is an object that can move about in the game, as we will see shortly.) \n",
    "# We can then do collision detection between, say, bombs and spaceships, \n",
    "# by comparing whether their rectangles overlap anywhere.\n",
    "\n",
    "# Write a function to determine whether two rectangles collide. \n",
    "# Hint: this might be quite a tough exercise! Think carefully about all the cases before you code.\n",
    "\n",
    "class Point:\n",
    "    \"\"\"Create a new Point, at coordinates x, y\"\"\"\n",
    "    \n",
    "    def __init__(self, x=0, y=0):\n",
    "        \"\"\"Create a new point at x, y\"\"\"\n",
    "        self.x = x\n",
    "        self.y = y\n",
    "        \n",
    "    def __str__(self): # All we have to do is rename the method __str__\n",
    "        \"\"\"Converting an instance to a string\"\"\"\n",
    "        return \"({0}, {1})\".format(self.x, self.y)\n",
    "    \n",
    "    \n",
    "def is_overlap(l1, r1, l2, r2):\n",
    "    \"\"\"Returns true if two rectangles (l1, r1) and (l2, r2) overlap\"\"\"\n",
    "    \n",
    "    # if one rectangle is on left side of other\n",
    "    if(l1.x >= r2.x or l2.x >= r1.x):\n",
    "        return False\n",
    "    \n",
    "    # if one rectangle is above other\n",
    "    if(l1.y >= r2.y or l2.y >= r2.y):\n",
    "        return False\n",
    "    \n",
    "    return True"
   ]
  },
  {
   "cell_type": "code",
   "execution_count": 89,
   "metadata": {},
   "outputs": [
    {
     "name": "stdout",
     "output_type": "stream",
     "text": [
      "Rectangles Don't Overlap\n"
     ]
    }
   ],
   "source": [
    "# Driver Code \n",
    "if __name__ == \"__main__\": \n",
    "    l1 = Point(10, 10) \n",
    "    r1 = Point(10, 0) \n",
    "    l2 = Point(5, 5) \n",
    "    r2 = Point(15, 0) \n",
    "  \n",
    "    if(is_overlap(l1, r1, l2, r2)): \n",
    "        print(\"Rectangles Overlap\") \n",
    "    else: \n",
    "        print(\"Rectangles Don't Overlap\") "
   ]
  },
  {
   "cell_type": "code",
   "execution_count": null,
   "metadata": {},
   "outputs": [],
   "source": []
  }
 ],
 "metadata": {
  "kernelspec": {
   "display_name": "Python 3",
   "language": "python",
   "name": "python3"
  },
  "language_info": {
   "codemirror_mode": {
    "name": "ipython",
    "version": 3
   },
   "file_extension": ".py",
   "mimetype": "text/x-python",
   "name": "python",
   "nbconvert_exporter": "python",
   "pygments_lexer": "ipython3",
   "version": "3.7.4"
  }
 },
 "nbformat": 4,
 "nbformat_minor": 2
}
