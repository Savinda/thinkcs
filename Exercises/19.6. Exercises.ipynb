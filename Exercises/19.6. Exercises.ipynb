{
 "cells": [
  {
   "cell_type": "code",
   "execution_count": 50,
   "metadata": {},
   "outputs": [],
   "source": [
    "# Write a function named readposint that uses the input dialog to prompt the user for a positive integer \n",
    "# and then checks the input to confirm that it meets the requirements. \n",
    "# It should be able to handle inputs that cannot be converted to int, as well as negative ints, and edge cases \n",
    "# (e.g. when the user closes the dialog, or does not enter anything at all.)\n",
    "\n",
    "def readposint():\n",
    "    \"\"\"prompt the user for a positive integer checks the input to confirm that it meets the requirements\"\"\"\n",
    "    while True:\n",
    "        number = input(\"Enter a positive integer: \")\n",
    "        try:\n",
    "            value = int(number)\n",
    "            if value < 0:\n",
    "                print(f\"{number} is not positive\")\n",
    "                continue\n",
    "            break\n",
    "            \n",
    "        except ValueError:\n",
    "            print(f\"{number} is not an integer\")\n",
    "    return value"
   ]
  },
  {
   "cell_type": "code",
   "execution_count": 46,
   "metadata": {},
   "outputs": [
    {
     "name": "stdout",
     "output_type": "stream",
     "text": [
      "Enter a positive integer: dsf\n",
      "dsf is not an integer\n",
      "Enter a positive integer: fsa\n",
      "fsa is not an integer\n",
      "Enter a positive integer: fsd\n",
      "fsd is not an integer\n",
      "Enter a positive integer: -56\n",
      "-56 is not positive\n",
      "Enter a positive integer: 5\n"
     ]
    },
    {
     "data": {
      "text/plain": [
       "5"
      ]
     },
     "execution_count": 46,
     "metadata": {},
     "output_type": "execute_result"
    }
   ],
   "source": [
    "readposint()"
   ]
  }
 ],
 "metadata": {
  "kernelspec": {
   "display_name": "Python 3",
   "language": "python",
   "name": "python3"
  },
  "language_info": {
   "codemirror_mode": {
    "name": "ipython",
    "version": 3
   },
   "file_extension": ".py",
   "mimetype": "text/x-python",
   "name": "python",
   "nbconvert_exporter": "python",
   "pygments_lexer": "ipython3",
   "version": "3.7.4"
  }
 },
 "nbformat": 4,
 "nbformat_minor": 2
}
