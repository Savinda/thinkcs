{
 "cells": [
  {
   "cell_type": "code",
   "execution_count": 17,
   "metadata": {},
   "outputs": [],
   "source": [
    "# Apply the postfix algorithm to the expression 1 2 + 3 *.\n",
    "# This example demonstrates one of the advantages of postfix—there i\n",
    "# s no need to use parentheses to control the order of operations. \n",
    "# To get the same result in infix, we would have to write (1 + 2) * 3.\n",
    "\n",
    "class Stack:\n",
    "    def __init__(self):\n",
    "        self.items = []\n",
    "    \n",
    "    def push(self, item):\n",
    "        self.items.append(item)\n",
    "        \n",
    "    def pop(self):\n",
    "        return self.items.pop()\n",
    "    \n",
    "    def is_empty(self):\n",
    "        return (self.items == [])\n",
    "    \n",
    "    def postfix(self, expr):\n",
    "        import re\n",
    "        token_list = re.split(\"([^0-9])\", expr)\n",
    "        for token in token_list:\n",
    "            if token == \"\" or token == \" \":\n",
    "                continue\n",
    "            if token == \"+\":\n",
    "                sum = self.pop() + self.pop()\n",
    "                self.push(sum)\n",
    "            elif token == \"*\":\n",
    "                product = self.pop() * self.pop()\n",
    "                self.push(product)\n",
    "            else:\n",
    "                self.push(int(token))\n",
    "        return self.pop()        "
   ]
  },
  {
   "cell_type": "code",
   "execution_count": 18,
   "metadata": {},
   "outputs": [],
   "source": [
    "s = Stack()"
   ]
  },
  {
   "cell_type": "code",
   "execution_count": 19,
   "metadata": {},
   "outputs": [
    {
     "data": {
      "text/plain": [
       "9"
      ]
     },
     "execution_count": 19,
     "metadata": {},
     "output_type": "execute_result"
    }
   ],
   "source": [
    "s.postfix(\"1 2 + 3 *\")"
   ]
  },
  {
   "cell_type": "code",
   "execution_count": null,
   "metadata": {},
   "outputs": [],
   "source": []
  }
 ],
 "metadata": {
  "kernelspec": {
   "display_name": "Python 3",
   "language": "python",
   "name": "python3"
  },
  "language_info": {
   "codemirror_mode": {
    "name": "ipython",
    "version": 3
   },
   "file_extension": ".py",
   "mimetype": "text/x-python",
   "name": "python",
   "nbconvert_exporter": "python",
   "pygments_lexer": "ipython3",
   "version": "3.7.4"
  }
 },
 "nbformat": 4,
 "nbformat_minor": 2
}
