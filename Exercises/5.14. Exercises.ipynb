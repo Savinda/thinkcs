{
 "cells": [
  {
   "cell_type": "code",
   "execution_count": 9,
   "metadata": {},
   "outputs": [],
   "source": [
    "# Assume the days of the week are numbered 0,1,2,3,4,5,6 from Sunday to Saturday. \n",
    "# Write a function which is given the day number, and it returns the day name (a string).\n",
    "\n",
    "days = [\"Sunday\", \"Monday\", \"Tuesday\", \"Wednesday\", \"Thursday\", \"Friday\", \"Saturday\"]\n",
    "\n",
    "def day_num(n):\n",
    "    return days[n]"
   ]
  },
  {
   "cell_type": "code",
   "execution_count": 10,
   "metadata": {},
   "outputs": [
    {
     "data": {
      "text/plain": [
       "'Monday'"
      ]
     },
     "execution_count": 10,
     "metadata": {},
     "output_type": "execute_result"
    }
   ],
   "source": [
    "day_num(1)"
   ]
  },
  {
   "cell_type": "code",
   "execution_count": 13,
   "metadata": {},
   "outputs": [],
   "source": [
    "# You go on a wonderful holiday (perhaps to jail, if you don’t like happy exercises) \n",
    "# leaving on day number 3 (a Wednesday). You return home after 137 sleeps. \n",
    "# Write a general version of the program which asks for the starting day number, \n",
    "# and the length of your stay, and it will tell you the name of day of the week you will return on.\n",
    "\n",
    "days = [\"Sunday\", \"Monday\", \"Tuesday\", \"Wednesday\", \"Thursday\", \"Friday\", \"Saturday\"]\n",
    "def return_day(n):\n",
    "    \"\"\"Return a day name based on start day\"\"\"\n",
    "    return days[(n + 137) % 7]"
   ]
  },
  {
   "cell_type": "code",
   "execution_count": 14,
   "metadata": {},
   "outputs": [
    {
     "data": {
      "text/plain": [
       "'Sunday'"
      ]
     },
     "execution_count": 14,
     "metadata": {},
     "output_type": "execute_result"
    }
   ],
   "source": [
    "return_day(3)"
   ]
  },
  {
   "cell_type": "code",
   "execution_count": 60,
   "metadata": {},
   "outputs": [],
   "source": [
    "# Write a function which is given an exam mark, and it returns a string — the grade for that mark — \n",
    "# according to this scheme:\n",
    "# >= 75 First\n",
    "# [70-75) Upper Second\n",
    "# [60-70) Second\n",
    "# [50-60) Third\n",
    "# [45-50) F1 Supp\n",
    "# [40-45) F2\n",
    "# < 40 F3\n",
    "\n",
    "# The square and round brackets denote closed and open intervals. A closed interval includes the number, \n",
    "#  and open interval excludes it. So 39.99999 gets grade F3, but 40 gets grade F2. Assume\n",
    "\n",
    "# xs = [83, 75, 74.9, 70, 69.9, 65, 60, 59.9, 55, 50, 49.9, 45, 44.9, 40, 39.9, 2, 0]\n",
    "# Test your function by printing the mark and the grade for all the elements in this list.\n",
    "\n",
    "def grade(xs):\n",
    "    if x >= 75:\n",
    "        grade = \"First\"\n",
    "    elif x > 70:\n",
    "        grade = \"Upper Second\"\n",
    "    elif x > 60:\n",
    "        grade = \"Second\"\n",
    "    elif x > 50:\n",
    "        grade = \"Third\"\n",
    "    elif x > 45:\n",
    "        grade = \"F1 Supp\"\n",
    "    elif x > 40:\n",
    "        grade = \"F2\"\n",
    "    else:\n",
    "        grade = \"F3\"\n",
    "    return grade\n",
    "        "
   ]
  },
  {
   "cell_type": "code",
   "execution_count": 68,
   "metadata": {},
   "outputs": [
    {
     "name": "stdout",
     "output_type": "stream",
     "text": [
      "83 First\n",
      "75 First\n",
      "74.9 Upper Second\n",
      "70 Second\n",
      "69.9 Second\n",
      "65 Second\n",
      "60 Third\n",
      "59.9 Third\n",
      "55 Third\n",
      "50 F1 Supp\n",
      "49.9 F1 Supp\n",
      "45 F2\n",
      "44.9 F2\n",
      "40 F3\n",
      "39.9 F3\n",
      "2 F3\n",
      "0 F3\n"
     ]
    }
   ],
   "source": [
    "xs = [83, 75, 74.9, 70, 69.9, 65, 60, 59.9, 55, 50, 49.9, 45, 44.9, 40, 39.9, 2, 0]\n",
    "for x in xs:\n",
    "    print(x, grade(x))"
   ]
  },
  {
   "cell_type": "code",
   "execution_count": 69,
   "metadata": {},
   "outputs": [],
   "source": [
    "# Write a function find_hypot which, given the length of two sides of a right-angled triangle, \n",
    "# returns the length of the hypotenuse. (Hint: x ** 0.5 will return the square root.)\n",
    "\n",
    "def find_hypot(L1, L2):\n",
    "    return (L1**2 + L2**2)**0.5"
   ]
  },
  {
   "cell_type": "code",
   "execution_count": 70,
   "metadata": {},
   "outputs": [
    {
     "data": {
      "text/plain": [
       "5.0"
      ]
     },
     "execution_count": 70,
     "metadata": {},
     "output_type": "execute_result"
    }
   ],
   "source": [
    "find_hypot(3,4)"
   ]
  },
  {
   "cell_type": "code",
   "execution_count": 73,
   "metadata": {},
   "outputs": [],
   "source": [
    "# Write a function is_rightangled which, given the length of three sides of a triangle, \n",
    "# will determine whether the triangle is right-angled. Assume that the third argument \n",
    "# to the function is always the longest side. \n",
    "# It will return True if the triangle is right-angled, or False otherwise.\n",
    "\n",
    "def is_rightangled(x,y,z):\n",
    "    if (x**2 + y**2)**0.5 == z:\n",
    "        return True\n",
    "    else:\n",
    "        return False"
   ]
  },
  {
   "cell_type": "code",
   "execution_count": 75,
   "metadata": {},
   "outputs": [
    {
     "data": {
      "text/plain": [
       "False"
      ]
     },
     "execution_count": 75,
     "metadata": {},
     "output_type": "execute_result"
    }
   ],
   "source": [
    "is_rightangled(3,4,6)"
   ]
  },
  {
   "cell_type": "code",
   "execution_count": 76,
   "metadata": {},
   "outputs": [],
   "source": [
    "# Extend the above program so that the sides can be given to the function in any order.\n",
    "def is_rightangled(x,y,z):\n",
    "    if (x**2 + y**2)**0.5 == z or (x**2 + z**2)**0.5 == y or (y**2 + z**2)**0.5 == x:\n",
    "        return True\n",
    "    else:\n",
    "        return False"
   ]
  },
  {
   "cell_type": "code",
   "execution_count": 79,
   "metadata": {},
   "outputs": [
    {
     "data": {
      "text/plain": [
       "True"
      ]
     },
     "execution_count": 79,
     "metadata": {},
     "output_type": "execute_result"
    }
   ],
   "source": [
    "is_rightangled(5,3,4)"
   ]
  },
  {
   "cell_type": "code",
   "execution_count": null,
   "metadata": {},
   "outputs": [],
   "source": []
  }
 ],
 "metadata": {
  "kernelspec": {
   "display_name": "Python 3",
   "language": "python",
   "name": "python3"
  },
  "language_info": {
   "codemirror_mode": {
    "name": "ipython",
    "version": 3
   },
   "file_extension": ".py",
   "mimetype": "text/x-python",
   "name": "python",
   "nbconvert_exporter": "python",
   "pygments_lexer": "ipython3",
   "version": "3.7.4"
  }
 },
 "nbformat": 4,
 "nbformat_minor": 2
}
