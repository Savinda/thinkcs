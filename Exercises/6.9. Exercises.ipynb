{
 "cells": [
  {
   "cell_type": "code",
   "execution_count": 39,
   "metadata": {},
   "outputs": [],
   "source": [
    "import sys\n",
    "\n",
    "def test(did_pass):\n",
    "    \"\"\"  Print the result of a test.  \"\"\"\n",
    "    linenum = sys._getframe(1).f_lineno   # Get the caller's line number.\n",
    "    if did_pass:\n",
    "        msg = \"Test at line {0} ok.\".format(linenum)\n",
    "    else:\n",
    "        msg = (\"Test at line {0} FAILED.\".format(linenum))\n",
    "    print(msg)"
   ]
  },
  {
   "cell_type": "code",
   "execution_count": 36,
   "metadata": {},
   "outputs": [],
   "source": [
    "# The four compass points can be abbreviated by single-letter strings as “N”, “E”, “S”, and “W”. \n",
    "# Write a function turn_clockwise that takes one of these four compass points as its parameter, \n",
    "# and returns the next compass point in the clockwise direction. Here are some tests that should pass:\n",
    "points = [\"N\", \"E\", \"S\", \"W\"]\n",
    "\n",
    "def turn_clockwise(p):\n",
    "    if p in points:\n",
    "        if points.index(p) == 3:\n",
    "            return points[0]\n",
    "        else:\n",
    "            return points[points.index(p)+1]\n",
    "    else:\n",
    "        return None"
   ]
  },
  {
   "cell_type": "code",
   "execution_count": 37,
   "metadata": {},
   "outputs": [
    {
     "data": {
      "text/plain": [
       "'N'"
      ]
     },
     "execution_count": 37,
     "metadata": {},
     "output_type": "execute_result"
    }
   ],
   "source": [
    "turn_clockwise(\"W\")"
   ]
  },
  {
   "cell_type": "code",
   "execution_count": 41,
   "metadata": {},
   "outputs": [
    {
     "name": "stdout",
     "output_type": "stream",
     "text": [
      "Test at line 4 ok.\n",
      "Test at line 5 ok.\n",
      "Test at line 6 ok.\n",
      "Test at line 7 ok.\n"
     ]
    }
   ],
   "source": [
    "def test_suite():\n",
    "    \"\"\" Run the suite of tests for code in this module (this file).\n",
    "    \"\"\"\n",
    "    test(turn_clockwise(\"N\") == \"E\")\n",
    "    test(turn_clockwise(\"W\") == \"N\")\n",
    "    test(turn_clockwise(42) == None)\n",
    "    test(turn_clockwise(\"rubbish\") == None)\n",
    "test_suite()        # Here is the call to run the tests"
   ]
  },
  {
   "cell_type": "code",
   "execution_count": 74,
   "metadata": {},
   "outputs": [],
   "source": [
    "# Write a function day_name that converts an integer number 0 to 6 into the name of a day. \n",
    "# Assume day 0 is “Sunday”. Once again, return None if the arguments to the function are not valid. \n",
    "# Here are some tests that should pass:\n",
    "\n",
    "days = [\"Sunday\", \"Monday\", \"Tuesday\", \"Wednesday\", \"Thursday\", \"Friday\", \"Saturday\"]\n",
    "\n",
    "def day_name(i):\n",
    "    if i in range(len(days)):\n",
    "        return days[i]\n",
    "    else:\n",
    "        return None"
   ]
  },
  {
   "cell_type": "code",
   "execution_count": 75,
   "metadata": {},
   "outputs": [],
   "source": [
    "day_name(22)"
   ]
  },
  {
   "cell_type": "code",
   "execution_count": 76,
   "metadata": {},
   "outputs": [
    {
     "name": "stdout",
     "output_type": "stream",
     "text": [
      "Test at line 4 ok.\n",
      "Test at line 5 ok.\n",
      "Test at line 6 ok.\n"
     ]
    }
   ],
   "source": [
    "def test_suite():\n",
    "    \"\"\" Run the suite of tests for code in this module (this file).\n",
    "    \"\"\"\n",
    "    test(day_name(3) == \"Wednesday\")\n",
    "    test(day_name(6) == \"Saturday\")\n",
    "    test(day_name(42) == None)\n",
    "test_suite()        # Here is the call to run the tests"
   ]
  },
  {
   "cell_type": "code",
   "execution_count": 116,
   "metadata": {},
   "outputs": [],
   "source": [
    "# Write the inverse function day_num which is given a day name, and returns its number:\n",
    "\n",
    "days = [\"Sunday\", \"Monday\", \"Tuesday\", \"Wednesday\", \"Thursday\", \"Friday\", \"Saturday\"]\n",
    "\n",
    "def day_num(S):\n",
    "    if S in days:\n",
    "        return days.index(S)\n",
    "    else:\n",
    "        return None"
   ]
  },
  {
   "cell_type": "code",
   "execution_count": 118,
   "metadata": {},
   "outputs": [
    {
     "name": "stdout",
     "output_type": "stream",
     "text": [
      "Test at line 4 ok.\n",
      "Test at line 5 ok.\n",
      "Test at line 6 ok.\n",
      "Test at line 7 ok.\n",
      "Test at line 8 ok.\n"
     ]
    }
   ],
   "source": [
    "def test_suite():\n",
    "    \"\"\" Run the suite of tests for code in this module (this file).\n",
    "    \"\"\"\n",
    "    test(day_num(\"Friday\") == 5)\n",
    "    test(day_num(\"Sunday\") == 0)\n",
    "    test(day_num(day_name(3)) == 3)\n",
    "    test(day_name(day_num(\"Thursday\")) == \"Thursday\")\n",
    "    test(day_num(\"Halloween\") == None)\n",
    "\n",
    "test_suite()        # Here is the call to run the tests"
   ]
  },
  {
   "cell_type": "code",
   "execution_count": 129,
   "metadata": {},
   "outputs": [],
   "source": [
    "# Write a function that helps answer questions like ‘“Today is Wednesday. \n",
    "# I leave on holiday in 19 days time. What day will that be?”’ \n",
    "# So the function must take a day name and a delta argument — the number of days to add — \n",
    "# and should return the resulting day name:\n",
    "\n",
    "days = [\"Sunday\", \"Monday\", \"Tuesday\", \"Wednesday\", \"Thursday\", \"Friday\", \"Saturday\"]\n",
    "\n",
    "def day_add(day, delta):\n",
    "    res_day = days[(days.index(day) + delta) % 7]\n",
    "    return res_day"
   ]
  },
  {
   "cell_type": "code",
   "execution_count": 130,
   "metadata": {},
   "outputs": [
    {
     "data": {
      "text/plain": [
       "'Tuesday'"
      ]
     },
     "execution_count": 130,
     "metadata": {},
     "output_type": "execute_result"
    }
   ],
   "source": [
    "day_add(\"Monday\", 8)"
   ]
  },
  {
   "cell_type": "code",
   "execution_count": 131,
   "metadata": {},
   "outputs": [
    {
     "name": "stdout",
     "output_type": "stream",
     "text": [
      "Test at line 4 ok.\n",
      "Test at line 5 ok.\n",
      "Test at line 6 ok.\n",
      "Test at line 7 ok.\n"
     ]
    }
   ],
   "source": [
    "def test_suite():\n",
    "    \"\"\" Run the suite of tests for code in this module (this file).\n",
    "    \"\"\"\n",
    "    test(day_add(\"Monday\", 4) ==  \"Friday\")\n",
    "    test(day_add(\"Tuesday\", 0) == \"Tuesday\")\n",
    "    test(day_add(\"Tuesday\", 14) == \"Tuesday\")\n",
    "    test(day_add(\"Sunday\", 100) == \"Tuesday\")\n",
    "\n",
    "test_suite()        # Here is the call to run the tests"
   ]
  },
  {
   "cell_type": "code",
   "execution_count": 136,
   "metadata": {},
   "outputs": [],
   "source": [
    "# Hint: use the first two functions written above to help you write this one.\n",
    "def day_add(day, delta):\n",
    "    res_day = day_name(day_num(day) + delta %7) \n",
    "    return res_day"
   ]
  },
  {
   "cell_type": "code",
   "execution_count": 137,
   "metadata": {},
   "outputs": [
    {
     "name": "stdout",
     "output_type": "stream",
     "text": [
      "Test at line 4 ok.\n",
      "Test at line 5 ok.\n",
      "Test at line 6 ok.\n",
      "Test at line 7 ok.\n"
     ]
    }
   ],
   "source": [
    "def test_suite():\n",
    "    \"\"\" Run the suite of tests for code in this module (this file).\n",
    "    \"\"\"\n",
    "    test(day_add(\"Monday\", 4) ==  \"Friday\")\n",
    "    test(day_add(\"Tuesday\", 0) == \"Tuesday\")\n",
    "    test(day_add(\"Tuesday\", 14) == \"Tuesday\")\n",
    "    test(day_add(\"Sunday\", 100) == \"Tuesday\")\n",
    "\n",
    "test_suite()        # Here is the call to run the tests"
   ]
  },
  {
   "cell_type": "code",
   "execution_count": 201,
   "metadata": {},
   "outputs": [],
   "source": [
    "# Write a function days_in_month which takes the name of a month, and returns the number of days in the month. \n",
    "# Ignore leap years:\n",
    "\n",
    "months = [\"January\", \"February\", \"March\", \"April\", \"May\", \"June\", \"July\", \"August\", \"September\", \"October\", \"November\", \"December\"]\n",
    "\n",
    "def days_in_month(S):\n",
    "    if S in months:\n",
    "        if months.index(S) % 2 == 1:\n",
    "            if S == \"February\":\n",
    "                return 28\n",
    "            else:\n",
    "                return 31\n",
    "        else:\n",
    "            return 30\n",
    "    else:\n",
    "        return None"
   ]
  },
  {
   "cell_type": "code",
   "execution_count": 205,
   "metadata": {},
   "outputs": [
    {
     "data": {
      "text/plain": [
       "31"
      ]
     },
     "execution_count": 205,
     "metadata": {},
     "output_type": "execute_result"
    }
   ],
   "source": [
    "days_in_month(\"December\")"
   ]
  },
  {
   "cell_type": "code",
   "execution_count": 206,
   "metadata": {},
   "outputs": [
    {
     "name": "stdout",
     "output_type": "stream",
     "text": [
      "Test at line 4 ok.\n",
      "Test at line 5 ok.\n"
     ]
    }
   ],
   "source": [
    "def test_suite():\n",
    "    \"\"\" Run the suite of tests for code in this module (this file).\n",
    "    \"\"\"\n",
    "    test(days_in_month(\"February\") == 28)\n",
    "    test(days_in_month(\"December\") == 31)\n",
    "test_suite()        # Here is the call to run the tests"
   ]
  },
  {
   "cell_type": "code",
   "execution_count": 209,
   "metadata": {},
   "outputs": [],
   "source": [
    "# Write a function to_secs that converts hours, minutes and seconds to a total number of seconds. \n",
    "\n",
    "def to_secs(h,m,s):\n",
    "    return h * 3600 + m * 60 + s"
   ]
  },
  {
   "cell_type": "code",
   "execution_count": 210,
   "metadata": {},
   "outputs": [
    {
     "name": "stdout",
     "output_type": "stream",
     "text": [
      "Test at line 4 ok.\n",
      "Test at line 5 ok.\n",
      "Test at line 6 ok.\n",
      "Test at line 7 ok.\n",
      "Test at line 8 ok.\n"
     ]
    }
   ],
   "source": [
    "def test_suite():\n",
    "    \"\"\" Run the suite of tests for code in this module (this file).\n",
    "    \"\"\"\n",
    "    test(to_secs(2, 30, 10) == 9010)\n",
    "    test(to_secs(2, 0, 0) == 7200)\n",
    "    test(to_secs(0, 2, 0) == 120)\n",
    "    test(to_secs(0, 0, 42) == 42)\n",
    "    test(to_secs(0, -10, 10) == -590)\n",
    "test_suite()        # Here is the call to run the tests"
   ]
  },
  {
   "cell_type": "code",
   "execution_count": 216,
   "metadata": {},
   "outputs": [],
   "source": [
    "# Extend to_secs so that it can cope with real values as inputs. \n",
    "# It should always return an integer number of seconds (truncated towards zero):\n",
    "\n",
    "\n",
    "def to_secs(h,m,s):\n",
    "    return int(h * 3600 + m * 60 + s)"
   ]
  },
  {
   "cell_type": "code",
   "execution_count": 219,
   "metadata": {},
   "outputs": [
    {
     "name": "stdout",
     "output_type": "stream",
     "text": [
      "Test at line 4 ok.\n",
      "Test at line 5 ok.\n"
     ]
    }
   ],
   "source": [
    "def test_suite():\n",
    "    \"\"\" Run the suite of tests for code in this module (this file).\n",
    "    \"\"\"\n",
    "    test(to_secs(2.5, 0, 10.71) == 9010)\n",
    "    test(to_secs(2.433,0,0) == 8758)\n",
    "test_suite()        # Here is the call to run the tests"
   ]
  },
  {
   "cell_type": "code",
   "execution_count": 232,
   "metadata": {},
   "outputs": [],
   "source": [
    "# Write three functions that are the “inverses” of to_secs:\n",
    "\n",
    "# hours_in returns the whole integer number of hours represented by a total number of seconds.\n",
    "def hours_in(i):\n",
    "    no_of_hrs = i // 3600\n",
    "    return no_of_hrs\n",
    "\n",
    "# minutes_in returns the whole integer number of left over minutes in a total number of seconds, once the hours have been taken out.\n",
    "def minutes_in(i):\n",
    "    no_of_mins = (i % 3600) // 60\n",
    "    return no_of_mins\n",
    "\n",
    "# seconds_in returns the left over seconds represented by a total number of seconds.\n",
    "def seconds_in(i):\n",
    "    no_of_secs = (i % 3600) % 60\n",
    "    return no_of_secs"
   ]
  },
  {
   "cell_type": "code",
   "execution_count": 235,
   "metadata": {},
   "outputs": [
    {
     "name": "stdout",
     "output_type": "stream",
     "text": [
      "Test at line 1 ok.\n",
      "Test at line 2 ok.\n",
      "Test at line 3 ok.\n"
     ]
    }
   ],
   "source": [
    "test(hours_in(9010) == 2)\n",
    "test(minutes_in(9010) == 30)\n",
    "test(seconds_in(9010) == 10)"
   ]
  },
  {
   "cell_type": "code",
   "execution_count": 236,
   "metadata": {},
   "outputs": [],
   "source": [
    "# Write a compare function that returns 1 if a > b, 0 if a == b, and -1 if a < b\n",
    "def compare(a, b):\n",
    "    if a == b:\n",
    "        return 0\n",
    "    elif a > b:\n",
    "        return 1\n",
    "    else:\n",
    "        return -1"
   ]
  },
  {
   "cell_type": "code",
   "execution_count": 237,
   "metadata": {},
   "outputs": [
    {
     "name": "stdout",
     "output_type": "stream",
     "text": [
      "Test at line 1 ok.\n",
      "Test at line 2 ok.\n",
      "Test at line 3 ok.\n",
      "Test at line 4 ok.\n"
     ]
    }
   ],
   "source": [
    "test(compare(5, 4) == 1)\n",
    "test(compare(7, 7) == 0)\n",
    "test(compare(2, 3) == -1)\n",
    "test(compare(42, 1) == 1)"
   ]
  },
  {
   "cell_type": "code",
   "execution_count": 238,
   "metadata": {},
   "outputs": [],
   "source": [
    "# Write a function called hypotenuse that returns the length of the hypotenuse of a right \n",
    "# triangle given the lengths of the two legs as parameters:\n",
    "\n",
    "def hypotenuse(L1, L2):\n",
    "    rem = (L1**2 + L2**2)**0.5\n",
    "    return rem"
   ]
  },
  {
   "cell_type": "code",
   "execution_count": 239,
   "metadata": {},
   "outputs": [
    {
     "name": "stdout",
     "output_type": "stream",
     "text": [
      "Test at line 1 ok.\n",
      "Test at line 2 ok.\n",
      "Test at line 3 ok.\n",
      "Test at line 4 ok.\n"
     ]
    }
   ],
   "source": [
    "test(hypotenuse(3, 4) == 5.0)\n",
    "test(hypotenuse(12, 5) == 13.0)\n",
    "test(hypotenuse(24, 7) == 25.0)\n",
    "test(hypotenuse(9, 12) == 15.0)"
   ]
  },
  {
   "cell_type": "code",
   "execution_count": 336,
   "metadata": {},
   "outputs": [
    {
     "name": "stdout",
     "output_type": "stream",
     "text": [
      "Test at line 10 ok.\n",
      "Test at line 11 ok.\n",
      "Test at line 12 ok.\n",
      "Test at line 13 ok.\n"
     ]
    }
   ],
   "source": [
    "# Write a function slope(x1, y1, x2, y2) that returns the slope of the line through \n",
    "# the points (x1, y1) and (x2, y2). \n",
    "\n",
    "\n",
    "def slope(x1, y1, x2, y2):\n",
    "    delta_x = abs(x2 - x1)\n",
    "    delta_y = abs(y2 - y1)\n",
    "    return delta_y / delta_x\n",
    "\n",
    "test(slope(5, 3, 4, 2) == 1.0)\n",
    "test(slope(1, 2, 3, 2) == 0.0)\n",
    "test(slope(1, 2, 3, 3) == 0.5)\n",
    "test(slope(2, 4, 1, 2) == 2.0)"
   ]
  },
  {
   "cell_type": "code",
   "execution_count": 366,
   "metadata": {},
   "outputs": [],
   "source": [
    "# Then use a call to slope in a new function named intercept(x1, y1, x2, y2) that \n",
    "# returns the y-intercept of the line through the points (x1, y1) and (x2, y2)\n",
    "# y = mx + b\n",
    "# b = y - mx\n",
    "# m = slope(x1, y1, x2, y2)\n",
    "# b = y1 - m *x1\n",
    "\n",
    "def intercept(x1, y1, x2, y2):\n",
    "    return y1 - slope(x1, y1 ,x2 ,y2)* x1"
   ]
  },
  {
   "cell_type": "code",
   "execution_count": 367,
   "metadata": {},
   "outputs": [
    {
     "name": "stdout",
     "output_type": "stream",
     "text": [
      "Test at line 1 ok.\n",
      "Test at line 2 FAILED.\n",
      "Test at line 3 ok.\n"
     ]
    }
   ],
   "source": [
    "test(intercept(1, 6, 3, 12) == 3.0)\n",
    "test(intercept(6, 1, 1, 6) == 7.0)\n",
    "test(intercept(4, 6, 12, 8) == 5.0)"
   ]
  },
  {
   "cell_type": "code",
   "execution_count": 371,
   "metadata": {},
   "outputs": [
    {
     "name": "stdout",
     "output_type": "stream",
     "text": [
      "Test at line 11 ok.\n",
      "Test at line 12 ok.\n"
     ]
    }
   ],
   "source": [
    "# Write a function called is_even(n) that takes an integer as an argument and returns True if the argument \n",
    "# is an even number and False if it is odd.\n",
    "\n",
    "def is_even(n):\n",
    "    \"\"\"Check whether an integer is even\"\"\"\n",
    "    if n % 2 == 0:\n",
    "        return True\n",
    "    else:\n",
    "        return False\n",
    "\n",
    "test(is_even(1) == False)\n",
    "test(is_even(2) == True)"
   ]
  },
  {
   "cell_type": "code",
   "execution_count": 373,
   "metadata": {},
   "outputs": [
    {
     "name": "stdout",
     "output_type": "stream",
     "text": [
      "Test at line 11 ok.\n",
      "Test at line 12 ok.\n"
     ]
    }
   ],
   "source": [
    "# Now write the function is_odd(n) that returns True when n is odd and False otherwise. \n",
    "# Include unit tests for this function too.\n",
    "\n",
    "def is_odd(n):\n",
    "    \"\"\"Check whether an integer is odd\"\"\"\n",
    "    if n % 2 == 1:\n",
    "        return True\n",
    "    else:\n",
    "        return False\n",
    "\n",
    "test(is_odd(1) == True)\n",
    "test(is_odd(2) == False)"
   ]
  },
  {
   "cell_type": "code",
   "execution_count": 376,
   "metadata": {},
   "outputs": [],
   "source": [
    "# Finally, modify it so that it uses a call to is_even to determine if its argument is an odd integer, \n",
    "# and ensure that its test still pass.\n",
    "\n",
    "def is_odd(n):\n",
    "    if not is_even(n):\n",
    "        return True\n",
    "    else:\n",
    "        return False"
   ]
  },
  {
   "cell_type": "code",
   "execution_count": 377,
   "metadata": {},
   "outputs": [
    {
     "name": "stdout",
     "output_type": "stream",
     "text": [
      "Test at line 1 ok.\n",
      "Test at line 2 ok.\n"
     ]
    }
   ],
   "source": [
    "test(is_odd(1) == True)\n",
    "test(is_odd(2) == False)"
   ]
  },
  {
   "cell_type": "code",
   "execution_count": 378,
   "metadata": {},
   "outputs": [],
   "source": [
    "# Write a function is_factor(f, n) that passes these tests:\n",
    "\n",
    "def is_factor(f, n):\n",
    "    \"\"\"Check for factors\"\"\"\n",
    "    if n % f == 0:\n",
    "        return True\n",
    "    else:\n",
    "        return False"
   ]
  },
  {
   "cell_type": "code",
   "execution_count": 379,
   "metadata": {},
   "outputs": [
    {
     "name": "stdout",
     "output_type": "stream",
     "text": [
      "Test at line 1 ok.\n",
      "Test at line 2 ok.\n",
      "Test at line 3 ok.\n",
      "Test at line 4 ok.\n",
      "Test at line 5 ok.\n",
      "Test at line 6 ok.\n",
      "Test at line 7 ok.\n"
     ]
    }
   ],
   "source": [
    "test(is_factor(3, 12))\n",
    "test(not is_factor(5, 12))\n",
    "test(is_factor(7, 14))\n",
    "test(not is_factor(7, 15))\n",
    "test(is_factor(1, 15))\n",
    "test(is_factor(15, 15))\n",
    "test(not is_factor(25, 15))"
   ]
  },
  {
   "cell_type": "code",
   "execution_count": 380,
   "metadata": {},
   "outputs": [],
   "source": [
    "# Write is_multiple to satisfy these unit tests:\n",
    "\n",
    "def is_multiple(n, m):\n",
    "    if n % m == 0:\n",
    "        return True\n",
    "    else:\n",
    "        return False\n"
   ]
  },
  {
   "cell_type": "code",
   "execution_count": 381,
   "metadata": {},
   "outputs": [
    {
     "name": "stdout",
     "output_type": "stream",
     "text": [
      "Test at line 1 ok.\n",
      "Test at line 2 ok.\n",
      "Test at line 3 ok.\n",
      "Test at line 4 ok.\n",
      "Test at line 5 ok.\n"
     ]
    }
   ],
   "source": [
    "test(is_multiple(12, 3))\n",
    "test(is_multiple(12, 4))\n",
    "test(not is_multiple(12, 5))\n",
    "test(is_multiple(12, 6))\n",
    "test(not is_multiple(12, 7))"
   ]
  },
  {
   "cell_type": "code",
   "execution_count": 382,
   "metadata": {},
   "outputs": [],
   "source": [
    "# Can you find a way to use is_factor in your definition of is_multiple?\n",
    "def is_multiple(n, m):\n",
    "    return is_factor(m, n)"
   ]
  },
  {
   "cell_type": "code",
   "execution_count": 383,
   "metadata": {},
   "outputs": [
    {
     "name": "stdout",
     "output_type": "stream",
     "text": [
      "Test at line 1 ok.\n",
      "Test at line 2 ok.\n",
      "Test at line 3 ok.\n",
      "Test at line 4 ok.\n",
      "Test at line 5 ok.\n"
     ]
    }
   ],
   "source": [
    "test(is_multiple(12, 3))\n",
    "test(is_multiple(12, 4))\n",
    "test(not is_multiple(12, 5))\n",
    "test(is_multiple(12, 6))\n",
    "test(not is_multiple(12, 7))"
   ]
  },
  {
   "cell_type": "code",
   "execution_count": 386,
   "metadata": {},
   "outputs": [],
   "source": [
    "# Write the function f2c(t) designed to return the integer value of the nearest degree Celsius for given \n",
    "# temperature in Fahrenheit. (hint: you may want to make use of the built-in function, round. \n",
    "#                 Try printing round.__doc__ in a Python shell or looking up help for the round function, \n",
    "#                 and experimenting with it until you are comfortable with how it works.)\n",
    "\n",
    "def f2c(t):\n",
    "    return round((t - 32) * 5/9)"
   ]
  },
  {
   "cell_type": "code",
   "execution_count": 387,
   "metadata": {},
   "outputs": [
    {
     "name": "stdout",
     "output_type": "stream",
     "text": [
      "Test at line 1 ok.\n",
      "Test at line 2 ok.\n",
      "Test at line 3 ok.\n",
      "Test at line 4 ok.\n",
      "Test at line 5 ok.\n",
      "Test at line 6 ok.\n",
      "Test at line 7 ok.\n"
     ]
    }
   ],
   "source": [
    "test(f2c(212) == 100)     # Boiling point of water\n",
    "test(f2c(32) == 0)        # Freezing point of water\n",
    "test(f2c(-40) == -40)     # Wow, what an interesting case!\n",
    "test(f2c(36) == 2)\n",
    "test(f2c(37) == 3)\n",
    "test(f2c(38) == 3)\n",
    "test(f2c(39) == 4)"
   ]
  },
  {
   "cell_type": "code",
   "execution_count": 390,
   "metadata": {},
   "outputs": [],
   "source": [
    "# Now do the opposite: write the function c2f which converts Celsius to Fahrenheit:\n",
    "def c2f(t):\n",
    "    return round(t * 9/5) + 32"
   ]
  },
  {
   "cell_type": "code",
   "execution_count": 391,
   "metadata": {},
   "outputs": [
    {
     "name": "stdout",
     "output_type": "stream",
     "text": [
      "Test at line 1 ok.\n",
      "Test at line 2 ok.\n",
      "Test at line 3 ok.\n",
      "Test at line 4 ok.\n",
      "Test at line 5 ok.\n",
      "Test at line 6 ok.\n"
     ]
    }
   ],
   "source": [
    "test(c2f(0) == 32)\n",
    "test(c2f(100) == 212)\n",
    "test(c2f(-40) == -40)\n",
    "test(c2f(12) == 54)\n",
    "test(c2f(18) == 64)\n",
    "test(c2f(-48) == -54)"
   ]
  },
  {
   "cell_type": "code",
   "execution_count": null,
   "metadata": {},
   "outputs": [],
   "source": []
  }
 ],
 "metadata": {
  "kernelspec": {
   "display_name": "Python 3",
   "language": "python",
   "name": "python3"
  },
  "language_info": {
   "codemirror_mode": {
    "name": "ipython",
    "version": 3
   },
   "file_extension": ".py",
   "mimetype": "text/x-python",
   "name": "python",
   "nbconvert_exporter": "python",
   "pygments_lexer": "ipython3",
   "version": "3.7.4"
  }
 },
 "nbformat": 4,
 "nbformat_minor": 2
}
