{
 "cells": [
  {
   "cell_type": "code",
   "execution_count": 379,
   "metadata": {},
   "outputs": [],
   "source": [
    "import sys\n",
    "\n",
    "def test(did_pass):\n",
    "    \"\"\"  Print the result of a test.  \"\"\"\n",
    "    linenum = sys._getframe(1).f_lineno   # Get the caller's line number.\n",
    "    if did_pass:\n",
    "        msg = \"Test at line {0} ok.\".format(linenum)\n",
    "    else:\n",
    "        msg = (\"Test at line {0} FAILED.\".format(linenum))\n",
    "    print(msg)"
   ]
  },
  {
   "cell_type": "code",
   "execution_count": null,
   "metadata": {},
   "outputs": [],
   "source": [
    "# Modify so that Ouack and Quack are spelled correctly.\n",
    "\n",
    "prefixes = \"JKLMNOPQ\"\n",
    "suffix = \"ack\"\n",
    "\n",
    "for letter in prefixes:\n",
    "    if letter == \"O\" or letter == \"Q\":\n",
    "        print(letter + \"u\" + suffix)\n",
    "    else:\n",
    "        print(letter + suffix)"
   ]
  },
  {
   "cell_type": "code",
   "execution_count": null,
   "metadata": {},
   "outputs": [],
   "source": [
    "# Encapsulate\n",
    "fruit = \"banana\"\n",
    "count = 0\n",
    "for char in fruit:\n",
    "    if char == \"a\":\n",
    "        count += 1\n",
    "print(count)"
   ]
  },
  {
   "cell_type": "code",
   "execution_count": null,
   "metadata": {},
   "outputs": [],
   "source": [
    "# in a function named count_letters, and generalize it so that it accepts the string and the letter as arguments. \n",
    "# Make the function return the number of characters, rather than print the answer. \n",
    "# The caller should do the printing.\n",
    "\n",
    "def count_letters(strng, char):\n",
    "    count  = 0\n",
    "    for letter in strng:\n",
    "        if letter == char:\n",
    "            count += 1\n",
    "    return count\n",
    "            "
   ]
  },
  {
   "cell_type": "code",
   "execution_count": null,
   "metadata": {},
   "outputs": [],
   "source": [
    "count_letters(\"Apple\", 'e')"
   ]
  },
  {
   "cell_type": "code",
   "execution_count": null,
   "metadata": {},
   "outputs": [],
   "source": [
    "# Now rewrite the count_letters function so that instead of traversing the string, \n",
    "# it repeatedly calls the find method, with the optional third parameter to locate new occurrences \n",
    "# of the letter being counted.\n",
    "\n",
    "def count_letters(strng, char, start):\n",
    "    letter  = start\n",
    "    count = 0\n",
    "    for letter in strng:\n",
    "        if letter == char:\n",
    "            count += 1\n",
    "    return count"
   ]
  },
  {
   "cell_type": "code",
   "execution_count": null,
   "metadata": {},
   "outputs": [],
   "source": [
    "count_letters(\"banana\", \"a\", 2)"
   ]
  },
  {
   "cell_type": "code",
   "execution_count": 91,
   "metadata": {},
   "outputs": [],
   "source": [
    "# Assign to a variable in your program a triple-quoted string that contains your favourite paragraph of \n",
    "# text — perhaps a poem, a speech, instructions to bake a cake, some inspirational verses, etc.\n",
    "\n",
    "# Write a function which removes all punctuation from the string, breaks the string into a list of words, \n",
    "# and counts the number of words in your text that contain the letter “e”. \n",
    "# Your program should print an analysis of the text like this:\n",
    "\n",
    "\n",
    "\n",
    "poem = \"\"\"\n",
    "Pythons are constrictors, POOP! \"\"\"\n",
    "\n",
    "from string import punctuation\n",
    "\n",
    "def rem_punctuation(S, ch):\n",
    "    poem_without_punctuation = \"\"\n",
    "    count = 0\n",
    "    for letter in S:\n",
    "        if letter not in punctuation:\n",
    "            poem_without_punctuation += letter\n",
    "            \n",
    "        if letter == ch:\n",
    "            count += 1\n",
    "        no_of_words = len((poem_without_punctuation).split())\n",
    "    ch_perc = (count / no_of_words) * 100\n",
    "    return f\"Your text contains {no_of_words} words, of which {count} ({ch_perc}%) contain an \\\"e\\\".\""
   ]
  },
  {
   "cell_type": "code",
   "execution_count": 92,
   "metadata": {},
   "outputs": [
    {
     "data": {
      "text/plain": [
       "'Your text contains 4 words, of which 1 (25.0%) contain an \"e\".'"
      ]
     },
     "execution_count": 92,
     "metadata": {},
     "output_type": "execute_result"
    }
   ],
   "source": [
    "rem_punctuation(poem, \"e\")"
   ]
  },
  {
   "cell_type": "code",
   "execution_count": 368,
   "metadata": {},
   "outputs": [],
   "source": [
    "# Print a neat looking multiplication table like this:\n",
    "def multi_table(n):\n",
    "    for i in range(1, n+1):\n",
    "        print(\"{:>4}\".format(i), end=\":\")\n",
    "        for j in range(1, n+1):\n",
    "            print(\"{:>4}\".format(i*j), end=\"\")\n",
    "        print()"
   ]
  },
  {
   "cell_type": "code",
   "execution_count": 369,
   "metadata": {},
   "outputs": [
    {
     "name": "stdout",
     "output_type": "stream",
     "text": [
      "   1:   1   2   3   4   5   6   7   8   9  10  11  12\n",
      "   2:   2   4   6   8  10  12  14  16  18  20  22  24\n",
      "   3:   3   6   9  12  15  18  21  24  27  30  33  36\n",
      "   4:   4   8  12  16  20  24  28  32  36  40  44  48\n",
      "   5:   5  10  15  20  25  30  35  40  45  50  55  60\n",
      "   6:   6  12  18  24  30  36  42  48  54  60  66  72\n",
      "   7:   7  14  21  28  35  42  49  56  63  70  77  84\n",
      "   8:   8  16  24  32  40  48  56  64  72  80  88  96\n",
      "   9:   9  18  27  36  45  54  63  72  81  90  99 108\n",
      "  10:  10  20  30  40  50  60  70  80  90 100 110 120\n",
      "  11:  11  22  33  44  55  66  77  88  99 110 121 132\n",
      "  12:  12  24  36  48  60  72  84  96 108 120 132 144\n"
     ]
    }
   ],
   "source": [
    "multi_table(12)"
   ]
  },
  {
   "cell_type": "code",
   "execution_count": 376,
   "metadata": {},
   "outputs": [],
   "source": [
    "# Write a function that reverses its string argument, and satisfies these tests:\n",
    "\n",
    "def reverse(S):\n",
    "    return S[::-1]"
   ]
  },
  {
   "cell_type": "code",
   "execution_count": 380,
   "metadata": {},
   "outputs": [
    {
     "name": "stdout",
     "output_type": "stream",
     "text": [
      "Test at line 1 ok.\n",
      "Test at line 2 ok.\n",
      "Test at line 3 ok.\n",
      "Test at line 4 ok.\n"
     ]
    }
   ],
   "source": [
    "test(reverse(\"happy\") == \"yppah\")\n",
    "test(reverse(\"Python\") == \"nohtyP\")\n",
    "test(reverse(\"\") == \"\")\n",
    "test(reverse(\"a\") == \"a\")"
   ]
  },
  {
   "cell_type": "code",
   "execution_count": 383,
   "metadata": {},
   "outputs": [],
   "source": [
    "# Write a function that mirrors its argument:\n",
    "def mirror(S):\n",
    "    return S+S[::-1]"
   ]
  },
  {
   "cell_type": "code",
   "execution_count": 386,
   "metadata": {},
   "outputs": [
    {
     "name": "stdout",
     "output_type": "stream",
     "text": [
      "Test at line 1 ok.\n",
      "Test at line 2 ok.\n",
      "Test at line 3 ok.\n",
      "Test at line 4 ok.\n"
     ]
    }
   ],
   "source": [
    "test(mirror(\"good\") == \"gooddoog\")\n",
    "test(mirror(\"Python\") == \"PythonnohtyP\")\n",
    "test(mirror(\"\") == \"\")\n",
    "test(mirror(\"a\") == \"aa\")"
   ]
  },
  {
   "cell_type": "code",
   "execution_count": 415,
   "metadata": {},
   "outputs": [],
   "source": [
    "# Write a function that removes all occurrences of a given letter from a string:\n",
    "def remove_letter(ch, S):\n",
    "    new_strng = \"\".join(letter for letter in S if letter not in ch)\n",
    "    return new_strng"
   ]
  },
  {
   "cell_type": "code",
   "execution_count": 416,
   "metadata": {},
   "outputs": [
    {
     "name": "stdout",
     "output_type": "stream",
     "text": [
      "Test at line 1 ok.\n",
      "Test at line 2 ok.\n",
      "Test at line 3 ok.\n",
      "Test at line 4 ok.\n"
     ]
    }
   ],
   "source": [
    "test(remove_letter(\"a\", \"apple\") == \"pple\")\n",
    "test(remove_letter(\"a\", \"banana\") == \"bnn\")\n",
    "test(remove_letter(\"z\", \"banana\") == \"banana\")\n",
    "test(remove_letter(\"i\", \"Mississippi\") == \"Msssspp\")\n",
    "# test(remove_letter(\"b\", \"\") = \"\")\n",
    "# test(remove_letter(\"b\", \"c\") = \"c\")"
   ]
  },
  {
   "cell_type": "code",
   "execution_count": 417,
   "metadata": {},
   "outputs": [],
   "source": [
    "# Write a function that recognizes palindromes. (Hint: use your reverse function to make this easy!):\n",
    "def is_palindrome(S):\n",
    "    if S == reverse(S):\n",
    "        return True"
   ]
  },
  {
   "cell_type": "code",
   "execution_count": 420,
   "metadata": {},
   "outputs": [
    {
     "name": "stdout",
     "output_type": "stream",
     "text": [
      "Test at line 1 ok.\n",
      "Test at line 2 ok.\n",
      "Test at line 3 ok.\n",
      "Test at line 4 ok.\n",
      "Test at line 5 ok.\n",
      "Test at line 6 ok.\n",
      "Test at line 7 ok.\n"
     ]
    }
   ],
   "source": [
    "test(is_palindrome(\"abba\"))\n",
    "test(not is_palindrome(\"abab\"))\n",
    "test(is_palindrome(\"tenet\"))\n",
    "test(not is_palindrome(\"banana\"))\n",
    "test(is_palindrome(\"straw warts\"))\n",
    "test(is_palindrome(\"a\"))\n",
    "test(is_palindrome(\"\"))    # Is an empty string a palindrome?"
   ]
  },
  {
   "cell_type": "code",
   "execution_count": 461,
   "metadata": {},
   "outputs": [],
   "source": [
    "# Write a function that counts how many times a substring occurs in a string:\n",
    "def count(sub, S):\n",
    "    return [i for i in S if sub in S]"
   ]
  },
  {
   "cell_type": "code",
   "execution_count": 462,
   "metadata": {},
   "outputs": [
    {
     "data": {
      "text/plain": [
       "['M', 'i', 's', 's', 'i', 's', 's', 'i', 'p', 'p', 'i']"
      ]
     },
     "execution_count": 462,
     "metadata": {},
     "output_type": "execute_result"
    }
   ],
   "source": [
    "count(\"is\", \"Mississippi\") "
   ]
  },
  {
   "cell_type": "code",
   "execution_count": null,
   "metadata": {},
   "outputs": [],
   "source": []
  }
 ],
 "metadata": {
  "kernelspec": {
   "display_name": "Python 3",
   "language": "python",
   "name": "python3"
  },
  "language_info": {
   "codemirror_mode": {
    "name": "ipython",
    "version": 3
   },
   "file_extension": ".py",
   "mimetype": "text/x-python",
   "name": "python",
   "nbconvert_exporter": "python",
   "pygments_lexer": "ipython3",
   "version": "3.7.4"
  }
 },
 "nbformat": 4,
 "nbformat_minor": 2
}
