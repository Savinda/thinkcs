{
 "cells": [
  {
   "cell_type": "code",
   "execution_count": 4,
   "metadata": {},
   "outputs": [],
   "source": [
    "julia = (\"Julia\", \"Roberts\", 1967, \"Duplicity\", 2009, \"Actress\", \"Atlanta, Georgia\")"
   ]
  },
  {
   "cell_type": "code",
   "execution_count": 5,
   "metadata": {},
   "outputs": [
    {
     "data": {
      "text/plain": [
       "1967"
      ]
     },
     "execution_count": 5,
     "metadata": {},
     "output_type": "execute_result"
    }
   ],
   "source": [
    "julia[2]"
   ]
  },
  {
   "cell_type": "code",
   "execution_count": 7,
   "metadata": {},
   "outputs": [],
   "source": [
    "julia = julia[:3] + (\"Eat Pray Love\", 2010) + julia[5:]"
   ]
  },
  {
   "cell_type": "code",
   "execution_count": 8,
   "metadata": {},
   "outputs": [
    {
     "data": {
      "text/plain": [
       "('Julia',\n",
       " 'Roberts',\n",
       " 1967,\n",
       " 'Eat Pray Love',\n",
       " 2010,\n",
       " 'Actress',\n",
       " 'Atlanta, Georgia')"
      ]
     },
     "execution_count": 8,
     "metadata": {},
     "output_type": "execute_result"
    }
   ],
   "source": [
    "julia"
   ]
  },
  {
   "cell_type": "code",
   "execution_count": 9,
   "metadata": {},
   "outputs": [],
   "source": [
    "def pass_tuples(t):\n",
    "    return t"
   ]
  },
  {
   "cell_type": "code",
   "execution_count": 11,
   "metadata": {},
   "outputs": [],
   "source": [
    "tup = ( (\"Julia\", \"Roberts\"), (8, \"October\", 1967),\n",
    "                     \"Actress\", (\"Atlanta\", \"Georgia\"),\n",
    "                     [ (\"Duplicity\", 2009),\n",
    "                       (\"Notting Hill\", 1999),\n",
    "                       (\"Pretty Woman\", 1990),\n",
    "                       (\"Erin Brockovich\", 2000),\n",
    "                       (\"Eat Pray Love\", 2010),\n",
    "                       (\"Mona Lisa Smile\", 2003),\n",
    "                       (\"Oceans Twelve\", 2004) ])"
   ]
  },
  {
   "cell_type": "code",
   "execution_count": 12,
   "metadata": {},
   "outputs": [
    {
     "data": {
      "text/plain": [
       "(('Julia', 'Roberts'),\n",
       " (8, 'October', 1967),\n",
       " 'Actress',\n",
       " ('Atlanta', 'Georgia'),\n",
       " [('Duplicity', 2009),\n",
       "  ('Notting Hill', 1999),\n",
       "  ('Pretty Woman', 1990),\n",
       "  ('Erin Brockovich', 2000),\n",
       "  ('Eat Pray Love', 2010),\n",
       "  ('Mona Lisa Smile', 2003),\n",
       "  ('Oceans Twelve', 2004)])"
      ]
     },
     "execution_count": 12,
     "metadata": {},
     "output_type": "execute_result"
    }
   ],
   "source": [
    "pass_tuples(tup)"
   ]
  },
  {
   "cell_type": "code",
   "execution_count": 13,
   "metadata": {},
   "outputs": [],
   "source": [
    "import turtle\n",
    "\n",
    "turtle.setup(400,500)                # Determine the window size\n",
    "wn = turtle.Screen()                 # Get a reference to the window\n",
    "wn.title(\"Handling keypresses!\")     # Change the window title\n",
    "wn.bgcolor(\"lightgreen\")             # Set the background color\n",
    "tess = turtle.Turtle()               # Create our favorite turtle\n",
    "\n",
    "# The next four functions are our \"event handlers\".\n",
    "def h1():\n",
    "   tess.forward(30)\n",
    "\n",
    "def h2():\n",
    "   tess.left(45)\n",
    "\n",
    "def h3():\n",
    "   tess.right(45)\n",
    "\n",
    "def h4():\n",
    "    wn.bye()                        # Close down the turtle window\n",
    "\n",
    "# These lines \"wire up\" keypresses to the handlers we've defined.\n",
    "wn.onkey(h1, \"Up\")\n",
    "wn.onkey(h2, \"Left\")\n",
    "wn.onkey(h3, \"Right\")\n",
    "wn.onkey(h4, \"q\")\n",
    "\n",
    "# Now we need to tell the window to start listening for events,\n",
    "# If any of the keys that we're monitoring is pressed, its\n",
    "# handler will be called.\n",
    "wn.listen()\n",
    "wn.mainloop()"
   ]
  },
  {
   "cell_type": "code",
   "execution_count": 1,
   "metadata": {},
   "outputs": [],
   "source": [
    "import turtle\n",
    "\n",
    "turtle.setup(400,500)\n",
    "wn = turtle.Screen()\n",
    "wn.title(\"How to handle mouse clicks on the window!\")\n",
    "wn.bgcolor(\"lightgreen\")\n",
    "\n",
    "tess = turtle.Turtle()\n",
    "tess.color(\"purple\")\n",
    "tess.pensize(3)\n",
    "tess.shape(\"circle\")\n",
    "\n",
    "def h1(x, y):\n",
    "   tess.goto(x, y)\n",
    "\n",
    "wn.onclick(h1)  # Wire up a click on the window.\n",
    "wn.mainloop()"
   ]
  },
  {
   "cell_type": "code",
   "execution_count": 1,
   "metadata": {},
   "outputs": [],
   "source": [
    "import turtle\n",
    "\n",
    "turtle.setup(400,500)              # Determine the window size\n",
    "wn = turtle.Screen()               # Get a reference to the window\n",
    "wn.title(\"Handling mouse clicks!\") # Change the window title\n",
    "wn.bgcolor(\"lightgreen\")           # Set the background color\n",
    "tess = turtle.Turtle()             # Create two turtles\n",
    "tess.color(\"purple\")\n",
    "alex = turtle.Turtle()             # Move them apart\n",
    "alex.color(\"blue\")\n",
    "alex.forward(100)\n",
    "\n",
    "def handler_for_tess(x, y):\n",
    "    wn.title(\"Tess clicked at {0}, {1}\".format(x, y))\n",
    "    tess.left(42)\n",
    "    tess.forward(30)\n",
    "\n",
    "def handler_for_alex(x, y):\n",
    "    wn.title(\"Alex clicked at {0}, {1}\".format(x, y))\n",
    "    alex.right(84)\n",
    "    alex.forward(50)\n",
    "\n",
    "tess.onclick(handler_for_tess)\n",
    "alex.onclick(handler_for_alex)\n",
    "\n",
    "wn.mainloop()"
   ]
  },
  {
   "cell_type": "code",
   "execution_count": 1,
   "metadata": {},
   "outputs": [],
   "source": [
    "import turtle\n",
    "\n",
    "turtle.setup(400,500)\n",
    "wn = turtle.Screen()\n",
    "wn.title(\"Using a timer\")\n",
    "wn.bgcolor(\"lightgreen\")\n",
    "\n",
    "tess = turtle.Turtle()\n",
    "tess.color(\"purple\")\n",
    "tess.pensize(3)\n",
    "\n",
    "def h1():\n",
    "    tess.forward(100)\n",
    "    tess.left(56)\n",
    "\n",
    "wn.ontimer(h1, 2000)\n",
    "wn.mainloop()"
   ]
  },
  {
   "cell_type": "code",
   "execution_count": null,
   "metadata": {},
   "outputs": [],
   "source": [
    "import turtle\n",
    "\n",
    "turtle.setup(400,500)\n",
    "wn = turtle.Screen()\n",
    "wn.title(\"Using a timer to get events!\")\n",
    "wn.bgcolor(\"lightgreen\")\n",
    "\n",
    "tess = turtle.Turtle()\n",
    "tess.color(\"purple\")\n",
    "\n",
    "def h1():\n",
    "    tess.forward(100)\n",
    "    tess.left(56)\n",
    "    wn.ontimer(h1, 60)\n",
    "\n",
    "h1()\n",
    "wn.mainloop()"
   ]
  },
  {
   "cell_type": "code",
   "execution_count": 2,
   "metadata": {},
   "outputs": [],
   "source": [
    "import turtle\n",
    "\n",
    "turtle.setup(400,500)\n",
    "wn = turtle.Screen()\n",
    "wn.title(\"Tess becomes a traffic light!\")\n",
    "wn.bgcolor(\"lightgreen\")\n",
    "tess = turtle.Turtle()\n",
    "\n",
    "def draw_housing():\n",
    "    \"\"\"Draw a nice housing to hold the traffic lights\"\"\"\n",
    "    tess.pensize(3)\n",
    "    tess.color(\"black\", \"darkgrey\")\n",
    "    tess.begin_fill()\n",
    "    tess.forward(80)\n",
    "    tess.left(90)\n",
    "    tess.forward(200)\n",
    "    tess.circle(40,180)\n",
    "    tess.forward(200)\n",
    "    tess.left(90)\n",
    "    tess.end_fill()\n",
    "    \n",
    "draw_housing()\n",
    "    \n",
    "\n",
    "    \n",
    "tess.penup()\n",
    "# position tess into the place where the green light should be\n",
    "tess.forward(40)\n",
    "tess.left(90)\n",
    "tess.forward(50)\n",
    "# Turn tess in to a big green circle\n",
    "tess.shape(\"circle\")\n",
    "tess.shapesize(3)\n",
    "tess.fillcolor(\"green\")\n",
    "\n",
    "# A traffic light is a kind of state machine with three states,\n",
    "# Green, Orange, Red.  We number these states  0, 1, 2\n",
    "# When the machine changes state, we change tess' position and\n",
    "# her fillcolor.\n",
    "\n",
    "# This variable holds the current state of the machine\n",
    "state_num = 0\n",
    "\n",
    "def advanced_state_machine():\n",
    "    global state_num\n",
    "    if state_num == 0:  # Transition from state 0 to state 1\n",
    "        tess.forward(70)\n",
    "        tess.fillcolor(\"orange\")\n",
    "        state_num = 1\n",
    "    elif state_num == 1:  # Transition from state 1 to state 2\n",
    "        tess.forward(70)\n",
    "        tess.fillcolor(\"red\")\n",
    "        state_num = 2\n",
    "    else: # Transition from state 2 to state 0\n",
    "        tess.back(140)\n",
    "        tess.fillcolor(\"green\")\n",
    "        state_num = 0\n",
    "        \n",
    "# Blind the event handler to space key\n",
    "wn.onkey(advanced_state_machine, \"space\")\n",
    "\n",
    "wn.listen()\n",
    "wn.mainloop()"
   ]
  },
  {
   "cell_type": "code",
   "execution_count": 8,
   "metadata": {},
   "outputs": [
    {
     "name": "stdout",
     "output_type": "stream",
     "text": [
      "2\n"
     ]
    }
   ],
   "source": [
    "pen = 1\n",
    "for i in range(1, 20):\n",
    "#     global pen\n",
    "    pen += 1\n",
    "    print(pen)\n",
    "    break"
   ]
  },
  {
   "cell_type": "code",
   "execution_count": 9,
   "metadata": {},
   "outputs": [],
   "source": [
    "def h8(tess_size):\n",
    "  global tess_size\n",
    "  tess_size = 1\n",
    "  for i in range(1, 21):\n",
    "    tess_size += i\n",
    "    tess.pensize(tess_size)"
   ]
  },
  {
   "cell_type": "code",
   "execution_count": 34,
   "metadata": {},
   "outputs": [],
   "source": [
    "def h8(n):\n",
    "    global tess_size\n",
    "    tess_size = 1\n",
    "    for i in range(1, 21):\n",
    "        tess_size += i\n",
    "        return tess_size"
   ]
  },
  {
   "cell_type": "code",
   "execution_count": 35,
   "metadata": {},
   "outputs": [
    {
     "data": {
      "text/plain": [
       "2"
      ]
     },
     "execution_count": 35,
     "metadata": {},
     "output_type": "execute_result"
    }
   ],
   "source": [
    "h8(3)"
   ]
  },
  {
   "cell_type": "code",
   "execution_count": 14,
   "metadata": {},
   "outputs": [
    {
     "name": "stdout",
     "output_type": "stream",
     "text": [
      "2\n"
     ]
    }
   ],
   "source": [
    "for i in range(1, 21):\n",
    "    global num\n",
    "    num += 1\n",
    "    print(num)\n",
    "    break\n",
    "num = i"
   ]
  },
  {
   "cell_type": "code",
   "execution_count": null,
   "metadata": {},
   "outputs": [],
   "source": []
  }
 ],
 "metadata": {
  "kernelspec": {
   "display_name": "Python 3",
   "language": "python",
   "name": "python3"
  },
  "language_info": {
   "codemirror_mode": {
    "name": "ipython",
    "version": 3
   },
   "file_extension": ".py",
   "mimetype": "text/x-python",
   "name": "python",
   "nbconvert_exporter": "python",
   "pygments_lexer": "ipython3",
   "version": "3.7.4"
  }
 },
 "nbformat": 4,
 "nbformat_minor": 2
}
