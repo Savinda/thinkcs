{
 "cells": [
  {
   "cell_type": "code",
   "execution_count": 1,
   "metadata": {},
   "outputs": [],
   "source": [
    "ps = [10,20,30,40]\n",
    "qs = [\"spam\", \"bungee\", \"swallow\"]"
   ]
  },
  {
   "cell_type": "code",
   "execution_count": 2,
   "metadata": {},
   "outputs": [],
   "source": [
    "zs = [\"hello\", 2.0, 5, [10, 20]]"
   ]
  },
  {
   "cell_type": "code",
   "execution_count": 3,
   "metadata": {},
   "outputs": [
    {
     "data": {
      "text/plain": [
       "10"
      ]
     },
     "execution_count": 3,
     "metadata": {},
     "output_type": "execute_result"
    }
   ],
   "source": [
    "ps[0]"
   ]
  },
  {
   "cell_type": "code",
   "execution_count": 4,
   "metadata": {},
   "outputs": [
    {
     "data": {
      "text/plain": [
       "20"
      ]
     },
     "execution_count": 4,
     "metadata": {},
     "output_type": "execute_result"
    }
   ],
   "source": [
    "ps[9-8]"
   ]
  },
  {
   "cell_type": "code",
   "execution_count": 5,
   "metadata": {},
   "outputs": [
    {
     "name": "stdout",
     "output_type": "stream",
     "text": [
      "war\n",
      "famine\n",
      "pestilence\n",
      "death\n"
     ]
    }
   ],
   "source": [
    "horsemen = [\"war\", \"famine\", \"pestilence\", \"death\"]\n",
    "\n",
    "for i in [0,1,2,3]:\n",
    "    print(horsemen[i])"
   ]
  },
  {
   "cell_type": "code",
   "execution_count": 6,
   "metadata": {},
   "outputs": [
    {
     "name": "stdout",
     "output_type": "stream",
     "text": [
      "war\n",
      "famine\n",
      "pestilence\n",
      "death\n"
     ]
    }
   ],
   "source": [
    "horsemen = [\"war\", \"famine\", \"pestilence\", \"death\"]\n",
    "\n",
    "for h in horsemen:\n",
    "    print(h)"
   ]
  },
  {
   "cell_type": "code",
   "execution_count": 7,
   "metadata": {},
   "outputs": [
    {
     "name": "stdout",
     "output_type": "stream",
     "text": [
      "war\n",
      "famine\n",
      "pestilence\n",
      "death\n"
     ]
    }
   ],
   "source": [
    "horsemen = [\"war\", \"famine\", \"pestilence\", \"death\"]\n",
    "\n",
    "for i in range(len(horsemen)):\n",
    "    print(horsemen[i])"
   ]
  },
  {
   "cell_type": "code",
   "execution_count": 8,
   "metadata": {},
   "outputs": [
    {
     "name": "stdout",
     "output_type": "stream",
     "text": [
      "CompSci 3\n"
     ]
    }
   ],
   "source": [
    "students = [\n",
    "    (\"John\", [\"CompSci\", \"Physics\"]),\n",
    "    (\"Vusi\", [\"Maths\", \"CompSci\", \"Stats\"]),\n",
    "    (\"Jess\", [\"CompSci\", \"Accounting\", \"Economics\", \"Management\"]),\n",
    "    (\"Sarah\", [\"InfSys\", \"Accounting\", \"Economics\", \"CommLaw\"]),\n",
    "    (\"Zuki\", [\"Sociology\", \"Economics\", \"Law\", \"Stats\", \"Music\"])]\n",
    "\n",
    "# count how many students are taking CompSci\n",
    "counter = 0\n",
    "for(name, subjects) in students:\n",
    "    if \"CompSci\" in subjects:\n",
    "        counter += 1\n",
    "print(\"CompSci\", counter)"
   ]
  },
  {
   "cell_type": "code",
   "execution_count": 16,
   "metadata": {},
   "outputs": [
    {
     "name": "stdout",
     "output_type": "stream",
     "text": [
      "0\n",
      "1\n",
      "2\n",
      "3\n",
      "4\n"
     ]
    }
   ],
   "source": [
    "xs = [1,2,3,4,5]\n",
    "\n",
    "for i in range(len(xs)):\n",
    "    xs[i] == xs[i]**2"
   ]
  },
  {
   "cell_type": "code",
   "execution_count": 17,
   "metadata": {},
   "outputs": [
    {
     "name": "stdout",
     "output_type": "stream",
     "text": [
      "1\n",
      "4\n",
      "9\n",
      "16\n",
      "25\n"
     ]
    }
   ],
   "source": [
    "xs = [1, 2, 3, 4, 5]\n",
    "\n",
    "for (i, val) in enumerate(xs):\n",
    "    xs[i] = val**2\n",
    "    print(xs[i])"
   ]
  },
  {
   "cell_type": "code",
   "execution_count": 18,
   "metadata": {},
   "outputs": [
    {
     "name": "stdout",
     "output_type": "stream",
     "text": [
      "0 banana\n",
      "1 apple\n",
      "2 pear\n",
      "3 lemon\n"
     ]
    }
   ],
   "source": [
    "for (i, v) in enumerate([\"banana\", \"apple\", \"pear\", \"lemon\"]):\n",
    "    print(i, v)"
   ]
  },
  {
   "cell_type": "code",
   "execution_count": 28,
   "metadata": {},
   "outputs": [],
   "source": [
    "def double_stuff(a_list):\n",
    "    \"\"\"Overwrite each element in a list with double its value\"\"\"\n",
    "    for (idx, val) in enumerate(a_list):\n",
    "        a_list[idx] = 2 * val"
   ]
  },
  {
   "cell_type": "code",
   "execution_count": 29,
   "metadata": {},
   "outputs": [
    {
     "name": "stdout",
     "output_type": "stream",
     "text": [
      "[4, 10, 18]\n"
     ]
    }
   ],
   "source": [
    "things = [2, 5, 9]\n",
    "double_stuff(things)\n",
    "print(things)"
   ]
  },
  {
   "cell_type": "code",
   "execution_count": 5,
   "metadata": {},
   "outputs": [],
   "source": [
    "import random\n",
    "\n",
    "rng = random.Random()\n",
    "\n",
    "r_odd = rng.randrange(1, 100, 2)"
   ]
  },
  {
   "cell_type": "code",
   "execution_count": 6,
   "metadata": {},
   "outputs": [
    {
     "name": "stdout",
     "output_type": "stream",
     "text": [
      "69\n"
     ]
    }
   ],
   "source": [
    "print(r_odd)"
   ]
  },
  {
   "cell_type": "code",
   "execution_count": 7,
   "metadata": {},
   "outputs": [],
   "source": [
    "cards = list(range(52))"
   ]
  },
  {
   "cell_type": "code",
   "execution_count": 8,
   "metadata": {},
   "outputs": [],
   "source": [
    "rng.shuffle(cards)"
   ]
  },
  {
   "cell_type": "code",
   "execution_count": 9,
   "metadata": {},
   "outputs": [],
   "source": [
    "drng = random.Random(123)"
   ]
  },
  {
   "cell_type": "code",
   "execution_count": 12,
   "metadata": {},
   "outputs": [
    {
     "data": {
      "text/plain": [
       "<random.Random at 0x7f8042810e20>"
      ]
     },
     "execution_count": 12,
     "metadata": {},
     "output_type": "execute_result"
    }
   ],
   "source": [
    "drng"
   ]
  },
  {
   "cell_type": "code",
   "execution_count": 13,
   "metadata": {},
   "outputs": [],
   "source": [
    "import random\n",
    "\n",
    "def make_random_ints(num, lower_bound, upper_bound):\n",
    "    \"\"\"\n",
    "    Generate a list containing num random ints between \n",
    "    lowe_bound and upper_bound. upper_bound is an open bound\n",
    "    \"\"\"\n",
    "    rng = random.Random() # create a random number generator\n",
    "    result = []\n",
    "    for i in range(num):\n",
    "        result.append(rng.randrange(lower_bound, upper_bound))\n",
    "    return result"
   ]
  },
  {
   "cell_type": "code",
   "execution_count": 14,
   "metadata": {},
   "outputs": [
    {
     "data": {
      "text/plain": [
       "[10, 2, 3, 2, 9]"
      ]
     },
     "execution_count": 14,
     "metadata": {},
     "output_type": "execute_result"
    }
   ],
   "source": [
    "make_random_ints(5, 1, 13)"
   ]
  },
  {
   "cell_type": "code",
   "execution_count": 15,
   "metadata": {},
   "outputs": [],
   "source": [
    "xs = list(range(1, 13))\n",
    "rng = random.Random()\n",
    "rng.shuffle(xs)\n",
    "result = xs[:5]"
   ]
  },
  {
   "cell_type": "code",
   "execution_count": 16,
   "metadata": {},
   "outputs": [
    {
     "data": {
      "text/plain": [
       "[6, 11, 8, 12, 2]"
      ]
     },
     "execution_count": 16,
     "metadata": {},
     "output_type": "execute_result"
    }
   ],
   "source": [
    "result"
   ]
  },
  {
   "cell_type": "code",
   "execution_count": 18,
   "metadata": {},
   "outputs": [
    {
     "name": "stdout",
     "output_type": "stream",
     "text": [
      "[8725630, 9674265, 5097561, 177417, 3919768]\n"
     ]
    }
   ],
   "source": [
    "import random\n",
    "\n",
    "def make_random_ints_no_dups(num, lower_bound, upper_bound):\n",
    "    \"\"\"\n",
    "    Generate a list containing num random ints between\n",
    "    lower_bound and upper_bound. upper_bound is an open bound.\n",
    "    The result list cannot contain duplicates.\n",
    "    \"\"\"\n",
    "    result = []\n",
    "    rng = random.Random()\n",
    "    for i in range(num):\n",
    "        while True:\n",
    "            candidate = rng.randrange(lower_bound, upper_bound)\n",
    "            if candidate not in result:\n",
    "                break\n",
    "        result.append(candidate)\n",
    "    return result\n",
    "\n",
    "xs = make_random_ints_no_dups(5,1,10000000)\n",
    "print(xs)"
   ]
  },
  {
   "cell_type": "code",
   "execution_count": 21,
   "metadata": {},
   "outputs": [],
   "source": [
    "# xs = make_random_ints_no_dups(10, 1, 6)\n",
    "# runs forerver because it cant generate 10 random ints between 1 and 6"
   ]
  },
  {
   "cell_type": "code",
   "execution_count": 23,
   "metadata": {},
   "outputs": [
    {
     "name": "stderr",
     "output_type": "stream",
     "text": [
      "/opt/anaconda3/lib/python3.7/site-packages/ipykernel_launcher.py:12: DeprecationWarning: time.clock has been deprecated in Python 3.3 and will be removed from Python 3.8: use time.perf_counter or time.process_time instead\n",
      "  if sys.path[0] == '':\n"
     ]
    },
    {
     "name": "stdout",
     "output_type": "stream",
     "text": [
      "my_result = 49999995000000 (time taken = 0.8219 seconds)\n",
      "their_result = 49999995000000 (time taken = 0.2524 seconds)\n"
     ]
    },
    {
     "name": "stderr",
     "output_type": "stream",
     "text": [
      "/opt/anaconda3/lib/python3.7/site-packages/ipykernel_launcher.py:14: DeprecationWarning: time.clock has been deprecated in Python 3.3 and will be removed from Python 3.8: use time.perf_counter or time.process_time instead\n",
      "  \n",
      "/opt/anaconda3/lib/python3.7/site-packages/ipykernel_launcher.py:17: DeprecationWarning: time.clock has been deprecated in Python 3.3 and will be removed from Python 3.8: use time.perf_counter or time.process_time instead\n",
      "/opt/anaconda3/lib/python3.7/site-packages/ipykernel_launcher.py:19: DeprecationWarning: time.clock has been deprecated in Python 3.3 and will be removed from Python 3.8: use time.perf_counter or time.process_time instead\n"
     ]
    }
   ],
   "source": [
    "import time\n",
    "\n",
    "def do_my_sum(xs):\n",
    "    sum = 0\n",
    "    for v in xs:\n",
    "        sum += v\n",
    "    return sum\n",
    "\n",
    "sz = 10000000\n",
    "testdata = range(sz)\n",
    "\n",
    "t0 = time.clock()\n",
    "my_result = do_my_sum(testdata)\n",
    "t1 = time.clock()\n",
    "print(\"my_result = {0} (time taken = {1:.4f} seconds)\".format(my_result, t1-t0))\n",
    "\n",
    "t2 = time.clock()\n",
    "their_result = sum(testdata)\n",
    "t3 = time.clock()\n",
    "print(\"their_result = {0} (time taken = {1:.4f} seconds)\".format(their_result, t3-t2))"
   ]
  },
  {
   "cell_type": "code",
   "execution_count": 25,
   "metadata": {},
   "outputs": [],
   "source": [
    "import math\n",
    "\n",
    "rad_v = math.radians(90)"
   ]
  },
  {
   "cell_type": "code",
   "execution_count": 26,
   "metadata": {},
   "outputs": [
    {
     "data": {
      "text/plain": [
       "90.0"
      ]
     },
     "execution_count": 26,
     "metadata": {},
     "output_type": "execute_result"
    }
   ],
   "source": [
    "math.degrees(rad_v)"
   ]
  },
  {
   "cell_type": "code",
   "execution_count": 27,
   "metadata": {},
   "outputs": [
    {
     "data": {
      "text/plain": [
       "'A sting!'"
      ]
     },
     "execution_count": 27,
     "metadata": {},
     "output_type": "execute_result"
    }
   ],
   "source": [
    "import seqtools\n",
    "\n",
    "s = \"A string!\"\n",
    "seqtools.remove_at(4, s)"
   ]
  },
  {
   "cell_type": "code",
   "execution_count": 28,
   "metadata": {},
   "outputs": [
    {
     "name": "stdout",
     "output_type": "stream",
     "text": [
      "What is the meaning of Life, the Universe, and Everything?\n",
      "What is your quest?\n",
      "42\n",
      "To seek the holy grail.\n"
     ]
    }
   ],
   "source": [
    "import module1\n",
    "import module2\n",
    "\n",
    "print(module1.question)\n",
    "print(module2.question)\n",
    "print(module1.answer)\n",
    "print(module2.answer)"
   ]
  },
  {
   "cell_type": "code",
   "execution_count": 29,
   "metadata": {},
   "outputs": [],
   "source": [
    "def range(n):\n",
    "    return 123*n"
   ]
  },
  {
   "cell_type": "code",
   "execution_count": 30,
   "metadata": {},
   "outputs": [
    {
     "name": "stdout",
     "output_type": "stream",
     "text": [
      "1230\n"
     ]
    }
   ],
   "source": [
    "print(range(10))"
   ]
  },
  {
   "cell_type": "code",
   "execution_count": 31,
   "metadata": {},
   "outputs": [
    {
     "name": "stdout",
     "output_type": "stream",
     "text": [
      "17 10 3\n"
     ]
    }
   ],
   "source": [
    "n = 10\n",
    "m = 3\n",
    "def f(n):\n",
    "    m = 7\n",
    "    return 2*n+m\n",
    "\n",
    "print(f(5), n, m)"
   ]
  },
  {
   "cell_type": "code",
   "execution_count": null,
   "metadata": {},
   "outputs": [],
   "source": []
  }
 ],
 "metadata": {
  "kernelspec": {
   "display_name": "Python 3",
   "language": "python",
   "name": "python3"
  },
  "language_info": {
   "codemirror_mode": {
    "name": "ipython",
    "version": 3
   },
   "file_extension": ".py",
   "mimetype": "text/x-python",
   "name": "python",
   "nbconvert_exporter": "python",
   "pygments_lexer": "ipython3",
   "version": "3.7.4"
  }
 },
 "nbformat": 4,
 "nbformat_minor": 2
}
